{
 "cells": [
  {
   "cell_type": "code",
   "execution_count": 2,
   "id": "c54f6974-3174-4d2a-816f-793ddff46c86",
   "metadata": {},
   "outputs": [
    {
     "name": "stdout",
     "output_type": "stream",
     "text": [
      "NAME         \tID          \tSIZE  \tMODIFIED   \n",
      "llama2:latest\t78e26419b446\t3.8 GB\t2 days ago\t\n"
     ]
    }
   ],
   "source": [
    "!ollama list"
   ]
  },
  {
   "cell_type": "markdown",
   "id": "184b2fa1-217f-4d91-8666-fe39776ecde8",
   "metadata": {},
   "source": [
    "**INGESTING PDF**"
   ]
  },
  {
   "cell_type": "code",
   "execution_count": 6,
   "id": "111ad500-d270-4a74-acbf-4b885c747dac",
   "metadata": {},
   "outputs": [],
   "source": [
    "!pip install --q unstructured langchain\n",
    "!pip install --q \"unstructured[all-docs]\""
   ]
  },
  {
   "cell_type": "code",
   "execution_count": 6,
   "id": "ca743a72-d599-4bc3-884c-a4ba626f26a0",
   "metadata": {},
   "outputs": [],
   "source": [
    "from langchain_community.document_loaders import UnstructuredPDFLoader\n",
    "from langchain_community.document_loaders import OnlinePDFLoader"
   ]
  },
  {
   "cell_type": "code",
   "execution_count": 7,
   "id": "ad0e8754-b229-4366-bf75-0add4bcdd0f0",
   "metadata": {},
   "outputs": [
    {
     "name": "stderr",
     "output_type": "stream",
     "text": [
      "C:\\Users\\ribhattacharya\\AppData\\Roaming\\Python\\Python311\\site-packages\\tqdm\\auto.py:21: TqdmWarning: IProgress not found. Please update jupyter and ipywidgets. See https://ipywidgets.readthedocs.io/en/stable/user_install.html\n",
      "  from .autonotebook import tqdm as notebook_tqdm\n"
     ]
    },
    {
     "name": "stdout",
     "output_type": "stream",
     "text": [
      "\n",
      "===================================BUG REPORT===================================\n",
      "Welcome to bitsandbytes. For bug reports, please run\n",
      "\n",
      "python -m bitsandbytes\n",
      "\n",
      " and submit this information together with your error trace to: https://github.com/TimDettmers/bitsandbytes/issues\n",
      "================================================================================\n",
      "bin C:\\Python311\\Lib\\site-packages\\bitsandbytes\\libbitsandbytes_cpu.so\n",
      "'NoneType' object has no attribute 'cadam32bit_grad_fp32'\n",
      "CUDA SETUP: Loading binary C:\\Python311\\Lib\\site-packages\\bitsandbytes\\libbitsandbytes_cpu.so...\n",
      "argument of type 'WindowsPath' is not iterable\n"
     ]
    },
    {
     "name": "stderr",
     "output_type": "stream",
     "text": [
      "C:\\Python311\\Lib\\site-packages\\bitsandbytes\\cextension.py:34: UserWarning: The installed version of bitsandbytes was compiled without GPU support. 8-bit optimizers, 8-bit multiplication, and GPU quantization are unavailable.\n",
      "  warn(\"The installed version of bitsandbytes was compiled without GPU support. \"\n"
     ]
    }
   ],
   "source": [
    "local_path = \"the-geography-of-climate-tech.pdf\" # replace with path to file to be laoded \n",
    "\n",
    "# Local PDF file uploads\n",
    "if local_path:\n",
    "  loader = UnstructuredPDFLoader(file_path=local_path)\n",
    "  data = loader.load()\n",
    "else:\n",
    "  print(\"Upload a PDF file\")"
   ]
  },
  {
   "cell_type": "code",
   "execution_count": 8,
   "id": "a18b0352-c78e-4ba0-9056-7d364231ffc7",
   "metadata": {},
   "outputs": [
    {
     "data": {
      "text/plain": [
       "'The geography of climate tech\\n\\nThere can be no effective response to climate change without technology. We need technologies to help generate energy, produce food, manufacture goods, construct and operate buildings, and move people and materials—all while emitting few or no greenhouse gases or even removing greenhouse gases from the atmosphere. This imperative—and the commercial opportunity it represents—has contributed to a recent surge in investment in technologies for tackling climate change— at least US$80 billion since 2021, according to Deloitte analysis based on Pitchbook and Deloitte GreenSpace Navigator data.\\n\\nEnterprises, entrepreneurs, investors, and policymakers with an interest in climate tech would do well to familiarize themselves with the shifting geographic patterns of climate tech entrepreneurship and investment. Enterprises seeking to source a particular decarbonization technology, for instance, may wish to consider geographies that have fostered entrepreneurship and investment in that technology; information exchange and competition may enrich their options. Climate tech entrepreneurs and investors may want to consider where clusters of similar or complementary technologies are located as they make founding or investment decisions.\\n\\n76% of all climate tech investment while from 2020 to 2023, the amount declined to just under 50%. Today, eight countries together account for the majority of climate tech entrepreneurship and investment. But in recent years, activity in the rest of the world has accelerated (see Figure 3).\\n\\nLook closely at global climate tech development and you will see clear patterns. Some climate tech categories, such as recycling and low-emission passenger road vehicles, are being commercialized in dozens of countries; others, such as agri-genomics and lower carbon emission pulp and paper manufacturing, are geographically concentrated. Some countries specialize in a handful of climate technologies; others have highly diverse climate tech landscapes.\\n\\nThe analysis presented here draws upon data on more than 2,600 climate tech companies around the world. For more information about how Deloitte conducted this research, including how we define “climate tech,” see About this research below.\\n\\nClimate tech activity has surged in recent years\\n\\nThe United States has been a global leader in climate tech entrepreneurship and investment for at least twenty years. But the geography of climate tech is changing. In 2000- 2004, just three countries—the United States, Canada, and China—accounted for two-thirds of climate tech company formations globally. In 2020-2023, a similar share of company formations spanned six countries. In 2000- 2004, companies based in the United States received\\n\\nClimate tech entrepreneurship and investment have intensified in the last ten years. According to the data set, from 2000 to 2022, approximately 2,400 climate tech companies were founded, 9,000 funding deals were made, and US$148 billion was invested, with activity picking up markedly after 2013 (see Figure 1).\\n\\nFigure 1. World climate tech activity from 2000 to 2022\\n\\n22000000--22000044\\n\\n22000055--22000099\\n\\n22001100--22001144\\n\\n22001155--22001199\\n\\n22002200--22002222\\n\\n250\\n\\nFounding activity in 21+ and funding in 10+ countries\\n\\nFounding activity in 34+ and funding in 15+ countries\\n\\nFounding activity in 41+ and funding in 29+ countries\\n\\nFounding activity in 47+ and funding in 46+ countries\\n\\nFounding activity in 32+ and funding in 53+ countries\\n\\n45,000\\n\\n40,000\\n\\n) # ( d e d n u o f\\n\\ns e n a p m o C\\n\\ni\\n\\n200\\n\\n150\\n\\n100\\n\\n50\\n\\n35,000\\n\\n30,000\\n\\n25,000 20,000\\n\\n15,000\\n\\n10,000\\n\\n5,000\\n\\n0\\n\\n\\n\\n2000 2001 2002 2003 2004 2005 2006 2007 2008 2009 2010 2011 2012 2013 2014 2015 2016 2017 2018 2019 2020 2021 2022\\n\\nCompanies founded\\n\\nFunding amount\\n\\nNote: Countries are unknown for select enterprises and funding\\n\\nSource: Pitchbook, GreenSpace Navigator/Deloitte analysis\\n\\n) s n o\\n\\ni l l i\\n\\nm $ S U\\n\\n(\\n\\nt n u o m A\\n\\n1\\n\\nRecently, due in part to the pandemic and economic and geopolitical challenges, climate tech activity has slowed; this is generally in line with wider startup founding and funding activity.1 But investment in climate tech has not slowed as much as the market overall.2 And new climate tech venture capital (VC) and private equity funds continue to be launched with billions of dollars ready to be deployed.3\\n\\nEight countries lead\\n\\nCollectively, they are the headquarters for approximately three-fourths of global climate tech companies (see Figure 2). Despite this geographic concentration, climate tech entrepreneurship is somewhat more distributed geographically than the market overall: a similar share of the corporate entities tracked by Pitchbook, a data provider, are headquartered in just six countries—Canada, France, Italy, Spain, the United Kingdom, and the United States. The geographic diversity of climate tech has increased over the last 20 years.\\n\\nClimate tech entrepreneurship and investment appears to be a global phenomenon; Deloitte analysis shows that climate tech companies are established across more than 65 countries. But they are concentrated in eight countries whose economies are among some of the world’s largest: Australia, Canada, China, France, Germany, India, the United Kingdom (UK), and the United States (US). The dominant eight have influence on the trajectory and velocity of climate tech development.\\n\\n“The increasing geographic diversity of climate tech is a long-term trend.”\\n\\nFigure 2. Percentage share of global climate tech companies by country\\n\\n23%\\n\\nUnited States\\n\\nCanada\\n\\n37%\\n\\nUnited Kingdom\\n\\nChina\\n\\n3%\\n\\nAustralia\\n\\nGermany\\n\\n4%\\n\\nFrance\\n\\nIndia\\n\\n4%\\n\\n5%\\n\\nRest of the world Rest of the World\\n\\n7%\\n\\n8%\\n\\n9%\\n\\nNote: Climate tech companies irrespective of the year of founding\\n\\nSource: Pitchbook, GreenSpace Navigator/Deloitte analysis\\n\\n2\\n\\nGeographic diversity is increasing\\n\\nThe United States is the center of climate tech entrepreneurship. It is home to more than one-third of all climate tech companies globally. And since 2000, US- based climate tech companies have received one and a half times the funding amount compared to climate tech companies in Australia, Canada, China, France, Germany, India, and the United Kingdom combined. But climate tech is diversifying geographically (see Figure 3). For instance, while the US share of the number of companies founded has declined slightly from 36% in 2000-2004 to 35% in 2020-2023, Germany’s has risen from 2% to 7% and Australia’s has doubled to 8%. US companies’ share of investment slipped from 76% in 2000-2004 to 49% in 2020-2023 while that of Chinese companies grew from 6% to 22%. Activity in the rest of the world—countries beyond the dominant eight—is increasing rapidly. Their share of founding activity grew from 15% in 2000-2004 to 24% in 2020-2023 and their share of investment jumped from 3% to 15%. While eight countries, especially the United States, continue to dominate in company formation and investment, it appears that other markets have increasing appeal for investors who may be seeking lower valuations and the potential for higher returns.\\n\\n“While eight countries, especially the United States, continue to dominate in company formation and investment, it appears that other markets have increasing appeal for investors who may be seeking lower valuations and the potential for higher returns.”\\n\\nThese trends match the “rise of the rest” in overall startup activity (beyond climate tech) that has been observed for some years now.4 In climate tech, the “rise of the rest” may also reflect the emergence of climate solutions developed for or adapted to local contexts. Localized solutions may be more functional and effective, according to one non- governmental organization.5 Consider, for example, an Indian innovator makes vegan leather using floral waste, preventing it from being deposited in and contaminating rivers,6 or an innovator enabling peer-to-peer power trading in rural Bangladesh, giving many their first access to power without involving a large central grid.7\\n\\nFigure 3. Percentage share of global climate tech activity by year and country\\n\\n15%\\n\\n4% 5%\\n\\n8%\\n\\n15%\\n\\n22%\\n\\n4% 4% 6%\\n\\n6%\\n\\n14%\\n\\n22%\\n\\n4% 3% 4%\\n\\n7%\\n\\n7%\\n\\n3%\\n\\n23%\\n\\n5% 4% 7%\\n\\n4%\\n\\n9%\\n\\n24%\\n\\n4%\\n\\n7%\\n\\n8%\\n\\n7%\\n\\n2%\\n\\n3% 3%\\n\\n6%\\n\\n10%\\n\\n2%\\n\\n5%\\n\\n19%\\n\\n6%\\n\\n9%\\n\\n8%\\n\\n2%\\n\\n2%\\n\\n9%\\n\\n26%\\n\\n4%\\n\\n3%\\n\\n3%\\n\\n2%\\n\\n15%\\n\\n4%\\n\\n22%\\n\\n3%\\n\\n15%\\n\\n8%\\n\\n7%\\n\\n7%\\n\\n7%\\n\\n6%\\n\\n76%\\n\\n75%\\n\\n67%\\n\\n43%\\n\\n43%\\n\\n55%\\n\\n49%\\n\\n36%\\n\\n33%\\n\\n35%\\n\\n2000-2004\\n\\n2005-2009\\n\\n2010-2014\\n\\n2015-2019\\n\\n2020-2023*\\n\\n2000-2004\\n\\n2005-2009\\n\\n2010-2014\\n\\n2015-2019\\n\\n2020-2023*\\n\\nCompanies founded\\n\\nFunding amount\\n\\nUnited States\\n\\nCanada\\n\\nChina\\n\\nUnited Kingdom\\n\\nFrance\\n\\nAustralia\\n\\nGermany\\n\\nIndia\\n\\nRest of the world Rest of the World\\n\\nUntil July 31, 2023\\n\\nSource: Pitchbook, GreenSpace Navigator/Deloitte analysis\\n\\n1%\\n\\n1%\\n\\n3\\n\\nGeneralists and specialists\\n\\nJust as a few countries lead in global climate tech entrepreneurship, some technologies dominate within each country (see Table 1). The top five technologies in each country account for at least a third of climate tech companies in that country.\\n\\nTable 1. Top-five climate techs by percentage share of companies within dominant countries\\n\\nUnited States\\n\\nRecycling and waste management (9.4%)\\n\\nShort-duration energy storage (7.5%)\\n\\nAlternative pro- teins (7.2%)\\n\\nCarbon capture, utilization, and sequestration (6.3%)\\n\\nLong-duration energy storage (6.2%)\\n\\nCanada\\n\\nRecycling and waste management (14.8%)\\n\\nBioenergy (7.0%)\\n\\nAlternative proteins (6.6%)\\n\\nCarbon capture, utilization, and sequestration (6.6%)\\n\\nElectricity management in buildings (5.3%)\\n\\nUnited Kingdom\\n\\nRecycling and waste management (15.1%)\\n\\nCarbon capture, utilization, and sequestration (8.0%)\\n\\nPassenger road vehicles (6.7%)\\n\\nLong-duration energy storage (6.7%)\\n\\nAlternative proteins (6.2%)\\n\\nChina\\n\\nShort-duration energy storage (41.7%)\\n\\nRecycling and waste mgmt. (13.1%)\\n\\nPassenger road vehicles (11.2%)\\n\\nLong-duration energy storage (7.8%)\\n\\nSolar (4.4%)\\n\\nAustralia\\n\\nRecycling and waste management (10.5%)\\n\\nElectricity management in buildings (7.8%)\\n\\nPassenger road vehicles (7.2%)\\n\\nElectric vehicle charging (6.5%)\\n\\nLong-duration energy storage (6.5%)\\n\\nFrance\\n\\nRecycling and waste management (14.4%)\\n\\nShort-duration energy storage (8.0%)\\n\\nHydrogen production (8.0%)\\n\\nPassenger road vehicles (7.2%)\\n\\nLong-duration energy storage (6.4%)\\n\\nAlternative proteins (6.4%)\\n\\nGermany\\n\\nPassenger road vehicles (10.3%)\\n\\nLDES (8.6%)\\n\\nElectric vehicle charging (8.6%)\\n\\nRecycling and waste mgmt. (7.8%)\\n\\nShort-duration energy storage (7.8%)\\n\\nIndia\\n\\nPassenger road vehicles (25.0%)\\n\\nRecycling and waste management (13.0%)\\n\\nElectric vehicle charging (11.0%)\\n\\nCommercial road vehicles (9.0%)\\n\\nShort-duration energy storage (6.0%)\\n\\nSolar (6.0%)\\n\\nWhere the fifth and sixth technologies are tied for share of companies, both are shown.\\n\\nSource: Pitchbook, GreenSpace Navigator/Deloitte analysis\\n\\nLooking at the top five climate technologies in each country reveals that some countries tend to specialize in a small number of key technologies, while others have a more diverse climate tech landscape. The United States and Australia are the most diversified, with the top five technologies accounting for less than two-fifths of all climate tech firms in these countries. In China and India, by contrast, the top technologies account for nearly three-fourths or more of climate tech entrepreneurship and cluster around the automotive sector, with road vehicles, electric vehicle (EV) charging, or short- duration energy storage (SDES) that includes varied lithium batteries. China and India are international automotive hubs; the sector contributes significantly to the economies of both countries.8,9 Solar is the other top-five climate tech common to both countries. This reflects China’s leading global position and India’s growing prominence as a producer of solar equipment.10\\n\\n4\\n\\nA few technologies are common among the dominant eight countries’ top five (more on this below). But some technologies bubble to the top in just one country or another. Take bioenergy and hydrogen production. The fact that Canada has the highest per capita biomass, due to its forestry and agricultural resources, may have something to do with bioenergy being one of its leading climate tech categories.11 It also has an established bioenergy industry with federal and state policies supporting biofuel production and use for at least 15 years.12 France, meanwhile, formulated a national hydrogen plan in 2018 and views hydrogen production powered by its abundant nuclear capacity pivotal to achieving energy independence goals.13 Regional governments have also launched their own initiatives, with projects emerging since 2016.14 Large enterprises and national agencies have supported hydrogen innovation for several years and a value chain ecosystem has formed.15\\n\\nHalf of all climate tech companies are working on one of seven technologies\\n\\nIf you meet a climate tech CEO, their company is working in one of seven climate tech categories. Recycling and waste management, short-duration energy storage (SDES), passenger road vehicles, long-duration energy storage (LDES), and alternative proteins are some of the leading technologies globally, accounting for two-fifths of all climate tech companies. Carbon capture, utilization, and sequestration (CCUS) and EV charging appear to be the next most common (see Figure 4).\\n\\nFigure 4. Percentage share of top technologies in climate tech companies worldwide\\n\\n12%\\n\\nRecycling and waste management\\n\\n9%\\n\\nShort-duration energy storage\\n\\nPassenger road vehicles\\n\\n50%\\n\\n7%\\n\\nLong-duration energy storage\\n\\nAlternative proteins\\n\\n6%\\n\\nCarbon capture, utilization, and sequestration\\n\\n6%\\n\\nElectric vehicle charging\\n\\n5%\\n\\n5%\\n\\nOther\\n\\nSource: Pitchbook, GreenSpace Navigator/Deloitte analysis\\n\\nEach of these seven technologies is widely distributed, with innovators located in two dozen or more countries across multiple continents. The focus on these technologies is likely a function of the opportunity they represent. Their wide geographic distribution is likely due to the diversity of approaches possible and their applicability in varied settings. For instance, recycling is possible for diverse products (e.g., batteries, electronics, plastic, and textiles) using varied techniques with applicability to several industries. Similarly, passenger road vehicles are not limited to lithium-ion battery electric cars but include fuel cell vehicles to micro-mobility e-bikes. Consumer behavior may also explain why recycling and passenger road vehicles along with complementary technologies of EV charging and SDES are as prominent. According to a Deloitte 2023 survey of more than 22,000 consumers across 23 countries, nearly one-half had purchased something sustainable. Being made of recycled or repurposed materials is one of the top attributes that buyers associate with sustainable offerings. In the survey, food and transport were the first and third-most common sustainable purchases.16\\n\\n5\\n\\nMegadeals drive funding surge\\n\\nAs noted above, VC investment broadly, and investment in climate tech specifically, has surged in recent years. And two-thirds of the funding since 2021 has come in megadeals of US$100 million or greater compared to 58% from 2000 to 2020.17 In line with overall climate tech funding, climate tech megadeals have diversified geographically. Prior to 2021, mega rounds went to companies in 12 countries. From 2021 through 2023 they went to 19 countries (see Table 2). Megadeals tend to be viewed as validating technologies and markets.\\n\\nTable 2. Contribution of megadeals in climate tech funding\\n\\n2000-2020\\n\\n2021-2023*\\n\\nDeal value: ≥US$100 million\\n\\nNumber of countries with deals\\n\\n12\\n\\n19\\n\\nNumber of companies with deals\\n\\n74\\n\\n125\\n\\nNumber of deals\\n\\n147\\n\\n161\\n\\nAmount invested (US$ billion)\\n\\n45\\n\\n53\\n\\nDeal value: ≥US$1,000 million\\n\\nNumber of countries with deals\\n\\n2\\n\\n3\\n\\nNumber of companies with deals\\n\\n6\\n\\n6\\n\\nNumber of deals\\n\\n9\\n\\n8\\n\\nAmount invested (US$ billion)\\n\\n13\\n\\n16\\n\\nUntil July 31, 2023\\n\\nSource: Pitchbook, GreenSpace Navigator/Deloitte analysis\\n\\nFrom a tech point of view, since 2021, megadeals accounted for a disproportionate share of funding in five climate tech categories: passenger road vehicles, SDES, nuclear power, farming in vertical or controlled environments, and low greenhouse gas (GHG) farming inputs (see Table 3). Seventy percent of megadeals across these five climate techs are later-stage venture funding raised mainly to help support the expansion or establishment of commercial-scale production and continued product development.\\n\\nTable 3. Megadeal funding details since 2021*\\n\\nTechnology\\n\\nMegadeals share of total funds\\n\\nNumber of megadeals\\n\\n≥US$100M ≥US$1,00M\\n\\nFunds via megadeals US($B)\\n\\nHighlights\\n\\nPassenger road vehicles\\n\\n90%\\n\\n23\\n\\n3\\n\\n13.6\\n\\nChina and the United States led with eight and seven deals, respectively, and all US$1 billion deals for lithium battery-powered four-wheeler makers. Australia, Croatia, Germany, India, and Sweden were other recipients.\\n\\nNuclear\\n\\n85%\\n\\n3\\n\\n1\\n\\n2.1\\n\\nThe United States received all the deals in this space, including a US$1.8 billion deal for a nuclear fusion innovator, US$162 million for another fusion player, and US$152 million for a small modular reactor developer.\\n\\nShort duration energy storage (SDES)\\n\\n83%\\n\\n36\\n\\n3\\n\\n14.7\\n\\nChina and the United States led with 19 and nine deals, respectively. Other recipients include France, Sweden, Taiwan (China), and the United Kingdom. The US$1 billion+ deals went to China and Sweden. SDES deals are mainly for lithium-ion batteries with a few for solid-state and hydrogen fuel cell batteries.\\n\\nVertical or controlled environment farming\\n\\n80%\\n\\n5\\n\\n\\n\\n1.2\\n\\nThe United States and Indonesia received three and two deals, respectively, for pesticide-free vertical farming and hi-tech aquaculture.\\n\\nLow GHG farming inputs\\n\\n71%\\n\\n5\\n\\n\\n\\n1.3\\n\\nThe United States received all deals in this space for bio-based crop yield enhancers.\\n\\nFrom January 1, 2021 to July 31, 2023\\n\\nSource: Pitchbook, GreenSpace Navigator/Deloitte analysis\\n\\n6\\n\\nNotably, the megadeal activity includes countries other than the dominant eight: Croatia, Indonesia, and Sweden. The Croatian megadeal involved a company that makes electric “hypercars” and supplies EV technology to leading global automakers.18 In Indonesia, a sensor-controlled fish-feeding system received funding.19 Meanwhile, Sweden has had eight megadeals since 2021 covering not only passenger road vehicles and SDES, but also commercial road vehicles and steel. The country is home to innovators of 23 types of climate technologies. Government support, a history of academic research, inventor-favoring patent laws, and a vibrant auto industry promote green innovation here.20\\n\\nWithin the United States, five states lead\\n\\nClimate tech entrepreneurship in the United States is concentrated in five states. California, Colorado, Massachusetts, New York, and Texas account for more than one-half of the climate tech companies in the country (see Figure 5). This appears to be somewhat more concentrated than the wider market, where the top five states—California, Texas, and New York along with Florida and Illinois—account for 40% of all US company headquarters according to Pitchbook data\\n\\nFigure 5. Percentage share of US climate tech companies\\n\\nSource: Pitchbook, GreenSpace Navigator/Deloitte analysis\\n\\n33%\\n\\n42%\\n\\nCalifornia Massachusetts\\n\\nNew York\\n\\nColorado\\n\\nTexas\\n\\nOther\\n\\n8%\\n\\n5%\\n\\n6%\\n\\n7%\\n\\nCalifornia has remained a leader by far in hosting climate tech company headquarters and garnering funding (see Figure 6). This mirrors the state’s entrepreneurial lead as home to 15% of US companies and the destination for 44% of US venture funding since 2000.21 California has had emissions-related policies since the 1960s.22 It funds climate action via one of the world’s largest carbon emissions trading systems (ETS) established in 2013, which requires utilities and other industrial organizations to purchase permits for their emissions, generating funds for climate projects.23,24 Furthermore, California has a strong talent base, with renowned universities and a well-established technology hub.25 Since 2021, the state has accounted for 35 of the country’s 77 megadeals, covering nearly a dozen technologies—further highlighting California’s robust and diverse climate tech environment.\\n\\nFigure 6. Percentage share of US climate tech activity by state and year\\n\\n3%\\n\\n51%\\n\\n5% 3%\\n\\n48%\\n\\n7% 5%\\n\\n3%\\n\\n3%\\n\\n39%\\n\\n4% 7% 7% 8%\\n\\n40%\\n\\n5% 7% 9%\\n\\n4%\\n\\n29%\\n\\n6% 11%\\n\\n8%\\n\\n12%\\n\\n24%\\n\\n0%\\n\\n30%\\n\\n0%\\n\\n18%\\n\\n19%\\n\\n3%\\n\\n26%\\n\\n67%\\n\\n3%\\n\\n17%\\n\\n7%\\n\\n72%\\n\\n2%\\n\\n21%\\n\\n16%\\n\\n57%\\n\\n55%\\n\\n38%\\n\\n34%\\n\\n34%\\n\\n35%\\n\\n34%\\n\\n43%\\n\\n2000-2004\\n\\n2005-2009\\n\\n2010-2014\\n\\n2015-2019\\n\\n2020-2023*\\n\\n2000-2004\\n\\n2005-2009\\n\\n2010-2014\\n\\n2015-2019\\n\\n2020-2023*\\n\\nCompanies founded\\n\\nFunding amount\\n\\nCalifornia\\n\\nMassachusetts\\n\\nNew York\\n\\nColorado\\n\\nTexas\\n\\nOther\\n\\nUntil July 31, 2023\\n\\nSource: Pitchbook, GreenSpace Navigator/Deloitte analysis\\n\\n1%\\n\\n3%\\n\\n5%\\n\\n7\\n\\nCalifornia, here we come\\n\\nThough California leads, Massachusetts and Colorado are emerging as centers of climate tech entrepreneurship.26 Each state’s share of the number of climate tech companies founded has risen to 11%-12% since 2020, up from 0%-3% in 2000-2004. Both states have significant scientific research capabilities, qualified talent, and innovation supporting infrastructure. Massachusetts is home to several climate-focused investors and Colorado has a relatively business- friendly tax regime.27 Both have also had climate-related policies for many years.28 In terms of funding, since 2021, Massachusetts has drawn the second-highest number of megadeals in the United States—16 across 12 technologies. Colorado captured just three megadeals.\\n\\nIn terms of top technologies, the leading states in the United States have much in common with leading countries at the global scale, as well as some divergent characteristics (see Table 4). For instance, alternative proteins, CCUS, LDES, recycling and waste management, and SDES remain prominent globally and in the leading states. Alternative proteins, recycling and waste management, and SDES have also captured some of the highest number of megadeals in the country since 2021. Meanwhile, grid/energy management, while not a top-five climate tech worldwide or in the United States overall, appears to be significant across three US states. The United States supports grid modernization and smart grids via the Energy Independence and Security Act of 2007 and multibillion-dollar funding.29\\n\\nTable 4. Top-five climate techs by percentage share of companies within key US states\\n\\nCalifornia\\n\\nAlternative proteins (11%)\\n\\nCarbon capture, utilization, and sequestration (7%)\\n\\nGrid/energy management (7%)\\n\\nLong-duration energy storage (7%)\\n\\nPassenger road vehicles (7%)\\n\\nShort-duration energy storage (7%)\\n\\nColorado\\n\\nRecycling and waste management (10%)\\n\\nGrid/energy management (8%)\\n\\nConstruction tech (6%)\\n\\nHydrogen production (6%)\\n\\nAlternative proteins (5%)\\n\\nCarbon capture, utilization, and sequestration (5%)\\n\\nShort- duration energy storage (5%)\\n\\nMassachusetts\\n\\nLong-duration energy storage (13%)\\n\\nRecycling and waste management (9%)\\n\\nShort-duration energy storage (9%)\\n\\nHydro (9%)\\n\\nAlternative proteins (7%)\\n\\nSolar (7%)\\n\\nNew York\\n\\nRecycling and waste management (12%)\\n\\nAlternative proteins (12%)\\n\\nCarbon capture, utilization, and sequestration (12%)\\n\\nLong-duration energy storage (8%)\\n\\nHeating, ventilation, and cooling (8%)\\n\\nTexas\\n\\nRecycling and waste management (14%)\\n\\nShort-duration energy storage (12%)\\n\\nPassenger road vehicles (9%)\\n\\nCarbon capture, utilization, and sequestration (7%)\\n\\nLong-duration energy storage (7%)\\n\\nElectric vehicle charging (7%)\\n\\nGrid/energy management (7%)\\n\\nWhere multiple technologies are tied for share of companies, all are shown.\\n\\nSource: Pitchbook, GreenSpace Navigator/Deloitte analysis\\n\\nSome standout technologies in these states include construction technology and hydrogen production in Colorado, hydro and solar in Massachusetts, heating, ventilation, and cooling (HVAC) in New York, and EV charging in Texas. Colorado hosts multiple startups focused on low-emission building materials and techniques such as three-dimensional (3D) printed and modular construction.30 The state has also been supporting clean hydrogen, such as by working toward a multi-state hydrogen hub and passing a bill to help define and subsidize clean hydrogen.31 In Massachusetts, the Massachusetts Clean Energy Center (MassCEC) has supported the climate tech sector since 2009.32 From 2010 to 2020, MassCEC has provided US$360 million in funds and attracted US$2 billion of federal and private investments.33 New York has multiple policies and incentives for building energy efficiency and HVAC, including supporting retrofits.34 Texas has had an EV charging vendor ecosystem for more than a decade, along with financial incentives and guidelines for technology adoption.35\\n\\n8\\n\\nThe geography of climate tech and comparative advantage\\n\\nThe impact of climate change is global. Yet, climate tech entrepreneurship and investment are concentrated in eight countries, with the United States accounting for the biggest share. Climate tech innovation is occurring around the world, however, and as noted above, the share of activity occurring in the “rest of the world” seems to be growing. Some technology variants are being commercialized in dozens of countries (See Figure 7). Others are the object of special attention in certain countries. Such specialization may be the result of policy choices, comparative advantage, or some combination of the two.\\n\\nFigure 7. Climate tech prevalence by number of countries\\n\\nAnimal feed\\n\\nCarbon measurement and land-use analytics\\n\\nLow GHG farm inputs\\n\\nPrecision agriculture\\n\\nVertical/controlled environment farming\\n\\nHydro\\n\\nAlternative proteins\\n\\nEmission measurement and monitoring\\n\\nHydrogen storage and transport\\n\\nFood packaging and waste\\n\\nConstruction tech\\n\\nGeothermal\\n\\nOcean and tidal\\n\\nElectricity management in buildings\\n\\nCarbon capture, utilization, and sequestration\\n\\nAgri-genomics\\n\\nNuclear\\n\\nWind\\n\\nHeating, ventilation, and cooling\\n\\nBioenergy\\n\\nZero-emission farm equipment\\n\\nSteel\\n\\nCement and concrete\\n\\nGrid/energy management\\n\\nHydrogen production\\n\\nAluminum\\n\\nAviation\\n\\nIndustrial heat\\n\\nSolar\\n\\nLong-duration energy storage\\n\\nShort-duration energy storage\\n\\nRecycling and waste management\\n\\nPulp and paper\\n\\nRail/locomotive\\n\\nMaritime\\n\\nChemicals manufacturing\\n\\nCommercial road vehicles\\n\\nElectric vehicle charging\\n\\nPassenger road vehicles\\n\\n1 to 5\\n\\n6 to 10\\n\\n11 to 15\\n\\n16 to 20\\n\\n21 to 25\\n\\n26 to 30\\n\\n31 to 35\\n\\n# of countries where at least one company focused on the specific climate tech exists\\n\\nKey:\\n\\nAAggrriiccuullttuurree,, FFoooodd aanndd LLaanndd\\n\\nBBuuiilltt EEnnvviirroonnmmeenntt\\n\\nCCaarrbboonn MMaannaaggeemmeenntt\\n\\nCClleeaann EEnneerrggyy\\n\\nHHeeaavvyy IInndduussttrryy\\n\\nTTrraannssppoorrtt\\n\\nSource: Pitchbook, GreenSpace Navigator/Deloitte analysis\\n\\nThe increasing globalization of climate tech raises interesting questions about comparative advantage. Since the advent of commerce, production hubs have tended to emerge in various regions based on the economic comparative advantages of each region. Could climate change, and the responses to it, become a factor in comparative advantage? Some academics suggest that regional climate policies such as carbon taxes could make it so.36 So could buyer preferences, whether driven by policy or not. For instance, steel production is currently dominated by China’s large, lower-cost coal-fired mills. But with global demand for green steel on the rise, US-based electricity-powered mini-mills may have an edge in certain markets.37\\n\\nIn this context, countries in diverse regions such as South America, the Middle East, Africa, and East Asia are implementing policies to help encourage climate tech innovation, including the use of financial incentives.38 Entrepreneurs can seek to benefit from these policies by developing novel solutions or adapting existing ones to local contexts. They could also collaborate with local academic and other research establishments to help gain access to intellectual property relevant to local markets. For funding beyond government aid, entrepreneurs can draw on climate- focused VC or private equity investments. Multiple such climate funds targeting specific regions, such as Africa, the Caribbeans, India, Latin America, and Southeast Asia have emerged.39 For investors, climate innovators outside the more established regions could present untapped potential at relatively lower valuations. Investors can consider collaborating in areas such as opportunity identification and due diligence to help spread costs and mitigate risks.40\\n\\nAwareness of the geographic trends in climate tech can be useful for climate tech entrepreneurs, investors, enterprise buyers, and policymakers, whether they seek to exploit geographic comparative advantage or to shape it.\\n\\n9\\n\\nAbout this research\\n\\nGreenSpace Tech by Deloitte\\n\\nThe analysis presented here draws on data on more than 2,600 climate tech companies compiled by GreenSpace Tech by Deloitte in a tool known as the GreenSpace Navigator (GSN) as of 25 August 2023. GSN data is continuously updated and currently includes information on nearly 3,000 innovators working on one or more of some 400 climate technologies across more than 40 technology categories. It covers announced investment deals completed from 1 January 2000 to 31 July 2023, and of type pre-seed/seed, early-stage VC, or later-stage VC. The investment data is from Pitchbook.\\n\\nGreenSpace Tech by Deloitte helps clients navigate the rapidly changing climate tech landscape and identifies opportunities for organizations to both decarbonize and help create a sustainable competitive advantage. The service is underpinned by a global research team and network of subject matter specialists; privileged access to the climate tech ecosystem via over 150 collaborations; and AI-powered research tools such as Deloitte’s proprietary GreenSpace Navigator, which helps to analyze and organize data from more than 18,000 sources to provide fast insight on a rapidly evolving market.\\n\\nAlthough the data in GSN can never be exhaustive, it is rigorously vetted and classified, and broad enough to allow for directionally valid analysis of the type Deloitte presents here. Only companies offering technologies that help reduce or remove greenhouse gas emissions are included in the GSN database, and only those where climate tech is the sole or significant focus, in other words, accounting for at least 20% or more of process, production, or revenue, are included in this analysis. Most of the technologies in the database could be called “hard tech” that deals with atoms, rather than bits. For example, technologies for energy storage, carbon capture, or low-emissions cement manufacture are included; enterprise software for accounting and reporting on emissions, are not. Software that is used specifically to help operate or optimize hard tech assets is also included.\\n\\nTo learn more about GreenSpace Tech by Deloitte, click here.\\n\\nIn GSN, each technology category comprises multiple technologies. For instance, the recycling and waste management category includes more than 20 technologies, from chemical recycling of plastic using depolymerization to multiple methods for recycling electric vehicle batteries. The analysis in this paper was done at the technology category level, though for simplicity, we refer here to tech categories simply as “technologies.”\\n\\nAcknowledgements\\n\\nNavya Kumar, Manager, Deloitte Services India, Deloitte US – India Offices (lead author); Jonathan Camhi, Manager, Deloitte LLP, Deloitte US; Derek Pankratz, Senior Manager, Center for Integrated Research, Deloitte US; and Josh Sawislak, Managing Director, Deloitte Consulting LLP, Deloitte US.\\n\\nContacts\\n\\nAndrea Culligan Global Leader, GreenSpace Tech by Deloitte Partner, Deloitte Consulting, Deloitte Australia\\n\\nDilip Krishna Global Chief Technology Officer, Deloitte Sustainability & Climate Managing Director, Deloitte Consulting LLP, Deloitte US\\n\\nDavid Schatsky Global Leader, GreenSpace Research & Insights Managing Director, Deloitte LLP, Deloitte US\\n\\naculligan@deloitte.com.au\\n\\ndkrishna@deloitte.com\\n\\ndschatsky@deloitte.com\\n\\n10\\n\\nEndnotes 1 Crunchbase, “Alarming Decline In Startup Creation Presents Challenges And Opportunities For Entrepreneurs,” July 24, 2023.\\n\\nDealroom, “Guide: Global - The State of Global VC,” accessed October 3, 2023. Harri Weber, “Making sense of the latest climate tech funding trend stories,” TechCrunch, July 13, 2023. Dealroom, “Guide: Climate tech,” accessed October 3, 2023.\\n\\n2 According to Deloitte’s analysis of PitchBook global data, 46% fewer companies were founded and 28% less venture capital (VC)\\n\\nwas invested in 2022 than in 2021. In comparison, climate tech company founding fell by 63% and funding decreased by 19% from 2021 to 2022.\\n\\n3 BloombergNEF, “Climate-tech investment radar: 2Q 2023,” accessed August 10, 2023. 4 Richard Florida, “America Is Losing Its Edge for Startups,” Bloomberg, October 9, 2018. 5 Hivos, “Locally-led climate solutions lead the way in Indonesia,” accessed October 3, 2023. 6 Sushmita Pathak, “The vegan leather made from India’s waste flowers,” BBC, December 20, 2022. 7 United Nations Climate Change, “ME SOLshare: Peer-to-Peer Smart Village Grids | Bangladesh,” accessed October 3, 2023. 8 Economic Times, “India surpasses Japan to become 3rd largest auto market globally,” January 6, 2023. 9 While the automotive sector’s contribution to the Chinese economy is noted here DaxueConsulting, “Inside Chinese car market:\\n\\nthe rise of homegrown players and the impact of Covid-19,” March 2, 2023. Moneycontrol, “Economic Survey 2023: Auto sector to play a critical role in India’s shift to green energy,” January 31, 2023.\\n\\n10 International Energy Agency, “Solar PV manufacturing capacity by country and region, 2021,” July 5, 2022. Institute for Energy\\n\\nEconomics and Financial Analysis, “India’s rising prominence in solar photovoltaic manufacturing,” June 12, 2023.\\n\\n11 Jennifer Buss, Nicolas Mansuy, Jérôme Laganière, and Daniel Persson, “Greenhouse gas mitigation potential of replacing diesel fuel with wood-based bioenergy in an arctic Indigenous community: A pilot study in Fort McPherson, Canada,” Biomass and Bioenergy 159, Article No. 106367 (2022).\\n\\n12 Canada Energy Regulator, “Market Snapshot: Canada’s Bioenergy Diversity and Potential,” May 17, 2023. Government of Canada,\\n\\n“ecoENERGY for Biofuels,” accessed October 3, 2023. Government of Ontario, “Province Investing In Ontario’s Ethanol Producers,” July 6, 2007.\\n\\n13 Ines Bouacida, “France’s Hydrogen Strategy,” Research Institute for Sustainability, June 2023, p. 2. 14 Ines Bouacida, “France’s Hydrogen Strategy,” Research Institute for Sustainability, June 2023, p. 2 Netherlands Enterprise Agency,\\n\\n“Hydrogen sector study France,” March 2021, pp. 13-15.\\n\\n15 Netherlands Enterprise Agency, “Hydrogen sector study France,” March 2021, pp. 17-19. 16 Leon Pieters, James Cascone, Stephen Rogers, and Derek Pankratz, “Green products come of age,” Deloitte, May 31, 2023. 17 This is in line with broader VC investment trends, according to PitchBook data, but more pronounced: mega deals accounted for\\n\\n51% of all global VC investment since 2021 versus 38% in the preceding two decades.\\n\\n18 John Rosevear, “Croatian EV supercar maker Rimac raised 500 million euros to make parts for Big Auto rivals,” CNBC, June 1, 2022. 19 Tech in Asia, “eFishery hits unicorn status with $108m series D,” May 25, 2023. 20 Lily Wakeley, “Why is Sweden the ‘home of impact’ for startups?” Sifted, October 22, 2022. 21 PitchBook data 22 California Air Resources Board, “About – History,” accessed October 3, 2023. 23 Center for Climate and Energy Solutions, “California Cap and Trade,” accessed October 3, 2023. 24 California Public Utilities Commission, “Greenhouse Gas Cap-and-Trade Program,” accessed October 3, 2023. 25 Endeavor Insight and HSBC, “Scaling Climate Tech: A Global Study of Entrepreneurs and Networks”, October 2022, p. 28. 26 Grace Donnelly, “California commits billions of dollars to climate tech in broader climate push,” Tech Brew, September 9, 2022.\\n\\nChristopher Wood, “Study: ‘Colorado Clean Range’ ranks No. 5 nationwide,” BizWest, August 28, 2022.. Shubham Sharma, “Report: Climate tech investments surge fivefold since Paris Agreement,” VentureBeat, October 29, 2021.\\n\\n27 Boston Business Journal, “Viewpoint: Mass. climate-tech ecosystem is here to stay,” February 21, 2023. United States Office of Energy Efficiency and Renewable Energy, “Incubators and Accelerators,” accessed October 3, 2023. Stephanie Copeland, “How Colorado became a global tech hub,” World Finance, accessed October 3, 2023. Gary Polakovic, “Colorado’s emergence as a tech hub has CSU hosting major federal research conference Aug. 30-31,” Colorado State University, August 15, 2022.\\n\\n28 Adam Hasz, “The Foundational Clean Energy and Climate Policies in Massachusetts,” Medium, February 19, 2018. Stephanie\\n\\nCopeland, “How Colorado became a global tech hub,” World Finance, accessed October 3, 2023.\\n\\n29 United States Office of Electricity, “Grid Modernization and the Smart Grid,” accessed October 3, 2023. Gaurav Mishra, “US\\n\\nAnnounces a $13 Billion Fund to Expand and Modernize Electric Grid,” Mercom, November 21, 2022.\\n\\n30 Deloitte GreenSpace Navigator 31 Pete Budden, “Colorado Leads the Way with a Climate-aligned Hydrogen Course,” Natural Resources Defense Council, May 18,\\n\\n2023.\\n\\n32 Massachusetts Clean Energy Center, “About,” accessed October 3, 2023. 33 Massachusetts Clean Energy Center, “IMPACT & RESOURCES,” accessed October 3, 2023.\\n\\n11\\n\\n34 New York State, “Heating, Cooling, and Ventilation Programs & Incentives,” accessed October 3, 2023. 35 Centrica, “Direct Energy joins electric vehicle charging ecosystem,” November 17, 2010. United States Department of Energy, “Residential Electric Vehicle (EV) Charging Station Rebate – Austin Energy,” accessed October 3, 2023. City of Houston, Texas, “Recommended Electric Vehicle Charging Infrastructure Deployment Guidelines for the Greater Houston Area,” October 2010.\\n\\n36 Bruno Conte, Klaus Desmet, and Esteban Rossi-Hansberg, “On the Geographic Implications of Carbon Taxes,” University of\\n\\nChicago, June 19, 2023.\\n\\n37 BNP Paribas Exane, “The Black Box of Green Steel,” September 8, 2022. 38 Trench, Rossi e Watanabe, “Brazil: Federal government launches Green Growth National Program,” Lexology, November 15, 2021. Yuval Azulay, “Israeli government earmarks almost $900 million for climatech development,” Calcalist, June 27, 2022. Africa Energy Portal, “KENYA: Tax incentives to promote the development of electric mobility,” January 26, 2023. Korea JoongAng Daily, “Korea to invest to foster 10 climate-related unicorns,” June 22, 2023.\\n\\n39 Regionally-focused climate funds https://www.bloomberg.com/professional/blog/climate-tech-investment-radar-2q-2023/\\n\\nincluding for Southeast Asia https://fintech.global/2023/07/10/the-radical-funds-40m-climate-tech-fund-targets-early-stage-sea- startups/\\n\\n40 Tage Kene-Okafor, “Equator secures $40M in commitments for fund targeting climate tech startups in Africa,” TechCrunch, April 5,\\n\\n2023.\\n\\n12\\n\\nThe geography of climate tech\\n\\nDeloitte refers to one or more of Deloitte Touche Tohmatsu Limited (“DTTL”), its global network of member firms, and their related entities (collectively, the “Deloitte organization”). DTTL (also referred to as “Deloitte Global”) and each of its member firms and related entities are legally separate and independent entities, which cannot obligate or bind each other in respect of third parties. DTTL and each DTTL member firm and related entity is liable only for its own acts and omissions, and not those of each other. DTTL does not provide services to clients. Please see http://www.deloitte.com/about to learn more.\\n\\nDeloitte provides industry-leading audit and assurance, tax and legal, consulting, financial advisory, and risk advisory services to nearly 90% of the Fortune Global 500® and thousands of private companies. Our professionals deliver measurable and lasting results that help reinforce public trust in capital markets, enable clients to transform and thrive, and lead the way toward a stronger economy, a more equitable society and a sustainable world. Building on its 175-plus year history, Deloitte spans more than 150 countries and territories. Learn how Deloitte’s 415,000 people worldwide make an impact that matters at www.deloitte.com.\\n\\nThis communication contains general information only, and none of Deloitte Touche Tohmatsu Limited (“DTTL”), its global network of member firms or their related entities (collectively, the “Deloitte organization”) is, by means of this communication, rendering professional advice or services. Before making any decision or taking any action that may affect your finances or your business, you should consult a qualified professional adviser.\\n\\nNo representations, warranties or undertakings (express or implied) are given as to the accuracy or completeness of the information in this communication, and none of DTTL, its member firms, related entities, employees or agents shall be liable or responsible for any loss or damage whatsoever arising directly or indirectly in connection with any person relying on this communication. DTTL and each of its member firms, and their related entities, are legally separate and independent entities.\\n\\n© 2023. For information, contact Deloitte Global.'"
      ]
     },
     "execution_count": 8,
     "metadata": {},
     "output_type": "execute_result"
    }
   ],
   "source": [
    "# Preview first page\n",
    "data[0].page_content"
   ]
  },
  {
   "cell_type": "markdown",
   "id": "05065025-da45-4554-843f-23c93b8652b1",
   "metadata": {},
   "source": [
    "**VECTOR EMBEDDINGS**"
   ]
  },
  {
   "cell_type": "code",
   "execution_count": 9,
   "id": "0aa3b2d2-d3eb-4ba9-a18e-16cbddb2d39d",
   "metadata": {},
   "outputs": [],
   "source": [
    "from langchain_community.embeddings import OllamaEmbeddings\n",
    "from langchain_text_splitters import RecursiveCharacterTextSplitter\n",
    "from langchain_community.vectorstores import Chroma"
   ]
  },
  {
   "cell_type": "code",
   "execution_count": 10,
   "id": "eb8f5383-9738-41e5-851f-1ebe5c7e64c6",
   "metadata": {},
   "outputs": [],
   "source": [
    "#Split and chunk\n",
    "text_splitter = RecursiveCharacterTextSplitter(chunk_size=7500, chunk_overlap=100)\n",
    "chunks = text_splitter.split_documents(data)"
   ]
  },
  {
   "cell_type": "code",
   "execution_count": 11,
   "id": "7cf35107-6eda-4827-8fa5-56a075e953f4",
   "metadata": {},
   "outputs": [
    {
     "name": "stderr",
     "output_type": "stream",
     "text": [
      "OllamaEmbeddings: 100%|██████████████████████████████████████████████████████████████████████████████████████████████████████████████████████| 6/6 [00:53<00:00,  8.86s/it]\n"
     ]
    }
   ],
   "source": [
    "#Add to Vector database\n",
    "vector_db = Chroma.from_documents(\n",
    "    documents=chunks,\n",
    "    embedding=OllamaEmbeddings(model=\"nomic-embed-text\",show_progress=True),\n",
    "    collection_name=\"local-rag\"\n",
    ")"
   ]
  },
  {
   "cell_type": "markdown",
   "id": "9095dab9-c77d-47d4-ad79-fb4a2e222afd",
   "metadata": {},
   "source": [
    "**RETRIEVAL**"
   ]
  },
  {
   "cell_type": "code",
   "execution_count": 12,
   "id": "66caa9ab-b4c4-4a79-9ff1-9c7981f117f7",
   "metadata": {},
   "outputs": [],
   "source": [
    "from langchain.prompts import ChatPromptTemplate, PromptTemplate\n",
    "from langchain_core.output_parsers import StrOutputParser\n",
    "from langchain_community.chat_models import ChatOllama\n",
    "from langchain_core.runnables import RunnablePassthrough\n",
    "from langchain.retrievers.multi_query import MultiQueryRetriever"
   ]
  },
  {
   "cell_type": "code",
   "execution_count": 13,
   "id": "7bacd7cc-8fa8-47eb-8832-c58e69d57e6d",
   "metadata": {},
   "outputs": [],
   "source": [
    "# LLM from Ollama\n",
    "local_model = \"knoopx/hermes-2-pro-mistral:7b-q8_0\"\n",
    "llm = ChatOllama(model=local_model)"
   ]
  },
  {
   "cell_type": "code",
   "execution_count": 14,
   "id": "c5081f35-0b8d-4ae0-8a8b-b5b2fa00e3eb",
   "metadata": {},
   "outputs": [],
   "source": [
    "QUERY_PROMPT = PromptTemplate(\n",
    "    input_variables=[\"question\"],\n",
    "    template=\"\"\"You are an AI language model assistant. Your task is to generate five\n",
    "    different versions of the given user question to retrieve relevant documents from\n",
    "    a vector database. By generating multiple perspectives on the user question, your\n",
    "    goal is to help the user overcome some of the limitations of the distance-based\n",
    "    similarity search. Provide these alternative questions separated by newlines.\n",
    "    Original question: {question}\"\"\",\n",
    ")"
   ]
  },
  {
   "cell_type": "code",
   "execution_count": 15,
   "id": "f778b870-ef0f-4ec0-a92e-e10af4ff3ff5",
   "metadata": {},
   "outputs": [],
   "source": [
    "retriever = MultiQueryRetriever.from_llm(\n",
    "    vector_db.as_retriever(), \n",
    "    llm,\n",
    "    prompt=QUERY_PROMPT\n",
    ")\n",
    "\n",
    "# RAG prompt\n",
    "template = \"\"\"Answer the question based ONLY on the following context:\n",
    "{context}\n",
    "Question: {question}\n",
    "\"\"\"\n",
    "\n",
    "prompt = ChatPromptTemplate.from_template(template)"
   ]
  },
  {
   "cell_type": "code",
   "execution_count": 16,
   "id": "9408b188-8881-41ae-9533-b52d069e3715",
   "metadata": {},
   "outputs": [],
   "source": [
    "chain = (\n",
    "    {\"context\": retriever, \"question\": RunnablePassthrough()}\n",
    "    | prompt\n",
    "    | llm\n",
    "    | StrOutputParser()\n",
    ")"
   ]
  },
  {
   "cell_type": "code",
   "execution_count": 17,
   "id": "5cf28b9a-3ebd-49a2-a150-c6dae3dfaed2",
   "metadata": {},
   "outputs": [
    {
     "name": "stderr",
     "output_type": "stream",
     "text": [
      "OllamaEmbeddings: 100%|██████████████████████████████████████████████████████████████████████████████████████████████████████████████████████| 1/1 [00:01<00:00,  1.52s/it]\n",
      "OllamaEmbeddings: 100%|██████████████████████████████████████████████████████████████████████████████████████████████████████████████████████| 1/1 [00:00<00:00, 10.45it/s]\n",
      "OllamaEmbeddings: 100%|██████████████████████████████████████████████████████████████████████████████████████████████████████████████████████| 1/1 [00:00<00:00,  8.80it/s]\n",
      "OllamaEmbeddings: 100%|██████████████████████████████████████████████████████████████████████████████████████████████████████████████████████| 1/1 [00:00<00:00,  8.30it/s]\n",
      "OllamaEmbeddings: 100%|██████████████████████████████████████████████████████████████████████████████████████████████████████████████████████| 1/1 [00:00<00:00, 10.48it/s]\n"
     ]
    },
    {
     "data": {
      "text/plain": [
       "'This document is a report discussing the geographic distribution of climate tech companies, their funding, and the trends in entrepreneurship in this sector. It highlights that climate tech activity is mainly concentrated in eight countries: Australia, Canada, China, France, Germany, India, the United Kingdom, and the United States. The United States leads with the highest number of climate tech companies and funding amounts. However, the report also notes an increasing geographic diversification in climate tech entrepreneurship as countries outside the dominant eight show rapid growth in founding activity and increasing share of investment.'"
      ]
     },
     "execution_count": 17,
     "metadata": {},
     "output_type": "execute_result"
    }
   ],
   "source": [
    "chain.invoke(\"What is this document about?\")"
   ]
  },
  {
   "cell_type": "code",
   "execution_count": 18,
   "id": "8cb6b48d-7b46-4450-bc8e-320759503df0",
   "metadata": {},
   "outputs": [
    {
     "name": "stderr",
     "output_type": "stream",
     "text": [
      "OllamaEmbeddings: 100%|██████████████████████████████████████████████████████████████████████████████████████████████████████████████████████| 1/1 [00:01<00:00,  1.87s/it]\n",
      "OllamaEmbeddings: 100%|██████████████████████████████████████████████████████████████████████████████████████████████████████████████████████| 1/1 [00:00<00:00,  8.17it/s]\n",
      "OllamaEmbeddings: 100%|██████████████████████████████████████████████████████████████████████████████████████████████████████████████████████| 1/1 [00:00<00:00,  5.48it/s]\n",
      "OllamaEmbeddings: 100%|██████████████████████████████████████████████████████████████████████████████████████████████████████████████████████| 1/1 [00:00<00:00,  7.17it/s]\n",
      "OllamaEmbeddings: 100%|██████████████████████████████████████████████████████████████████████████████████████████████████████████████████████| 1/1 [00:00<00:00,  6.10it/s]\n"
     ]
    },
    {
     "data": {
      "text/plain": [
       "'The seven technologies that half of all climate tech companies are working on are:\\n\\n1. Renewable energy (including solar, wind, and hydro)\\n2. Energy storage and management\\n3. Smart grids and distributed energy systems\\n4. Carbon capture, utilization, and storage (CCUS)\\n5. Mobility (including electric vehicles and alternative fuels)\\n6. Agriculture and food (such as precision farming and sustainable food production)\\n7. Building and construction (focused on energy-efficient materials and designs)\\n\\nSource: Deloitte Insights, \"The geography of climate tech,\" accessed October 4, 2023.'"
      ]
     },
     "execution_count": 18,
     "metadata": {},
     "output_type": "execute_result"
    }
   ],
   "source": [
    "chain.invoke(\"What are the seven technologies that half of all climate tech companies are working on?\")"
   ]
  },
  {
   "cell_type": "code",
   "execution_count": 19,
   "id": "12487013-f586-431a-b964-a099e4533d30",
   "metadata": {},
   "outputs": [
    {
     "name": "stderr",
     "output_type": "stream",
     "text": [
      "OllamaEmbeddings: 100%|██████████████████████████████████████████████████████████████████████████████████████████████████████████████████████| 1/1 [00:01<00:00,  1.76s/it]\n",
      "OllamaEmbeddings: 100%|██████████████████████████████████████████████████████████████████████████████████████████████████████████████████████| 1/1 [00:00<00:00,  5.77it/s]\n",
      "OllamaEmbeddings: 100%|██████████████████████████████████████████████████████████████████████████████████████████████████████████████████████| 1/1 [00:00<00:00,  6.34it/s]\n",
      "OllamaEmbeddings: 100%|██████████████████████████████████████████████████████████████████████████████████████████████████████████████████████| 1/1 [00:00<00:00,  5.59it/s]\n",
      "OllamaEmbeddings: 100%|██████████████████████████████████████████████████████████████████████████████████████████████████████████████████████| 1/1 [00:00<00:00,  5.78it/s]\n"
     ]
    },
    {
     "data": {
      "text/plain": [
       "'GreenSpace Tech by Deloitte is not a specific entity or product but rather a research and analysis initiative by Deloitte focused on the global climate tech market. This initiative aims to provide insights into the trends, investments, and developments in the climate technology sector. The information provided in the text you shared seems to be a part of their research and analysis.'"
      ]
     },
     "execution_count": 19,
     "metadata": {},
     "output_type": "execute_result"
    }
   ],
   "source": [
    "chain.invoke(\"What is GreenSpace Tech by Deloitte?\")"
   ]
  },
  {
   "cell_type": "code",
   "execution_count": null,
   "id": "28d35b7a-c859-4ea8-8d0a-0a44a1a81854",
   "metadata": {},
   "outputs": [],
   "source": []
  }
 ],
 "metadata": {
  "kernelspec": {
   "display_name": "Python 3 (ipykernel)",
   "language": "python",
   "name": "python3"
  },
  "language_info": {
   "codemirror_mode": {
    "name": "ipython",
    "version": 3
   },
   "file_extension": ".py",
   "mimetype": "text/x-python",
   "name": "python",
   "nbconvert_exporter": "python",
   "pygments_lexer": "ipython3",
   "version": "3.11.0"
  }
 },
 "nbformat": 4,
 "nbformat_minor": 5
}
