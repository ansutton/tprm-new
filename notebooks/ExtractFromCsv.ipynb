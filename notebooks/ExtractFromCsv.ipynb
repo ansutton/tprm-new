{
 "cells": [
  {
   "cell_type": "code",
   "execution_count": 1,
   "id": "892d2cca-c8fd-4f64-bb24-7eed42129400",
   "metadata": {},
   "outputs": [],
   "source": [
    "import csv"
   ]
  },
  {
   "cell_type": "code",
   "execution_count": 4,
   "id": "47c80602-985a-4b04-a64f-d8c5b981dd14",
   "metadata": {},
   "outputs": [
    {
     "name": "stdout",
     "output_type": "stream",
     "text": [
      "What access control procedures are in place?\n",
      "When was the access control policy last reviewed?\n",
      "What is the password management policy in place?\n",
      "What procedures are followed for decommissioning of equipments?\n",
      "What steps are taken to ensure removal of client information prior to decommissioning of equipments?\n",
      "When were information security policies and procedures updated?\n",
      "How are emergency changes performed?\n",
      "What cryptographic controls are in place to encrypt the data at rest and in motion?\n",
      "When was the incident management policy last reviewed?\n",
      "When was the incident response procedure tested?\n",
      "How are incidents classified?\n",
      "What procedures are in place to perform root cause analysis for an incident?\n",
      "What physical perimeter controls are in place?\n",
      "What procedures are in place to deploy patches throughout the IT infrastructure?\n",
      "How is a back up of the data performed?\n",
      "What backgound checks are performed during hiring of an employee?\n",
      "What is done to ensure that periodic penetration tests are performed for the infrastructure, devices, and end-points?\n"
     ]
    }
   ],
   "source": [
    "file_path = 'C:/Users/ribhattacharya/Desktop/TPRM-Accelerator/assets/data/Security Questions/Deloitte_SOC2_Generic_TPRM_Blank_17_Question_Set.csv' # enter file path of CSV here\n",
    "questions = []\n",
    "with open(file_path, mode='r', newline='', encoding = 'utf-8-sig') as csvfile:\n",
    "    csvreader = csv.reader(csvfile)\n",
    "    first_row = next(csvreader)\n",
    "    # Check if first row contains header-like element (all characters are letters, no question marks)\n",
    "    if all (item.strip().isalpha() for item in first_row):\n",
    "        pass\n",
    "    else:\n",
    "        questions.append(first_row[0])\n",
    "    # Append remaining rows\n",
    "    for row in csvreader:\n",
    "        questions.append(row[0]) # column 0th index\n",
    "for q in questions:\n",
    "    print(q)\n"
   ]
  },
  {
   "cell_type": "code",
   "execution_count": null,
   "id": "c3ce160a-2a3a-4ff8-843c-ce5bb51ecb78",
   "metadata": {},
   "outputs": [],
   "source": []
  },
  {
   "cell_type": "code",
   "execution_count": null,
   "id": "111a6dd9-507a-4ebc-a4ee-c31c5bd2c7e1",
   "metadata": {},
   "outputs": [],
   "source": []
  }
 ],
 "metadata": {
  "kernelspec": {
   "display_name": "Python 3 (ipykernel)",
   "language": "python",
   "name": "python3"
  },
  "language_info": {
   "codemirror_mode": {
    "name": "ipython",
    "version": 3
   },
   "file_extension": ".py",
   "mimetype": "text/x-python",
   "name": "python",
   "nbconvert_exporter": "python",
   "pygments_lexer": "ipython3",
   "version": "3.10.14"
  }
 },
 "nbformat": 4,
 "nbformat_minor": 5
}
