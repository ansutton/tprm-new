{
 "cells": [
  {
   "cell_type": "code",
   "execution_count": 1,
   "id": "fe874aab-c03b-441d-846e-01ad119882eb",
   "metadata": {},
   "outputs": [
    {
     "name": "stdout",
     "output_type": "stream",
     "text": [
      "Collecting faiss-cpu\n",
      "  Downloading faiss_cpu-1.8.0.post1-cp310-cp310-win_amd64.whl.metadata (3.8 kB)\n",
      "Collecting pypdf2\n",
      "  Downloading pypdf2-3.0.1-py3-none-any.whl.metadata (6.8 kB)\n",
      "Requirement already satisfied: numpy<2.0,>=1.0 in c:\\users\\ribhattacharya\\.conda\\envs\\python310\\lib\\site-packages (from faiss-cpu) (1.26.4)\n",
      "Requirement already satisfied: packaging in c:\\users\\ribhattacharya\\.conda\\envs\\python310\\lib\\site-packages (from faiss-cpu) (24.1)\n",
      "Downloading faiss_cpu-1.8.0.post1-cp310-cp310-win_amd64.whl (14.6 MB)\n",
      "   ---------------------------------------- 0.0/14.6 MB ? eta -:--:--\n",
      "   ---------------------------------------- 0.0/14.6 MB ? eta -:--:--\n",
      "   ---------------------------------------- 0.2/14.6 MB 1.5 MB/s eta 0:00:10\n",
      "    --------------------------------------- 0.3/14.6 MB 1.9 MB/s eta 0:00:08\n",
      "   - -------------------------------------- 0.6/14.6 MB 2.5 MB/s eta 0:00:06\n",
      "   - -------------------------------------- 0.6/14.6 MB 2.3 MB/s eta 0:00:06\n",
      "   --- ------------------------------------ 1.1/14.6 MB 3.6 MB/s eta 0:00:04\n",
      "   --- ------------------------------------ 1.2/14.6 MB 3.4 MB/s eta 0:00:04\n",
      "   ---- ----------------------------------- 1.8/14.6 MB 4.4 MB/s eta 0:00:03\n",
      "   ------ --------------------------------- 2.4/14.6 MB 5.0 MB/s eta 0:00:03\n",
      "   -------- ------------------------------- 3.1/14.6 MB 5.9 MB/s eta 0:00:02\n",
      "   --------- ------------------------------ 3.5/14.6 MB 5.8 MB/s eta 0:00:02\n",
      "   ---------- ----------------------------- 4.0/14.6 MB 5.9 MB/s eta 0:00:02\n",
      "   ------------ --------------------------- 4.4/14.6 MB 6.2 MB/s eta 0:00:02\n",
      "   ------------- -------------------------- 4.9/14.6 MB 6.4 MB/s eta 0:00:02\n",
      "   --------------- ------------------------ 5.5/14.6 MB 6.5 MB/s eta 0:00:02\n",
      "   ---------------- ----------------------- 6.0/14.6 MB 6.6 MB/s eta 0:00:02\n",
      "   ----------------- ---------------------- 6.3/14.6 MB 6.6 MB/s eta 0:00:02\n",
      "   ----------------- ---------------------- 6.3/14.6 MB 6.6 MB/s eta 0:00:02\n",
      "   ------------------ --------------------- 6.6/14.6 MB 6.3 MB/s eta 0:00:02\n",
      "   -------------------- ------------------- 7.5/14.6 MB 6.9 MB/s eta 0:00:02\n",
      "   --------------------- ------------------ 7.9/14.6 MB 6.9 MB/s eta 0:00:01\n",
      "   ----------------------- ---------------- 8.4/14.6 MB 7.0 MB/s eta 0:00:01\n",
      "   ------------------------ --------------- 8.9/14.6 MB 7.1 MB/s eta 0:00:01\n",
      "   ------------------------- -------------- 9.5/14.6 MB 7.1 MB/s eta 0:00:01\n",
      "   --------------------------- ------------ 10.0/14.6 MB 7.2 MB/s eta 0:00:01\n",
      "   ---------------------------- ----------- 10.4/14.6 MB 7.4 MB/s eta 0:00:01\n",
      "   ----------------------------- ---------- 10.7/14.6 MB 8.0 MB/s eta 0:00:01\n",
      "   ------------------------------ --------- 11.3/14.6 MB 8.2 MB/s eta 0:00:01\n",
      "   -------------------------------- ------- 11.9/14.6 MB 8.4 MB/s eta 0:00:01\n",
      "   --------------------------------- ------ 12.3/14.6 MB 8.5 MB/s eta 0:00:01\n",
      "   ---------------------------------- ----- 12.6/14.6 MB 8.4 MB/s eta 0:00:01\n",
      "   ----------------------------------- ---- 12.9/14.6 MB 8.2 MB/s eta 0:00:01\n",
      "   ------------------------------------ --- 13.4/14.6 MB 8.0 MB/s eta 0:00:01\n",
      "   ------------------------------------- -- 13.8/14.6 MB 8.2 MB/s eta 0:00:01\n",
      "   ---------------------------------------  14.3/14.6 MB 8.2 MB/s eta 0:00:01\n",
      "   ---------------------------------------  14.6/14.6 MB 8.1 MB/s eta 0:00:01\n",
      "   ---------------------------------------- 14.6/14.6 MB 7.9 MB/s eta 0:00:00\n",
      "Downloading pypdf2-3.0.1-py3-none-any.whl (232 kB)\n",
      "   ---------------------------------------- 0.0/232.6 kB ? eta -:--:--\n",
      "   ---------------------------------------- 232.6/232.6 kB 7.2 MB/s eta 0:00:00\n",
      "Installing collected packages: pypdf2, faiss-cpu\n",
      "Successfully installed faiss-cpu-1.8.0.post1 pypdf2-3.0.1\n"
     ]
    }
   ],
   "source": [
    "!pip install faiss-cpu pypdf2"
   ]
  },
  {
   "cell_type": "code",
   "execution_count": 1,
   "id": "ea7bb5d1-c59e-43eb-afce-585669876df3",
   "metadata": {},
   "outputs": [],
   "source": [
    "import faiss\n",
    "from langchain.embeddings import OllamaEmbeddings\n",
    "from langchain.vectorstores import FAISS\n",
    "from langchain.document_loaders import PyPDFLoader\n",
    "from langchain_text_splitters import RecursiveCharacterTextSplitter\n",
    "import fitz\n",
    "import itertools"
   ]
  },
  {
   "cell_type": "code",
   "execution_count": 2,
   "id": "ccdc31d1-b5f5-449d-be32-ec6cb4bc9d05",
   "metadata": {},
   "outputs": [],
   "source": [
    "# pdf_file_path = 'C:/Users/ribhattacharya/Desktop/TPRM-Accelerator/assets/data/Security Evidence Docs/SOC 2/GoogleCloud/Audit-Reports-1720774833381-81ba2e/GCP-[FALL-2023] GCP SOC 2..pdf'\n",
    "# with fitz.open(pdf_file_path) as doc:\n",
    "#         page_contents = [page.get_text() for page in doc]\n",
    "pdf_loader = PyPDFLoader(\"C:/Users/ribhattacharya/Desktop/TPRM-Accelerator/assets/data/Security Evidence Docs/SOC 2/GoogleCloud/Audit-Reports-1720774833381-81ba2e/GCP-[FALL-2023] GCP SOC 2..pdf\")\n",
    "raw_documents= pdf_loader.load()\n",
    "text_splitter = RecursiveCharacterTextSplitter(\n",
    "        chunk_size=1000,\n",
    "        chunk_overlap=100,\n",
    "        length_function=len,\n",
    "        is_separator_regex=False,\n",
    "    )\n",
    "documents = text_splitter.split_documents(raw_documents)"
   ]
  },
  {
   "cell_type": "code",
   "execution_count": 3,
   "id": "773377ea-662d-4005-8b48-38c8b4c02f29",
   "metadata": {},
   "outputs": [],
   "source": [
    "embedding_model = OllamaEmbeddings(model='nomic-embed-text',show_progress=True)"
   ]
  },
  {
   "cell_type": "code",
   "execution_count": 4,
   "id": "45d783e1-689c-4eb2-993c-c8b0c34afe4d",
   "metadata": {},
   "outputs": [],
   "source": [
    "batch_size = 50\n",
    "texts=[doc.page_content for doc in documents]\n",
    "#document_texts = [doc.page_content for doc in documents]\n",
    "documents_embeddings = []"
   ]
  },
  {
   "cell_type": "code",
   "execution_count": 6,
   "id": "7264eddb-c764-4ddc-b6cc-cd76bc66fdbc",
   "metadata": {},
   "outputs": [
    {
     "name": "stderr",
     "output_type": "stream",
     "text": [
      "\n",
      "OllamaEmbeddings:   0%|          | 0/50 [00:00<?, ?it/s]\u001b[A\n",
      "OllamaEmbeddings:   2%|▏         | 1/50 [00:04<03:39,  4.48s/it]\u001b[A\n",
      "OllamaEmbeddings:   4%|▍         | 2/50 [00:06<02:36,  3.26s/it]\u001b[A\n",
      "OllamaEmbeddings:   6%|▌         | 3/50 [00:10<02:48,  3.58s/it]\u001b[A\n",
      "OllamaEmbeddings:   8%|▊         | 4/50 [00:11<01:51,  2.43s/it]\u001b[A\n",
      "OllamaEmbeddings:  10%|█         | 5/50 [00:11<01:15,  1.67s/it]\u001b[A\n",
      "OllamaEmbeddings:  12%|█▏        | 6/50 [00:12<01:04,  1.47s/it]\u001b[A\n",
      "OllamaEmbeddings:  14%|█▍        | 7/50 [00:13<00:57,  1.33s/it]\u001b[A\n",
      "OllamaEmbeddings:  16%|█▌        | 8/50 [00:15<00:56,  1.34s/it]\u001b[A\n",
      "OllamaEmbeddings:  18%|█▊        | 9/50 [00:16<00:47,  1.16s/it]\u001b[A\n",
      "OllamaEmbeddings:  20%|██        | 10/50 [00:16<00:37,  1.08it/s]\u001b[A\n",
      "OllamaEmbeddings:  22%|██▏       | 11/50 [00:17<00:42,  1.10s/it]\u001b[A\n",
      "OllamaEmbeddings:  24%|██▍       | 12/50 [00:19<00:44,  1.16s/it]\u001b[A\n",
      "OllamaEmbeddings:  26%|██▌       | 13/50 [00:20<00:40,  1.10s/it]\u001b[A\n",
      "OllamaEmbeddings:  28%|██▊       | 14/50 [00:21<00:37,  1.04s/it]\u001b[A\n",
      "OllamaEmbeddings:  30%|███       | 15/50 [00:21<00:34,  1.03it/s]\u001b[A\n",
      "OllamaEmbeddings:  32%|███▏      | 16/50 [00:23<00:34,  1.02s/it]\u001b[A\n",
      "OllamaEmbeddings:  34%|███▍      | 17/50 [00:23<00:30,  1.07it/s]\u001b[A\n",
      "OllamaEmbeddings:  36%|███▌      | 18/50 [00:24<00:29,  1.07it/s]\u001b[A\n",
      "OllamaEmbeddings:  38%|███▊      | 19/50 [00:25<00:30,  1.02it/s]\u001b[A\n",
      "OllamaEmbeddings:  40%|████      | 20/50 [00:26<00:29,  1.01it/s]\u001b[A\n",
      "OllamaEmbeddings:  42%|████▏     | 21/50 [00:27<00:22,  1.28it/s]\u001b[A\n",
      "OllamaEmbeddings:  44%|████▍     | 22/50 [00:28<00:23,  1.17it/s]\u001b[A\n",
      "OllamaEmbeddings:  46%|████▌     | 23/50 [00:29<00:24,  1.09it/s]\u001b[A\n",
      "OllamaEmbeddings:  48%|████▊     | 24/50 [00:30<00:23,  1.10it/s]\u001b[A\n",
      "OllamaEmbeddings:  50%|█████     | 25/50 [00:30<00:20,  1.24it/s]\u001b[A\n",
      "OllamaEmbeddings:  52%|█████▏    | 26/50 [00:30<00:15,  1.60it/s]\u001b[A\n",
      "OllamaEmbeddings:  54%|█████▍    | 27/50 [00:31<00:15,  1.45it/s]\u001b[A\n",
      "OllamaEmbeddings:  56%|█████▌    | 28/50 [00:32<00:17,  1.29it/s]\u001b[A\n",
      "OllamaEmbeddings:  58%|█████▊    | 29/50 [00:33<00:17,  1.22it/s]\u001b[A\n",
      "OllamaEmbeddings:  60%|██████    | 30/50 [00:33<00:12,  1.55it/s]\u001b[A\n",
      "OllamaEmbeddings:  62%|██████▏   | 31/50 [00:34<00:13,  1.39it/s]\u001b[A\n",
      "OllamaEmbeddings:  64%|██████▍   | 32/50 [00:35<00:13,  1.29it/s]\u001b[A\n",
      "OllamaEmbeddings:  66%|██████▌   | 33/50 [00:36<00:12,  1.34it/s]\u001b[A\n",
      "OllamaEmbeddings:  68%|██████▊   | 34/50 [00:37<00:12,  1.23it/s]\u001b[A\n",
      "OllamaEmbeddings:  70%|███████   | 35/50 [00:37<00:09,  1.51it/s]\u001b[A\n",
      "OllamaEmbeddings:  72%|███████▏  | 36/50 [00:38<00:10,  1.34it/s]\u001b[A\n",
      "OllamaEmbeddings:  74%|███████▍  | 37/50 [00:39<00:10,  1.27it/s]\u001b[A\n",
      "OllamaEmbeddings:  76%|███████▌  | 38/50 [00:39<00:07,  1.57it/s]\u001b[A\n",
      "OllamaEmbeddings:  78%|███████▊  | 39/50 [00:40<00:08,  1.37it/s]\u001b[A\n",
      "OllamaEmbeddings:  80%|████████  | 40/50 [00:41<00:06,  1.60it/s]\u001b[A\n",
      "OllamaEmbeddings:  82%|████████▏ | 41/50 [00:42<00:07,  1.23it/s]\u001b[A\n",
      "OllamaEmbeddings:  84%|████████▍ | 42/50 [00:43<00:07,  1.12it/s]\u001b[A\n",
      "OllamaEmbeddings:  86%|████████▌ | 43/50 [00:44<00:06,  1.15it/s]\u001b[A\n",
      "OllamaEmbeddings:  88%|████████▊ | 44/50 [00:45<00:05,  1.05it/s]\u001b[A\n",
      "OllamaEmbeddings:  90%|█████████ | 45/50 [00:46<00:04,  1.02it/s]\u001b[A\n",
      "OllamaEmbeddings:  92%|█████████▏| 46/50 [00:47<00:03,  1.11it/s]\u001b[A\n",
      "OllamaEmbeddings:  94%|█████████▍| 47/50 [00:48<00:02,  1.08it/s]\u001b[A\n",
      "OllamaEmbeddings:  96%|█████████▌| 48/50 [00:49<00:01,  1.07it/s]\u001b[A\n",
      "OllamaEmbeddings:  98%|█████████▊| 49/50 [00:49<00:00,  1.09it/s]\u001b[A\n",
      "OllamaEmbeddings: 100%|██████████| 50/50 [00:50<00:00,  1.02s/it]\u001b[A\n",
      "\n",
      "OllamaEmbeddings:   0%|          | 0/50 [00:00<?, ?it/s]\u001b[A\n",
      "OllamaEmbeddings:   2%|▏         | 1/50 [00:00<00:44,  1.11it/s]\u001b[A\n",
      "OllamaEmbeddings:   4%|▍         | 2/50 [00:01<00:29,  1.64it/s]\u001b[A\n",
      "OllamaEmbeddings:   6%|▌         | 3/50 [00:02<00:35,  1.32it/s]\u001b[A\n",
      "OllamaEmbeddings:   8%|▊         | 4/50 [00:03<00:40,  1.12it/s]\u001b[A\n",
      "OllamaEmbeddings:  10%|█         | 5/50 [00:04<00:39,  1.13it/s]\u001b[A\n",
      "OllamaEmbeddings:  12%|█▏        | 6/50 [00:05<00:47,  1.07s/it]\u001b[A\n",
      "OllamaEmbeddings:  14%|█▍        | 7/50 [00:06<00:48,  1.14s/it]\u001b[A\n",
      "OllamaEmbeddings:  16%|█▌        | 8/50 [00:08<00:48,  1.15s/it]\u001b[A\n",
      "OllamaEmbeddings:  18%|█▊        | 9/50 [00:09<00:48,  1.19s/it]\u001b[A\n",
      "OllamaEmbeddings:  20%|██        | 10/50 [00:10<00:47,  1.18s/it]\u001b[A\n",
      "OllamaEmbeddings:  22%|██▏       | 11/50 [00:11<00:45,  1.18s/it]\u001b[A\n",
      "OllamaEmbeddings:  24%|██▍       | 12/50 [00:12<00:42,  1.12s/it]\u001b[A\n",
      "OllamaEmbeddings:  26%|██▌       | 13/50 [00:13<00:39,  1.07s/it]\u001b[A\n",
      "OllamaEmbeddings:  28%|██▊       | 14/50 [00:14<00:37,  1.04s/it]\u001b[A\n",
      "OllamaEmbeddings:  30%|███       | 15/50 [00:15<00:33,  1.03it/s]\u001b[A\n",
      "OllamaEmbeddings:  32%|███▏      | 16/50 [00:16<00:32,  1.03it/s]\u001b[A\n",
      "OllamaEmbeddings:  34%|███▍      | 17/50 [00:17<00:32,  1.01it/s]\u001b[A\n",
      "OllamaEmbeddings:  36%|███▌      | 18/50 [00:18<00:30,  1.05it/s]\u001b[A\n",
      "OllamaEmbeddings:  38%|███▊      | 19/50 [00:19<00:29,  1.05it/s]\u001b[A\n",
      "OllamaEmbeddings:  40%|████      | 20/50 [00:19<00:26,  1.13it/s]\u001b[A\n",
      "OllamaEmbeddings:  42%|████▏     | 21/50 [00:20<00:25,  1.13it/s]\u001b[A\n",
      "OllamaEmbeddings:  44%|████▍     | 22/50 [00:21<00:24,  1.16it/s]\u001b[A\n",
      "OllamaEmbeddings:  46%|████▌     | 23/50 [00:22<00:20,  1.31it/s]\u001b[A\n",
      "OllamaEmbeddings:  48%|████▊     | 24/50 [00:23<00:21,  1.19it/s]\u001b[A\n",
      "OllamaEmbeddings:  50%|█████     | 25/50 [00:24<00:24,  1.04it/s]\u001b[A\n",
      "OllamaEmbeddings:  52%|█████▏    | 26/50 [00:25<00:24,  1.00s/it]\u001b[A\n",
      "OllamaEmbeddings:  54%|█████▍    | 27/50 [00:27<00:27,  1.19s/it]\u001b[A\n",
      "OllamaEmbeddings:  56%|█████▌    | 28/50 [00:28<00:25,  1.18s/it]\u001b[A\n",
      "OllamaEmbeddings:  58%|█████▊    | 29/50 [00:28<00:21,  1.00s/it]\u001b[A\n",
      "OllamaEmbeddings:  60%|██████    | 30/50 [00:29<00:18,  1.06it/s]\u001b[A\n",
      "OllamaEmbeddings:  62%|██████▏   | 31/50 [00:30<00:17,  1.09it/s]\u001b[A\n",
      "OllamaEmbeddings:  64%|██████▍   | 32/50 [00:31<00:15,  1.14it/s]\u001b[A\n",
      "OllamaEmbeddings:  66%|██████▌   | 33/50 [00:32<00:14,  1.16it/s]\u001b[A\n",
      "OllamaEmbeddings:  68%|██████▊   | 34/50 [00:32<00:13,  1.19it/s]\u001b[A\n",
      "OllamaEmbeddings:  70%|███████   | 35/50 [00:33<00:11,  1.32it/s]\u001b[A\n",
      "OllamaEmbeddings:  72%|███████▏  | 36/50 [00:34<00:10,  1.29it/s]\u001b[A\n",
      "OllamaEmbeddings:  74%|███████▍  | 37/50 [00:35<00:10,  1.24it/s]\u001b[A\n",
      "OllamaEmbeddings:  76%|███████▌  | 38/50 [00:35<00:09,  1.32it/s]\u001b[A\n",
      "OllamaEmbeddings:  78%|███████▊  | 39/50 [00:36<00:08,  1.31it/s]\u001b[A\n",
      "OllamaEmbeddings:  80%|████████  | 40/50 [00:37<00:07,  1.33it/s]\u001b[A\n",
      "OllamaEmbeddings:  82%|████████▏ | 41/50 [00:38<00:06,  1.35it/s]\u001b[A\n",
      "OllamaEmbeddings:  84%|████████▍ | 42/50 [00:39<00:06,  1.17it/s]\u001b[A\n",
      "OllamaEmbeddings:  86%|████████▌ | 43/50 [00:40<00:06,  1.06it/s]\u001b[A\n",
      "OllamaEmbeddings:  88%|████████▊ | 44/50 [00:41<00:05,  1.11it/s]\u001b[A\n",
      "OllamaEmbeddings:  90%|█████████ | 45/50 [00:42<00:04,  1.00it/s]\u001b[A\n",
      "OllamaEmbeddings:  92%|█████████▏| 46/50 [00:43<00:04,  1.07s/it]\u001b[A\n",
      "OllamaEmbeddings:  94%|█████████▍| 47/50 [00:44<00:02,  1.12it/s]\u001b[A\n",
      "OllamaEmbeddings:  96%|█████████▌| 48/50 [00:45<00:01,  1.06it/s]\u001b[A\n",
      "OllamaEmbeddings:  98%|█████████▊| 49/50 [00:46<00:00,  1.01it/s]\u001b[A\n",
      "OllamaEmbeddings: 100%|██████████| 50/50 [00:47<00:00,  1.06it/s]\u001b[A\n",
      "\n",
      "OllamaEmbeddings:   0%|          | 0/50 [00:00<?, ?it/s]\u001b[A\n",
      "OllamaEmbeddings:   2%|▏         | 1/50 [00:01<01:17,  1.58s/it]\u001b[A\n",
      "OllamaEmbeddings:   4%|▍         | 2/50 [00:03<01:14,  1.56s/it]\u001b[A\n",
      "OllamaEmbeddings:   6%|▌         | 3/50 [00:03<00:48,  1.03s/it]\u001b[A\n",
      "OllamaEmbeddings:   8%|▊         | 4/50 [00:05<00:56,  1.22s/it]\u001b[A\n",
      "OllamaEmbeddings:  10%|█         | 5/50 [00:05<00:45,  1.02s/it]\u001b[A\n",
      "OllamaEmbeddings:  12%|█▏        | 6/50 [00:07<00:50,  1.14s/it]\u001b[A\n",
      "OllamaEmbeddings:  14%|█▍        | 7/50 [00:08<00:57,  1.34s/it]\u001b[A\n",
      "OllamaEmbeddings:  16%|█▌        | 8/50 [00:09<00:48,  1.14s/it]\u001b[A\n",
      "OllamaEmbeddings:  18%|█▊        | 9/50 [00:11<00:51,  1.26s/it]\u001b[A\n",
      "OllamaEmbeddings:  20%|██        | 10/50 [00:11<00:46,  1.16s/it]\u001b[A\n",
      "OllamaEmbeddings:  22%|██▏       | 11/50 [00:12<00:41,  1.06s/it]\u001b[A\n",
      "OllamaEmbeddings:  24%|██▍       | 12/50 [00:13<00:34,  1.10it/s]\u001b[A\n",
      "OllamaEmbeddings:  26%|██▌       | 13/50 [00:14<00:32,  1.14it/s]\u001b[A\n",
      "OllamaEmbeddings:  28%|██▊       | 14/50 [00:14<00:30,  1.18it/s]\u001b[A\n",
      "OllamaEmbeddings:  30%|███       | 15/50 [00:15<00:30,  1.14it/s]\u001b[A\n",
      "OllamaEmbeddings:  32%|███▏      | 16/50 [00:16<00:31,  1.07it/s]\u001b[A\n",
      "OllamaEmbeddings:  34%|███▍      | 17/50 [00:18<00:32,  1.03it/s]\u001b[A\n",
      "OllamaEmbeddings:  36%|███▌      | 18/50 [00:19<00:31,  1.00it/s]\u001b[A\n",
      "OllamaEmbeddings:  38%|███▊      | 19/50 [00:20<00:33,  1.09s/it]\u001b[A\n",
      "OllamaEmbeddings:  40%|████      | 20/50 [00:21<00:30,  1.01s/it]\u001b[A\n",
      "OllamaEmbeddings:  42%|████▏     | 21/50 [00:21<00:26,  1.08it/s]\u001b[A\n",
      "OllamaEmbeddings:  44%|████▍     | 22/50 [00:23<00:27,  1.02it/s]\u001b[A\n",
      "OllamaEmbeddings:  46%|████▌     | 23/50 [00:24<00:26,  1.01it/s]\u001b[A\n",
      "OllamaEmbeddings:  48%|████▊     | 24/50 [00:25<00:26,  1.01s/it]\u001b[A\n",
      "OllamaEmbeddings:  50%|█████     | 25/50 [00:25<00:21,  1.14it/s]\u001b[A\n",
      "OllamaEmbeddings:  52%|█████▏    | 26/50 [00:26<00:23,  1.01it/s]\u001b[A\n",
      "OllamaEmbeddings:  54%|█████▍    | 27/50 [00:27<00:22,  1.01it/s]\u001b[A\n",
      "OllamaEmbeddings:  56%|█████▌    | 28/50 [00:28<00:21,  1.01it/s]\u001b[A\n",
      "OllamaEmbeddings:  58%|█████▊    | 29/50 [00:29<00:20,  1.04it/s]\u001b[A\n",
      "OllamaEmbeddings:  60%|██████    | 30/50 [00:30<00:15,  1.30it/s]\u001b[A\n",
      "OllamaEmbeddings:  62%|██████▏   | 31/50 [00:31<00:15,  1.24it/s]\u001b[A\n",
      "OllamaEmbeddings:  64%|██████▍   | 32/50 [00:31<00:15,  1.18it/s]\u001b[A\n",
      "OllamaEmbeddings:  66%|██████▌   | 33/50 [00:33<00:15,  1.11it/s]\u001b[A\n",
      "OllamaEmbeddings:  68%|██████▊   | 34/50 [00:33<00:14,  1.14it/s]\u001b[A\n",
      "OllamaEmbeddings:  70%|███████   | 35/50 [00:34<00:10,  1.41it/s]\u001b[A\n",
      "OllamaEmbeddings:  72%|███████▏  | 36/50 [00:34<00:10,  1.38it/s]\u001b[A\n",
      "OllamaEmbeddings:  74%|███████▍  | 37/50 [00:35<00:09,  1.32it/s]\u001b[A\n",
      "OllamaEmbeddings:  76%|███████▌  | 38/50 [00:36<00:09,  1.21it/s]\u001b[A\n",
      "OllamaEmbeddings:  78%|███████▊  | 39/50 [00:38<00:10,  1.02it/s]\u001b[A\n",
      "OllamaEmbeddings:  80%|████████  | 40/50 [00:39<00:10,  1.02s/it]\u001b[A\n",
      "OllamaEmbeddings:  82%|████████▏ | 41/50 [00:40<00:09,  1.08s/it]\u001b[A\n",
      "OllamaEmbeddings:  84%|████████▍ | 42/50 [00:41<00:08,  1.04s/it]\u001b[A\n",
      "OllamaEmbeddings:  86%|████████▌ | 43/50 [00:42<00:07,  1.03s/it]\u001b[A\n",
      "OllamaEmbeddings:  88%|████████▊ | 44/50 [00:42<00:05,  1.20it/s]\u001b[A\n",
      "OllamaEmbeddings:  90%|█████████ | 45/50 [00:43<00:04,  1.14it/s]\u001b[A\n",
      "OllamaEmbeddings:  92%|█████████▏| 46/50 [00:44<00:03,  1.10it/s]\u001b[A\n",
      "OllamaEmbeddings:  94%|█████████▍| 47/50 [00:45<00:02,  1.13it/s]\u001b[A\n",
      "OllamaEmbeddings:  96%|█████████▌| 48/50 [00:46<00:01,  1.21it/s]\u001b[A\n",
      "OllamaEmbeddings:  98%|█████████▊| 49/50 [00:47<00:00,  1.11it/s]\u001b[A\n",
      "OllamaEmbeddings: 100%|██████████| 50/50 [00:48<00:00,  1.03it/s]\u001b[A\n",
      "\n",
      "OllamaEmbeddings:   0%|          | 0/50 [00:00<?, ?it/s]\u001b[A\n",
      "OllamaEmbeddings:   2%|▏         | 1/50 [00:00<00:42,  1.15it/s]\u001b[A\n",
      "OllamaEmbeddings:   4%|▍         | 2/50 [00:01<00:36,  1.31it/s]\u001b[A\n",
      "OllamaEmbeddings:   6%|▌         | 3/50 [00:02<00:35,  1.34it/s]\u001b[A\n",
      "OllamaEmbeddings:   8%|▊         | 4/50 [00:03<00:34,  1.35it/s]\u001b[A\n",
      "OllamaEmbeddings:  10%|█         | 5/50 [00:03<00:34,  1.30it/s]\u001b[A\n",
      "OllamaEmbeddings:  12%|█▏        | 6/50 [00:04<00:36,  1.22it/s]\u001b[A\n",
      "OllamaEmbeddings:  14%|█▍        | 7/50 [00:05<00:38,  1.13it/s]\u001b[A\n",
      "OllamaEmbeddings:  16%|█▌        | 8/50 [00:06<00:36,  1.15it/s]\u001b[A\n",
      "OllamaEmbeddings:  18%|█▊        | 9/50 [00:07<00:37,  1.09it/s]\u001b[A\n",
      "OllamaEmbeddings:  20%|██        | 10/50 [00:08<00:36,  1.10it/s]\u001b[A\n",
      "OllamaEmbeddings:  22%|██▏       | 11/50 [00:09<00:37,  1.04it/s]\u001b[A\n",
      "OllamaEmbeddings:  24%|██▍       | 12/50 [00:10<00:37,  1.00it/s]\u001b[A\n",
      "OllamaEmbeddings:  26%|██▌       | 13/50 [00:11<00:36,  1.03it/s]\u001b[A\n",
      "OllamaEmbeddings:  28%|██▊       | 14/50 [00:12<00:28,  1.25it/s]\u001b[A\n",
      "OllamaEmbeddings:  30%|███       | 15/50 [00:12<00:27,  1.27it/s]\u001b[A\n",
      "OllamaEmbeddings:  32%|███▏      | 16/50 [00:13<00:27,  1.22it/s]\u001b[A\n",
      "OllamaEmbeddings:  34%|███▍      | 17/50 [00:14<00:26,  1.23it/s]\u001b[A\n",
      "OllamaEmbeddings:  36%|███▌      | 18/50 [00:15<00:26,  1.20it/s]\u001b[A\n",
      "OllamaEmbeddings:  38%|███▊      | 19/50 [00:15<00:21,  1.47it/s]\u001b[A\n",
      "OllamaEmbeddings:  40%|████      | 20/50 [00:16<00:22,  1.33it/s]\u001b[A\n",
      "OllamaEmbeddings:  42%|████▏     | 21/50 [00:17<00:22,  1.30it/s]\u001b[A\n",
      "OllamaEmbeddings:  44%|████▍     | 22/50 [00:18<00:22,  1.23it/s]\u001b[A\n",
      "OllamaEmbeddings:  46%|████▌     | 23/50 [00:19<00:23,  1.16it/s]\u001b[A\n",
      "OllamaEmbeddings:  48%|████▊     | 24/50 [00:19<00:18,  1.44it/s]\u001b[A\n",
      "OllamaEmbeddings:  50%|█████     | 25/50 [00:20<00:17,  1.39it/s]\u001b[A\n",
      "OllamaEmbeddings:  52%|█████▏    | 26/50 [00:21<00:18,  1.33it/s]\u001b[A\n",
      "OllamaEmbeddings:  54%|█████▍    | 27/50 [00:22<00:18,  1.25it/s]\u001b[A\n",
      "OllamaEmbeddings:  56%|█████▌    | 28/50 [00:22<00:17,  1.24it/s]\u001b[A\n",
      "OllamaEmbeddings:  58%|█████▊    | 29/50 [00:23<00:17,  1.18it/s]\u001b[A\n",
      "OllamaEmbeddings:  60%|██████    | 30/50 [00:24<00:14,  1.39it/s]\u001b[A\n",
      "OllamaEmbeddings:  62%|██████▏   | 31/50 [00:25<00:14,  1.28it/s]\u001b[A\n",
      "OllamaEmbeddings:  64%|██████▍   | 32/50 [00:26<00:15,  1.17it/s]\u001b[A\n",
      "OllamaEmbeddings:  66%|██████▌   | 33/50 [00:27<00:15,  1.10it/s]\u001b[A\n",
      "OllamaEmbeddings:  68%|██████▊   | 34/50 [00:28<00:14,  1.11it/s]\u001b[A\n",
      "OllamaEmbeddings:  70%|███████   | 35/50 [00:29<00:13,  1.08it/s]\u001b[A\n",
      "OllamaEmbeddings:  72%|███████▏  | 36/50 [00:29<00:12,  1.10it/s]\u001b[A\n",
      "OllamaEmbeddings:  74%|███████▍  | 37/50 [00:30<00:09,  1.35it/s]\u001b[A\n",
      "OllamaEmbeddings:  76%|███████▌  | 38/50 [00:31<00:09,  1.23it/s]\u001b[A\n",
      "OllamaEmbeddings:  78%|███████▊  | 39/50 [00:32<00:09,  1.12it/s]\u001b[A\n",
      "OllamaEmbeddings:  80%|████████  | 40/50 [00:33<00:09,  1.07it/s]\u001b[A\n",
      "OllamaEmbeddings:  82%|████████▏ | 41/50 [00:34<00:07,  1.15it/s]\u001b[A\n",
      "OllamaEmbeddings:  84%|████████▍ | 42/50 [00:34<00:06,  1.17it/s]\u001b[A\n",
      "OllamaEmbeddings:  86%|████████▌ | 43/50 [00:35<00:05,  1.20it/s]\u001b[A\n",
      "OllamaEmbeddings:  88%|████████▊ | 44/50 [00:36<00:05,  1.18it/s]\u001b[A\n",
      "OllamaEmbeddings:  90%|█████████ | 45/50 [00:37<00:04,  1.21it/s]\u001b[A\n",
      "OllamaEmbeddings:  92%|█████████▏| 46/50 [00:38<00:03,  1.17it/s]\u001b[A\n",
      "OllamaEmbeddings:  94%|█████████▍| 47/50 [00:39<00:02,  1.26it/s]\u001b[A\n",
      "OllamaEmbeddings:  96%|█████████▌| 48/50 [00:40<00:01,  1.14it/s]\u001b[A\n",
      "OllamaEmbeddings:  98%|█████████▊| 49/50 [00:40<00:00,  1.15it/s]\u001b[A\n",
      "OllamaEmbeddings: 100%|██████████| 50/50 [00:41<00:00,  1.19it/s]\u001b[A\n",
      "\n",
      "OllamaEmbeddings:   0%|          | 0/50 [00:00<?, ?it/s]\u001b[A\n",
      "OllamaEmbeddings:   2%|▏         | 1/50 [00:01<00:49,  1.02s/it]\u001b[A\n",
      "OllamaEmbeddings:   4%|▍         | 2/50 [00:02<00:49,  1.03s/it]\u001b[A\n",
      "OllamaEmbeddings:   6%|▌         | 3/50 [00:02<00:42,  1.11it/s]\u001b[A\n",
      "OllamaEmbeddings:   8%|▊         | 4/50 [00:03<00:41,  1.12it/s]\u001b[A\n",
      "OllamaEmbeddings:  10%|█         | 5/50 [00:04<00:36,  1.22it/s]\u001b[A\n",
      "OllamaEmbeddings:  12%|█▏        | 6/50 [00:05<00:36,  1.21it/s]\u001b[A\n",
      "OllamaEmbeddings:  14%|█▍        | 7/50 [00:06<00:37,  1.14it/s]\u001b[A\n",
      "OllamaEmbeddings:  16%|█▌        | 8/50 [00:07<00:46,  1.10s/it]\u001b[A\n",
      "OllamaEmbeddings:  18%|█▊        | 9/50 [00:09<00:46,  1.14s/it]\u001b[A\n",
      "OllamaEmbeddings:  20%|██        | 10/50 [00:10<00:46,  1.15s/it]\u001b[A\n",
      "OllamaEmbeddings:  22%|██▏       | 11/50 [00:11<00:42,  1.10s/it]\u001b[A\n",
      "OllamaEmbeddings:  24%|██▍       | 12/50 [00:11<00:33,  1.15it/s]\u001b[A\n",
      "OllamaEmbeddings:  26%|██▌       | 13/50 [00:12<00:34,  1.08it/s]\u001b[A\n",
      "OllamaEmbeddings:  28%|██▊       | 14/50 [00:13<00:35,  1.00it/s]\u001b[A\n",
      "OllamaEmbeddings:  30%|███       | 15/50 [00:14<00:30,  1.14it/s]\u001b[A\n",
      "OllamaEmbeddings:  32%|███▏      | 16/50 [00:15<00:31,  1.10it/s]\u001b[A\n",
      "OllamaEmbeddings:  34%|███▍      | 17/50 [00:15<00:25,  1.29it/s]\u001b[A\n",
      "OllamaEmbeddings:  36%|███▌      | 18/50 [00:16<00:20,  1.58it/s]\u001b[A\n",
      "OllamaEmbeddings:  38%|███▊      | 19/50 [00:17<00:22,  1.35it/s]\u001b[A\n",
      "OllamaEmbeddings:  40%|████      | 20/50 [00:18<00:25,  1.18it/s]\u001b[A\n",
      "OllamaEmbeddings:  42%|████▏     | 21/50 [00:19<00:27,  1.06it/s]\u001b[A\n",
      "OllamaEmbeddings:  44%|████▍     | 22/50 [00:20<00:25,  1.09it/s]\u001b[A\n",
      "OllamaEmbeddings:  46%|████▌     | 23/50 [00:21<00:24,  1.11it/s]\u001b[A\n",
      "OllamaEmbeddings:  48%|████▊     | 24/50 [00:21<00:22,  1.15it/s]\u001b[A\n",
      "OllamaEmbeddings:  50%|█████     | 25/50 [00:22<00:18,  1.38it/s]\u001b[A\n",
      "OllamaEmbeddings:  52%|█████▏    | 26/50 [00:23<00:18,  1.32it/s]\u001b[A\n",
      "OllamaEmbeddings:  54%|█████▍    | 27/50 [00:23<00:16,  1.42it/s]\u001b[A\n",
      "OllamaEmbeddings:  56%|█████▌    | 28/50 [00:24<00:16,  1.30it/s]\u001b[A\n",
      "OllamaEmbeddings:  58%|█████▊    | 29/50 [00:25<00:14,  1.45it/s]\u001b[A\n",
      "OllamaEmbeddings:  60%|██████    | 30/50 [00:25<00:14,  1.37it/s]\u001b[A\n",
      "OllamaEmbeddings:  62%|██████▏   | 31/50 [00:26<00:12,  1.50it/s]\u001b[A\n",
      "OllamaEmbeddings:  64%|██████▍   | 32/50 [00:27<00:13,  1.32it/s]\u001b[A\n",
      "OllamaEmbeddings:  66%|██████▌   | 33/50 [00:28<00:12,  1.32it/s]\u001b[A\n",
      "OllamaEmbeddings:  68%|██████▊   | 34/50 [00:29<00:12,  1.24it/s]\u001b[A\n",
      "OllamaEmbeddings:  70%|███████   | 35/50 [00:29<00:11,  1.32it/s]\u001b[A\n",
      "OllamaEmbeddings:  72%|███████▏  | 36/50 [00:30<00:11,  1.18it/s]\u001b[A\n",
      "OllamaEmbeddings:  74%|███████▍  | 37/50 [00:31<00:11,  1.13it/s]\u001b[A\n",
      "OllamaEmbeddings:  76%|███████▌  | 38/50 [00:32<00:11,  1.09it/s]\u001b[A\n",
      "OllamaEmbeddings:  78%|███████▊  | 39/50 [00:33<00:10,  1.09it/s]\u001b[A\n",
      "OllamaEmbeddings:  80%|████████  | 40/50 [00:34<00:08,  1.15it/s]\u001b[A\n",
      "OllamaEmbeddings:  82%|████████▏ | 41/50 [00:35<00:07,  1.26it/s]\u001b[A\n",
      "OllamaEmbeddings:  84%|████████▍ | 42/50 [00:35<00:06,  1.30it/s]\u001b[A\n",
      "OllamaEmbeddings:  86%|████████▌ | 43/50 [00:36<00:04,  1.44it/s]\u001b[A\n",
      "OllamaEmbeddings:  88%|████████▊ | 44/50 [00:37<00:04,  1.39it/s]\u001b[A\n",
      "OllamaEmbeddings:  90%|█████████ | 45/50 [00:37<00:03,  1.35it/s]\u001b[A\n",
      "OllamaEmbeddings:  92%|█████████▏| 46/50 [00:38<00:02,  1.34it/s]\u001b[A\n",
      "OllamaEmbeddings:  94%|█████████▍| 47/50 [00:39<00:01,  1.53it/s]\u001b[A\n",
      "OllamaEmbeddings:  96%|█████████▌| 48/50 [00:39<00:01,  1.40it/s]\u001b[A\n",
      "OllamaEmbeddings:  98%|█████████▊| 49/50 [00:40<00:00,  1.30it/s]\u001b[A\n",
      "OllamaEmbeddings: 100%|██████████| 50/50 [00:41<00:00,  1.20it/s]\u001b[A\n",
      "\n",
      "OllamaEmbeddings:   0%|          | 0/50 [00:00<?, ?it/s]\u001b[A\n",
      "OllamaEmbeddings:   2%|▏         | 1/50 [00:00<00:33,  1.46it/s]\u001b[A\n",
      "OllamaEmbeddings:   4%|▍         | 2/50 [00:01<00:33,  1.42it/s]\u001b[A\n",
      "OllamaEmbeddings:   6%|▌         | 3/50 [00:02<00:34,  1.34it/s]\u001b[A\n",
      "OllamaEmbeddings:   8%|▊         | 4/50 [00:02<00:34,  1.32it/s]\u001b[A\n",
      "OllamaEmbeddings:  10%|█         | 5/50 [00:03<00:37,  1.19it/s]\u001b[A\n",
      "OllamaEmbeddings:  12%|█▏        | 6/50 [00:05<00:44,  1.01s/it]\u001b[A\n",
      "OllamaEmbeddings:  14%|█▍        | 7/50 [00:06<00:47,  1.10s/it]\u001b[A\n",
      "OllamaEmbeddings:  16%|█▌        | 8/50 [00:07<00:46,  1.11s/it]\u001b[A\n",
      "OllamaEmbeddings:  18%|█▊        | 9/50 [00:08<00:45,  1.11s/it]\u001b[A\n",
      "OllamaEmbeddings:  20%|██        | 10/50 [00:10<00:50,  1.26s/it]\u001b[A\n",
      "OllamaEmbeddings:  22%|██▏       | 11/50 [00:10<00:41,  1.06s/it]\u001b[A\n",
      "OllamaEmbeddings:  24%|██▍       | 12/50 [00:11<00:37,  1.02it/s]\u001b[A\n",
      "OllamaEmbeddings:  26%|██▌       | 13/50 [00:12<00:31,  1.17it/s]\u001b[A\n",
      "OllamaEmbeddings:  28%|██▊       | 14/50 [00:13<00:35,  1.02it/s]\u001b[A\n",
      "OllamaEmbeddings:  30%|███       | 15/50 [00:14<00:32,  1.09it/s]\u001b[A\n",
      "OllamaEmbeddings:  32%|███▏      | 16/50 [00:15<00:31,  1.10it/s]\u001b[A\n",
      "OllamaEmbeddings:  34%|███▍      | 17/50 [00:15<00:26,  1.27it/s]\u001b[A\n",
      "OllamaEmbeddings:  36%|███▌      | 18/50 [00:16<00:27,  1.15it/s]\u001b[A\n",
      "OllamaEmbeddings:  38%|███▊      | 19/50 [00:17<00:27,  1.12it/s]\u001b[A\n",
      "OllamaEmbeddings:  40%|████      | 20/50 [00:18<00:21,  1.39it/s]\u001b[A\n",
      "OllamaEmbeddings:  42%|████▏     | 21/50 [00:18<00:22,  1.31it/s]\u001b[A\n",
      "OllamaEmbeddings:  44%|████▍     | 22/50 [00:19<00:22,  1.22it/s]\u001b[A\n",
      "OllamaEmbeddings:  46%|████▌     | 23/50 [00:20<00:23,  1.16it/s]\u001b[A\n",
      "OllamaEmbeddings:  48%|████▊     | 24/50 [00:21<00:22,  1.16it/s]\u001b[A\n",
      "OllamaEmbeddings:  50%|█████     | 25/50 [00:22<00:23,  1.05it/s]\u001b[A\n",
      "OllamaEmbeddings:  52%|█████▏    | 26/50 [00:23<00:22,  1.07it/s]\u001b[A\n",
      "OllamaEmbeddings:  54%|█████▍    | 27/50 [00:24<00:21,  1.06it/s]\u001b[A\n",
      "OllamaEmbeddings:  56%|█████▌    | 28/50 [00:25<00:21,  1.02it/s]\u001b[A\n",
      "OllamaEmbeddings:  58%|█████▊    | 29/50 [00:26<00:17,  1.23it/s]\u001b[A\n",
      "OllamaEmbeddings:  60%|██████    | 30/50 [00:27<00:19,  1.02it/s]\u001b[A\n",
      "OllamaEmbeddings:  62%|██████▏   | 31/50 [00:28<00:18,  1.01it/s]\u001b[A\n",
      "OllamaEmbeddings:  64%|██████▍   | 32/50 [00:29<00:18,  1.01s/it]\u001b[A\n",
      "OllamaEmbeddings:  66%|██████▌   | 33/50 [00:30<00:17,  1.03s/it]\u001b[A\n",
      "OllamaEmbeddings:  68%|██████▊   | 34/50 [00:31<00:15,  1.01it/s]\u001b[A\n",
      "OllamaEmbeddings:  70%|███████   | 35/50 [00:32<00:13,  1.09it/s]\u001b[A\n",
      "OllamaEmbeddings:  72%|███████▏  | 36/50 [00:33<00:12,  1.09it/s]\u001b[A\n",
      "OllamaEmbeddings:  74%|███████▍  | 37/50 [00:33<00:10,  1.21it/s]\u001b[A\n",
      "OllamaEmbeddings:  76%|███████▌  | 38/50 [00:34<00:09,  1.21it/s]\u001b[A\n",
      "OllamaEmbeddings:  78%|███████▊  | 39/50 [00:35<00:09,  1.16it/s]\u001b[A\n",
      "OllamaEmbeddings:  80%|████████  | 40/50 [00:36<00:09,  1.11it/s]\u001b[A\n",
      "OllamaEmbeddings:  82%|████████▏ | 41/50 [00:37<00:08,  1.07it/s]\u001b[A\n",
      "OllamaEmbeddings:  84%|████████▍ | 42/50 [00:38<00:07,  1.04it/s]\u001b[A\n",
      "OllamaEmbeddings:  86%|████████▌ | 43/50 [00:39<00:06,  1.05it/s]\u001b[A\n",
      "OllamaEmbeddings:  88%|████████▊ | 44/50 [00:40<00:05,  1.10it/s]\u001b[A\n",
      "OllamaEmbeddings:  90%|█████████ | 45/50 [00:41<00:04,  1.18it/s]\u001b[A\n",
      "OllamaEmbeddings:  92%|█████████▏| 46/50 [00:42<00:03,  1.20it/s]\u001b[A\n",
      "OllamaEmbeddings:  94%|█████████▍| 47/50 [00:42<00:02,  1.33it/s]\u001b[A\n",
      "OllamaEmbeddings:  96%|█████████▌| 48/50 [00:43<00:01,  1.33it/s]\u001b[A\n",
      "OllamaEmbeddings:  98%|█████████▊| 49/50 [00:44<00:00,  1.29it/s]\u001b[A\n",
      "OllamaEmbeddings: 100%|██████████| 50/50 [00:44<00:00,  1.13it/s]\u001b[A\n",
      "\n",
      "OllamaEmbeddings:   0%|          | 0/50 [00:00<?, ?it/s]\u001b[A\n",
      "OllamaEmbeddings:   2%|▏         | 1/50 [00:01<00:52,  1.06s/it]\u001b[A\n",
      "OllamaEmbeddings:   4%|▍         | 2/50 [00:01<00:46,  1.03it/s]\u001b[A\n",
      "OllamaEmbeddings:   6%|▌         | 3/50 [00:02<00:40,  1.15it/s]\u001b[A\n",
      "OllamaEmbeddings:   8%|▊         | 4/50 [00:03<00:36,  1.24it/s]\u001b[A\n",
      "OllamaEmbeddings:  10%|█         | 5/50 [00:04<00:36,  1.24it/s]\u001b[A\n",
      "OllamaEmbeddings:  12%|█▏        | 6/50 [00:04<00:32,  1.34it/s]\u001b[A\n",
      "OllamaEmbeddings:  14%|█▍        | 7/50 [00:05<00:32,  1.34it/s]\u001b[A\n",
      "OllamaEmbeddings:  16%|█▌        | 8/50 [00:06<00:29,  1.44it/s]\u001b[A\n",
      "OllamaEmbeddings:  18%|█▊        | 9/50 [00:07<00:32,  1.25it/s]\u001b[A\n",
      "OllamaEmbeddings:  20%|██        | 10/50 [00:08<00:32,  1.25it/s]\u001b[A\n",
      "OllamaEmbeddings:  22%|██▏       | 11/50 [00:09<00:33,  1.15it/s]\u001b[A\n",
      "OllamaEmbeddings:  24%|██▍       | 12/50 [00:09<00:32,  1.16it/s]\u001b[A\n",
      "OllamaEmbeddings:  26%|██▌       | 13/50 [00:10<00:33,  1.10it/s]\u001b[A\n",
      "OllamaEmbeddings:  28%|██▊       | 14/50 [00:11<00:31,  1.13it/s]\u001b[A\n",
      "OllamaEmbeddings:  30%|███       | 15/50 [00:12<00:31,  1.13it/s]\u001b[A\n",
      "OllamaEmbeddings:  32%|███▏      | 16/50 [00:13<00:28,  1.21it/s]\u001b[A\n",
      "OllamaEmbeddings:  34%|███▍      | 17/50 [00:14<00:26,  1.22it/s]\u001b[A\n",
      "OllamaEmbeddings:  36%|███▌      | 18/50 [00:14<00:25,  1.24it/s]\u001b[A\n",
      "OllamaEmbeddings:  38%|███▊      | 19/50 [00:15<00:24,  1.24it/s]\u001b[A\n",
      "OllamaEmbeddings:  40%|████      | 20/50 [00:16<00:21,  1.39it/s]\u001b[A\n",
      "OllamaEmbeddings:  42%|████▏     | 21/50 [00:17<00:21,  1.33it/s]\u001b[A\n",
      "OllamaEmbeddings:  44%|████▍     | 22/50 [00:17<00:21,  1.33it/s]\u001b[A\n",
      "OllamaEmbeddings:  46%|████▌     | 23/50 [00:18<00:20,  1.31it/s]\u001b[A\n",
      "OllamaEmbeddings:  48%|████▊     | 24/50 [00:19<00:21,  1.22it/s]\u001b[A\n",
      "OllamaEmbeddings:  50%|█████     | 25/50 [00:20<00:21,  1.14it/s]\u001b[A\n",
      "OllamaEmbeddings:  52%|█████▏    | 26/50 [00:21<00:20,  1.17it/s]\u001b[A\n",
      "OllamaEmbeddings:  54%|█████▍    | 27/50 [00:22<00:19,  1.19it/s]\u001b[A\n",
      "OllamaEmbeddings:  56%|█████▌    | 28/50 [00:22<00:18,  1.20it/s]\u001b[A\n",
      "OllamaEmbeddings:  58%|█████▊    | 29/50 [00:24<00:19,  1.06it/s]\u001b[A\n",
      "OllamaEmbeddings:  60%|██████    | 30/50 [00:25<00:19,  1.02it/s]\u001b[A\n",
      "OllamaEmbeddings:  62%|██████▏   | 31/50 [00:26<00:19,  1.00s/it]\u001b[A\n",
      "OllamaEmbeddings:  64%|██████▍   | 32/50 [00:27<00:17,  1.04it/s]\u001b[A\n",
      "OllamaEmbeddings:  66%|██████▌   | 33/50 [00:28<00:16,  1.04it/s]\u001b[A\n",
      "OllamaEmbeddings:  68%|██████▊   | 34/50 [00:28<00:13,  1.22it/s]\u001b[A\n",
      "OllamaEmbeddings:  70%|███████   | 35/50 [00:29<00:12,  1.20it/s]\u001b[A\n",
      "OllamaEmbeddings:  72%|███████▏  | 36/50 [00:30<00:11,  1.18it/s]\u001b[A\n",
      "OllamaEmbeddings:  74%|███████▍  | 37/50 [00:31<00:11,  1.10it/s]\u001b[A\n",
      "OllamaEmbeddings:  76%|███████▌  | 38/50 [00:32<00:11,  1.09it/s]\u001b[A\n",
      "OllamaEmbeddings:  78%|███████▊  | 39/50 [00:33<00:09,  1.12it/s]\u001b[A\n",
      "OllamaEmbeddings:  80%|████████  | 40/50 [00:33<00:07,  1.26it/s]\u001b[A\n",
      "OllamaEmbeddings:  82%|████████▏ | 41/50 [00:34<00:06,  1.29it/s]\u001b[A\n",
      "OllamaEmbeddings:  84%|████████▍ | 42/50 [00:35<00:05,  1.38it/s]\u001b[A\n",
      "OllamaEmbeddings:  86%|████████▌ | 43/50 [00:35<00:05,  1.35it/s]\u001b[A\n",
      "OllamaEmbeddings:  88%|████████▊ | 44/50 [00:36<00:04,  1.34it/s]\u001b[A\n",
      "OllamaEmbeddings:  90%|█████████ | 45/50 [00:37<00:04,  1.25it/s]\u001b[A\n",
      "OllamaEmbeddings:  92%|█████████▏| 46/50 [00:38<00:03,  1.29it/s]\u001b[A\n",
      "OllamaEmbeddings:  94%|█████████▍| 47/50 [00:39<00:02,  1.22it/s]\u001b[A\n",
      "OllamaEmbeddings:  96%|█████████▌| 48/50 [00:39<00:01,  1.33it/s]\u001b[A\n",
      "OllamaEmbeddings:  98%|█████████▊| 49/50 [00:41<00:00,  1.11it/s]\u001b[A\n",
      "OllamaEmbeddings: 100%|██████████| 50/50 [00:42<00:00,  1.18it/s]\u001b[A\n",
      "\n",
      "OllamaEmbeddings:   0%|          | 0/50 [00:00<?, ?it/s]\u001b[A\n",
      "OllamaEmbeddings:   2%|▏         | 1/50 [00:01<01:22,  1.68s/it]\u001b[A\n",
      "OllamaEmbeddings:   4%|▍         | 2/50 [00:02<01:06,  1.39s/it]\u001b[A\n",
      "OllamaEmbeddings:   6%|▌         | 3/50 [00:03<00:52,  1.13s/it]\u001b[A\n",
      "OllamaEmbeddings:   8%|▊         | 4/50 [00:04<00:43,  1.05it/s]\u001b[A\n",
      "OllamaEmbeddings:  10%|█         | 5/50 [00:05<00:41,  1.09it/s]\u001b[A\n",
      "OllamaEmbeddings:  12%|█▏        | 6/50 [00:05<00:35,  1.24it/s]\u001b[A\n",
      "OllamaEmbeddings:  14%|█▍        | 7/50 [00:06<00:36,  1.19it/s]\u001b[A\n",
      "OllamaEmbeddings:  16%|█▌        | 8/50 [00:07<00:33,  1.25it/s]\u001b[A\n",
      "OllamaEmbeddings:  18%|█▊        | 9/50 [00:08<00:34,  1.19it/s]\u001b[A\n",
      "OllamaEmbeddings:  20%|██        | 10/50 [00:08<00:30,  1.29it/s]\u001b[A\n",
      "OllamaEmbeddings:  22%|██▏       | 11/50 [00:09<00:29,  1.31it/s]\u001b[A\n",
      "OllamaEmbeddings:  24%|██▍       | 12/50 [00:10<00:30,  1.27it/s]\u001b[A\n",
      "OllamaEmbeddings:  26%|██▌       | 13/50 [00:11<00:29,  1.24it/s]\u001b[A\n",
      "OllamaEmbeddings:  28%|██▊       | 14/50 [00:12<00:26,  1.34it/s]\u001b[A\n",
      "OllamaEmbeddings:  30%|███       | 15/50 [00:12<00:27,  1.26it/s]\u001b[A\n",
      "OllamaEmbeddings:  32%|███▏      | 16/50 [00:13<00:25,  1.36it/s]\u001b[A\n",
      "OllamaEmbeddings:  34%|███▍      | 17/50 [00:14<00:26,  1.22it/s]\u001b[A\n",
      "OllamaEmbeddings:  36%|███▌      | 18/50 [00:15<00:25,  1.24it/s]\u001b[A\n",
      "OllamaEmbeddings:  38%|███▊      | 19/50 [00:16<00:26,  1.15it/s]\u001b[A\n",
      "OllamaEmbeddings:  40%|████      | 20/50 [00:17<00:25,  1.20it/s]\u001b[A\n",
      "OllamaEmbeddings:  42%|████▏     | 21/50 [00:17<00:24,  1.20it/s]\u001b[A\n",
      "OllamaEmbeddings:  44%|████▍     | 22/50 [00:18<00:22,  1.27it/s]\u001b[A\n",
      "OllamaEmbeddings:  46%|████▌     | 23/50 [00:19<00:21,  1.23it/s]\u001b[A\n",
      "OllamaEmbeddings:  48%|████▊     | 24/50 [00:20<00:20,  1.26it/s]\u001b[A\n",
      "OllamaEmbeddings:  50%|█████     | 25/50 [00:21<00:20,  1.24it/s]\u001b[A\n",
      "OllamaEmbeddings:  52%|█████▏    | 26/50 [00:21<00:18,  1.32it/s]\u001b[A\n",
      "OllamaEmbeddings:  54%|█████▍    | 27/50 [00:22<00:19,  1.21it/s]\u001b[A\n",
      "OllamaEmbeddings:  56%|█████▌    | 28/50 [00:23<00:17,  1.28it/s]\u001b[A\n",
      "OllamaEmbeddings:  58%|█████▊    | 29/50 [00:24<00:16,  1.25it/s]\u001b[A\n",
      "OllamaEmbeddings:  60%|██████    | 30/50 [00:24<00:15,  1.32it/s]\u001b[A\n",
      "OllamaEmbeddings:  62%|██████▏   | 31/50 [00:25<00:15,  1.24it/s]\u001b[A\n",
      "OllamaEmbeddings:  64%|██████▍   | 32/50 [00:26<00:13,  1.30it/s]\u001b[A\n",
      "OllamaEmbeddings:  66%|██████▌   | 33/50 [00:27<00:13,  1.27it/s]\u001b[A\n",
      "OllamaEmbeddings:  68%|██████▊   | 34/50 [00:27<00:11,  1.40it/s]\u001b[A\n",
      "OllamaEmbeddings:  70%|███████   | 35/50 [00:28<00:11,  1.32it/s]\u001b[A\n",
      "OllamaEmbeddings:  72%|███████▏  | 36/50 [00:29<00:10,  1.34it/s]\u001b[A\n",
      "OllamaEmbeddings:  74%|███████▍  | 37/50 [00:30<00:10,  1.25it/s]\u001b[A\n",
      "OllamaEmbeddings:  76%|███████▌  | 38/50 [00:31<00:09,  1.26it/s]\u001b[A\n",
      "OllamaEmbeddings:  78%|███████▊  | 39/50 [00:32<00:09,  1.16it/s]\u001b[A\n",
      "OllamaEmbeddings:  80%|████████  | 40/50 [00:32<00:08,  1.18it/s]\u001b[A\n",
      "OllamaEmbeddings:  82%|████████▏ | 41/50 [00:33<00:07,  1.18it/s]\u001b[A\n",
      "OllamaEmbeddings:  84%|████████▍ | 42/50 [00:34<00:06,  1.20it/s]\u001b[A\n",
      "OllamaEmbeddings:  86%|████████▌ | 43/50 [00:35<00:05,  1.23it/s]\u001b[A\n",
      "OllamaEmbeddings:  88%|████████▊ | 44/50 [00:36<00:04,  1.30it/s]\u001b[A\n",
      "OllamaEmbeddings:  90%|█████████ | 45/50 [00:36<00:04,  1.24it/s]\u001b[A\n",
      "OllamaEmbeddings:  92%|█████████▏| 46/50 [00:37<00:03,  1.21it/s]\u001b[A\n",
      "OllamaEmbeddings:  94%|█████████▍| 47/50 [00:38<00:02,  1.12it/s]\u001b[A\n",
      "OllamaEmbeddings:  96%|█████████▌| 48/50 [00:39<00:01,  1.17it/s]\u001b[A\n",
      "OllamaEmbeddings:  98%|█████████▊| 49/50 [00:40<00:00,  1.09it/s]\u001b[A\n",
      "OllamaEmbeddings: 100%|██████████| 50/50 [00:41<00:00,  1.21it/s]\u001b[A\n",
      "\n",
      "OllamaEmbeddings:   0%|          | 0/50 [00:00<?, ?it/s]\u001b[A\n",
      "OllamaEmbeddings:   2%|▏         | 1/50 [00:00<00:47,  1.03it/s]\u001b[A\n",
      "OllamaEmbeddings:   4%|▍         | 2/50 [00:01<00:36,  1.30it/s]\u001b[A\n",
      "OllamaEmbeddings:   6%|▌         | 3/50 [00:02<00:36,  1.28it/s]\u001b[A\n",
      "OllamaEmbeddings:   8%|▊         | 4/50 [00:03<00:35,  1.31it/s]\u001b[A\n",
      "OllamaEmbeddings:  10%|█         | 5/50 [00:04<00:41,  1.08it/s]\u001b[A\n",
      "OllamaEmbeddings:  12%|█▏        | 6/50 [00:05<00:39,  1.10it/s]\u001b[A\n",
      "OllamaEmbeddings:  14%|█▍        | 7/50 [00:06<00:40,  1.06it/s]\u001b[A\n",
      "OllamaEmbeddings:  16%|█▌        | 8/50 [00:07<00:38,  1.10it/s]\u001b[A\n",
      "OllamaEmbeddings:  18%|█▊        | 9/50 [00:08<00:37,  1.09it/s]\u001b[A\n",
      "OllamaEmbeddings:  20%|██        | 10/50 [00:08<00:30,  1.30it/s]\u001b[A\n",
      "OllamaEmbeddings:  22%|██▏       | 11/50 [00:09<00:31,  1.25it/s]\u001b[A\n",
      "OllamaEmbeddings:  24%|██▍       | 12/50 [00:10<00:29,  1.29it/s]\u001b[A\n",
      "OllamaEmbeddings:  26%|██▌       | 13/50 [00:10<00:29,  1.27it/s]\u001b[A\n",
      "OllamaEmbeddings:  28%|██▊       | 14/50 [00:11<00:28,  1.27it/s]\u001b[A\n",
      "OllamaEmbeddings:  30%|███       | 15/50 [00:12<00:26,  1.30it/s]\u001b[A\n",
      "OllamaEmbeddings:  32%|███▏      | 16/50 [00:13<00:26,  1.30it/s]\u001b[A\n",
      "OllamaEmbeddings:  34%|███▍      | 17/50 [00:14<00:26,  1.25it/s]\u001b[A\n",
      "OllamaEmbeddings:  36%|███▌      | 18/50 [00:14<00:24,  1.30it/s]\u001b[A\n",
      "OllamaEmbeddings:  38%|███▊      | 19/50 [00:15<00:23,  1.32it/s]\u001b[A\n",
      "OllamaEmbeddings:  40%|████      | 20/50 [00:16<00:23,  1.29it/s]\u001b[A\n",
      "OllamaEmbeddings:  42%|████▏     | 21/50 [00:17<00:24,  1.17it/s]\u001b[A\n",
      "OllamaEmbeddings:  44%|████▍     | 22/50 [00:18<00:26,  1.07it/s]\u001b[A\n",
      "OllamaEmbeddings:  46%|████▌     | 23/50 [00:19<00:27,  1.02s/it]\u001b[A\n",
      "OllamaEmbeddings:  48%|████▊     | 24/50 [00:20<00:25,  1.02it/s]\u001b[A\n",
      "OllamaEmbeddings:  50%|█████     | 25/50 [00:21<00:24,  1.01it/s]\u001b[A\n",
      "OllamaEmbeddings:  52%|█████▏    | 26/50 [00:22<00:24,  1.03s/it]\u001b[A\n",
      "OllamaEmbeddings:  54%|█████▍    | 27/50 [00:23<00:24,  1.07s/it]\u001b[A\n",
      "OllamaEmbeddings:  56%|█████▌    | 28/50 [00:24<00:23,  1.05s/it]\u001b[A\n",
      "OllamaEmbeddings:  58%|█████▊    | 29/50 [00:25<00:21,  1.01s/it]\u001b[A\n",
      "OllamaEmbeddings:  60%|██████    | 30/50 [00:26<00:17,  1.12it/s]\u001b[A\n",
      "OllamaEmbeddings:  62%|██████▏   | 31/50 [00:27<00:16,  1.15it/s]\u001b[A\n",
      "OllamaEmbeddings:  64%|██████▍   | 32/50 [00:27<00:14,  1.24it/s]\u001b[A\n",
      "OllamaEmbeddings:  66%|██████▌   | 33/50 [00:28<00:13,  1.28it/s]\u001b[A\n",
      "OllamaEmbeddings:  68%|██████▊   | 34/50 [00:29<00:11,  1.35it/s]\u001b[A\n",
      "OllamaEmbeddings:  70%|███████   | 35/50 [00:30<00:11,  1.29it/s]\u001b[A\n",
      "OllamaEmbeddings:  72%|███████▏  | 36/50 [00:30<00:10,  1.37it/s]\u001b[A\n",
      "OllamaEmbeddings:  74%|███████▍  | 37/50 [00:31<00:09,  1.36it/s]\u001b[A\n",
      "OllamaEmbeddings:  76%|███████▌  | 38/50 [00:31<00:08,  1.48it/s]\u001b[A\n",
      "OllamaEmbeddings:  78%|███████▊  | 39/50 [00:32<00:07,  1.38it/s]\u001b[A\n",
      "OllamaEmbeddings:  80%|████████  | 40/50 [00:33<00:06,  1.49it/s]\u001b[A\n",
      "OllamaEmbeddings:  82%|████████▏ | 41/50 [00:34<00:06,  1.44it/s]\u001b[A\n",
      "OllamaEmbeddings:  84%|████████▍ | 42/50 [00:35<00:06,  1.20it/s]\u001b[A\n",
      "OllamaEmbeddings:  86%|████████▌ | 43/50 [00:36<00:06,  1.11it/s]\u001b[A\n",
      "OllamaEmbeddings:  88%|████████▊ | 44/50 [00:37<00:05,  1.10it/s]\u001b[A\n",
      "OllamaEmbeddings:  90%|█████████ | 45/50 [00:38<00:05,  1.00s/it]\u001b[A\n",
      "OllamaEmbeddings:  92%|█████████▏| 46/50 [00:39<00:04,  1.06s/it]\u001b[A\n",
      "OllamaEmbeddings:  94%|█████████▍| 47/50 [00:40<00:03,  1.03s/it]\u001b[A\n",
      "OllamaEmbeddings:  96%|█████████▌| 48/50 [00:41<00:01,  1.07it/s]\u001b[A\n",
      "OllamaEmbeddings:  98%|█████████▊| 49/50 [00:42<00:00,  1.10it/s]\u001b[A\n",
      "OllamaEmbeddings: 100%|██████████| 50/50 [00:42<00:00,  1.16it/s]\u001b[A\n",
      "\n",
      "OllamaEmbeddings:   0%|          | 0/30 [00:00<?, ?it/s]\u001b[A\n",
      "OllamaEmbeddings:   3%|▎         | 1/30 [00:01<00:29,  1.02s/it]\u001b[A\n",
      "OllamaEmbeddings:   7%|▋         | 2/30 [00:01<00:24,  1.16it/s]\u001b[A\n",
      "OllamaEmbeddings:  10%|█         | 3/30 [00:02<00:23,  1.14it/s]\u001b[A\n",
      "OllamaEmbeddings:  13%|█▎        | 4/30 [00:03<00:22,  1.14it/s]\u001b[A\n",
      "OllamaEmbeddings:  17%|█▋        | 5/30 [00:04<00:21,  1.16it/s]\u001b[A\n",
      "OllamaEmbeddings:  20%|██        | 6/30 [00:04<00:16,  1.42it/s]\u001b[A\n",
      "OllamaEmbeddings:  23%|██▎       | 7/30 [00:05<00:18,  1.27it/s]\u001b[A\n",
      "OllamaEmbeddings:  27%|██▋       | 8/30 [00:06<00:18,  1.22it/s]\u001b[A\n",
      "OllamaEmbeddings:  30%|███       | 9/30 [00:07<00:18,  1.11it/s]\u001b[A\n",
      "OllamaEmbeddings:  33%|███▎      | 10/30 [00:09<00:20,  1.05s/it]\u001b[A\n",
      "OllamaEmbeddings:  37%|███▋      | 11/30 [00:10<00:21,  1.11s/it]\u001b[A\n",
      "OllamaEmbeddings:  40%|████      | 12/30 [00:11<00:20,  1.15s/it]\u001b[A\n",
      "OllamaEmbeddings:  43%|████▎     | 13/30 [00:11<00:15,  1.11it/s]\u001b[A\n",
      "OllamaEmbeddings:  47%|████▋     | 14/30 [00:13<00:17,  1.07s/it]\u001b[A\n",
      "OllamaEmbeddings:  50%|█████     | 15/30 [00:14<00:18,  1.20s/it]\u001b[A\n",
      "OllamaEmbeddings:  53%|█████▎    | 16/30 [00:16<00:17,  1.24s/it]\u001b[A\n",
      "OllamaEmbeddings:  57%|█████▋    | 17/30 [00:17<00:15,  1.21s/it]\u001b[A\n",
      "OllamaEmbeddings:  60%|██████    | 18/30 [00:18<00:14,  1.23s/it]\u001b[A\n",
      "OllamaEmbeddings:  63%|██████▎   | 19/30 [00:19<00:12,  1.15s/it]\u001b[A\n",
      "OllamaEmbeddings:  67%|██████▋   | 20/30 [00:21<00:13,  1.34s/it]\u001b[A\n",
      "OllamaEmbeddings:  70%|███████   | 21/30 [00:22<00:11,  1.25s/it]\u001b[A\n",
      "OllamaEmbeddings:  73%|███████▎  | 22/30 [00:23<00:09,  1.24s/it]\u001b[A\n",
      "OllamaEmbeddings:  77%|███████▋  | 23/30 [00:24<00:08,  1.21s/it]\u001b[A\n",
      "OllamaEmbeddings:  80%|████████  | 24/30 [00:25<00:07,  1.22s/it]\u001b[A\n",
      "OllamaEmbeddings:  83%|████████▎ | 25/30 [00:26<00:04,  1.06it/s]\u001b[A\n",
      "OllamaEmbeddings:  87%|████████▋ | 26/30 [00:26<00:02,  1.34it/s]\u001b[A\n",
      "OllamaEmbeddings:  90%|█████████ | 27/30 [00:27<00:02,  1.11it/s]\u001b[A\n",
      "OllamaEmbeddings:  93%|█████████▎| 28/30 [00:29<00:02,  1.01s/it]\u001b[A\n",
      "OllamaEmbeddings:  97%|█████████▋| 29/30 [00:30<00:00,  1.00it/s]\u001b[A\n",
      "OllamaEmbeddings: 100%|██████████| 30/30 [00:30<00:00,  1.03s/it]\u001b[A\n"
     ]
    }
   ],
   "source": [
    "for i in range(0, len(texts),batch_size):\n",
    "    batch_texts = texts[i:i+batch_size]\n",
    "    batch_embeddings = embedding_model.embed_documents(batch_texts)\n",
    "    documents_embeddings.extend(batch_embeddings)"
   ]
  },
  {
   "cell_type": "code",
   "execution_count": 8,
   "id": "221f1869-b6ab-407a-9438-046a0d8b80fd",
   "metadata": {},
   "outputs": [],
   "source": [
    "import numpy as np"
   ]
  },
  {
   "cell_type": "code",
   "execution_count": 9,
   "id": "2adba7f0-181c-4cc5-9c7a-db0253728656",
   "metadata": {},
   "outputs": [],
   "source": [
    "#create FAISS index and add the embeddings\n",
    "document_embeddings_np = np.array(documents_embeddings)\n",
    "dimension = document_embeddings_np.shape[1]\n",
    "faiss_index = faiss.IndexFlatL2(dimension)\n",
    "faiss_index.add(document_embeddings_np)"
   ]
  },
  {
   "cell_type": "code",
   "execution_count": 10,
   "id": "7eaba1a3-3df9-47ff-a110-7a4f9b563d35",
   "metadata": {},
   "outputs": [],
   "source": [
    "from langchain.docstore import InMemoryDocstore\n",
    "from langchain.docstore.document import Document"
   ]
  },
  {
   "cell_type": "code",
   "execution_count": 11,
   "id": "da314a3e-cd12-4760-8182-484d19b594f1",
   "metadata": {},
   "outputs": [],
   "source": [
    "docstore = InMemoryDocstore(dict(enumerate(documents)))\n",
    "index_to_docstore_id = {i: i for i in range(len(documents))}"
   ]
  },
  {
   "cell_type": "code",
   "execution_count": 12,
   "id": "de6b6942-2697-44aa-9080-f95b65fbc9ce",
   "metadata": {},
   "outputs": [],
   "source": [
    "vector_store = FAISS(embedding_model, faiss_index, docstore, index_to_docstore_id)"
   ]
  },
  {
   "cell_type": "code",
   "execution_count": 13,
   "id": "bd1f5559-f50a-4b57-b3c8-fca0d09d3c64",
   "metadata": {},
   "outputs": [],
   "source": [
    "from langchain.prompts import ChatPromptTemplate, PromptTemplate\n",
    "from langchain_core.output_parsers import StrOutputParser\n",
    "from langchain_community.chat_models import ChatOllama\n",
    "from langchain_core.runnables import RunnablePassthrough\n",
    "from langchain.retrievers.multi_query import MultiQueryRetriever\n",
    "from langchain.output_parsers.json import SimpleJsonOutputParser"
   ]
  },
  {
   "cell_type": "code",
   "execution_count": 28,
   "id": "13d24441-462b-45b5-aa1e-a6bdc8303c49",
   "metadata": {},
   "outputs": [],
   "source": [
    "# LLM from Ollama\n",
    "local_model = \"knoopx/hermes-2-pro-mistral:7b-q8_0\"\n",
    "llm = ChatOllama(model=local_model,\n",
    "                 model_kwargs={ \"response_format\": { \"type\": \"json_object\" } },\n",
    ")"
   ]
  },
  {
   "cell_type": "code",
   "execution_count": 29,
   "id": "39ab8015-311d-40dd-aee6-69c3904f22a5",
   "metadata": {},
   "outputs": [],
   "source": [
    "QUERY_PROMPT = PromptTemplate(\n",
    "    input_variables=[\"question\"],\n",
    "    template=\"\"\"Act as an advisor to a security analyst who requires precise technical answers to the provided questions from the context document which could be of the following types: SOC 2 type reports, ISO 27001 certificates, penetration test reports, privacy policies document, security policies document. Based on the given context, your task to phrase the user question in the best possible way in order to get the most accurate answer from the context document.         \n",
    "    Original question: {question}\"\"\",\n",
    ")"
   ]
  },
  {
   "cell_type": "code",
   "execution_count": 30,
   "id": "5530a3cf-62a7-433a-8e14-58c09fd8f783",
   "metadata": {},
   "outputs": [],
   "source": [
    "retriever = MultiQueryRetriever.from_llm(\n",
    "    vector_store.as_retriever(), \n",
    "    llm,\n",
    "    prompt=QUERY_PROMPT\n",
    ")\n",
    "\n",
    "# RAG prompt\n",
    "template = \"\"\"Answer the question based ONLY on the following context:\n",
    "{context}\n",
    "Question: {question}\n",
    "Your response should be concise. You must always output a JSON object with an \"answer\" key and a \"reference\" key. \n",
    "The \"answer\" key will contain your response and the \"reference\" key will contain the original text citation from the document along with the page numbers which you referred to while coming up with your response.\n",
    "Generate output or responses based on the {question} given in the format of the following examples below:-\n",
    "\n",
    "        Example document: \"Google Cloud Platform SOC type 2 Report\"\n",
    "        Example 1:-\n",
    "        question:- \"What is the password management policy in place?\"\n",
    "        response:- {'answer': 'Google personnel are required to authenticate using valid credentials before resetting their passwords. Passwords are managed according to guidelines that enforce minimum length, complexity, history, and idle time lockout setting. Password configuration requirements are enforced by internal systems. In addition to the security requirements enforced during configuration, internal passwords are subject to cryptographic hashing to mitigate the risk of unauthorized disclosure or modification. Google has also supplemented passwords with a two-factor authentication requirement for internal personnel to access sensitive internal corporate and production services and to access Google Cloud Platform in the production environment from the corporate network',\n",
    "                    'reference': 'The answer to the given question can be found on page 49 of the document. With respect to the password management policy, the provided document states under the sub-heading \"Password Guidelines\" the following: \"Google personnel are required to authenticate using valid credentials prior to resetting their password. Passwords are managed in accordance with a set of password construction, protection, and management guidelines, which enforce the following:\n",
    "                                    • Minimum length\n",
    "                                    • Complexity\n",
    "                                    • History\n",
    "                                    • Idle time lockout setting\n",
    "                                    Password configuration requirements are enforced by internal systems. In addition to the security requirements enforced during configuration, internal passwords are subject to cryptographic hashing to mitigate the risk of unauthorized disclosure or modification.\n",
    "                                    Google has supplemented passwords with a two-factor authentication requirement for internal personnel to access sensitive internal corporate and production services and to access Google Cloud Platform in the production environment from the corporate network. Two-factor authentication provides additional protection to prevent user account manipulation in case the user’s password is compromised.\n",
    "                                    Google Cloud Platform end users can also authenticate in one of three ways:\n",
    "                                    • Using their user ID and a password that is managed by Google\n",
    "                                    • Using a two-step authentication process that includes their user ID, password, and a security key\n",
    "                                    • Through the Security Assertion Markup Language (SAML) based Single Sign-On (SSO) process which uses the user entity’s own account management system to authenticate users and a certificate with an embedded public key, which is registered with Google for each customer entity\"'}\n",
    "        \n",
    "        Example 2:-\n",
    "        question:- \"How are incidents classified?\"\n",
    "        response:- answer key: 'Incidents are classified based on their severity level. Each severity level has been formally defined to capture the importance of each incident/problem type.',\n",
    "                    reference key: 'The answer to the given question can be found on page 50 & 51 of the document. With respect to incident classification, the provided document states under the sub-heading \"Incident Alert and Recording\" under \"Incident Management\" the following: \"Log sources are used to generate alerts whenever an anomaly occurs. Production monitoring tools, in response to an anomaly, automatically generate alerts to relevant teams based on the anomaly configurations set by each team. An anomaly may also be manually documented by a Google employee when an issue is identified or in response to a customer service request.Production systems are configured to send system events to monitoring and alerting tools. Google personnel use these tools to respond to potential incidents, including security and privacy incidents.\n",
    "                                  Alerts capture information necessary for initial response (e.g., origin, service description, impacted area, etc.). Alerts are addressed by relevant teams to identify if the anomaly indicates an issue or potential issue. If necessary, incidents are created for alerts that require additional investigation. Additional details can be added to the incident to supplement the initial alert(s). The incident is assigned an initial severity level to prioritize mitigation efforts to incidents of greatest impact. Each severity level has been formally defined to capture the importance of each incident/problem type. There are established roles and responsibilities for personnel tasked with incident management, including the identification, assignment, managed remediation, and communication of incidents.\"\n",
    "        \n",
    "\n",
    "        Example 3:-\n",
    "        question:- \"What procedures are in place to perform root cause analysis for an incident?\"\n",
    "        response:- answer key: 'Google has an established post mortem process for performing technical analysis of incidents after the fact to identify root cause issues, document lessons learned, and implement fixes to strengthen and improve security controls, and to prevent future incidents.',\n",
    "                    reference key: 'The answer to the given question can be found on page 51 of the document. With respect to root cause analysis for an incident, the provided document states under the sub-heading \"Incident Resolution\" under \"Incident Management\" the following: \"After gathering the necessary information about the incident, the incident ticket is assigned to the appropriate support area based on the nature of the problem and/or the root cause. Incidents are usually forwarded to one of the corresponding technical departments:\n",
    "                                    • System Reliability Engineers / Software Engineers\n",
    "                                    • Networks\n",
    "                                    • Database Administration\n",
    "                                    • System Administration\n",
    "                                    • Application Administration\n",
    "                                    • Facilities\n",
    "                                    • Network Security\n",
    "                                    • Platform Support\n",
    "                                    • Legal Team\n",
    "                                    The incident ticket is closed upon resolution of the incident. Google also has an established post mortem process for performing technical analysis of incidents after the fact to identify root cause issues, document lessons learned, and implement fixes to strengthen and improve security controls, and to prevent future incidents. Processes for notifying customers of data security and privacy incidents that affect their accounts in accordance with disclosure laws or contractual agreements are established and implemented.\"\n",
    "   \n",
    "        \"\"\"\n",
    "\n",
    "prompt = ChatPromptTemplate.from_template(template)"
   ]
  },
  {
   "cell_type": "code",
   "execution_count": 31,
   "id": "c7989165-a788-4e82-a7a1-fe9e0b2a75c9",
   "metadata": {},
   "outputs": [],
   "source": [
    "chain = (\n",
    "    {\"context\": retriever, \"question\": RunnablePassthrough()}\n",
    "    | prompt\n",
    "    | llm\n",
    "    | SimpleJsonOutputParser()\n",
    ")"
   ]
  },
  {
   "cell_type": "code",
   "execution_count": 32,
   "id": "7b35c262-2ca8-4297-9463-c95d6ba59fd5",
   "metadata": {},
   "outputs": [
    {
     "name": "stderr",
     "output_type": "stream",
     "text": [
      "OllamaEmbeddings: 100%|██████████| 1/1 [00:02<00:00,  2.78s/it]\n"
     ]
    },
    {
     "ename": "KeyError",
     "evalue": "'Input to ChatPromptTemplate is missing variables {\"\\'answer\\'\"}.  Expected: [\"\\'answer\\'\", \\'context\\', \\'question\\'] Received: [\\'context\\', \\'question\\']'",
     "output_type": "error",
     "traceback": [
      "\u001b[1;31m---------------------------------------------------------------------------\u001b[0m",
      "\u001b[1;31mKeyError\u001b[0m                                  Traceback (most recent call last)",
      "Cell \u001b[1;32mIn[32], line 1\u001b[0m\n\u001b[1;32m----> 1\u001b[0m \u001b[43mchain\u001b[49m\u001b[38;5;241;43m.\u001b[39;49m\u001b[43minvoke\u001b[49m\u001b[43m(\u001b[49m\u001b[38;5;124;43m\"\u001b[39;49m\u001b[38;5;124;43mWhat access control procedures are in place?\u001b[39;49m\u001b[38;5;124;43m\"\u001b[39;49m\u001b[43m)\u001b[49m\n",
      "File \u001b[1;32m~\\.conda\\envs\\Python310\\lib\\site-packages\\langchain_core\\runnables\\base.py:2576\u001b[0m, in \u001b[0;36mRunnableSequence.invoke\u001b[1;34m(self, input, config, **kwargs)\u001b[0m\n\u001b[0;32m   2574\u001b[0m             \u001b[38;5;28minput\u001b[39m \u001b[38;5;241m=\u001b[39m step\u001b[38;5;241m.\u001b[39minvoke(\u001b[38;5;28minput\u001b[39m, config, \u001b[38;5;241m*\u001b[39m\u001b[38;5;241m*\u001b[39mkwargs)\n\u001b[0;32m   2575\u001b[0m         \u001b[38;5;28;01melse\u001b[39;00m:\n\u001b[1;32m-> 2576\u001b[0m             \u001b[38;5;28minput\u001b[39m \u001b[38;5;241m=\u001b[39m \u001b[43mstep\u001b[49m\u001b[38;5;241;43m.\u001b[39;49m\u001b[43minvoke\u001b[49m\u001b[43m(\u001b[49m\u001b[38;5;28;43minput\u001b[39;49m\u001b[43m,\u001b[49m\u001b[43m \u001b[49m\u001b[43mconfig\u001b[49m\u001b[43m)\u001b[49m\n\u001b[0;32m   2577\u001b[0m \u001b[38;5;66;03m# finish the root run\u001b[39;00m\n\u001b[0;32m   2578\u001b[0m \u001b[38;5;28;01mexcept\u001b[39;00m \u001b[38;5;167;01mBaseException\u001b[39;00m \u001b[38;5;28;01mas\u001b[39;00m e:\n",
      "File \u001b[1;32m~\\.conda\\envs\\Python310\\lib\\site-packages\\langchain_core\\prompts\\base.py:179\u001b[0m, in \u001b[0;36mBasePromptTemplate.invoke\u001b[1;34m(self, input, config)\u001b[0m\n\u001b[0;32m    177\u001b[0m \u001b[38;5;28;01mif\u001b[39;00m \u001b[38;5;28mself\u001b[39m\u001b[38;5;241m.\u001b[39mtags:\n\u001b[0;32m    178\u001b[0m     config[\u001b[38;5;124m\"\u001b[39m\u001b[38;5;124mtags\u001b[39m\u001b[38;5;124m\"\u001b[39m] \u001b[38;5;241m=\u001b[39m config[\u001b[38;5;124m\"\u001b[39m\u001b[38;5;124mtags\u001b[39m\u001b[38;5;124m\"\u001b[39m] \u001b[38;5;241m+\u001b[39m \u001b[38;5;28mself\u001b[39m\u001b[38;5;241m.\u001b[39mtags\n\u001b[1;32m--> 179\u001b[0m \u001b[38;5;28;01mreturn\u001b[39;00m \u001b[38;5;28;43mself\u001b[39;49m\u001b[38;5;241;43m.\u001b[39;49m\u001b[43m_call_with_config\u001b[49m\u001b[43m(\u001b[49m\n\u001b[0;32m    180\u001b[0m \u001b[43m    \u001b[49m\u001b[38;5;28;43mself\u001b[39;49m\u001b[38;5;241;43m.\u001b[39;49m\u001b[43m_format_prompt_with_error_handling\u001b[49m\u001b[43m,\u001b[49m\n\u001b[0;32m    181\u001b[0m \u001b[43m    \u001b[49m\u001b[38;5;28;43minput\u001b[39;49m\u001b[43m,\u001b[49m\n\u001b[0;32m    182\u001b[0m \u001b[43m    \u001b[49m\u001b[43mconfig\u001b[49m\u001b[43m,\u001b[49m\n\u001b[0;32m    183\u001b[0m \u001b[43m    \u001b[49m\u001b[43mrun_type\u001b[49m\u001b[38;5;241;43m=\u001b[39;49m\u001b[38;5;124;43m\"\u001b[39;49m\u001b[38;5;124;43mprompt\u001b[39;49m\u001b[38;5;124;43m\"\u001b[39;49m\u001b[43m,\u001b[49m\n\u001b[0;32m    184\u001b[0m \u001b[43m\u001b[49m\u001b[43m)\u001b[49m\n",
      "File \u001b[1;32m~\\.conda\\envs\\Python310\\lib\\site-packages\\langchain_core\\runnables\\base.py:1596\u001b[0m, in \u001b[0;36mRunnable._call_with_config\u001b[1;34m(self, func, input, config, run_type, **kwargs)\u001b[0m\n\u001b[0;32m   1592\u001b[0m     context \u001b[38;5;241m=\u001b[39m copy_context()\n\u001b[0;32m   1593\u001b[0m     context\u001b[38;5;241m.\u001b[39mrun(_set_config_context, child_config)\n\u001b[0;32m   1594\u001b[0m     output \u001b[38;5;241m=\u001b[39m cast(\n\u001b[0;32m   1595\u001b[0m         Output,\n\u001b[1;32m-> 1596\u001b[0m         context\u001b[38;5;241m.\u001b[39mrun(\n\u001b[0;32m   1597\u001b[0m             call_func_with_variable_args,  \u001b[38;5;66;03m# type: ignore[arg-type]\u001b[39;00m\n\u001b[0;32m   1598\u001b[0m             func,  \u001b[38;5;66;03m# type: ignore[arg-type]\u001b[39;00m\n\u001b[0;32m   1599\u001b[0m             \u001b[38;5;28minput\u001b[39m,  \u001b[38;5;66;03m# type: ignore[arg-type]\u001b[39;00m\n\u001b[0;32m   1600\u001b[0m             config,\n\u001b[0;32m   1601\u001b[0m             run_manager,\n\u001b[0;32m   1602\u001b[0m             \u001b[38;5;241m*\u001b[39m\u001b[38;5;241m*\u001b[39mkwargs,\n\u001b[0;32m   1603\u001b[0m         ),\n\u001b[0;32m   1604\u001b[0m     )\n\u001b[0;32m   1605\u001b[0m \u001b[38;5;28;01mexcept\u001b[39;00m \u001b[38;5;167;01mBaseException\u001b[39;00m \u001b[38;5;28;01mas\u001b[39;00m e:\n\u001b[0;32m   1606\u001b[0m     run_manager\u001b[38;5;241m.\u001b[39mon_chain_error(e)\n",
      "File \u001b[1;32m~\\.conda\\envs\\Python310\\lib\\site-packages\\langchain_core\\runnables\\config.py:380\u001b[0m, in \u001b[0;36mcall_func_with_variable_args\u001b[1;34m(func, input, config, run_manager, **kwargs)\u001b[0m\n\u001b[0;32m    378\u001b[0m \u001b[38;5;28;01mif\u001b[39;00m run_manager \u001b[38;5;129;01mis\u001b[39;00m \u001b[38;5;129;01mnot\u001b[39;00m \u001b[38;5;28;01mNone\u001b[39;00m \u001b[38;5;129;01mand\u001b[39;00m accepts_run_manager(func):\n\u001b[0;32m    379\u001b[0m     kwargs[\u001b[38;5;124m\"\u001b[39m\u001b[38;5;124mrun_manager\u001b[39m\u001b[38;5;124m\"\u001b[39m] \u001b[38;5;241m=\u001b[39m run_manager\n\u001b[1;32m--> 380\u001b[0m \u001b[38;5;28;01mreturn\u001b[39;00m func(\u001b[38;5;28minput\u001b[39m, \u001b[38;5;241m*\u001b[39m\u001b[38;5;241m*\u001b[39mkwargs)\n",
      "File \u001b[1;32m~\\.conda\\envs\\Python310\\lib\\site-packages\\langchain_core\\prompts\\base.py:153\u001b[0m, in \u001b[0;36mBasePromptTemplate._format_prompt_with_error_handling\u001b[1;34m(self, inner_input)\u001b[0m\n\u001b[0;32m    152\u001b[0m \u001b[38;5;28;01mdef\u001b[39;00m \u001b[38;5;21m_format_prompt_with_error_handling\u001b[39m(\u001b[38;5;28mself\u001b[39m, inner_input: Dict) \u001b[38;5;241m-\u001b[39m\u001b[38;5;241m>\u001b[39m PromptValue:\n\u001b[1;32m--> 153\u001b[0m     _inner_input \u001b[38;5;241m=\u001b[39m \u001b[38;5;28;43mself\u001b[39;49m\u001b[38;5;241;43m.\u001b[39;49m\u001b[43m_validate_input\u001b[49m\u001b[43m(\u001b[49m\u001b[43minner_input\u001b[49m\u001b[43m)\u001b[49m\n\u001b[0;32m    154\u001b[0m     \u001b[38;5;28;01mreturn\u001b[39;00m \u001b[38;5;28mself\u001b[39m\u001b[38;5;241m.\u001b[39mformat_prompt(\u001b[38;5;241m*\u001b[39m\u001b[38;5;241m*\u001b[39m_inner_input)\n",
      "File \u001b[1;32m~\\.conda\\envs\\Python310\\lib\\site-packages\\langchain_core\\prompts\\base.py:145\u001b[0m, in \u001b[0;36mBasePromptTemplate._validate_input\u001b[1;34m(self, inner_input)\u001b[0m\n\u001b[0;32m    143\u001b[0m missing \u001b[38;5;241m=\u001b[39m \u001b[38;5;28mset\u001b[39m(\u001b[38;5;28mself\u001b[39m\u001b[38;5;241m.\u001b[39minput_variables)\u001b[38;5;241m.\u001b[39mdifference(inner_input)\n\u001b[0;32m    144\u001b[0m \u001b[38;5;28;01mif\u001b[39;00m missing:\n\u001b[1;32m--> 145\u001b[0m     \u001b[38;5;28;01mraise\u001b[39;00m \u001b[38;5;167;01mKeyError\u001b[39;00m(\n\u001b[0;32m    146\u001b[0m         \u001b[38;5;124mf\u001b[39m\u001b[38;5;124m\"\u001b[39m\u001b[38;5;124mInput to \u001b[39m\u001b[38;5;132;01m{\u001b[39;00m\u001b[38;5;28mself\u001b[39m\u001b[38;5;241m.\u001b[39m\u001b[38;5;18m__class__\u001b[39m\u001b[38;5;241m.\u001b[39m\u001b[38;5;18m__name__\u001b[39m\u001b[38;5;132;01m}\u001b[39;00m\u001b[38;5;124m is missing variables \u001b[39m\u001b[38;5;132;01m{\u001b[39;00mmissing\u001b[38;5;132;01m}\u001b[39;00m\u001b[38;5;124m. \u001b[39m\u001b[38;5;124m\"\u001b[39m\n\u001b[0;32m    147\u001b[0m         \u001b[38;5;124mf\u001b[39m\u001b[38;5;124m\"\u001b[39m\u001b[38;5;124m Expected: \u001b[39m\u001b[38;5;132;01m{\u001b[39;00m\u001b[38;5;28mself\u001b[39m\u001b[38;5;241m.\u001b[39minput_variables\u001b[38;5;132;01m}\u001b[39;00m\u001b[38;5;124m\"\u001b[39m\n\u001b[0;32m    148\u001b[0m         \u001b[38;5;124mf\u001b[39m\u001b[38;5;124m\"\u001b[39m\u001b[38;5;124m Received: \u001b[39m\u001b[38;5;132;01m{\u001b[39;00m\u001b[38;5;28mlist\u001b[39m(inner_input\u001b[38;5;241m.\u001b[39mkeys())\u001b[38;5;132;01m}\u001b[39;00m\u001b[38;5;124m\"\u001b[39m\n\u001b[0;32m    149\u001b[0m     )\n\u001b[0;32m    150\u001b[0m \u001b[38;5;28;01mreturn\u001b[39;00m inner_input\n",
      "\u001b[1;31mKeyError\u001b[0m: 'Input to ChatPromptTemplate is missing variables {\"\\'answer\\'\"}.  Expected: [\"\\'answer\\'\", \\'context\\', \\'question\\'] Received: [\\'context\\', \\'question\\']'"
     ]
    }
   ],
   "source": [
    "chain.invoke(\"What access control procedures are in place?\")"
   ]
  },
  {
   "cell_type": "code",
   "execution_count": null,
   "id": "bf9804c8-18e3-4057-9f8c-a82fbf2c330c",
   "metadata": {},
   "outputs": [],
   "source": [
    "chain.invoke(\"When was the access control policy last reviewed?\")"
   ]
  },
  {
   "cell_type": "code",
   "execution_count": null,
   "id": "29e553b2-e29d-4a0e-89c4-12a44c70a130",
   "metadata": {},
   "outputs": [],
   "source": [
    "chain.invoke(\"What is the password management policy in place?\")"
   ]
  },
  {
   "cell_type": "code",
   "execution_count": null,
   "id": "ab8b0d90-55a7-41f6-a441-214053956e25",
   "metadata": {},
   "outputs": [],
   "source": [
    "chain.invoke(\"What procedures are followed for decommissioning of equipments?\")"
   ]
  },
  {
   "cell_type": "code",
   "execution_count": null,
   "id": "bebec1e2-f0d7-49b8-a13c-7a8935fdcc90",
   "metadata": {},
   "outputs": [],
   "source": [
    "chain.invoke(\"What steps are taken to ensure removal of client information prior to decommissioning of equipments?\")"
   ]
  },
  {
   "cell_type": "code",
   "execution_count": 65,
   "id": "db423652-928d-46e2-b23e-81b042f6485b",
   "metadata": {},
   "outputs": [
    {
     "name": "stderr",
     "output_type": "stream",
     "text": [
      "\n",
      "OllamaEmbeddings:   0%|          | 0/1 [00:00<?, ?it/s]\u001b[A\n",
      "OllamaEmbeddings: 100%|██████████| 1/1 [00:04<00:00,  4.24s/it]\u001b[A\n",
      "\n",
      "OllamaEmbeddings:   0%|          | 0/1 [00:00<?, ?it/s]\u001b[A\n",
      "OllamaEmbeddings: 100%|██████████| 1/1 [00:00<00:00,  3.83it/s]\u001b[A\n",
      "\n",
      "OllamaEmbeddings:   0%|          | 0/1 [00:00<?, ?it/s]\u001b[A\n",
      "OllamaEmbeddings: 100%|██████████| 1/1 [00:00<00:00,  3.15it/s]\u001b[A\n"
     ]
    },
    {
     "data": {
      "text/plain": [
       "'The information security policies and procedures were updated on \\'1 October 20XX\\' (year not clearly mentioned). This information can be found on page 35 of the document, which states: \"Information Security Policies and Procedures were updated on 1 October 20XX.\"\\n\\nOriginal wording from the document: \"Information Security Policies and Procedures were updated on 1 October 20XX.\"'"
      ]
     },
     "execution_count": 65,
     "metadata": {},
     "output_type": "execute_result"
    }
   ],
   "source": [
    "chain.invoke(\"When were information security policies and procedures updated?\")"
   ]
  },
  {
   "cell_type": "code",
   "execution_count": 66,
   "id": "20a97889-8464-4e29-b829-c9f5453b9656",
   "metadata": {},
   "outputs": [
    {
     "name": "stderr",
     "output_type": "stream",
     "text": [
      "\n",
      "OllamaEmbeddings:   0%|          | 0/1 [00:00<?, ?it/s]\u001b[A\n",
      "OllamaEmbeddings: 100%|██████████| 1/1 [00:11<00:00, 11.35s/it]\u001b[A\n",
      "\n",
      "OllamaEmbeddings: 100%|██████████| 1/1 [00:00<00:00, 15.54it/s]\n",
      "\n",
      "OllamaEmbeddings:   0%|          | 0/1 [00:00<?, ?it/s]\u001b[A\n",
      "OllamaEmbeddings: 100%|██████████| 1/1 [00:00<00:00,  1.71it/s]\u001b[A\n",
      "\n",
      "OllamaEmbeddings:   0%|          | 0/1 [00:00<?, ?it/s]\u001b[A\n",
      "OllamaEmbeddings: 100%|██████████| 1/1 [00:00<00:00,  4.77it/s]\u001b[A\n",
      "\n",
      "OllamaEmbeddings:   0%|          | 0/1 [00:00<?, ?it/s]\u001b[A\n",
      "OllamaEmbeddings: 100%|██████████| 1/1 [00:01<00:00,  1.02s/it]\u001b[A\n",
      "\n",
      "OllamaEmbeddings:   0%|          | 0/1 [00:00<?, ?it/s]\u001b[A\n",
      "OllamaEmbeddings: 100%|██████████| 1/1 [00:00<00:00,  1.55it/s]\u001b[A\n",
      "\n",
      "OllamaEmbeddings:   0%|          | 0/1 [00:00<?, ?it/s]\u001b[A\n",
      "OllamaEmbeddings: 100%|██████████| 1/1 [00:00<00:00,  1.45it/s]\u001b[A\n",
      "\n",
      "OllamaEmbeddings: 100%|██████████| 1/1 [00:00<00:00, 11.36it/s]\n",
      "\n",
      "OllamaEmbeddings:   0%|          | 0/1 [00:00<?, ?it/s]\u001b[A\n",
      "OllamaEmbeddings: 100%|██████████| 1/1 [00:00<00:00,  1.62it/s]\u001b[A\n",
      "\n",
      "OllamaEmbeddings:   0%|          | 0/1 [00:00<?, ?it/s]\u001b[A\n",
      "OllamaEmbeddings: 100%|██████████| 1/1 [00:00<00:00,  4.87it/s]\u001b[A\n",
      "\n",
      "OllamaEmbeddings:   0%|          | 0/1 [00:00<?, ?it/s]\u001b[A\n",
      "OllamaEmbeddings: 100%|██████████| 1/1 [00:00<00:00,  1.70it/s]\u001b[A\n",
      "\n",
      "OllamaEmbeddings:   0%|          | 0/1 [00:00<?, ?it/s]\u001b[A\n",
      "OllamaEmbeddings: 100%|██████████| 1/1 [00:00<00:00,  7.09it/s]\u001b[A\n",
      "\n",
      "OllamaEmbeddings:   0%|          | 0/1 [00:00<?, ?it/s]\u001b[A\n",
      "OllamaEmbeddings: 100%|██████████| 1/1 [00:00<00:00,  4.32it/s]\u001b[A\n"
     ]
    },
    {
     "data": {
      "text/plain": [
       "'Emergency changes are performed through the Change Management process. According to page 50 of the document, \"Emergency Changes: Any change that must be made immediately to avoid a significant impact to service or customer data is considered an emergency change.\" The process requires documentation and review prior to implementation, as well as post-implementation review and communication to the appropriate stakeholders. It also states that such changes are tracked in the same way as regular changes, with necessary escalation mechanisms in place for urgent issues. \\n\\nOriginal wording from the document: \"Emergency Changes: Any change that must be made immediately to avoid a significant impact to service or customer data is considered an emergency change. Emergency changes follow the same change management process, but are documented and reviewed prior to implementation, implemented, and post-implementation reviewed. The change is communicated to the appropriate stakeholders as per the change communication policy. Emergency changes are tracked in the same way as regular changes. Escalation mechanisms are in place for urgent issues.\"'"
      ]
     },
     "execution_count": 66,
     "metadata": {},
     "output_type": "execute_result"
    }
   ],
   "source": [
    "chain.invoke(\"How are emergency changes performed?\")"
   ]
  },
  {
   "cell_type": "code",
   "execution_count": 67,
   "id": "3db6e953-9af3-4d9f-bdf3-f2132a97422f",
   "metadata": {},
   "outputs": [
    {
     "name": "stderr",
     "output_type": "stream",
     "text": [
      "\n",
      "OllamaEmbeddings:   0%|          | 0/1 [00:00<?, ?it/s]\u001b[A\n",
      "OllamaEmbeddings: 100%|██████████| 1/1 [00:03<00:00,  3.17s/it]\u001b[A\n",
      "\n",
      "OllamaEmbeddings:   0%|          | 0/1 [00:00<?, ?it/s]\u001b[A\n",
      "OllamaEmbeddings: 100%|██████████| 1/1 [00:00<00:00,  3.81it/s]\u001b[A\n",
      "\n",
      "OllamaEmbeddings:   0%|          | 0/1 [00:00<?, ?it/s]\u001b[A\n",
      "OllamaEmbeddings: 100%|██████████| 1/1 [00:00<00:00,  2.12it/s]\u001b[A\n",
      "\n",
      "OllamaEmbeddings:   0%|          | 0/1 [00:00<?, ?it/s]\u001b[A\n",
      "OllamaEmbeddings: 100%|██████████| 1/1 [00:00<00:00,  2.23it/s]\u001b[A\n",
      "\n",
      "OllamaEmbeddings:   0%|          | 0/1 [00:00<?, ?it/s]\u001b[A\n",
      "OllamaEmbeddings: 100%|██████████| 1/1 [00:00<00:00,  3.39it/s]\u001b[A\n",
      "\n",
      "OllamaEmbeddings: 100%|██████████| 1/1 [00:00<00:00, 15.86it/s]\n",
      "\n",
      "OllamaEmbeddings:   0%|          | 0/1 [00:00<?, ?it/s]\u001b[A\n",
      "OllamaEmbeddings: 100%|██████████| 1/1 [00:00<00:00,  3.32it/s]\u001b[A\n",
      "\n",
      "OllamaEmbeddings:   0%|          | 0/1 [00:00<?, ?it/s]\u001b[A\n",
      "OllamaEmbeddings: 100%|██████████| 1/1 [00:00<00:00,  2.76it/s]\u001b[A\n",
      "\n",
      "OllamaEmbeddings:   0%|          | 0/1 [00:00<?, ?it/s]\u001b[A\n",
      "OllamaEmbeddings: 100%|██████████| 1/1 [00:00<00:00,  2.60it/s]\u001b[A\n",
      "\n",
      "OllamaEmbeddings: 100%|██████████| 1/1 [00:00<00:00, 12.28it/s]\n",
      "\n",
      "OllamaEmbeddings:   0%|          | 0/1 [00:00<?, ?it/s]\u001b[A\n",
      "OllamaEmbeddings: 100%|██████████| 1/1 [00:00<00:00,  2.79it/s]\u001b[A\n"
     ]
    },
    {
     "data": {
      "text/plain": [
       "\"In order to find information about cryptographic controls for data encryption at rest and in motion, I would need access to the specific audit report or documentation related to Google Cloud's security measures. Please provide the relevant document or report so that I can locate the required information and respond accordingly. Make sure to mention the page number or position in the document along with the original wording from the source.\""
      ]
     },
     "execution_count": 67,
     "metadata": {},
     "output_type": "execute_result"
    }
   ],
   "source": [
    "chain.invoke(\"What cryptographic controls are in place to encrypt the data at rest and in motion?\")"
   ]
  },
  {
   "cell_type": "code",
   "execution_count": 68,
   "id": "b4a11920-00c0-4a26-a292-da8c64173e47",
   "metadata": {},
   "outputs": [
    {
     "name": "stderr",
     "output_type": "stream",
     "text": [
      "\n",
      "OllamaEmbeddings:   0%|          | 0/1 [00:00<?, ?it/s]\u001b[A\n",
      "OllamaEmbeddings: 100%|██████████| 1/1 [00:01<00:00,  1.44s/it]\u001b[A\n",
      "\n",
      "OllamaEmbeddings: 100%|██████████| 1/1 [00:00<00:00, 18.18it/s]\n",
      "\n",
      "OllamaEmbeddings:   0%|          | 0/1 [00:00<?, ?it/s]\u001b[A\n",
      "OllamaEmbeddings: 100%|██████████| 1/1 [00:00<00:00,  4.74it/s]\u001b[A\n"
     ]
    },
    {
     "data": {
      "text/plain": [
       "'I am unable to find information about the incident management policy review date in the provided document excerpts. Please provide the complete audit report or the specific section containing details about the incident management policy for further assistance.'"
      ]
     },
     "execution_count": 68,
     "metadata": {},
     "output_type": "execute_result"
    }
   ],
   "source": [
    "chain.invoke(\"When was the incident management policy last reviewed?\")"
   ]
  },
  {
   "cell_type": "code",
   "execution_count": 69,
   "id": "17e7d0c7-54f9-4811-a942-ed00ec3abbfe",
   "metadata": {},
   "outputs": [
    {
     "name": "stderr",
     "output_type": "stream",
     "text": [
      "\n",
      "OllamaEmbeddings:   0%|          | 0/1 [00:00<?, ?it/s]\u001b[A\n",
      "OllamaEmbeddings: 100%|██████████| 1/1 [00:02<00:00,  2.21s/it]\u001b[A\n",
      "\n",
      "OllamaEmbeddings:   0%|          | 0/1 [00:00<?, ?it/s]\u001b[A\n",
      "OllamaEmbeddings: 100%|██████████| 1/1 [00:00<00:00,  4.42it/s]\u001b[A\n",
      "\n",
      "OllamaEmbeddings:   0%|          | 0/1 [00:00<?, ?it/s]\u001b[A\n",
      "OllamaEmbeddings: 100%|██████████| 1/1 [00:00<00:00,  3.53it/s]\u001b[A\n"
     ]
    },
    {
     "data": {
      "text/plain": [
       "'The incident response procedure was tested during the audit process, specifically during the review of the \"Incident Alert and Recording\" section on page 51 of the document. The text states, \"Log sources are used to generate alerts whenever an anomaly occurs... An anomaly may also be manually documented by a Google employee when an issue is identified or in response to a customer service request.\" (GCP-[FALL-2023] GCP SOC 2..pdf, p. 51)'"
      ]
     },
     "execution_count": 69,
     "metadata": {},
     "output_type": "execute_result"
    }
   ],
   "source": [
    "chain.invoke(\"When was the incident response procedure tested?\")"
   ]
  },
  {
   "cell_type": "code",
   "execution_count": null,
   "id": "1303f507-2569-4ced-a77e-55f09cf77151",
   "metadata": {},
   "outputs": [],
   "source": [
    "chain.invoke(\"How are incidents classified?\")"
   ]
  },
  {
   "cell_type": "code",
   "execution_count": null,
   "id": "fe9896af-f606-4ead-9b6c-324dd53baac4",
   "metadata": {},
   "outputs": [],
   "source": [
    "chain.invoke(\"What procedures are in place to perform root cause analysis for an incident?\")"
   ]
  },
  {
   "cell_type": "code",
   "execution_count": 72,
   "id": "0676c1f1-3aef-49aa-815d-532f4606454b",
   "metadata": {},
   "outputs": [
    {
     "name": "stderr",
     "output_type": "stream",
     "text": [
      "\n",
      "OllamaEmbeddings:   0%|          | 0/1 [00:00<?, ?it/s]\u001b[A\n",
      "OllamaEmbeddings: 100%|██████████| 1/1 [00:04<00:00,  4.08s/it]\u001b[A\n"
     ]
    },
    {
     "data": {
      "text/plain": [
       "\"I could not find any information about physical perimeter controls in the provided document excerpts. The mentioned Google Cloud services and features are described at various page numbers, but none specifically address physical perimeter controls. Please provide more context or refer to a different section of the document if you're looking for information on this particular topic.\\n\\nPage numbers mentioned in the request: 18, 22, 73, and 103.\""
      ]
     },
     "execution_count": 72,
     "metadata": {},
     "output_type": "execute_result"
    }
   ],
   "source": [
    "chain.invoke(\"What physical perimeter controls are in place?\")"
   ]
  },
  {
   "cell_type": "code",
   "execution_count": 73,
   "id": "48cae75b-d5b4-4a2e-ae21-10650e88a099",
   "metadata": {},
   "outputs": [
    {
     "name": "stderr",
     "output_type": "stream",
     "text": [
      "\n",
      "OllamaEmbeddings:   0%|          | 0/1 [00:00<?, ?it/s]\u001b[A\n",
      "OllamaEmbeddings: 100%|██████████| 1/1 [00:04<00:00,  4.27s/it]\u001b[A\n",
      "\n",
      "OllamaEmbeddings: 100%|██████████| 1/1 [00:00<00:00, 17.27it/s]\n",
      "\n",
      "OllamaEmbeddings:   0%|          | 0/1 [00:00<?, ?it/s]\u001b[A\n",
      "OllamaEmbeddings: 100%|██████████| 1/1 [00:00<00:00,  1.53it/s]\u001b[A\n",
      "\n",
      "OllamaEmbeddings: 100%|██████████| 1/1 [00:00<00:00, 10.98it/s]\n",
      "\n",
      "OllamaEmbeddings:   0%|          | 0/1 [00:00<?, ?it/s]\u001b[A\n",
      "OllamaEmbeddings: 100%|██████████| 1/1 [00:00<00:00,  8.77it/s]\u001b[A\n"
     ]
    },
    {
     "data": {
      "text/plain": [
       "'The document does not specifically mention procedures for deploying patches throughout the IT infrastructure. However, it does discuss security updates and vulnerability management in the context of Google\\'s Cloud Security Command Center. This service provides visibility into security and network traffic data across multi-cloud and on-premises environments (page 51). It also offers automated policy enforcement for identifying and responding to threats (page 52). These capabilities help ensure that patches and updates are applied promptly and consistently across the infrastructure, although the specific procedures for patch deployment are not detailed in the provided excerpts.\\n\\n(Source: \"GCP-[FALL-2023] GCP SOC 2..pdf\", pages 51-52)'"
      ]
     },
     "execution_count": 73,
     "metadata": {},
     "output_type": "execute_result"
    }
   ],
   "source": [
    "chain.invoke(\"What procedures are in place to deploy patches throughout the IT infrastructure?\")"
   ]
  },
  {
   "cell_type": "code",
   "execution_count": 74,
   "id": "821de9b5-1edd-40ff-a80e-30c965b3c42a",
   "metadata": {},
   "outputs": [
    {
     "name": "stderr",
     "output_type": "stream",
     "text": [
      "\n",
      "OllamaEmbeddings:   0%|          | 0/1 [00:00<?, ?it/s]\u001b[A\n",
      "OllamaEmbeddings: 100%|██████████| 1/1 [00:04<00:00,  4.54s/it]\u001b[A\n"
     ]
    },
    {
     "data": {
      "text/plain": [
       "'A backup of the data is performed as per the data retention and deletion policies. The process involves the use of data deletion tools that verify the backup data is deleted following the configured retention period, as part of the deletion mechanism process. This information can be found on page 77 of the document: \"was disposed of as per the data retention and deletion policies. No deviations noted. Inspected a sample product and determined data deletion tools verified that backup data was deleted following the configured retention period, as part of the deletion mechanism process. No deviations noted.\"'"
      ]
     },
     "execution_count": 74,
     "metadata": {},
     "output_type": "execute_result"
    }
   ],
   "source": [
    "chain.invoke(\"How is a back up of the data performed?\")"
   ]
  },
  {
   "cell_type": "code",
   "execution_count": 75,
   "id": "791f1581-d8c3-44a1-befc-8b34d6640174",
   "metadata": {},
   "outputs": [
    {
     "name": "stderr",
     "output_type": "stream",
     "text": [
      "\n",
      "OllamaEmbeddings:   0%|          | 0/1 [00:00<?, ?it/s]\u001b[A\n",
      "OllamaEmbeddings: 100%|██████████| 1/1 [00:04<00:00,  4.85s/it]\u001b[A\n"
     ]
    },
    {
     "data": {
      "text/plain": [
       "\"Background checks performed during hiring of an employee include criminal, credit, and/or security checks on all potential employees, temporary workers, and independent contractors, as well as verification of the individual's education, previous employment, and referrals (Source: Page 43, Document metadata {'source': 'C:/Users/ribhattacharya/Desktop/TPRM-Accelerator/assets/data/Security Evidence Docs/SOC 2/GoogleCloud/Audit-Reports-1720774833381-81ba2e/GCP-[FALL-2023] GCP SOC 2..pdf'}). The specifics or extent of background checks performed depend on the position and location for which the individual is applying.\""
      ]
     },
     "execution_count": 75,
     "metadata": {},
     "output_type": "execute_result"
    }
   ],
   "source": [
    "chain.invoke(\"What backgound checks are performed during hiring of an employee?\")"
   ]
  },
  {
   "cell_type": "code",
   "execution_count": 76,
   "id": "83ed0add-34c4-4a10-b064-ee5189513bb9",
   "metadata": {},
   "outputs": [
    {
     "name": "stderr",
     "output_type": "stream",
     "text": [
      "\n",
      "OllamaEmbeddings:   0%|          | 0/1 [00:00<?, ?it/s]\u001b[A\n",
      "OllamaEmbeddings: 100%|██████████| 1/1 [00:04<00:00,  4.60s/it]\u001b[A\n",
      "\n",
      "OllamaEmbeddings: 100%|██████████| 1/1 [00:00<00:00, 12.04it/s]\n",
      "\n",
      "OllamaEmbeddings:   0%|          | 0/1 [00:00<?, ?it/s]\u001b[A\n",
      "OllamaEmbeddings: 100%|██████████| 1/1 [00:00<00:00,  3.06it/s]\u001b[A\n",
      "\n",
      "OllamaEmbeddings: 100%|██████████| 1/1 [00:00<00:00, 13.63it/s]\n",
      "\n",
      "OllamaEmbeddings:   0%|          | 0/1 [00:00<?, ?it/s]\u001b[A\n",
      "OllamaEmbeddings: 100%|██████████| 1/1 [00:00<00:00,  1.63it/s]\u001b[A\n"
     ]
    },
    {
     "data": {
      "text/plain": [
       "'To ensure that periodic penetration tests are performed for the infrastructure, devices, and end-points, Google has the following measures in place:\\n\\n1. Penetration tests are performed at least annually. (CC4.1)\\n2. The organization performs penetration tests by qualified internal personnel or an external service provider at least annually. (Inquired of the Program Manager)\\n\\nNo deviations were noted in these procedures during the testing process, as confirmed by the results shared by EY after their inspection. \\n\\nReference(s):\\n- Page 54: \"logs is restricted to authorized personnel. Security event logs are monitored continuously using a Google proprietary Security Event Management (SEM) system to detect intrusion attempts and other security related events.\"\\n- Page 168: \"Control Description SOC 2 Criteria, Controls, Tests and Results of Tests \\\\n...112. Penetration tests are performed at least annually. CC4.1...\"'"
      ]
     },
     "execution_count": 76,
     "metadata": {},
     "output_type": "execute_result"
    }
   ],
   "source": [
    "chain.invoke(\"What is done to ensure that periodic penetration tests are performed for the infrastructure, devices, and end-points?\")"
   ]
  },
  {
   "cell_type": "code",
   "execution_count": null,
   "id": "0bf9b0ec-00f6-4652-b2e0-49935be425cd",
   "metadata": {},
   "outputs": [],
   "source": []
  }
 ],
 "metadata": {
  "kernelspec": {
   "display_name": "Python 3 (ipykernel)",
   "language": "python",
   "name": "python3"
  },
  "language_info": {
   "codemirror_mode": {
    "name": "ipython",
    "version": 3
   },
   "file_extension": ".py",
   "mimetype": "text/x-python",
   "name": "python",
   "nbconvert_exporter": "python",
   "pygments_lexer": "ipython3",
   "version": "3.10.14"
  }
 },
 "nbformat": 4,
 "nbformat_minor": 5
}
