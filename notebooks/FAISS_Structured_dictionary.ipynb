{
 "cells": [
  {
   "cell_type": "code",
   "execution_count": null,
   "id": "fe874aab-c03b-441d-846e-01ad119882eb",
   "metadata": {},
   "outputs": [],
   "source": [
    "!pip install faiss-cpu pypdf2"
   ]
  },
  {
   "cell_type": "code",
   "execution_count": 1,
   "id": "ea7bb5d1-c59e-43eb-afce-585669876df3",
   "metadata": {},
   "outputs": [],
   "source": [
    "import faiss\n",
    "from langchain.embeddings import OllamaEmbeddings\n",
    "from langchain.vectorstores import FAISS\n",
    "from langchain.document_loaders import PyPDFLoader\n",
    "from langchain_text_splitters import RecursiveCharacterTextSplitter"
   ]
  },
  {
   "cell_type": "code",
   "execution_count": 2,
   "id": "ccdc31d1-b5f5-449d-be32-ec6cb4bc9d05",
   "metadata": {},
   "outputs": [],
   "source": [
    "# pdf_file_path = 'C:/Users/ribhattacharya/Desktop/TPRM-Accelerator/assets/data/Security Evidence Docs/SOC 2/GoogleCloud/Audit-Reports-1720774833381-81ba2e/GCP-[FALL-2023] GCP SOC 2..pdf'\n",
    "# with fitz.open(pdf_file_path) as doc:\n",
    "#         page_contents = [page.get_text() for page in doc]\n",
    "pdf_loader = PyPDFLoader(\"C:/Users/ansutton/Desktop/TPRM/TPRM-Accelerator/assets/data/Security Evidence Docs/SOC 2/GoogleCloud/Audit-Reports-1720774833381-81ba2e/GCP-[FALL-2023] GCP SOC 2..pdf\")\n",
    "raw_documents= pdf_loader.load()\n",
    "text_splitter = RecursiveCharacterTextSplitter(\n",
    "        chunk_size=1000,\n",
    "        chunk_overlap=100,\n",
    "        length_function=len,\n",
    "        is_separator_regex=False,\n",
    "    )\n",
    "documents = text_splitter.split_documents(raw_documents)"
   ]
  },
  {
   "cell_type": "code",
   "execution_count": 3,
   "id": "773377ea-662d-4005-8b48-38c8b4c02f29",
   "metadata": {},
   "outputs": [],
   "source": [
    "embedding_model = OllamaEmbeddings(model='nomic-embed-text',show_progress=True)"
   ]
  },
  {
   "cell_type": "code",
   "execution_count": 4,
   "id": "45d783e1-689c-4eb2-993c-c8b0c34afe4d",
   "metadata": {},
   "outputs": [],
   "source": [
    "batch_size = 50\n",
    "texts=[doc.page_content for doc in documents]\n",
    "#document_texts = [doc.page_content for doc in documents]\n",
    "documents_embeddings = []"
   ]
  },
  {
   "cell_type": "code",
   "execution_count": 5,
   "id": "7264eddb-c764-4ddc-b6cc-cd76bc66fdbc",
   "metadata": {},
   "outputs": [
    {
     "name": "stderr",
     "output_type": "stream",
     "text": [
      "OllamaEmbeddings: 100%|██████████| 50/50 [00:19<00:00,  2.56it/s]\n",
      "OllamaEmbeddings: 100%|██████████| 50/50 [00:18<00:00,  2.71it/s]\n",
      "OllamaEmbeddings: 100%|██████████| 50/50 [00:17<00:00,  2.80it/s]\n",
      "OllamaEmbeddings: 100%|██████████| 50/50 [00:17<00:00,  2.90it/s]\n",
      "OllamaEmbeddings: 100%|██████████| 50/50 [00:17<00:00,  2.89it/s]\n",
      "OllamaEmbeddings: 100%|██████████| 50/50 [00:16<00:00,  2.97it/s]\n",
      "OllamaEmbeddings: 100%|██████████| 50/50 [00:17<00:00,  2.93it/s]\n",
      "OllamaEmbeddings: 100%|██████████| 50/50 [00:17<00:00,  2.91it/s]\n",
      "OllamaEmbeddings: 100%|██████████| 50/50 [00:17<00:00,  2.86it/s]\n",
      "OllamaEmbeddings: 100%|██████████| 30/30 [00:12<00:00,  2.48it/s]\n"
     ]
    }
   ],
   "source": [
    "for i in range(0, len(texts),batch_size):\n",
    "    batch_texts = texts[i:i+batch_size]\n",
    "    batch_embeddings = embedding_model.embed_documents(batch_texts)\n",
    "    documents_embeddings.extend(batch_embeddings)"
   ]
  },
  {
   "cell_type": "code",
   "execution_count": 6,
   "id": "221f1869-b6ab-407a-9438-046a0d8b80fd",
   "metadata": {},
   "outputs": [],
   "source": [
    "import numpy as np"
   ]
  },
  {
   "cell_type": "code",
   "execution_count": 7,
   "id": "2adba7f0-181c-4cc5-9c7a-db0253728656",
   "metadata": {},
   "outputs": [],
   "source": [
    "#create FAISS index and add the embeddings\n",
    "document_embeddings_np = np.array(documents_embeddings)\n",
    "dimension = document_embeddings_np.shape[1]\n",
    "faiss_index = faiss.IndexFlatL2(dimension)\n",
    "faiss_index.add(document_embeddings_np)"
   ]
  },
  {
   "cell_type": "code",
   "execution_count": 8,
   "id": "7eaba1a3-3df9-47ff-a110-7a4f9b563d35",
   "metadata": {},
   "outputs": [],
   "source": [
    "from langchain.docstore import InMemoryDocstore"
   ]
  },
  {
   "cell_type": "code",
   "execution_count": 9,
   "id": "da314a3e-cd12-4760-8182-484d19b594f1",
   "metadata": {},
   "outputs": [],
   "source": [
    "docstore = InMemoryDocstore(dict(enumerate(documents)))\n",
    "index_to_docstore_id = {i: i for i in range(len(documents))}"
   ]
  },
  {
   "cell_type": "code",
   "execution_count": 10,
   "id": "de6b6942-2697-44aa-9080-f95b65fbc9ce",
   "metadata": {},
   "outputs": [],
   "source": [
    "vector_store = FAISS(embedding_model, faiss_index, docstore, index_to_docstore_id)"
   ]
  },
  {
   "cell_type": "code",
   "execution_count": 11,
   "id": "bd1f5559-f50a-4b57-b3c8-fca0d09d3c64",
   "metadata": {},
   "outputs": [],
   "source": [
    "from langchain_community.chat_models import ChatOllama\n",
    "from langchain.chains import RetrievalQA"
   ]
  },
  {
   "cell_type": "code",
   "execution_count": 12,
   "id": "7af8a9aa",
   "metadata": {},
   "outputs": [],
   "source": [
    "local_model = \"knoopx/hermes-2-pro-mistral:7b-q8_0\" \n",
    "llm = ChatOllama(model=local_model)"
   ]
  },
  {
   "cell_type": "code",
   "execution_count": 21,
   "id": "0673c863",
   "metadata": {},
   "outputs": [],
   "source": [
    "qa_chain = RetrievalQA.from_chain_type(\n",
    "    llm = llm,\n",
    "    chain_type=\"stuff\",\n",
    "    retriever = vector_store.as_retriever(search_kwargs={\"k\":3}),\n",
    "    return_source_documents = True\n",
    ")"
   ]
  },
  {
   "cell_type": "code",
   "execution_count": 22,
   "id": "42257700",
   "metadata": {},
   "outputs": [],
   "source": [
    "def get_answer(query):\n",
    "    result = qa_chain({\"query\": query})\n",
    "    response = result['result']\n",
    "\n",
    "    source_documents = result['source_documents']\n",
    "    pages = set()\n",
    "    citations = []\n",
    "    for doc in source_documents:\n",
    "        pages.add(doc.metadata['page'])\n",
    "        citations.append((doc.metadata['page'], doc.page_content))\n",
    "\n",
    "    return {\n",
    "        \"response\": response,\n",
    "        \"pages\": list(pages),\n",
    "        \"citations\": citations\n",
    "    }"
   ]
  },
  {
   "cell_type": "code",
   "execution_count": 23,
   "id": "8bc1d072",
   "metadata": {},
   "outputs": [],
   "source": [
    "query = \"What access control procedures are in place?\""
   ]
  },
  {
   "cell_type": "code",
   "execution_count": 24,
   "id": "af9ff6b1",
   "metadata": {},
   "outputs": [
    {
     "name": "stderr",
     "output_type": "stream",
     "text": [
      "OllamaEmbeddings: 100%|██████████| 1/1 [00:02<00:00,  2.80s/it]\n"
     ]
    }
   ],
   "source": [
    "structured_answer = get_answer(query)"
   ]
  },
  {
   "cell_type": "code",
   "execution_count": 27,
   "id": "d32a78f5",
   "metadata": {},
   "outputs": [
    {
     "name": "stdout",
     "output_type": "stream",
     "text": [
      "The access control procedures in place include:\n",
      "\n",
      "1. Periodic assessment of parties' compliance and taking corrective action if necessary (Common Criteria 6.1).\n",
      "2. Registration and authorization of new internal and external users, with their access administered by the entity (Common Criteria 6.2).\n",
      "3. User system credentials are removed when user access is no longer authorized (Common Criteria 6.3).\n",
      "4. Authorizing, modifying, or removing access to data, software, functions, and other protected information assets based on roles, responsibilities, or the system design (Common Criteria 6.3).\n",
      "5. Customers are responsible for reviewing users' access rights periodically in accordance with their internal access management policies (Common Criteria 6.1).\n",
      "6. Implementation of logical access security software, infrastructure, and architectures over protected information assets to safeguard them from security events (Common Criteria 6.1).\n",
      "7. Selection, development, and ongoing evaluation of components of internal control to ensure they are present and functioning (Common Criteria 4.1).\n",
      "8. Deployment of control activities through policies that establish expectations and procedures that put policies into action (Common Criteria 5.3).\n",
      "9. Authorizing, designing, developing, or acquiring, configuring, documenting, testing, approving, and implementing changes to infrastructure, data, software, and procedures to meet the entity's objectives (Common Criteria 8.1).\n",
      "\n",
      "These procedures ensure that access control is in place, properly administered, monitored, and adjusted as needed, adhering to roles, responsibilities, and security requirements.\n"
     ]
    }
   ],
   "source": [
    "print(structured_answer[\"response\"])"
   ]
  },
  {
   "cell_type": "code",
   "execution_count": 26,
   "id": "9f3d7fa5",
   "metadata": {},
   "outputs": [
    {
     "name": "stdout",
     "output_type": "stream",
     "text": [
      "[58, 60, 63]\n"
     ]
    }
   ],
   "source": [
    "print(structured_answer[\"pages\"])"
   ]
  },
  {
   "cell_type": "code",
   "execution_count": 28,
   "id": "8f4149c8",
   "metadata": {},
   "outputs": [
    {
     "name": "stdout",
     "output_type": "stream",
     "text": [
      "[(60, \"assesses those parties’ compliance \\non a periodic and as -needed basis \\nand takes corrective action, if \\nnecessary.  \\nCustomer s are responsible for provisioning, \\nmaintaining, monitoring and disabling end users’ \\naccess in accordance with their internal access \\nmanagement policies.  Common Criteria 6.1: The entity \\nimplements logical access security \\nsoftware, infrastructure, and \\narchi tectures over protected \\ninformation assets to protect them \\nfrom security events to meet the \\nentity's objectives.  \\nCommon Criteria 6.2: Prior to \\nissuing system credentials and \\ngranting system access, the entity \\nregisters and authorizes new internal \\nand external users whose access is \\nadministered by the entity. For those \\nusers whose access is administered \\nby the entity,  user system rishav.bhattacharya99@gmail.comGoogle Confidental Information\"), (58, 'procedures.  Common Criteria 4.1: The entity \\nselects, develops, and performs \\nongoing and/or separate evaluations \\nto ascertain whether the \\ncomponents of internal control are \\npresent and func tioning.  \\nCommon Criteria 5.3: The entity \\ndeploys control activities through \\npolicies that establish what is \\nexpected and in procedures that put \\npolicies into action.  \\nCommon Criteria 8.1: The entity \\nauthorizes, designs, develops or \\nacquires, configures, documents, \\ntests, approves, and implements \\nchanges to infrastructure, data, \\nsoftware, and procedures to meet its \\nobjectives.  rishav.bhattacharya99@gmail.comGoogle Confidental Information'), (63, \"users whose access is administered \\nby the entity, user system \\ncredentials are removed when user \\naccess is no longer authorized . \\nCommon Criteria 6.3: The entity \\nauthorizes, modifies, or removes \\naccess to data, software, functions, \\nand other protected information \\nassets based on roles, \\nresponsibilities, or the system design \\nand changes, giving consideration to \\nthe concepts of least p rivilege and \\nsegregation of duties, to meet the \\nentity’s objectives.  \\nCustomers are responsible for reviewing users' \\naccess rights periodically, consistent with customer \\norganizational policies, to mitigate the risk of \\ninappropriate access.  Common Criteria  6.1: The entity \\nimplements logical access security \\nsoftware, infrastructure, and \\narchitectures over protected \\ninformation assets to protect them rishav.bhattacharya99@gmail.comGoogle Confidental Information\")]\n"
     ]
    }
   ],
   "source": [
    "print(structured_answer[\"citations\"])"
   ]
  },
  {
   "cell_type": "code",
   "execution_count": 29,
   "id": "37c8d503",
   "metadata": {},
   "outputs": [],
   "source": [
    "questions = [\n",
    "\"When was the access control policy last reviewed?\",\n",
    "\"What is the password management policy in place?\",\n",
    "\"What procedures are followed for decommissioning of equipments?\",\n",
    "\"What steps are taken to ensure removal of client information prior to decommissioning of equipments?\",\n",
    "\"When were information security policies and procedures updated?\",\n",
    "\"How are emergency changes performed?\",\n",
    "\"What cryptographic controls are in place to encrypt the data at rest and in motion?\",\n",
    "\"When was the incident management policy last reviewed?\",\n",
    "\"When was the incident response procedure tested?\",\n",
    "\"How are incidents classified?\",\n",
    "\"What procedures are in place to perform root cause analysis for an incident?\",\n",
    "\"What physical perimeter controls are in place?\",\n",
    "\"What procedures are in place to deploy patches throughout the IT infrastructure?\",\n",
    "\"How is a back up of the data performed?\",\n",
    "\"What backgound checks are performed during hiring of an employee?\",\n",
    "\"What security incident response procedures are in place?\"\n",
    "]"
   ]
  },
  {
   "cell_type": "code",
   "execution_count": 30,
   "id": "9c501ab4",
   "metadata": {},
   "outputs": [],
   "source": [
    "all_answers = []"
   ]
  },
  {
   "cell_type": "code",
   "execution_count": 31,
   "id": "2f40af85",
   "metadata": {},
   "outputs": [
    {
     "name": "stderr",
     "output_type": "stream",
     "text": [
      "OllamaEmbeddings: 100%|██████████| 1/1 [00:00<00:00,  1.02it/s]\n",
      "OllamaEmbeddings: 100%|██████████| 1/1 [00:02<00:00,  2.12s/it]\n",
      "OllamaEmbeddings: 100%|██████████| 1/1 [00:02<00:00,  2.27s/it]\n",
      "OllamaEmbeddings: 100%|██████████| 1/1 [00:00<00:00,  3.40it/s]\n",
      "OllamaEmbeddings: 100%|██████████| 1/1 [00:00<00:00,  3.46it/s]\n",
      "OllamaEmbeddings: 100%|██████████| 1/1 [00:00<00:00, 19.65it/s]\n",
      "OllamaEmbeddings: 100%|██████████| 1/1 [00:00<00:00, 14.16it/s]\n",
      "OllamaEmbeddings: 100%|██████████| 1/1 [00:00<00:00, 20.40it/s]\n",
      "OllamaEmbeddings: 100%|██████████| 1/1 [00:00<00:00, 22.53it/s]\n",
      "OllamaEmbeddings: 100%|██████████| 1/1 [00:00<00:00, 26.70it/s]\n",
      "OllamaEmbeddings: 100%|██████████| 1/1 [00:00<00:00, 10.20it/s]\n",
      "OllamaEmbeddings: 100%|██████████| 1/1 [00:00<00:00,  7.07it/s]\n",
      "OllamaEmbeddings: 100%|██████████| 1/1 [00:00<00:00, 16.15it/s]\n",
      "OllamaEmbeddings: 100%|██████████| 1/1 [00:00<00:00,  6.02it/s]\n",
      "OllamaEmbeddings: 100%|██████████| 1/1 [00:00<00:00, 13.65it/s]\n",
      "OllamaEmbeddings: 100%|██████████| 1/1 [00:00<00:00, 18.28it/s]\n"
     ]
    }
   ],
   "source": [
    "for question in questions:\n",
    "    structured_answer = get_answer(question)\n",
    "    all_answers.append(structured_answer)"
   ]
  },
  {
   "cell_type": "code",
   "execution_count": 32,
   "id": "6657b65f",
   "metadata": {},
   "outputs": [
    {
     "name": "stdout",
     "output_type": "stream",
     "text": [
      "The provided information states that security and privacy policies are reviewed at least annually. However, it does not explicitly mention when the access control policy was last reviewed.\n",
      "[144, 159, 119]\n",
      "[(119, 'security and privacy policies are reviewed at least \\nannually, and supporting standards, guidelines, \\nand FAQs are created and updated as needed.  No deviations noted.  \\nInspected internal documentation and determined \\nthat security and privacy policies, supporting \\nstandards, guidelines and FAQS were in place.  No deviations noted.  \\nInspected internal documentation and determined \\nsecurity and privacy policies were reviewed at \\nleast annually and authorized before they were \\nimplemented.  No deviations noted.  \\nInspected the most recent security and privacy \\npolicy reviews and determined policies were \\napproved by authorized personnel or committee, \\nreviewed at least annually, and updated as \\nneeded.  No deviations noted.  rishav.bhattacharya99@gmail.comGoogle Confidental Information'), (144, 'for testing was not performed timely.  \\nManagement’s Response:  \\n \\nManagement acknowledges that the periodic access review for one selected critical \\naccess group was not performed in a timely manner and completed after the defined \\nservice level objective (SLO). Management reviewed the memberships to the access \\ngroup and d etermined that there was no inappropriate access identified as result of the \\ndelayed review.  \\n \\nAdditionally, management reviewed the full population of in -scope critical access groups \\nand noted that less than 4% of reviews exceeded the defined SLO. Managem ent \\nperformed additional procedures and determined that no inappropriate access existed \\ndue to untimely access reviews. Management has reiterated the importance of timely \\ncompletion of the user access reviews to the relevant teams to ensure that reviews ar e \\ncompleted within the defined SLO.  rishav.bhattacharya99@gmail.comGoogle Confidental Information'), (159, 'user access to high -security areas in data centers \\nwas reviewed on a quarterly basis and \\ninappropriate access was removed  in a timely \\nmanner.  No deviations noted.  \\nInspected the internal policies and determined \\nuser access to high -security areas in data centers \\nwas reviewed on a periodic basis.  No deviations noted.  \\nInspected a sample of quarterly data center \\naccess reviews and determined that reviews were \\nperformed completely and accurately in a timely \\nmanner by appropriate personnel.  No deviations noted.  \\nInspected a sample of users marked as \\nappropriate within a quarterly data center access \\nreview and determined the users were appropriate \\nbased on cost center and job title.  No deviations noted.  rishav.bhattacharya99@gmail.comGoogle Confidental Information')]\n",
      "The password management policy in place includes the following guidelines:\n",
      "\n",
      "1. Minimum length: Passwords must meet a minimum length requirement to ensure sufficient complexity.\n",
      "2. Complexity: Passwords must include a combination of uppercase and lowercase letters, numbers, and special characters to enhance security.\n",
      "3. History: Passwords must not be reused for a certain period (least annually) to prevent predictability.\n",
      "4. Idle time lockout setting: Workstations and mobile devices are configured to initiate a password-protected screen saver after 15 minutes of inactivity to safeguard against unauthorized access when unattended.\n",
      "\n",
      "These policies are enforced by internal systems, and passwords are subject to cryptographic hashing to mitigate the risk of unauthorized disclosure or modification. Google also supplements password management with a two-factor authentication requirement for internal personnel accessing sensitive services and Google Cloud Platform from the corporate network. Additionally, workstations and mobile devices must be locked when unattended, as per organizational requirements.\n",
      "\n",
      "Policies, FAQs, and guidelines are updated as needed, and Google's Information Privacy program is designed to safeguard information assets and customer data privacy. Dedicated privacy teams assist with educating personnel about privacy practices and ensuring compliance with data protection laws and regulations.\n",
      "[48, 125, 46]\n",
      "[(48, 'password. Passwords are managed in accordance with a set of password construction, \\nprotection, and management guidelines, which enforce the following:  \\n• Minimum length  \\n• Complexity  \\n• History  \\n• Idle time lockout setting  \\nPassword configuration requirements are enforced by internal systems. In additio n to the security \\nrequirements enforced during configuration, internal passwords are subject to cryptographic \\nhashing to mitigate the risk of unauthorized disclosure or modification.  \\nGoogle has supplemented passwords with a two -factor authentication requirement for internal \\npersonnel to access sensitive internal corporate and production services and to access Google \\nCloud Platform in the production environment from the corporate networ k. Two -factor rishav.bhattacharya99@gmail.comGoogle Confidental Information'), (125, 'mobile devices when \\nunattended.  Workstation\\ns are configured to \\ninitiate a password \\nprotected screen -saver \\nafter 15 minutes of \\ninactivity (i.e., no input \\nfrom d evice user).  CC6.1  Inquired of the Program Manager and determined \\na security guideline was in place that required \\nusers to lock workstations and mobile devices \\nwhen unattended.  No deviations no ted. \\nInspected internal policies and determined the \\norganization required users to lock their \\nworkstations and mobile devices when \\nunattended.  No deviations noted.  \\nInspected the idle time configurations propagated \\nto workstations and determined they were \\nconfigured to enforce password standards.  No deviations noted.  rishav.bhattacharya99@gmail.comGoogle Confidental Information'), (46, 'least annually. Policies, FAQs, and guidelines are updated as needed.  \\nInformation Privacy Program  \\nGoogle’s Information Privacy program is designed to sa feguard information assets against \\nunauthorized use, access, disclosure, modification, damage, or loss, as well as the privacy of \\ncustomer data. The program includes, but is not limited to, developing and managing privacy \\npolicies, developing privacy requi rements for products and services including reviewing data \\nusage to ensure processing of customer data is in accordance with the applicable data protection \\nagreements entered into between Google and customers based on applicable data protection \\nlaws and re gulations, and developing mechanisms to react to privacy incidents and events that \\ncould affect Google’s information assets and customer data. Google has dedicated privacy teams \\nresponsible for educating Google personnel about privacy, assisting product te ams with privacy')]\n",
      "Based on the provided context, the procedures followed for decommissioning of equipment seem to include the following steps:\n",
      "\n",
      "1. Documentation Review: Relevant documentation regarding termination processes and requirements for decommissioning equipment such as production machines, support tools, network devices, and corporate assets is inspected and reviewed. No deviations are noted in these requirements.\n",
      "\n",
      "2. Automated Tool Configuration: The automated tool responsible for revoking access to the mentioned equipment upon submission of a termination request by Human Resources or a manager is inspected. It appears to be properly configured to remove access when required, and any failures in the process will generate an alert. No deviations are noted in its configuration.\n",
      "\n",
      "3. Data Erasure: Confidential information is erased by writing zeros to the drive and performing a multiple-step verification process to ensure that the drive contains no data. If there's any reason the drive cannot be erased, it will be stored securely until it can be physically destroyed. \n",
      "\n",
      "4. Physical Destruction: The physical destruction of disks is a multistage process starting with a crusher that deforms the drive, followed by a shredder that breaks the drive into small pieces. These pieces are then recycled at a secure facility. Each data center adheres to a strict disposal policy and any variances are immediately addressed.\n",
      "\n",
      "5. Data Retention and Deletion: Decommissioned equipment's data is disposed of as per the data retention and deletion policies. A sample product's backup data is verified to be deleted following its configured retention period, as part of the deletion mechanism process. No deviations are noted in this step.\n",
      "\n",
      "6. Inspection: All procedures and configurations are inspected to ensure adherence to policies and proper functioning. No deviations are noted in these inspections. \n",
      "\n",
      "In summary, the decommissioning procedure involves reviewing documentation, ensuring automated tools are properly configured, erasing and physically destroying data, following retention and deletion policies, inspecting the process, and addressing any variances immediately.\n",
      "[202, 138, 77]\n",
      "[(138, 'Inspected relevant documentation and determined \\nrequirements for terminating users with access to \\nproduction machines, support tools, network \\ndevices and corporate assets were documented.  No deviations noted.  \\nInspected the configuration of the automated tool \\nused to revoke access to production machines, \\nsupport tools, network devices, and corporate \\nassets and determined it was configured to \\nremove access upon submission of a termination \\nrequest by Human Resources or a manager.  No deviations noted.  \\nInspected the configuration of the automated tool \\nused to revoke access to production machines, \\nsupport tools, n etwork devices, and corporate \\nassets and determined that any failures in the \\nprocess will generate an alert.  No deviations noted.  rishav.bhattacharya99@gmail.comGoogle Confidental Information'), (202, 'erased by writing zeros to the drive and performing a multiple -step verification process to help \\nensure the drive contains no data. If the drive cannot be erased for any reason, it is stored \\nsecurely until it can be physically destroyed. Physical destruction of disks is a multistage process \\nbeginning with a crusher that deforms the drive, followed by a shredder that breaks the drive into \\nsmall pieces, which are then recycled at a secure facility. Each data center adheres to a strict \\ndisposal policy  and any variances are immediately addressed.  rishav.bhattacharya99@gmail.comGoogle Confidental Information'), (77, 'was disposed of as per the data retention and \\ndeletion policies.  No deviations noted.  \\nInspected a sample product and determined data \\ndeletion tools verified that backup data was \\ndeleted following the configured retention period, \\nas part of the deletion mechanism process.  No deviations noted.  \\nrishav.bhattacharya99@gmail.comGoogle Confidental Information')]\n",
      "Based on the provided context, there are a few key steps that seem to be taken to ensure the removal of client information prior to decommissioning of equipment:\n",
      "\n",
      "1. Termination procedures for users with access to production machines, support tools, network devices, and corporate assets are documented. This ensures that there is a clear process in place for handling terminations and addressing any associated data or access removal needs.\n",
      "2. An automated tool is configured to remove access upon submission of a termination request by Human Resources or a manager. This automation helps streamline the process of revoking access, reducing the likelihood of human error or delays.\n",
      "3. Any failures in the access revocation process will generate an alert. This ensures that issues are promptly identified and addressed, helping to minimize any potential security risks or data breaches.\n",
      "4. Changes to customer-facing services that may affect confidentiality, processing integrity, or availability are communicated to relevant personnel and impacted customers. This helps ensure that all stakeholders are aware of any changes that could impact the use or protection of client information.\n",
      "5. Design documentation and privacy reviews are required to be completed prior to a product or feature launch. This ensures that appropriate review and validation processes are in place for new products or updates, which can help identify and address any potential issues with data handling or removal before they become an issue during decommissioning.\n",
      "6. Procedures and requirements for a product or feature launch are defined and documented. This helps establish clear expectations and guidelines for the launch process, which can include steps related to data removal or handling prior to decommissioning.\n",
      "7. Inspections of launches reveal that design documents and privacy reviews were completed prior to the launch. This provides evidence that the review and validation processes are being followed as intended, increasing confidence in the protection of client information during equipment decommissioning. \n",
      "\n",
      "In summary, the organization appears to have well-defined processes and procedures in place to ensure proper handling and removal of client information before decommissioning equipment. These include automated access revocation tools, clear communication channels for changes impacting data confidentiality, and thorough validation processes for new product launches.\n",
      "[194, 138, 109]\n",
      "[(138, 'Inspected relevant documentation and determined \\nrequirements for terminating users with access to \\nproduction machines, support tools, network \\ndevices and corporate assets were documented.  No deviations noted.  \\nInspected the configuration of the automated tool \\nused to revoke access to production machines, \\nsupport tools, network devices, and corporate \\nassets and determined it was configured to \\nremove access upon submission of a termination \\nrequest by Human Resources or a manager.  No deviations noted.  \\nInspected the configuration of the automated tool \\nused to revoke access to production machines, \\nsupport tools, n etwork devices, and corporate \\nassets and determined that any failures in the \\nprocess will generate an alert.  No deviations noted.  rishav.bhattacharya99@gmail.comGoogle Confidental Information'), (194, 'and software from those assets has been diminished and is no \\nlonger required to meet the entity ’s objectives.  rishav.bhattacharya99@gmail.comGoogle Confidental Information'), (109, '42. Changes to customer \\nfacing services that may \\naffect confidentiality, \\nprocessing integrity and / \\nor availability are \\ncommunicat ed to \\nrelevant personnel and \\nimpacted customers.  CC2.2 , \\nCC2.3  Inquired of the Program Manager and determined \\ndesign documentation and privacy reviews, where \\napplicable, were required to be completed prior to \\na product or feature launch. Any changes to \\ncustomer facing services were communicated to \\nrelevant personnel and impacted customers.  No deviations noted.  \\nInspected documentation and determined the \\norganization had defined procedures and \\nrequirements for a product or feature launch.  No deviations noted.  \\nInspected a sample of launches and determined a \\ndesign document and privacy review were \\ncompleted prior to the launch.  No deviations noted.  rishav.bhattacharya99@gmail.comGoogle Confidental Information')]\n",
      "The information provided states that the security and privacy policies at Google are reviewed at least annually, and updates to policies, FAQs, and guidelines are made as needed. However, without a specific date or time frame given for the most recent update, it's not possible to determine exactly when the last update occurred.\n",
      "[52, 46, 119]\n",
      "[(46, 'least annually. Policies, FAQs, and guidelines are updated as needed.  \\nInformation Privacy Program  \\nGoogle’s Information Privacy program is designed to sa feguard information assets against \\nunauthorized use, access, disclosure, modification, damage, or loss, as well as the privacy of \\ncustomer data. The program includes, but is not limited to, developing and managing privacy \\npolicies, developing privacy requi rements for products and services including reviewing data \\nusage to ensure processing of customer data is in accordance with the applicable data protection \\nagreements entered into between Google and customers based on applicable data protection \\nlaws and re gulations, and developing mechanisms to react to privacy incidents and events that \\ncould affect Google’s information assets and customer data. Google has dedicated privacy teams \\nresponsible for educating Google personnel about privacy, assisting product te ams with privacy'), (119, 'security and privacy policies are reviewed at least \\nannually, and supporting standards, guidelines, \\nand FAQs are created and updated as needed.  No deviations noted.  \\nInspected internal documentation and determined \\nthat security and privacy policies, supporting \\nstandards, guidelines and FAQS were in place.  No deviations noted.  \\nInspected internal documentation and determined \\nsecurity and privacy policies were reviewed at \\nleast annually and authorized before they were \\nimplemented.  No deviations noted.  \\nInspected the most recent security and privacy \\npolicy reviews and determined policies were \\napproved by authorized personnel or committee, \\nreviewed at least annually, and updated as \\nneeded.  No deviations noted.  rishav.bhattacharya99@gmail.comGoogle Confidental Information'), (52, 'issues, document  lessons learned, and implement fixes to strengthen and improve security \\ncontrols, and to prevent future incidents. Processes for notifying customers of data security and \\nprivacy incidents that affect their accounts in accordance with disclosure laws or co ntractual \\nagreements are established and implemented.  rishav.bhattacharya99@gmail.comGoogle Confidental Information')]\n",
      "Emergency changes at Google are reviewed and approved on a weekly basis by the corresponding product owners. These changes typically go through a process that includes development, testing, and code reviews to ensure they meet Google's coding standards and policies. However, in case of emergencies, the product owners can expedite the change process to address critical issues promptly. The emergency changes are still required to be reviewed by production code reviewers who are independent of the developer assigned to the change, ensuring a thorough evaluation before implementation in the production environment. Additionally, Google's incident resolution process involves assigning incident tickets to the appropriate technical departments based on the nature of the problem, and these teams work together to resolve incidents as quickly as possible.\n",
      "[200, 50, 52]\n",
      "[(50, 'control, code review, building, testing, and record keeping.  Development, testing, and build \\nenvironments are separated from the production  environment through the use of logical security \\ncontrols.  \\nThe change process starts with a developer checking out a copy of source code files from the \\nsource code management system to modify them. Once development is complete, the developer \\ninitiates appl icable testing and code reviews. Once the change has received the appropriate code \\nreview, the change can be submitted making it the new head version. Google requires that \\nproduction code reviewers be independent of the developer assigned to the change and  follows \\nGoogle coding standards, in accordance with their policy. Production code reviews are \\nsystematically enforced. Emergency changes are reviewed and approved on a weekly basis by \\ncorresponding product owners.  rishav.bhattacharya99@gmail.comGoogle Confidental Information'), (200, 'actions related to identified deficiencies are made or taken in a \\ntimely manner.  \\nrishav.bhattacharya99@gmail.comGoogle Confidental Information'), (52, 'leads to automated escalatio n if the tool does not receive an acknowledgement from the notified \\ncontacts.  \\nIncident Resolution  \\nAfter gathering the necessary information about the incident, the incident ticket is assigned to the \\nappropriate support area based on the nature of the probl em and/or the root cause. Incidents are \\nusually forwarded to one of the corresponding technical departments:  \\n• System Reliability Engineers / Software Engineers  \\n• Networks  \\n• Database Administration  \\n• System Administration  \\n• Application Administration  \\n• Facilities  \\n• Netw ork Security  \\n• Platform Support  \\n• Legal Team  \\nThe incident ticket is closed upon resolution of the incident. Google also has an established post \\nmortem process for performing technical analysis of incidents after the fact to identify root cause \\nissues, document  lessons learned, and implement fixes to strengthen and improve security')]\n",
      "Google has several cryptographic controls in place to encrypt data at rest and in motion. Here's a summary of those controls:\n",
      "\n",
      "1. Data Encryption at Rest: Google uses a proprietary system to periodically generate and rotate encryption keys for protecting user data at rest on average every 90 days. The encryption key is not stored alongside the encrypted data. Instead, the wrapping keys needed to decrypt the user data are only known to the Key Management Service, which is controlled by access control lists (ACLs). Access is restricted to a limited number of individuals and applications, with auditing enabled for appropriate access determination.\n",
      "\n",
      "2. Data Encryption in Motion: Google ensures that user authentication and administrator sessions transmitted over the Internet are encrypted. This encryption is accomplished through various checks and processes, including:\n",
      "   - Inspection of internal policies regarding encryption mechanisms\n",
      "   - Evaluation of external documentation communicating how user authentication and administrator sessions transmitted over the Internet are encrypted\n",
      "   - Direct inspection and verification of encryption mechanism documentation and configurations for user authentication and administrator sessions transmitted over the Internet\n",
      "\n",
      "These measures ensure the confidentiality, integrity, and availability of user data both at rest and in motion within the Google Cloud Platform environment. Additionally, Google performs risk-based assessments, issue audit reports, and manages third-party vendor security assessments to further strengthen its cryptographic controls and protect against potential vulnerabilities or threats.\n",
      "[128, 202, 44]\n",
      "[(202, 'Service to decrypt it. The encrypted key is not stored alongside the encrypted data.  \\nThe wrapping keys needed to decrypt user data are only known to the Key Management Service. \\nAll access to/from the Key Management Service is controlled by ACLs. Access is restricted to a \\nlimited number of individuals and applications, and auditing is enabled to determine whether \\nacce ss is appropriate.  \\nKey Rotations  \\nGoogle uses a proprietary system to periodically generate and rotate an encryption key used to \\nprotect user data at rest on average at least every 90 days. New wrapped encryption keys are \\ngenerated for each new Google stora ge file (a Google file is defined in Encryption of Data Stored \\nat Google above). The system helps ensure that key rotations are managed appropriately, and \\nthat customer data is not encrypted with a discarded key.  \\nDisk Erase Process  \\nGoogle has a policy stat ing that no loose drive may leave Google data centers unless it has been'), (128, 'Internet.  No deviations noted.  \\nInspected internal policies regarding encryption \\nmechanisms and determined the organization \\nused encryption to protect user authentication and \\nadministrator sessions transmitted over the \\nInternet.  No deviations noted.  \\nInspected externally available documentation and \\ndetermined the  organization communicated how \\nuser authentication and administrator sessions \\ntransmitted over the Internet were encrypted.  No deviations noted.  \\nInspected encryption mechanism documentation \\nand configurations, and determined user \\nauthentication and administrator sessions \\ntransmitted over the Internet were encrypted.  No deviations noted.  rishav.bhattacharya99@gmail.comGoogle Confidental Information'), (44, 'controls, identity management, source code management, and authentication infrastructure \\ncontrols against requirements. They perform risk -based assessments and issue audit  reports \\nregarding their analysis. Remediation of security and privacy deficiencies are tracked through \\ninternal tools and remediation plans.  \\nThird -Party Risk Management  \\nGoogle may utilize third -party vendors to support Google Cloud Platform. Prior to onbo arding, \\nGoogle completes the nondisclosure agreement (NDA) then performs the vendor security \\nassessments (VSA) on all vendors with whom Google shares confidential or sensitive information, \\nincluding user data. A VSA is an important health check of a vendor ’s operational security posture. \\nIt assesses if a vendor adheres to generally accepted security and data protection best practices. \\nThe outcome of a VSA is a risk assessment and an approval that determines if a vendor should')]\n",
      "I don't have access to specific dates or information about Google's internal policies. Please check the latest documentation, company communications, or contact Google’s security team directly for the most accurate and up-to-date information on their incident management policy review status.\n",
      "[177, 52]\n",
      "[(52, 'leads to automated escalatio n if the tool does not receive an acknowledgement from the notified \\ncontacts.  \\nIncident Resolution  \\nAfter gathering the necessary information about the incident, the incident ticket is assigned to the \\nappropriate support area based on the nature of the probl em and/or the root cause. Incidents are \\nusually forwarded to one of the corresponding technical departments:  \\n• System Reliability Engineers / Software Engineers  \\n• Networks  \\n• Database Administration  \\n• System Administration  \\n• Application Administration  \\n• Facilities  \\n• Netw ork Security  \\n• Platform Support  \\n• Legal Team  \\nThe incident ticket is closed upon resolution of the incident. Google also has an established post \\nmortem process for performing technical analysis of incidents after the fact to identify root cause \\nissues, document  lessons learned, and implement fixes to strengthen and improve security'), (52, 'incident/problem type. There are established roles and responsibilities for personnel tasked with \\nincident management, including the  identification, assignment, managed remediation, and \\ncommunication of incidents.  \\nIncident Escalation  \\nGoogle has documented escalation procedures and communication protocols that address the \\nhandling of incidents and notifying appropriate individuals. Esca lated issues are treated with \\nhigher urgency and often shared with a wider audience.  \\nAlert escalation is facilitated by an internal escalation tool or manual escalation based on Google -\\nwide and team -specific escalation criteria. Production monitoring tools  are integrated with the alert \\nmanager tool and communicate with the escalation tool via email and notification to on -call via \\npager. The escalation time and contacts are defined in the escalation tool configuration files. This \\nleads to automated escalatio n if the tool does not receive an acknowledgement from the notified'), (177, 'Inspected a sample of incident tickets and \\ndetermined the incident response team quantified \\nand monitored incidents.  No deviations noted.  \\n123. T he organization \\nprovides external users \\nwith mechanisms to \\nreport security issues, \\nincidents and concerns.  CC2.3  Inquired of the Program Manager and determined \\nthat the organization provides ex ternal users with \\nmechanisms to report security issues, incidents, \\nand concerns.  No deviations noted.  \\nInspected the organization’s websites and \\ndetermined mechanisms were available for \\nexternal users to report security issues, incidents, \\nand concerns.  No deviations noted.  rishav.bhattacharya99@gmail.comGoogle Confidental Information')]\n",
      "The provided text does not explicitly mention the date or specific time when the incident response procedure was tested.\n",
      "[177, 170, 52]\n",
      "[(52, 'leads to automated escalatio n if the tool does not receive an acknowledgement from the notified \\ncontacts.  \\nIncident Resolution  \\nAfter gathering the necessary information about the incident, the incident ticket is assigned to the \\nappropriate support area based on the nature of the probl em and/or the root cause. Incidents are \\nusually forwarded to one of the corresponding technical departments:  \\n• System Reliability Engineers / Software Engineers  \\n• Networks  \\n• Database Administration  \\n• System Administration  \\n• Application Administration  \\n• Facilities  \\n• Netw ork Security  \\n• Platform Support  \\n• Legal Team  \\nThe incident ticket is closed upon resolution of the incident. Google also has an established post \\nmortem process for performing technical analysis of incidents after the fact to identify root cause \\nissues, document  lessons learned, and implement fixes to strengthen and improve security'), (170, 'were in place which o utline a quick, effective, and \\norderly response to information security incidents. \\nIn addition, classification, prioritization, and \\nescalation of security incidents per criticality are \\nalso identified and mechanisms are defined to \\nmeasure and monitor the t ype and scope of \\nsecurity incidents.  No deviations noted.  \\nInspected internal documentation and determined \\nthe organization maintained and periodically \\nupdated the incident response policy.  No deviations noted.  \\n115. The organization \\nmaintains a framework \\nthat defines how to \\norganize a response to CC7.3 , \\nCC7.4 , P6.3 Inquired of the Program Manager and determined \\nthe organization maintained a framework that \\ndefined how to organize a response to security \\nand privacy incidents.  No deviations noted.  rishav.bhattacharya99@gmail.comGoogle Confidental Information'), (177, \"Google LLC | Description of Criteria, Controls, Tests and Results of Tests  176 Criteria, Controls, Tests and Results of Tests  \\nControl Description  SOC 2 \\nCriteria \\nReference  Tests Performed by EY  Results  \\nincidents to the \\nresponsible team(s).  Inspected the organization's internal incident \\nresponse websites and determined incident \\nresponse teams and procedures were established \\nto handle security and privacy incidents.  No deviations noted.  \\nInspected relevant documentation and determined \\na proc ess was in place for incident response \\nteams to quantify, manage and monitor incidents.  No deviations noted.  \\nObserved the organization's incident management \\nticketing system and determined that mechanisms \\nwere in place to track internal and external \\nreported security and privacy incidents through \\ninvestigation and resolution.  No deviations noted.  \\nInspected a sample of incident tickets and \\ndetermined the incident response team quantified\")]\n",
      "At Google, incidents are typically classified based on the nature of the problem and its root cause. When an incident occurs, it goes through a process that includes gathering necessary information, assigning the ticket to the appropriate support area, and performing post-mortem analysis for technical assessment and identification of root cause issues. \n",
      "\n",
      "The classification of incidents often involves forwarding them to one or more of these corresponding technical departments: \n",
      "\n",
      "1. System Reliability Engineers / Software Engineers\n",
      "2. Networks\n",
      "3. Database Administration\n",
      "4. System Administration\n",
      "5. Application Administration\n",
      "6. Facilities\n",
      "7. Network Security\n",
      "8. Platform Support\n",
      "9. Legal Team\n",
      "\n",
      "Incidents are assigned to these departments based on the specifics of the problem and which team is best equipped to handle or resolve it. The incident ticket is closed upon resolution of the incident, and there are established roles and responsibilities for personnel involved in incident management. Additionally, Google has documented escalation procedures and communication protocols for handling incidents and notifying appropriate individuals. \n",
      "\n",
      "The incident/problem type and the roles and responsibilities of personnel tasked with incident management contribute to how incidents are classified at Google.\n",
      "[51, 52]\n",
      "[(52, 'leads to automated escalatio n if the tool does not receive an acknowledgement from the notified \\ncontacts.  \\nIncident Resolution  \\nAfter gathering the necessary information about the incident, the incident ticket is assigned to the \\nappropriate support area based on the nature of the probl em and/or the root cause. Incidents are \\nusually forwarded to one of the corresponding technical departments:  \\n• System Reliability Engineers / Software Engineers  \\n• Networks  \\n• Database Administration  \\n• System Administration  \\n• Application Administration  \\n• Facilities  \\n• Netw ork Security  \\n• Platform Support  \\n• Legal Team  \\nThe incident ticket is closed upon resolution of the incident. Google also has an established post \\nmortem process for performing technical analysis of incidents after the fact to identify root cause \\nissues, document  lessons learned, and implement fixes to strengthen and improve security'), (52, 'incident/problem type. There are established roles and responsibilities for personnel tasked with \\nincident management, including the  identification, assignment, managed remediation, and \\ncommunication of incidents.  \\nIncident Escalation  \\nGoogle has documented escalation procedures and communication protocols that address the \\nhandling of incidents and notifying appropriate individuals. Esca lated issues are treated with \\nhigher urgency and often shared with a wider audience.  \\nAlert escalation is facilitated by an internal escalation tool or manual escalation based on Google -\\nwide and team -specific escalation criteria. Production monitoring tools  are integrated with the alert \\nmanager tool and communicate with the escalation tool via email and notification to on -call via \\npager. The escalation time and contacts are defined in the escalation tool configuration files. This \\nleads to automated escalatio n if the tool does not receive an acknowledgement from the notified'), (51, 'Dedicated on -call personnel and incident response teams are responsible for managing, \\nresponding to, and tracking incidents. These teams are organized into formalized shifts and are \\nresponsible for helping resolve emergencies 24 x 7. Incident response policies are in place and \\nprocedures for handling incidents are documented.  \\nIncident Alert and Recording  \\nLog sources are used to generate alerts whenever an anomaly occurs. Production monitoring \\ntools, in response to an anomaly, automatically generate alerts to relevant teams based on the \\nanomaly configurations set by each team. An anomaly may also be manually do cumented by a \\nGoogle employee when an issue is identified or in response to a customer service request.  rishav.bhattacharya99@gmail.comGoogle Confidental Information')]\n",
      "Google has an established post-mortem process for performing technical analysis of incidents after the fact to identify root cause issues, document lessons learned, and implement fixes to strengthen and improve security. This process is likely in place to conduct a thorough root cause analysis for any incident. The specific procedures may vary depending on the type of incident, but generally, the following steps are followed:\n",
      "\n",
      "1. Incident resolution: The incident is resolved, and the ticket is closed.\n",
      "2. Post-mortem analysis: A detailed investigation is conducted to understand the incident, identify its root cause, and document any lessons learned. This includes examining system logs, monitoring data, and relevant documentation.\n",
      "3. Root cause identification: Technical analysts work to determine the underlying causes of the incident, including any contributing factors or system weaknesses.\n",
      "4. Lessons learned: The team documents what was learned from the incident, including any improvements that can be made to processes, tools, or systems to prevent similar incidents in the future.\n",
      "5. Implementation of fixes: Based on the findings from the root cause analysis, appropriate fixes and improvements are implemented. This may involve changes to software, configurations, or processes.\n",
      "6. Review and communication: The post-mortem report is reviewed by relevant stakeholders, and the findings are communicated to the wider team and, in some cases, to customers or partners affected by the incident.\n",
      "\n",
      "These procedures help Google to not only resolve incidents effectively but also learn from them and improve their systems and processes to prevent similar issues in the future.\n",
      "[51, 52]\n",
      "[(52, 'leads to automated escalatio n if the tool does not receive an acknowledgement from the notified \\ncontacts.  \\nIncident Resolution  \\nAfter gathering the necessary information about the incident, the incident ticket is assigned to the \\nappropriate support area based on the nature of the probl em and/or the root cause. Incidents are \\nusually forwarded to one of the corresponding technical departments:  \\n• System Reliability Engineers / Software Engineers  \\n• Networks  \\n• Database Administration  \\n• System Administration  \\n• Application Administration  \\n• Facilities  \\n• Netw ork Security  \\n• Platform Support  \\n• Legal Team  \\nThe incident ticket is closed upon resolution of the incident. Google also has an established post \\nmortem process for performing technical analysis of incidents after the fact to identify root cause \\nissues, document  lessons learned, and implement fixes to strengthen and improve security'), (52, 'incident/problem type. There are established roles and responsibilities for personnel tasked with \\nincident management, including the  identification, assignment, managed remediation, and \\ncommunication of incidents.  \\nIncident Escalation  \\nGoogle has documented escalation procedures and communication protocols that address the \\nhandling of incidents and notifying appropriate individuals. Esca lated issues are treated with \\nhigher urgency and often shared with a wider audience.  \\nAlert escalation is facilitated by an internal escalation tool or manual escalation based on Google -\\nwide and team -specific escalation criteria. Production monitoring tools  are integrated with the alert \\nmanager tool and communicate with the escalation tool via email and notification to on -call via \\npager. The escalation time and contacts are defined in the escalation tool configuration files. This \\nleads to automated escalatio n if the tool does not receive an acknowledgement from the notified'), (51, 'Dedicated on -call personnel and incident response teams are responsible for managing, \\nresponding to, and tracking incidents. These teams are organized into formalized shifts and are \\nresponsible for helping resolve emergencies 24 x 7. Incident response policies are in place and \\nprocedures for handling incidents are documented.  \\nIncident Alert and Recording  \\nLog sources are used to generate alerts whenever an anomaly occurs. Production monitoring \\ntools, in response to an anomaly, automatically generate alerts to relevant teams based on the \\nanomaly configurations set by each team. An anomaly may also be manually do cumented by a \\nGoogle employee when an issue is identified or in response to a customer service request.  rishav.bhattacharya99@gmail.comGoogle Confidental Information')]\n",
      "The physical perimeter controls in place for data center security, as described in the provided context, include:\n",
      "\n",
      "1. Data center perimeters are defined and secured via physical barriers.\n",
      "2. Access to sensitive data center zones requires approval from authorized personnel.\n",
      "3. Controls for access include badge readers, biometric identification mechanisms, or physical locks.\n",
      "4. Security guards, access badges, and video cameras are part of the security evaluation criteria.\n",
      "5. Entrances, cages, suites, and rooms in use by Google are secured by either badge readers or other access control mechanisms.\n",
      "[56, 49, 155]\n",
      "[(155, 'the duration of their visits.  No deviations n oted.  \\n96. Data center \\nperimeters are defined \\nand secured via physical \\nbarriers.  CC6.4  Inquired of the Data Center Security Manager and \\ndetermined data center perimeters were defined \\nand secure d via physical barriers. Access to \\nsensitive data center zones required approval \\nfrom authorized personnel and was controlled via \\nbadge readers, biometric identification \\nmechanisms, or physical locks.  No deviations noted.  \\nrishav.bhattacharya99@gmail.comGoogle Confidental Information'), (49, 'and Third -Party Owned) for physical security to help protect production servers, network devices, \\nand network connections within Google data centers. Guidelines for evaluating the security of \\ndata centers are described in Google’s d ata center security evaluation criteria. Additionally, data \\ncenter personnel perform periodic surveys and reviews of data centers. Data centers that house \\nGoogle Cloud Platform systems and infrastructure components are reviewed and assessed \\nperiodically fo r ongoing security compliance. A security report is then created summarizing any \\nobservations, deviations, or action items. This report is presented to executive management for \\nreview and approval. Corrective actions are taken when necessary. The data cent er security \\nevaluation criteria elements include:  \\n• Existence of security guards, access badges, and video cameras  \\n• Entrances, cages, suites, and rooms in use by Google are secured by either badge readers,'), (56, 'holds individuals accountable for \\ntheir internal control responsibilities \\nin the pur suit of objectives.  \\nCommon Criteria 5.1: The entity \\nselects and develops control \\nactivities that contribute to the \\nmitigation of risks to the \\nachievement of objectives to \\nacceptable levels.  rishav.bhattacharya99@gmail.comGoogle Confidental Information')]\n",
      "Based on the provided context, the procedures for deploying patches throughout the IT infrastructure at Google include:\n",
      "\n",
      "1. Communication of changes: Changes to customer-facing services that may affect confidentiality, processing integrity, and/or availability are communicated to relevant personnel and impacted customers.\n",
      "2. Internal guidelines: Guidelines are made available internally to govern the installation of software on organization-owned assets.\n",
      "3. Automatic detection and correction of deviations: Tools are utilized to detect deviations from pre-defined Operating System (OS) configurations on production machines and correct them automatically, allowing for easy rollout of updates to system files in a consistent manner.\n",
      "4. Vulnerability Management Program: The goal of Google's Vulnerability Management program is to investigate and respond to all relevant security vulnerabilities. Procedures are in place to detect, classify, and remediate these vulnerabilities at Google.\n",
      "5. Common Criteria compliance: Google complies with Common Criteria 8.1, which includes authorizing, designing, developing or acquiring, configuring, documenting, testing, approving, and implementing changes to infrastructure, data, software, and procedures to meet its objectives.\n",
      "\n",
      "These procedures help ensure that patches and updates are deployed throughout the IT infrastructure in a controlled, consistent, and timely manner.\n",
      "[51, 58, 59]\n",
      "[(59, 'deploys contro l activities through \\npolicies that establish what is \\nexpected and in procedures that put \\npolicies into action.  rishav.bhattacharya99@gmail.comGoogle Confidental Information'), (51, 'functionality of internal tools that support the build and release process. Changes to customer \\nfacing services that may affect  confidentiality,  processing integrity, and/or availability are \\ncommunicated to relevant personnel and impacted customers.  \\nGuidelines are made available internally to govern the installation of software on organization -\\nowned assets. Additionally, tools are utilized to detect deviations from pre -defined Operating \\nSystem (OS) configurations on production machines and correct them automatically. This allows \\nfor an easy roll out of up dates to system files in a consistent manner and helps ensure that \\nmachines remain in a known current state.  \\nVulnerability Management  \\nThe goal of Google’s Vulnerability Management program is to investigate and respond to all \\nrelevant security vulnerabiliti es. The Vulnerability Management Guidelines describe how \\nvulnerabilities are detected, classified, and remediated at Google. As part of this program, the'), (58, 'procedures.  Common Criteria 4.1: The entity \\nselects, develops, and performs \\nongoing and/or separate evaluations \\nto ascertain whether the \\ncomponents of internal control are \\npresent and func tioning.  \\nCommon Criteria 5.3: The entity \\ndeploys control activities through \\npolicies that establish what is \\nexpected and in procedures that put \\npolicies into action.  \\nCommon Criteria 8.1: The entity \\nauthorizes, designs, develops or \\nacquires, configures, documents, \\ntests, approves, and implements \\nchanges to infrastructure, data, \\nsoftware, and procedures to meet its \\nobjectives.  rishav.bhattacharya99@gmail.comGoogle Confidental Information')]\n",
      "I don't have enough context about the specific system or data you are referring to in order to provide information on how the backup process is performed. If you could provide more details or context, I would be happy to help. In general, though, a backup of data typically involves creating a duplicate copy of the original data and storing it in a separate location for disaster recovery or restoration purposes.\n",
      "[53, 77, 22]\n",
      "[(77, 'was disposed of as per the data retention and \\ndeletion policies.  No deviations noted.  \\nInspected a sample product and determined data \\ndeletion tools verified that backup data was \\ndeleted following the configured retention period, \\nas part of the deletion mechanism process.  No deviations noted.  \\nrishav.bhattacharya99@gmail.comGoogle Confidental Information'), (22, \"data, DNA sequence reads, reference -based alignments, and variant calls, using Google's cloud \\ninfrastructure.  \\nData Catalog  \\nData Catalog is a fully managed and scalable metadata management service that allows \\norganizations to have a centralized and unified vie w of data assets.  \\nDataflow  \\nDataflow is a fully managed service for consistent, parallel data -processing pipelines. It utilizes \\nthe Apache Beam Software Development Kits (SDKs) with composable primitives for building \\ndata-processing pipelines for batch or c ontinuous processing. This service manages the lifecycle \\nof Compute Engine resources for the processing pipeline(s) and provides a monitoring interface \\nfor understanding pipeline health.  \\n  rishav.bhattacharya99@gmail.comGoogle Confidental Information\"), (53, 'synchronize system files on the root partition of production machines with a standard base image.  \\nGoogle utilizes barcodes and asset tags to track the status and location of data center equipment \\nfrom acquisition to insta llation, retirement, and destruction. If a component fails to pass a \\nperformance test at any point during its lifecycle, it is removed from inventory and retired. Google \\nhard drives leverage technologies such as Full Disk Encryption (FDE) and drive locking , to protect \\ndata at rest. Personally Identifiable Information (PII) on removable media leaving Google facilities \\nis approved and encrypted.  \\nWhen a hard drive is retired, authorized individuals verify that the disk is erased by writing zeros \\nto the drive a nd performing a multiple -step verification process to help ensure the drive contains \\nno data. If the drive cannot be erased for any reason, it is stored securely until it can be physically')]\n",
      "During the hiring process, Google may conduct background checks on all potential employees, temporary workers, and independent contractors. The specifics or extent of these background checks depend on the position and location for which the individual is applying. These checks may include criminal, credit, and/or security checks, as well as verification of the individual's education, previous employment, and referrals. The purpose of these background checks is to ensure that employees are qualified for their functional responsibility and meet the required skills and experience outlined in their job description.\n",
      "[88, 43, 44]\n",
      "[(43, 'employees are qualified for their functional responsibility. Every employee has a written job \\ndescription that lists qualifications, such as requisite skill s and experience, which candidates must \\nmeet in order to be hired by Google. Where local labor law or statutory regulations permit, Google \\nmay conduct criminal, credit, and/or security checks on all potential employees, temporary \\nworkers, and independent c ontractors, as well as verification of the individual’s education, \\nprevious employment, and referrals. The specifics or extent of background checks performed \\ndepend on the position and location for which the individual is applying.  \\nUpon acceptance of emplo yment, all employees including extended workforce personnel are \\nrequired to execute a confidentiality agreement as well as acknowledge receipt and compliance \\nwith Google’s Code of Conduct. The confidentiality and privacy of customer data is emphasized'), (88, 'employees and extended workforce personnel \\nwere required to acknowledge the Code of \\nConduct as part of the terms and conditions of \\nemployment.  No deviations noted.  \\nInspected a sample of newly hired employees and \\nextended workforce personnel a nd determined the \\nCode of Conduct was acknowledged as part of \\nthe terms and conditions of their employment.  No deviations noted.  rishav.bhattacharya99@gmail.comGoogle Confidental Information'), (44, 'controls, identity management, source code management, and authentication infrastructure \\ncontrols against requirements. They perform risk -based assessments and issue audit  reports \\nregarding their analysis. Remediation of security and privacy deficiencies are tracked through \\ninternal tools and remediation plans.  \\nThird -Party Risk Management  \\nGoogle may utilize third -party vendors to support Google Cloud Platform. Prior to onbo arding, \\nGoogle completes the nondisclosure agreement (NDA) then performs the vendor security \\nassessments (VSA) on all vendors with whom Google shares confidential or sensitive information, \\nincluding user data. A VSA is an important health check of a vendor ’s operational security posture. \\nIt assesses if a vendor adheres to generally accepted security and data protection best practices. \\nThe outcome of a VSA is a risk assessment and an approval that determines if a vendor should')]\n",
      "Based on the provided context, several security incident response procedures are in place:\n",
      "\n",
      "1. A quick, effective, and orderly response to information security incidents is outlined, including classification, prioritization, and escalation of security incidents based on their criticality. Mechanisms are defined to measure and monitor the type and scope of security incidents.\n",
      "\n",
      "2. The organization maintains and periodically updates an incident response policy, which has been inspected and no deviations were noted.\n",
      "\n",
      "3. There's a framework that defines how to organize a response to security and privacy incidents, including CC7.3 and CC7.4. No deviations were noted in maintaining this framework.\n",
      "\n",
      "4. Incidents are assigned to the appropriate support area based on their nature or root cause, such as System Reliability Engineers, Software Engineers, Networks, Database Administration, System Administration, Application Administration, Facilities, Network Security, Platform Support, Legal Team, etc.\n",
      "\n",
      "5. An established post-mortem process is in place for technical analysis of incidents after their resolution. This process helps identify root cause issues, document lessons learned, and implement fixes to strengthen and improve security.\n",
      "\n",
      "6. Security event logs are restricted to authorized personnel and continuously monitored using a Google proprietary Security Event Management (SEM) system. The SEM is supplemented with codified logic for \"hunts\" that trigger automated alerts to security personnel when intrusion attempts or other security-related events are detected.\n",
      "\n",
      "7. Security alerts are generated for further investigation based on predefined thresholds, and the owners of affected components determine the appropriate response based on severity and defined response criteria.\n",
      "\n",
      "8. Resource management procedures establish monitoring, maintenance, and evaluation of capacity demand. A dashboard provides details such as resource footprint to manage availability effectively.\n",
      "[170, 52, 54]\n",
      "[(170, 'were in place which o utline a quick, effective, and \\norderly response to information security incidents. \\nIn addition, classification, prioritization, and \\nescalation of security incidents per criticality are \\nalso identified and mechanisms are defined to \\nmeasure and monitor the t ype and scope of \\nsecurity incidents.  No deviations noted.  \\nInspected internal documentation and determined \\nthe organization maintained and periodically \\nupdated the incident response policy.  No deviations noted.  \\n115. The organization \\nmaintains a framework \\nthat defines how to \\norganize a response to CC7.3 , \\nCC7.4 , P6.3 Inquired of the Program Manager and determined \\nthe organization maintained a framework that \\ndefined how to organize a response to security \\nand privacy incidents.  No deviations noted.  rishav.bhattacharya99@gmail.comGoogle Confidental Information'), (52, 'leads to automated escalatio n if the tool does not receive an acknowledgement from the notified \\ncontacts.  \\nIncident Resolution  \\nAfter gathering the necessary information about the incident, the incident ticket is assigned to the \\nappropriate support area based on the nature of the probl em and/or the root cause. Incidents are \\nusually forwarded to one of the corresponding technical departments:  \\n• System Reliability Engineers / Software Engineers  \\n• Networks  \\n• Database Administration  \\n• System Administration  \\n• Application Administration  \\n• Facilities  \\n• Netw ork Security  \\n• Platform Support  \\n• Legal Team  \\nThe incident ticket is closed upon resolution of the incident. Google also has an established post \\nmortem process for performing technical analysis of incidents after the fact to identify root cause \\nissues, document  lessons learned, and implement fixes to strengthen and improve security'), (54, 'logs is restricted to authorized personnel. Security event logs are monitored continuously using a \\nGoogle proprietary Security Event Management (SEM) system to detect intrusion attempts and \\nother security re lated events. The SEM is supplemented with codified logic which creates the \\n“hunts” that trigger automated alerts to security personnel. The security alerts are generated for \\nfurther investigation (manual and automated hunts) based on predefined thresholds . When a \\nvulnerability has been identified, the Security team determines the appropriate response and \\ntracks the issue through resolution. The owners of the affected component(s) determine the \\nappropriate response, based on the severity and defined respons e criteria of the vulnerability.  \\nAvailability Monitoring  \\nResource management procedures are also established to monitor, maintain, and evaluate \\ncapacity demand. Google uses a dashboard that provides details such as resource footprint,')]\n"
     ]
    }
   ],
   "source": [
    "for answer in all_answers:\n",
    "    print(answer[\"response\"])\n",
    "    print(answer[\"pages\"])\n",
    "    print(answer[\"citations\"])"
   ]
  }
 ],
 "metadata": {
  "kernelspec": {
   "display_name": "Python 3 (ipykernel)",
   "language": "python",
   "name": "python3"
  },
  "language_info": {
   "codemirror_mode": {
    "name": "ipython",
    "version": 3
   },
   "file_extension": ".py",
   "mimetype": "text/x-python",
   "name": "python",
   "nbconvert_exporter": "python",
   "pygments_lexer": "ipython3",
   "version": "3.10.0"
  }
 },
 "nbformat": 4,
 "nbformat_minor": 5
}
