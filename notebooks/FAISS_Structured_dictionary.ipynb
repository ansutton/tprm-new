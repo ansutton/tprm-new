{
 "cells": [
  {
   "cell_type": "code",
   "execution_count": null,
   "id": "fe874aab-c03b-441d-846e-01ad119882eb",
   "metadata": {},
   "outputs": [],
   "source": [
    "!pip install faiss-cpu pypdf2"
   ]
  },
  {
   "cell_type": "code",
   "execution_count": 1,
   "id": "ea7bb5d1-c59e-43eb-afce-585669876df3",
   "metadata": {},
   "outputs": [],
   "source": [
    "import faiss\n",
    "from langchain.embeddings import OllamaEmbeddings\n",
    "from langchain.vectorstores import FAISS\n",
    "from langchain.document_loaders import PyPDFLoader\n",
    "from langchain_text_splitters import RecursiveCharacterTextSplitter"
   ]
  },
  {
   "cell_type": "code",
   "execution_count": 2,
   "id": "ccdc31d1-b5f5-449d-be32-ec6cb4bc9d05",
   "metadata": {},
   "outputs": [],
   "source": [
    "# pdf_file_path = 'C:/Users/ribhattacharya/Desktop/TPRM-Accelerator/assets/data/Security Evidence Docs/SOC 2/GoogleCloud/Audit-Reports-1720774833381-81ba2e/GCP-[FALL-2023] GCP SOC 2..pdf'\n",
    "# with fitz.open(pdf_file_path) as doc:\n",
    "#         page_contents = [page.get_text() for page in doc]\n",
    "pdf_loader = PyPDFLoader(\"C:/Users/ansutton/Desktop/TPRM/TPRM-Accelerator/assets/data/Security Evidence Docs/SOC 2/GoogleCloud/Audit-Reports-1720774833381-81ba2e/GCP-[FALL-2023] GCP SOC 2..pdf\")\n",
    "raw_documents= pdf_loader.load()\n",
    "text_splitter = RecursiveCharacterTextSplitter(\n",
    "        chunk_size=1000,\n",
    "        chunk_overlap=100,\n",
    "        length_function=len,\n",
    "        is_separator_regex=False,\n",
    "    )\n",
    "documents = text_splitter.split_documents(raw_documents)"
   ]
  },
  {
   "cell_type": "code",
   "execution_count": 3,
   "id": "773377ea-662d-4005-8b48-38c8b4c02f29",
   "metadata": {},
   "outputs": [],
   "source": [
    "embedding_model = OllamaEmbeddings(model='nomic-embed-text',show_progress=True)"
   ]
  },
  {
   "cell_type": "code",
   "execution_count": 4,
   "id": "45d783e1-689c-4eb2-993c-c8b0c34afe4d",
   "metadata": {},
   "outputs": [],
   "source": [
    "batch_size = 50\n",
    "texts=[doc.page_content for doc in documents]\n",
    "#document_texts = [doc.page_content for doc in documents]\n",
    "documents_embeddings = []"
   ]
  },
  {
   "cell_type": "code",
   "execution_count": 5,
   "id": "7264eddb-c764-4ddc-b6cc-cd76bc66fdbc",
   "metadata": {},
   "outputs": [
    {
     "name": "stderr",
     "output_type": "stream",
     "text": [
      "OllamaEmbeddings: 100%|██████████| 50/50 [00:24<00:00,  2.04it/s]\n",
      "OllamaEmbeddings: 100%|██████████| 50/50 [00:22<00:00,  2.23it/s]\n",
      "OllamaEmbeddings: 100%|██████████| 50/50 [00:22<00:00,  2.26it/s]\n",
      "OllamaEmbeddings: 100%|██████████| 50/50 [00:21<00:00,  2.37it/s]\n",
      "OllamaEmbeddings: 100%|██████████| 50/50 [00:20<00:00,  2.39it/s]\n",
      "OllamaEmbeddings: 100%|██████████| 50/50 [00:20<00:00,  2.42it/s]\n",
      "OllamaEmbeddings: 100%|██████████| 50/50 [00:20<00:00,  2.39it/s]\n",
      "OllamaEmbeddings: 100%|██████████| 50/50 [00:20<00:00,  2.43it/s]\n",
      "OllamaEmbeddings: 100%|██████████| 50/50 [00:21<00:00,  2.35it/s]\n",
      "OllamaEmbeddings: 100%|██████████| 30/30 [00:14<00:00,  2.11it/s]\n"
     ]
    }
   ],
   "source": [
    "for i in range(0, len(texts),batch_size):\n",
    "    batch_texts = texts[i:i+batch_size]\n",
    "    batch_embeddings = embedding_model.embed_documents(batch_texts)\n",
    "    documents_embeddings.extend(batch_embeddings)"
   ]
  },
  {
   "cell_type": "code",
   "execution_count": 6,
   "id": "221f1869-b6ab-407a-9438-046a0d8b80fd",
   "metadata": {},
   "outputs": [],
   "source": [
    "import numpy as np"
   ]
  },
  {
   "cell_type": "code",
   "execution_count": 7,
   "id": "2adba7f0-181c-4cc5-9c7a-db0253728656",
   "metadata": {},
   "outputs": [],
   "source": [
    "#create FAISS index and add the embeddings\n",
    "document_embeddings_np = np.array(documents_embeddings)\n",
    "dimension = document_embeddings_np.shape[1]\n",
    "faiss_index = faiss.IndexFlatL2(dimension)\n",
    "faiss_index.add(document_embeddings_np)"
   ]
  },
  {
   "cell_type": "code",
   "execution_count": 8,
   "id": "7eaba1a3-3df9-47ff-a110-7a4f9b563d35",
   "metadata": {},
   "outputs": [],
   "source": [
    "from langchain.docstore import InMemoryDocstore"
   ]
  },
  {
   "cell_type": "code",
   "execution_count": 9,
   "id": "da314a3e-cd12-4760-8182-484d19b594f1",
   "metadata": {},
   "outputs": [],
   "source": [
    "docstore = InMemoryDocstore(dict(enumerate(documents)))\n",
    "index_to_docstore_id = {i: i for i in range(len(documents))}"
   ]
  },
  {
   "cell_type": "code",
   "execution_count": 10,
   "id": "de6b6942-2697-44aa-9080-f95b65fbc9ce",
   "metadata": {},
   "outputs": [],
   "source": [
    "vector_store = FAISS(embedding_model, faiss_index, docstore, index_to_docstore_id)"
   ]
  },
  {
   "cell_type": "code",
   "execution_count": 11,
   "id": "bd1f5559-f50a-4b57-b3c8-fca0d09d3c64",
   "metadata": {},
   "outputs": [],
   "source": [
    "from langchain_community.chat_models import ChatOllama\n",
    "from langchain.chains import RetrievalQA"
   ]
  },
  {
   "cell_type": "code",
   "execution_count": 12,
   "id": "7af8a9aa",
   "metadata": {},
   "outputs": [],
   "source": [
    "local_model = \"llama3.2\" \n",
    "llm = ChatOllama(model=local_model)"
   ]
  },
  {
   "cell_type": "code",
   "execution_count": 13,
   "id": "0673c863",
   "metadata": {},
   "outputs": [],
   "source": [
    "qa_chain = RetrievalQA.from_chain_type(\n",
    "    llm = llm,\n",
    "    chain_type=\"stuff\",\n",
    "    retriever = vector_store.as_retriever(search_kwargs={\"k\":3}),\n",
    "    return_source_documents = True\n",
    ")"
   ]
  },
  {
   "cell_type": "code",
   "execution_count": 14,
   "id": "42257700",
   "metadata": {},
   "outputs": [],
   "source": [
    "def get_answer(query):\n",
    "    result = qa_chain({\"query\": query})\n",
    "    response = result['result']\n",
    "\n",
    "    source_documents = result['source_documents']\n",
    "    pages = set()\n",
    "    citations = []\n",
    "    for doc in source_documents:\n",
    "        pages.add(doc.metadata['page'])\n",
    "        citations.append((doc.metadata['page'], doc.page_content))\n",
    "\n",
    "    return {\n",
    "        \"response\": response,\n",
    "        \"pages\": list(pages),\n",
    "        \"citations\": citations\n",
    "    }"
   ]
  },
  {
   "cell_type": "code",
   "execution_count": 15,
   "id": "8bc1d072",
   "metadata": {},
   "outputs": [],
   "source": [
    "query = \"What access control procedures are in place?\""
   ]
  },
  {
   "cell_type": "code",
   "execution_count": 16,
   "id": "af9ff6b1",
   "metadata": {},
   "outputs": [
    {
     "name": "stderr",
     "output_type": "stream",
     "text": [
      "c:\\Users\\ansutton\\AppData\\Local\\Programs\\Python\\Python310\\lib\\site-packages\\langchain_core\\_api\\deprecation.py:139: LangChainDeprecationWarning: The method `Chain.__call__` was deprecated in langchain 0.1.0 and will be removed in 0.3.0. Use invoke instead.\n",
      "  warn_deprecated(\n",
      "OllamaEmbeddings:   0%|          | 0/1 [00:00<?, ?it/s]"
     ]
    },
    {
     "name": "stderr",
     "output_type": "stream",
     "text": [
      "OllamaEmbeddings: 100%|██████████| 1/1 [00:00<00:00,  8.28it/s]\n"
     ]
    }
   ],
   "source": [
    "structured_answer = get_answer(query)"
   ]
  },
  {
   "cell_type": "code",
   "execution_count": 17,
   "id": "d32a78f5",
   "metadata": {},
   "outputs": [
    {
     "name": "stdout",
     "output_type": "stream",
     "text": [
      "Based on the provided context, I can infer that there are several access control procedures in place. Here are some of the specific procedures mentioned:\n",
      "\n",
      "1. Registration and authorization of new internal and external users before granting them system access.\n",
      "2. Removal of user system credentials when user access is no longer authorized.\n",
      "3. Authorization, modification, or removal of access to data, software, functions, and other protected information assets based on roles, responsibilities, or the system design.\n",
      "4. Implementation of logical access security software, infrastructure, and architectures over protected information assets.\n",
      "\n",
      "Additionally, customers are responsible for reviewing users' access rights periodically, consistent with their organizational policies, to mitigate the risk of inappropriate access.\n",
      "\n",
      "Note that Common Criteria 6.1 specifically mentions implementing logical access security software, infrastructure, and architectures, which suggests a structured approach to protecting sensitive information from unauthorized access.\n"
     ]
    }
   ],
   "source": [
    "print(structured_answer[\"response\"])"
   ]
  },
  {
   "cell_type": "code",
   "execution_count": 18,
   "id": "9f3d7fa5",
   "metadata": {},
   "outputs": [
    {
     "name": "stdout",
     "output_type": "stream",
     "text": [
      "[58, 60, 63]\n"
     ]
    }
   ],
   "source": [
    "print(structured_answer[\"pages\"])"
   ]
  },
  {
   "cell_type": "code",
   "execution_count": 19,
   "id": "8f4149c8",
   "metadata": {},
   "outputs": [
    {
     "name": "stdout",
     "output_type": "stream",
     "text": [
      "[(60, \"assesses those parties’ compliance \\non a periodic and as -needed basis \\nand takes corrective action, if \\nnecessary.  \\nCustomer s are responsible for provisioning, \\nmaintaining, monitoring and disabling end users’ \\naccess in accordance with their internal access \\nmanagement policies.  Common Criteria 6.1: The entity \\nimplements logical access security \\nsoftware, infrastructure, and \\narchi tectures over protected \\ninformation assets to protect them \\nfrom security events to meet the \\nentity's objectives.  \\nCommon Criteria 6.2: Prior to \\nissuing system credentials and \\ngranting system access, the entity \\nregisters and authorizes new internal \\nand external users whose access is \\nadministered by the entity. For those \\nusers whose access is administered \\nby the entity,  user system rishav.bhattacharya99@gmail.comGoogle Confidental Information\"), (58, 'procedures.  Common Criteria 4.1: The entity \\nselects, develops, and performs \\nongoing and/or separate evaluations \\nto ascertain whether the \\ncomponents of internal control are \\npresent and func tioning.  \\nCommon Criteria 5.3: The entity \\ndeploys control activities through \\npolicies that establish what is \\nexpected and in procedures that put \\npolicies into action.  \\nCommon Criteria 8.1: The entity \\nauthorizes, designs, develops or \\nacquires, configures, documents, \\ntests, approves, and implements \\nchanges to infrastructure, data, \\nsoftware, and procedures to meet its \\nobjectives.  rishav.bhattacharya99@gmail.comGoogle Confidental Information'), (63, \"users whose access is administered \\nby the entity, user system \\ncredentials are removed when user \\naccess is no longer authorized . \\nCommon Criteria 6.3: The entity \\nauthorizes, modifies, or removes \\naccess to data, software, functions, \\nand other protected information \\nassets based on roles, \\nresponsibilities, or the system design \\nand changes, giving consideration to \\nthe concepts of least p rivilege and \\nsegregation of duties, to meet the \\nentity’s objectives.  \\nCustomers are responsible for reviewing users' \\naccess rights periodically, consistent with customer \\norganizational policies, to mitigate the risk of \\ninappropriate access.  Common Criteria  6.1: The entity \\nimplements logical access security \\nsoftware, infrastructure, and \\narchitectures over protected \\ninformation assets to protect them rishav.bhattacharya99@gmail.comGoogle Confidental Information\")]\n"
     ]
    }
   ],
   "source": [
    "print(structured_answer[\"citations\"])"
   ]
  },
  {
   "cell_type": "code",
   "execution_count": 20,
   "id": "37c8d503",
   "metadata": {},
   "outputs": [],
   "source": [
    "questions = [\n",
    "\"When was the access control policy last reviewed?\",\n",
    "\"What is the password management policy in place?\",\n",
    "\"What procedures are followed for decommissioning of equipments?\",\n",
    "\"What steps are taken to ensure removal of client information prior to decommissioning of equipments?\",\n",
    "\"When were information security policies and procedures updated?\",\n",
    "\"How are emergency changes performed?\",\n",
    "\"What cryptographic controls are in place to encrypt the data at rest and in motion?\",\n",
    "\"When was the incident management policy last reviewed?\",\n",
    "\"When was the incident response procedure tested?\",\n",
    "\"How are incidents classified?\",\n",
    "\"What procedures are in place to perform root cause analysis for an incident?\",\n",
    "\"What physical perimeter controls are in place?\",\n",
    "\"What procedures are in place to deploy patches throughout the IT infrastructure?\",\n",
    "\"How is a back up of the data performed?\",\n",
    "\"What backgound checks are performed during hiring of an employee?\",\n",
    "\"What security incident response procedures are in place?\"\n",
    "]"
   ]
  },
  {
   "cell_type": "code",
   "execution_count": 21,
   "id": "9c501ab4",
   "metadata": {},
   "outputs": [],
   "source": [
    "all_answers = []"
   ]
  },
  {
   "cell_type": "code",
   "execution_count": 22,
   "id": "2f40af85",
   "metadata": {},
   "outputs": [
    {
     "name": "stderr",
     "output_type": "stream",
     "text": [
      "OllamaEmbeddings: 100%|██████████| 1/1 [00:01<00:00,  1.80s/it]\n",
      "OllamaEmbeddings: 100%|██████████| 1/1 [00:00<00:00, 14.59it/s]\n",
      "OllamaEmbeddings: 100%|██████████| 1/1 [00:00<00:00, 12.61it/s]\n",
      "OllamaEmbeddings: 100%|██████████| 1/1 [00:00<00:00, 10.40it/s]\n",
      "OllamaEmbeddings: 100%|██████████| 1/1 [00:00<00:00, 14.96it/s]\n",
      "OllamaEmbeddings: 100%|██████████| 1/1 [00:00<00:00, 21.08it/s]\n",
      "OllamaEmbeddings: 100%|██████████| 1/1 [00:00<00:00, 10.87it/s]\n",
      "OllamaEmbeddings: 100%|██████████| 1/1 [00:00<00:00, 19.09it/s]\n",
      "OllamaEmbeddings: 100%|██████████| 1/1 [00:00<00:00, 18.57it/s]\n",
      "OllamaEmbeddings: 100%|██████████| 1/1 [00:00<00:00, 23.49it/s]\n",
      "OllamaEmbeddings: 100%|██████████| 1/1 [00:00<00:00, 12.47it/s]\n",
      "OllamaEmbeddings: 100%|██████████| 1/1 [00:00<00:00, 16.14it/s]\n",
      "OllamaEmbeddings: 100%|██████████| 1/1 [00:00<00:00, 15.05it/s]\n",
      "OllamaEmbeddings: 100%|██████████| 1/1 [00:00<00:00, 17.55it/s]\n",
      "OllamaEmbeddings: 100%|██████████| 1/1 [00:00<00:00, 14.96it/s]\n",
      "OllamaEmbeddings: 100%|██████████| 1/1 [00:00<00:00, 16.10it/s]\n"
     ]
    }
   ],
   "source": [
    "for question in questions:\n",
    "    structured_answer = get_answer(question)\n",
    "    all_answers.append(structured_answer)"
   ]
  },
  {
   "cell_type": "code",
   "execution_count": 23,
   "id": "6657b65f",
   "metadata": {},
   "outputs": [
    {
     "name": "stdout",
     "output_type": "stream",
     "text": [
      "I don't know when the access control policy was last reviewed based on the information provided. The text mentions that security and privacy policies are reviewed at least annually, but it does not specifically mention the review of an \"access control policy\". However, it does mention that user access to high-security areas in data centers was reviewed on a quarterly basis, which suggests that some level of access control monitoring is in place.\n",
      "[144, 159, 119]\n",
      "[(119, 'security and privacy policies are reviewed at least \\nannually, and supporting standards, guidelines, \\nand FAQs are created and updated as needed.  No deviations noted.  \\nInspected internal documentation and determined \\nthat security and privacy policies, supporting \\nstandards, guidelines and FAQS were in place.  No deviations noted.  \\nInspected internal documentation and determined \\nsecurity and privacy policies were reviewed at \\nleast annually and authorized before they were \\nimplemented.  No deviations noted.  \\nInspected the most recent security and privacy \\npolicy reviews and determined policies were \\napproved by authorized personnel or committee, \\nreviewed at least annually, and updated as \\nneeded.  No deviations noted.  rishav.bhattacharya99@gmail.comGoogle Confidental Information'), (144, 'for testing was not performed timely.  \\nManagement’s Response:  \\n \\nManagement acknowledges that the periodic access review for one selected critical \\naccess group was not performed in a timely manner and completed after the defined \\nservice level objective (SLO). Management reviewed the memberships to the access \\ngroup and d etermined that there was no inappropriate access identified as result of the \\ndelayed review.  \\n \\nAdditionally, management reviewed the full population of in -scope critical access groups \\nand noted that less than 4% of reviews exceeded the defined SLO. Managem ent \\nperformed additional procedures and determined that no inappropriate access existed \\ndue to untimely access reviews. Management has reiterated the importance of timely \\ncompletion of the user access reviews to the relevant teams to ensure that reviews ar e \\ncompleted within the defined SLO.  rishav.bhattacharya99@gmail.comGoogle Confidental Information'), (159, 'user access to high -security areas in data centers \\nwas reviewed on a quarterly basis and \\ninappropriate access was removed  in a timely \\nmanner.  No deviations noted.  \\nInspected the internal policies and determined \\nuser access to high -security areas in data centers \\nwas reviewed on a periodic basis.  No deviations noted.  \\nInspected a sample of quarterly data center \\naccess reviews and determined that reviews were \\nperformed completely and accurately in a timely \\nmanner by appropriate personnel.  No deviations noted.  \\nInspected a sample of users marked as \\nappropriate within a quarterly data center access \\nreview and determined the users were appropriate \\nbased on cost center and job title.  No deviations noted.  rishav.bhattacharya99@gmail.comGoogle Confidental Information')]\n",
      "According to the provided context, the password management policy includes:\n",
      "\n",
      "* Minimum length\n",
      "* Complexity\n",
      "* History\n",
      "* Idle time lockout setting (with a 15-minute threshold for workstation and mobile device inactivity)\n",
      "\n",
      "Additionally, internal passwords are subject to cryptographic hashing to mitigate unauthorized disclosure or modification. \n",
      "\n",
      "It is also mentioned that Google requires two-factor authentication (2FA) for internal personnel accessing sensitive services and the Google Cloud Platform from the corporate network.\n",
      "[48, 125, 46]\n",
      "[(48, 'password. Passwords are managed in accordance with a set of password construction, \\nprotection, and management guidelines, which enforce the following:  \\n• Minimum length  \\n• Complexity  \\n• History  \\n• Idle time lockout setting  \\nPassword configuration requirements are enforced by internal systems. In additio n to the security \\nrequirements enforced during configuration, internal passwords are subject to cryptographic \\nhashing to mitigate the risk of unauthorized disclosure or modification.  \\nGoogle has supplemented passwords with a two -factor authentication requirement for internal \\npersonnel to access sensitive internal corporate and production services and to access Google \\nCloud Platform in the production environment from the corporate networ k. Two -factor rishav.bhattacharya99@gmail.comGoogle Confidental Information'), (125, 'mobile devices when \\nunattended.  Workstation\\ns are configured to \\ninitiate a password \\nprotected screen -saver \\nafter 15 minutes of \\ninactivity (i.e., no input \\nfrom d evice user).  CC6.1  Inquired of the Program Manager and determined \\na security guideline was in place that required \\nusers to lock workstations and mobile devices \\nwhen unattended.  No deviations no ted. \\nInspected internal policies and determined the \\norganization required users to lock their \\nworkstations and mobile devices when \\nunattended.  No deviations noted.  \\nInspected the idle time configurations propagated \\nto workstations and determined they were \\nconfigured to enforce password standards.  No deviations noted.  rishav.bhattacharya99@gmail.comGoogle Confidental Information'), (46, 'least annually. Policies, FAQs, and guidelines are updated as needed.  \\nInformation Privacy Program  \\nGoogle’s Information Privacy program is designed to sa feguard information assets against \\nunauthorized use, access, disclosure, modification, damage, or loss, as well as the privacy of \\ncustomer data. The program includes, but is not limited to, developing and managing privacy \\npolicies, developing privacy requi rements for products and services including reviewing data \\nusage to ensure processing of customer data is in accordance with the applicable data protection \\nagreements entered into between Google and customers based on applicable data protection \\nlaws and re gulations, and developing mechanisms to react to privacy incidents and events that \\ncould affect Google’s information assets and customer data. Google has dedicated privacy teams \\nresponsible for educating Google personnel about privacy, assisting product te ams with privacy')]\n",
      "I don't know the specific procedures followed for decommissioning equipment from the provided context. The text appears to be related to data security, confidentiality, and disposal policies, but it doesn't mention anything about equipment decommissioning.\n",
      "[202, 138, 77]\n",
      "[(138, 'Inspected relevant documentation and determined \\nrequirements for terminating users with access to \\nproduction machines, support tools, network \\ndevices and corporate assets were documented.  No deviations noted.  \\nInspected the configuration of the automated tool \\nused to revoke access to production machines, \\nsupport tools, network devices, and corporate \\nassets and determined it was configured to \\nremove access upon submission of a termination \\nrequest by Human Resources or a manager.  No deviations noted.  \\nInspected the configuration of the automated tool \\nused to revoke access to production machines, \\nsupport tools, n etwork devices, and corporate \\nassets and determined that any failures in the \\nprocess will generate an alert.  No deviations noted.  rishav.bhattacharya99@gmail.comGoogle Confidental Information'), (202, 'erased by writing zeros to the drive and performing a multiple -step verification process to help \\nensure the drive contains no data. If the drive cannot be erased for any reason, it is stored \\nsecurely until it can be physically destroyed. Physical destruction of disks is a multistage process \\nbeginning with a crusher that deforms the drive, followed by a shredder that breaks the drive into \\nsmall pieces, which are then recycled at a secure facility. Each data center adheres to a strict \\ndisposal policy  and any variances are immediately addressed.  rishav.bhattacharya99@gmail.comGoogle Confidental Information'), (77, 'was disposed of as per the data retention and \\ndeletion policies.  No deviations noted.  \\nInspected a sample product and determined data \\ndeletion tools verified that backup data was \\ndeleted following the configured retention period, \\nas part of the deletion mechanism process.  No deviations noted.  \\nrishav.bhattacharya99@gmail.comGoogle Confidental Information')]\n",
      "I don't know the specific steps taken by your organization to ensure removal of client information prior to decommissioning equipment. The provided text only mentions that automated tools are used to revoke access and generate alerts in case of failures, but it does not provide details on the actual process for removing client information from equipment before decommissioning.\n",
      "[194, 138, 109]\n",
      "[(138, 'Inspected relevant documentation and determined \\nrequirements for terminating users with access to \\nproduction machines, support tools, network \\ndevices and corporate assets were documented.  No deviations noted.  \\nInspected the configuration of the automated tool \\nused to revoke access to production machines, \\nsupport tools, network devices, and corporate \\nassets and determined it was configured to \\nremove access upon submission of a termination \\nrequest by Human Resources or a manager.  No deviations noted.  \\nInspected the configuration of the automated tool \\nused to revoke access to production machines, \\nsupport tools, n etwork devices, and corporate \\nassets and determined that any failures in the \\nprocess will generate an alert.  No deviations noted.  rishav.bhattacharya99@gmail.comGoogle Confidental Information'), (194, 'and software from those assets has been diminished and is no \\nlonger required to meet the entity ’s objectives.  rishav.bhattacharya99@gmail.comGoogle Confidental Information'), (109, '42. Changes to customer \\nfacing services that may \\naffect confidentiality, \\nprocessing integrity and / \\nor availability are \\ncommunicat ed to \\nrelevant personnel and \\nimpacted customers.  CC2.2 , \\nCC2.3  Inquired of the Program Manager and determined \\ndesign documentation and privacy reviews, where \\napplicable, were required to be completed prior to \\na product or feature launch. Any changes to \\ncustomer facing services were communicated to \\nrelevant personnel and impacted customers.  No deviations noted.  \\nInspected documentation and determined the \\norganization had defined procedures and \\nrequirements for a product or feature launch.  No deviations noted.  \\nInspected a sample of launches and determined a \\ndesign document and privacy review were \\ncompleted prior to the launch.  No deviations noted.  rishav.bhattacharya99@gmail.comGoogle Confidental Information')]\n",
      "I don't know when the information security policies and procedures were last updated. The text only mentions that they are reviewed at least annually, but it doesn't provide a specific date or year for the most recent update.\n",
      "[52, 46, 119]\n",
      "[(46, 'least annually. Policies, FAQs, and guidelines are updated as needed.  \\nInformation Privacy Program  \\nGoogle’s Information Privacy program is designed to sa feguard information assets against \\nunauthorized use, access, disclosure, modification, damage, or loss, as well as the privacy of \\ncustomer data. The program includes, but is not limited to, developing and managing privacy \\npolicies, developing privacy requi rements for products and services including reviewing data \\nusage to ensure processing of customer data is in accordance with the applicable data protection \\nagreements entered into between Google and customers based on applicable data protection \\nlaws and re gulations, and developing mechanisms to react to privacy incidents and events that \\ncould affect Google’s information assets and customer data. Google has dedicated privacy teams \\nresponsible for educating Google personnel about privacy, assisting product te ams with privacy'), (119, 'security and privacy policies are reviewed at least \\nannually, and supporting standards, guidelines, \\nand FAQs are created and updated as needed.  No deviations noted.  \\nInspected internal documentation and determined \\nthat security and privacy policies, supporting \\nstandards, guidelines and FAQS were in place.  No deviations noted.  \\nInspected internal documentation and determined \\nsecurity and privacy policies were reviewed at \\nleast annually and authorized before they were \\nimplemented.  No deviations noted.  \\nInspected the most recent security and privacy \\npolicy reviews and determined policies were \\napproved by authorized personnel or committee, \\nreviewed at least annually, and updated as \\nneeded.  No deviations noted.  rishav.bhattacharya99@gmail.comGoogle Confidental Information'), (52, 'issues, document  lessons learned, and implement fixes to strengthen and improve security \\ncontrols, and to prevent future incidents. Processes for notifying customers of data security and \\nprivacy incidents that affect their accounts in accordance with disclosure laws or co ntractual \\nagreements are established and implemented.  rishav.bhattacharya99@gmail.comGoogle Confidental Information')]\n",
      "According to the context provided, emergency changes are reviewed and approved on a weekly basis by corresponding product owners. This implies that there is a pre-determined process in place for handling urgent or emergency changes, with a review and approval process facilitated by the product owner.\n",
      "[200, 50, 52]\n",
      "[(50, 'control, code review, building, testing, and record keeping.  Development, testing, and build \\nenvironments are separated from the production  environment through the use of logical security \\ncontrols.  \\nThe change process starts with a developer checking out a copy of source code files from the \\nsource code management system to modify them. Once development is complete, the developer \\ninitiates appl icable testing and code reviews. Once the change has received the appropriate code \\nreview, the change can be submitted making it the new head version. Google requires that \\nproduction code reviewers be independent of the developer assigned to the change and  follows \\nGoogle coding standards, in accordance with their policy. Production code reviews are \\nsystematically enforced. Emergency changes are reviewed and approved on a weekly basis by \\ncorresponding product owners.  rishav.bhattacharya99@gmail.comGoogle Confidental Information'), (200, 'actions related to identified deficiencies are made or taken in a \\ntimely manner.  \\nrishav.bhattacharya99@gmail.comGoogle Confidental Information'), (52, 'leads to automated escalatio n if the tool does not receive an acknowledgement from the notified \\ncontacts.  \\nIncident Resolution  \\nAfter gathering the necessary information about the incident, the incident ticket is assigned to the \\nappropriate support area based on the nature of the probl em and/or the root cause. Incidents are \\nusually forwarded to one of the corresponding technical departments:  \\n• System Reliability Engineers / Software Engineers  \\n• Networks  \\n• Database Administration  \\n• System Administration  \\n• Application Administration  \\n• Facilities  \\n• Netw ork Security  \\n• Platform Support  \\n• Legal Team  \\nThe incident ticket is closed upon resolution of the incident. Google also has an established post \\nmortem process for performing technical analysis of incidents after the fact to identify root cause \\nissues, document  lessons learned, and implement fixes to strengthen and improve security')]\n",
      "I don't have specific information on the exact cryptographic controls used by Google to encrypt data at rest and in motion, but based on the context provided, I can infer some general practices that are commonly used in the industry.\n",
      "\n",
      "For encryption at rest:\n",
      "\n",
      "*   Google uses a proprietary system to periodically generate and rotate an encryption key used to protect user data at rest.\n",
      "*   New wrapped encryption keys are generated for each new Google Storage file.\n",
      "*   This ensures that customer data is not encrypted with a discarded key.\n",
      "\n",
      "For encryption in motion:\n",
      "\n",
      "*   It appears that Google uses Transport Layer Security (TLS) or a similar protocol to encrypt user authentication and administrator sessions transmitted over the Internet, as indicated by the external documentation and inspection of internal policies.\n",
      "\n",
      "Please note that this information might not be comprehensive or up-to-date.\n",
      "[128, 202, 44]\n",
      "[(202, 'Service to decrypt it. The encrypted key is not stored alongside the encrypted data.  \\nThe wrapping keys needed to decrypt user data are only known to the Key Management Service. \\nAll access to/from the Key Management Service is controlled by ACLs. Access is restricted to a \\nlimited number of individuals and applications, and auditing is enabled to determine whether \\nacce ss is appropriate.  \\nKey Rotations  \\nGoogle uses a proprietary system to periodically generate and rotate an encryption key used to \\nprotect user data at rest on average at least every 90 days. New wrapped encryption keys are \\ngenerated for each new Google stora ge file (a Google file is defined in Encryption of Data Stored \\nat Google above). The system helps ensure that key rotations are managed appropriately, and \\nthat customer data is not encrypted with a discarded key.  \\nDisk Erase Process  \\nGoogle has a policy stat ing that no loose drive may leave Google data centers unless it has been'), (128, 'Internet.  No deviations noted.  \\nInspected internal policies regarding encryption \\nmechanisms and determined the organization \\nused encryption to protect user authentication and \\nadministrator sessions transmitted over the \\nInternet.  No deviations noted.  \\nInspected externally available documentation and \\ndetermined the  organization communicated how \\nuser authentication and administrator sessions \\ntransmitted over the Internet were encrypted.  No deviations noted.  \\nInspected encryption mechanism documentation \\nand configurations, and determined user \\nauthentication and administrator sessions \\ntransmitted over the Internet were encrypted.  No deviations noted.  rishav.bhattacharya99@gmail.comGoogle Confidental Information'), (44, 'controls, identity management, source code management, and authentication infrastructure \\ncontrols against requirements. They perform risk -based assessments and issue audit  reports \\nregarding their analysis. Remediation of security and privacy deficiencies are tracked through \\ninternal tools and remediation plans.  \\nThird -Party Risk Management  \\nGoogle may utilize third -party vendors to support Google Cloud Platform. Prior to onbo arding, \\nGoogle completes the nondisclosure agreement (NDA) then performs the vendor security \\nassessments (VSA) on all vendors with whom Google shares confidential or sensitive information, \\nincluding user data. A VSA is an important health check of a vendor ’s operational security posture. \\nIt assesses if a vendor adheres to generally accepted security and data protection best practices. \\nThe outcome of a VSA is a risk assessment and an approval that determines if a vendor should')]\n",
      "I don't know when the incident management policy was last reviewed. The provided text does not mention this information.\n",
      "[177, 52]\n",
      "[(52, 'leads to automated escalatio n if the tool does not receive an acknowledgement from the notified \\ncontacts.  \\nIncident Resolution  \\nAfter gathering the necessary information about the incident, the incident ticket is assigned to the \\nappropriate support area based on the nature of the probl em and/or the root cause. Incidents are \\nusually forwarded to one of the corresponding technical departments:  \\n• System Reliability Engineers / Software Engineers  \\n• Networks  \\n• Database Administration  \\n• System Administration  \\n• Application Administration  \\n• Facilities  \\n• Netw ork Security  \\n• Platform Support  \\n• Legal Team  \\nThe incident ticket is closed upon resolution of the incident. Google also has an established post \\nmortem process for performing technical analysis of incidents after the fact to identify root cause \\nissues, document  lessons learned, and implement fixes to strengthen and improve security'), (52, 'incident/problem type. There are established roles and responsibilities for personnel tasked with \\nincident management, including the  identification, assignment, managed remediation, and \\ncommunication of incidents.  \\nIncident Escalation  \\nGoogle has documented escalation procedures and communication protocols that address the \\nhandling of incidents and notifying appropriate individuals. Esca lated issues are treated with \\nhigher urgency and often shared with a wider audience.  \\nAlert escalation is facilitated by an internal escalation tool or manual escalation based on Google -\\nwide and team -specific escalation criteria. Production monitoring tools  are integrated with the alert \\nmanager tool and communicate with the escalation tool via email and notification to on -call via \\npager. The escalation time and contacts are defined in the escalation tool configuration files. This \\nleads to automated escalatio n if the tool does not receive an acknowledgement from the notified'), (177, 'Inspected a sample of incident tickets and \\ndetermined the incident response team quantified \\nand monitored incidents.  No deviations noted.  \\n123. T he organization \\nprovides external users \\nwith mechanisms to \\nreport security issues, \\nincidents and concerns.  CC2.3  Inquired of the Program Manager and determined \\nthat the organization provides ex ternal users with \\nmechanisms to report security issues, incidents, \\nand concerns.  No deviations noted.  \\nInspected the organization’s websites and \\ndetermined mechanisms were available for \\nexternal users to report security issues, incidents, \\nand concerns.  No deviations noted.  rishav.bhattacharya99@gmail.comGoogle Confidental Information')]\n",
      "I don't have information on when the incident response procedure was last tested. The text snippet you provided does not mention the date or frequency of testing for the incident response procedure.\n",
      "[177, 170, 52]\n",
      "[(52, 'leads to automated escalatio n if the tool does not receive an acknowledgement from the notified \\ncontacts.  \\nIncident Resolution  \\nAfter gathering the necessary information about the incident, the incident ticket is assigned to the \\nappropriate support area based on the nature of the probl em and/or the root cause. Incidents are \\nusually forwarded to one of the corresponding technical departments:  \\n• System Reliability Engineers / Software Engineers  \\n• Networks  \\n• Database Administration  \\n• System Administration  \\n• Application Administration  \\n• Facilities  \\n• Netw ork Security  \\n• Platform Support  \\n• Legal Team  \\nThe incident ticket is closed upon resolution of the incident. Google also has an established post \\nmortem process for performing technical analysis of incidents after the fact to identify root cause \\nissues, document  lessons learned, and implement fixes to strengthen and improve security'), (170, 'were in place which o utline a quick, effective, and \\norderly response to information security incidents. \\nIn addition, classification, prioritization, and \\nescalation of security incidents per criticality are \\nalso identified and mechanisms are defined to \\nmeasure and monitor the t ype and scope of \\nsecurity incidents.  No deviations noted.  \\nInspected internal documentation and determined \\nthe organization maintained and periodically \\nupdated the incident response policy.  No deviations noted.  \\n115. The organization \\nmaintains a framework \\nthat defines how to \\norganize a response to CC7.3 , \\nCC7.4 , P6.3 Inquired of the Program Manager and determined \\nthe organization maintained a framework that \\ndefined how to organize a response to security \\nand privacy incidents.  No deviations noted.  rishav.bhattacharya99@gmail.comGoogle Confidental Information'), (177, \"Google LLC | Description of Criteria, Controls, Tests and Results of Tests  176 Criteria, Controls, Tests and Results of Tests  \\nControl Description  SOC 2 \\nCriteria \\nReference  Tests Performed by EY  Results  \\nincidents to the \\nresponsible team(s).  Inspected the organization's internal incident \\nresponse websites and determined incident \\nresponse teams and procedures were established \\nto handle security and privacy incidents.  No deviations noted.  \\nInspected relevant documentation and determined \\na proc ess was in place for incident response \\nteams to quantify, manage and monitor incidents.  No deviations noted.  \\nObserved the organization's incident management \\nticketing system and determined that mechanisms \\nwere in place to track internal and external \\nreported security and privacy incidents through \\ninvestigation and resolution.  No deviations noted.  \\nInspected a sample of incident tickets and \\ndetermined the incident response team quantified\")]\n",
      "I don't know how incidents are specifically classified according to the provided text, but it does mention that incident resolution involves assigning the ticket to \"the appropriate support area based on the nature of the problem and/or the root cause.\" This suggests some form of categorization or classification by type or severity, but I'm not aware of any explicit details on how this is done.\n",
      "[51, 52]\n",
      "[(52, 'leads to automated escalatio n if the tool does not receive an acknowledgement from the notified \\ncontacts.  \\nIncident Resolution  \\nAfter gathering the necessary information about the incident, the incident ticket is assigned to the \\nappropriate support area based on the nature of the probl em and/or the root cause. Incidents are \\nusually forwarded to one of the corresponding technical departments:  \\n• System Reliability Engineers / Software Engineers  \\n• Networks  \\n• Database Administration  \\n• System Administration  \\n• Application Administration  \\n• Facilities  \\n• Netw ork Security  \\n• Platform Support  \\n• Legal Team  \\nThe incident ticket is closed upon resolution of the incident. Google also has an established post \\nmortem process for performing technical analysis of incidents after the fact to identify root cause \\nissues, document  lessons learned, and implement fixes to strengthen and improve security'), (52, 'incident/problem type. There are established roles and responsibilities for personnel tasked with \\nincident management, including the  identification, assignment, managed remediation, and \\ncommunication of incidents.  \\nIncident Escalation  \\nGoogle has documented escalation procedures and communication protocols that address the \\nhandling of incidents and notifying appropriate individuals. Esca lated issues are treated with \\nhigher urgency and often shared with a wider audience.  \\nAlert escalation is facilitated by an internal escalation tool or manual escalation based on Google -\\nwide and team -specific escalation criteria. Production monitoring tools  are integrated with the alert \\nmanager tool and communicate with the escalation tool via email and notification to on -call via \\npager. The escalation time and contacts are defined in the escalation tool configuration files. This \\nleads to automated escalatio n if the tool does not receive an acknowledgement from the notified'), (51, 'Dedicated on -call personnel and incident response teams are responsible for managing, \\nresponding to, and tracking incidents. These teams are organized into formalized shifts and are \\nresponsible for helping resolve emergencies 24 x 7. Incident response policies are in place and \\nprocedures for handling incidents are documented.  \\nIncident Alert and Recording  \\nLog sources are used to generate alerts whenever an anomaly occurs. Production monitoring \\ntools, in response to an anomaly, automatically generate alerts to relevant teams based on the \\nanomaly configurations set by each team. An anomaly may also be manually do cumented by a \\nGoogle employee when an issue is identified or in response to a customer service request.  rishav.bhattacharya99@gmail.comGoogle Confidental Information')]\n",
      "I don't know the specific details of Google's root cause analysis procedures, but I can tell you that it is mentioned in the text that Google has an established post-mortem process for performing technical analysis of incidents after the fact. This process aims to identify root cause issues, document lessons learned, and implement fixes to strengthen and improve security.\n",
      "\n",
      "However, the specific details of this process are not provided in the text.\n",
      "[51, 52]\n",
      "[(52, 'leads to automated escalatio n if the tool does not receive an acknowledgement from the notified \\ncontacts.  \\nIncident Resolution  \\nAfter gathering the necessary information about the incident, the incident ticket is assigned to the \\nappropriate support area based on the nature of the probl em and/or the root cause. Incidents are \\nusually forwarded to one of the corresponding technical departments:  \\n• System Reliability Engineers / Software Engineers  \\n• Networks  \\n• Database Administration  \\n• System Administration  \\n• Application Administration  \\n• Facilities  \\n• Netw ork Security  \\n• Platform Support  \\n• Legal Team  \\nThe incident ticket is closed upon resolution of the incident. Google also has an established post \\nmortem process for performing technical analysis of incidents after the fact to identify root cause \\nissues, document  lessons learned, and implement fixes to strengthen and improve security'), (52, 'incident/problem type. There are established roles and responsibilities for personnel tasked with \\nincident management, including the  identification, assignment, managed remediation, and \\ncommunication of incidents.  \\nIncident Escalation  \\nGoogle has documented escalation procedures and communication protocols that address the \\nhandling of incidents and notifying appropriate individuals. Esca lated issues are treated with \\nhigher urgency and often shared with a wider audience.  \\nAlert escalation is facilitated by an internal escalation tool or manual escalation based on Google -\\nwide and team -specific escalation criteria. Production monitoring tools  are integrated with the alert \\nmanager tool and communicate with the escalation tool via email and notification to on -call via \\npager. The escalation time and contacts are defined in the escalation tool configuration files. This \\nleads to automated escalatio n if the tool does not receive an acknowledgement from the notified'), (51, 'Dedicated on -call personnel and incident response teams are responsible for managing, \\nresponding to, and tracking incidents. These teams are organized into formalized shifts and are \\nresponsible for helping resolve emergencies 24 x 7. Incident response policies are in place and \\nprocedures for handling incidents are documented.  \\nIncident Alert and Recording  \\nLog sources are used to generate alerts whenever an anomaly occurs. Production monitoring \\ntools, in response to an anomaly, automatically generate alerts to relevant teams based on the \\nanomaly configurations set by each team. An anomaly may also be manually do cumented by a \\nGoogle employee when an issue is identified or in response to a customer service request.  rishav.bhattacharya99@gmail.comGoogle Confidental Information')]\n",
      "According to the provided context, data center perimeters are defined and secured via physical barriers. Specifically, access to sensitive areas within the data center required approval from authorized personnel and was controlled via:\n",
      "\n",
      "1. Badge readers\n",
      "2. Biometric identification mechanisms\n",
      "3. Physical locks\n",
      "\n",
      "No deviations were noted in this regard.\n",
      "[56, 49, 155]\n",
      "[(155, 'the duration of their visits.  No deviations n oted.  \\n96. Data center \\nperimeters are defined \\nand secured via physical \\nbarriers.  CC6.4  Inquired of the Data Center Security Manager and \\ndetermined data center perimeters were defined \\nand secure d via physical barriers. Access to \\nsensitive data center zones required approval \\nfrom authorized personnel and was controlled via \\nbadge readers, biometric identification \\nmechanisms, or physical locks.  No deviations noted.  \\nrishav.bhattacharya99@gmail.comGoogle Confidental Information'), (49, 'and Third -Party Owned) for physical security to help protect production servers, network devices, \\nand network connections within Google data centers. Guidelines for evaluating the security of \\ndata centers are described in Google’s d ata center security evaluation criteria. Additionally, data \\ncenter personnel perform periodic surveys and reviews of data centers. Data centers that house \\nGoogle Cloud Platform systems and infrastructure components are reviewed and assessed \\nperiodically fo r ongoing security compliance. A security report is then created summarizing any \\nobservations, deviations, or action items. This report is presented to executive management for \\nreview and approval. Corrective actions are taken when necessary. The data cent er security \\nevaluation criteria elements include:  \\n• Existence of security guards, access badges, and video cameras  \\n• Entrances, cages, suites, and rooms in use by Google are secured by either badge readers,'), (56, 'holds individuals accountable for \\ntheir internal control responsibilities \\nin the pur suit of objectives.  \\nCommon Criteria 5.1: The entity \\nselects and develops control \\nactivities that contribute to the \\nmitigation of risks to the \\nachievement of objectives to \\nacceptable levels.  rishav.bhattacharya99@gmail.comGoogle Confidental Information')]\n",
      "Based on the provided context, it appears that Google utilizes tools to detect deviations from pre-defined Operating System (OS) configurations on production machines and correct them automatically. This allows for an easy rollout of updates to system files in a consistent manner.\n",
      "\n",
      "Additionally, I found another relevant piece of information:\n",
      "\n",
      "\"Common Criteria 8.1: The entity authorizes, designs, develops or acquires, configures, documents, tests, approves, and implements changes to infrastructure, data, software, and procedures to meet its objectives.\"\n",
      "\n",
      "This suggests that Google has procedures in place for implementing changes to their IT infrastructure, which may include patch deployment.\n",
      "\n",
      "However, I couldn't find more specific information about the exact procedures used by Google to deploy patches throughout their IT infrastructure.\n",
      "[51, 58, 59]\n",
      "[(59, 'deploys contro l activities through \\npolicies that establish what is \\nexpected and in procedures that put \\npolicies into action.  rishav.bhattacharya99@gmail.comGoogle Confidental Information'), (51, 'functionality of internal tools that support the build and release process. Changes to customer \\nfacing services that may affect  confidentiality,  processing integrity, and/or availability are \\ncommunicated to relevant personnel and impacted customers.  \\nGuidelines are made available internally to govern the installation of software on organization -\\nowned assets. Additionally, tools are utilized to detect deviations from pre -defined Operating \\nSystem (OS) configurations on production machines and correct them automatically. This allows \\nfor an easy roll out of up dates to system files in a consistent manner and helps ensure that \\nmachines remain in a known current state.  \\nVulnerability Management  \\nThe goal of Google’s Vulnerability Management program is to investigate and respond to all \\nrelevant security vulnerabiliti es. The Vulnerability Management Guidelines describe how \\nvulnerabilities are detected, classified, and remediated at Google. As part of this program, the'), (58, 'procedures.  Common Criteria 4.1: The entity \\nselects, develops, and performs \\nongoing and/or separate evaluations \\nto ascertain whether the \\ncomponents of internal control are \\npresent and func tioning.  \\nCommon Criteria 5.3: The entity \\ndeploys control activities through \\npolicies that establish what is \\nexpected and in procedures that put \\npolicies into action.  \\nCommon Criteria 8.1: The entity \\nauthorizes, designs, develops or \\nacquires, configures, documents, \\ntests, approves, and implements \\nchanges to infrastructure, data, \\nsoftware, and procedures to meet its \\nobjectives.  rishav.bhattacharya99@gmail.comGoogle Confidental Information')]\n",
      "I don't know how a backup of the data is performed at Google. The provided text only mentions that data deletion tools verified that backup data was deleted following the configured retention period, as part of the deletion mechanism process. It does not provide information on how backups are created or performed.\n",
      "[53, 77, 22]\n",
      "[(77, 'was disposed of as per the data retention and \\ndeletion policies.  No deviations noted.  \\nInspected a sample product and determined data \\ndeletion tools verified that backup data was \\ndeleted following the configured retention period, \\nas part of the deletion mechanism process.  No deviations noted.  \\nrishav.bhattacharya99@gmail.comGoogle Confidental Information'), (22, \"data, DNA sequence reads, reference -based alignments, and variant calls, using Google's cloud \\ninfrastructure.  \\nData Catalog  \\nData Catalog is a fully managed and scalable metadata management service that allows \\norganizations to have a centralized and unified vie w of data assets.  \\nDataflow  \\nDataflow is a fully managed service for consistent, parallel data -processing pipelines. It utilizes \\nthe Apache Beam Software Development Kits (SDKs) with composable primitives for building \\ndata-processing pipelines for batch or c ontinuous processing. This service manages the lifecycle \\nof Compute Engine resources for the processing pipeline(s) and provides a monitoring interface \\nfor understanding pipeline health.  \\n  rishav.bhattacharya99@gmail.comGoogle Confidental Information\"), (53, 'synchronize system files on the root partition of production machines with a standard base image.  \\nGoogle utilizes barcodes and asset tags to track the status and location of data center equipment \\nfrom acquisition to insta llation, retirement, and destruction. If a component fails to pass a \\nperformance test at any point during its lifecycle, it is removed from inventory and retired. Google \\nhard drives leverage technologies such as Full Disk Encryption (FDE) and drive locking , to protect \\ndata at rest. Personally Identifiable Information (PII) on removable media leaving Google facilities \\nis approved and encrypted.  \\nWhen a hard drive is retired, authorized individuals verify that the disk is erased by writing zeros \\nto the drive a nd performing a multiple -step verification process to help ensure the drive contains \\nno data. If the drive cannot be erased for any reason, it is stored securely until it can be physically')]\n",
      "According to the provided context, Google may conduct criminal, credit, and/or security checks on all potential employees, as well as verification of:\n",
      "\n",
      "1. The individual's education\n",
      "2. Previous employment\n",
      "3. Referrals\n",
      "\n",
      "The specifics or extent of background checks performed depend on the position and location for which the individual is applying.\n",
      "[88, 43, 44]\n",
      "[(43, 'employees are qualified for their functional responsibility. Every employee has a written job \\ndescription that lists qualifications, such as requisite skill s and experience, which candidates must \\nmeet in order to be hired by Google. Where local labor law or statutory regulations permit, Google \\nmay conduct criminal, credit, and/or security checks on all potential employees, temporary \\nworkers, and independent c ontractors, as well as verification of the individual’s education, \\nprevious employment, and referrals. The specifics or extent of background checks performed \\ndepend on the position and location for which the individual is applying.  \\nUpon acceptance of emplo yment, all employees including extended workforce personnel are \\nrequired to execute a confidentiality agreement as well as acknowledge receipt and compliance \\nwith Google’s Code of Conduct. The confidentiality and privacy of customer data is emphasized'), (88, 'employees and extended workforce personnel \\nwere required to acknowledge the Code of \\nConduct as part of the terms and conditions of \\nemployment.  No deviations noted.  \\nInspected a sample of newly hired employees and \\nextended workforce personnel a nd determined the \\nCode of Conduct was acknowledged as part of \\nthe terms and conditions of their employment.  No deviations noted.  rishav.bhattacharya99@gmail.comGoogle Confidental Information'), (44, 'controls, identity management, source code management, and authentication infrastructure \\ncontrols against requirements. They perform risk -based assessments and issue audit  reports \\nregarding their analysis. Remediation of security and privacy deficiencies are tracked through \\ninternal tools and remediation plans.  \\nThird -Party Risk Management  \\nGoogle may utilize third -party vendors to support Google Cloud Platform. Prior to onbo arding, \\nGoogle completes the nondisclosure agreement (NDA) then performs the vendor security \\nassessments (VSA) on all vendors with whom Google shares confidential or sensitive information, \\nincluding user data. A VSA is an important health check of a vendor ’s operational security posture. \\nIt assesses if a vendor adheres to generally accepted security and data protection best practices. \\nThe outcome of a VSA is a risk assessment and an approval that determines if a vendor should')]\n",
      "Based on the provided context, I can summarize that the organization has the following security incident response procedures in place:\n",
      "\n",
      "1. A framework is defined to organize a response to security and privacy incidents (CC7.3, CC7.4, P6.3).\n",
      "2. Incident Resolution:\n",
      "\t* Incidents are assigned to support areas based on their nature and root cause.\n",
      "\t* Technical departments such as System Reliability Engineers/Software Engineers, Networks, Database Administration, etc., are involved in resolving incidents.\n",
      "\t* A post-mortem process is performed after the incident has been resolved to identify root cause issues, document lessons learned, and implement fixes.\n",
      "3. Incident Escalation:\n",
      "\t* Automated escalation occurs if there's no acknowledgement from notified contacts within a certain time frame (leading).\n",
      "4. Security Log Management:\n",
      "\t* Security event logs are monitored continuously using Google's proprietary SEM system.\n",
      "\t* Codified logic creates \"hunts\" that trigger automated alerts to security personnel.\n",
      "\t* Security alerts are generated based on predefined thresholds and require further investigation.\n",
      "\n",
      "These procedures indicate a structured approach to managing and responding to security incidents, including incident categorization, escalation, resolution, and post-incident analysis.\n",
      "[170, 52, 54]\n",
      "[(170, 'were in place which o utline a quick, effective, and \\norderly response to information security incidents. \\nIn addition, classification, prioritization, and \\nescalation of security incidents per criticality are \\nalso identified and mechanisms are defined to \\nmeasure and monitor the t ype and scope of \\nsecurity incidents.  No deviations noted.  \\nInspected internal documentation and determined \\nthe organization maintained and periodically \\nupdated the incident response policy.  No deviations noted.  \\n115. The organization \\nmaintains a framework \\nthat defines how to \\norganize a response to CC7.3 , \\nCC7.4 , P6.3 Inquired of the Program Manager and determined \\nthe organization maintained a framework that \\ndefined how to organize a response to security \\nand privacy incidents.  No deviations noted.  rishav.bhattacharya99@gmail.comGoogle Confidental Information'), (52, 'leads to automated escalatio n if the tool does not receive an acknowledgement from the notified \\ncontacts.  \\nIncident Resolution  \\nAfter gathering the necessary information about the incident, the incident ticket is assigned to the \\nappropriate support area based on the nature of the probl em and/or the root cause. Incidents are \\nusually forwarded to one of the corresponding technical departments:  \\n• System Reliability Engineers / Software Engineers  \\n• Networks  \\n• Database Administration  \\n• System Administration  \\n• Application Administration  \\n• Facilities  \\n• Netw ork Security  \\n• Platform Support  \\n• Legal Team  \\nThe incident ticket is closed upon resolution of the incident. Google also has an established post \\nmortem process for performing technical analysis of incidents after the fact to identify root cause \\nissues, document  lessons learned, and implement fixes to strengthen and improve security'), (54, 'logs is restricted to authorized personnel. Security event logs are monitored continuously using a \\nGoogle proprietary Security Event Management (SEM) system to detect intrusion attempts and \\nother security re lated events. The SEM is supplemented with codified logic which creates the \\n“hunts” that trigger automated alerts to security personnel. The security alerts are generated for \\nfurther investigation (manual and automated hunts) based on predefined thresholds . When a \\nvulnerability has been identified, the Security team determines the appropriate response and \\ntracks the issue through resolution. The owners of the affected component(s) determine the \\nappropriate response, based on the severity and defined respons e criteria of the vulnerability.  \\nAvailability Monitoring  \\nResource management procedures are also established to monitor, maintain, and evaluate \\ncapacity demand. Google uses a dashboard that provides details such as resource footprint,')]\n"
     ]
    }
   ],
   "source": [
    "for answer in all_answers:\n",
    "    print(answer[\"response\"])\n",
    "    print(answer[\"pages\"])\n",
    "    print(answer[\"citations\"])"
   ]
  }
 ],
 "metadata": {
  "kernelspec": {
   "display_name": "Python 3 (ipykernel)",
   "language": "python",
   "name": "python3"
  },
  "language_info": {
   "codemirror_mode": {
    "name": "ipython",
    "version": 3
   },
   "file_extension": ".py",
   "mimetype": "text/x-python",
   "name": "python",
   "nbconvert_exporter": "python",
   "pygments_lexer": "ipython3",
   "version": "3.10.0"
  }
 },
 "nbformat": 4,
 "nbformat_minor": 5
}
