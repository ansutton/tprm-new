{
 "cells": [
  {
   "cell_type": "code",
   "execution_count": 5,
   "id": "a73b449b-1b35-4e4b-9995-7c33f19f2b7c",
   "metadata": {},
   "outputs": [
    {
     "name": "stdout",
     "output_type": "stream",
     "text": [
      "NAME                               \tID          \tSIZE  \tMODIFIED       \n",
      "knoopx/hermes-2-pro-mistral:7b-q8_0\tdb41f4a9e570\t7.7 GB\t52 minutes ago\t\n",
      "nomic-embed-text:latest            \t0a109f422b47\t274 MB\t23 hours ago  \t\n",
      "llama2:latest                      \t78e26419b446\t3.8 GB\t3 days ago    \t\n"
     ]
    }
   ],
   "source": [
    "!ollama list"
   ]
  },
  {
   "cell_type": "markdown",
   "id": "65952011-943a-4c3f-a0df-3ecc03a515be",
   "metadata": {},
   "source": [
    "**INGESTING DOC**"
   ]
  },
  {
   "cell_type": "code",
   "execution_count": 7,
   "id": "facea949-0d85-4acc-afbb-2cdbaf881ccf",
   "metadata": {},
   "outputs": [],
   "source": [
    "from langchain_community.document_loaders import UnstructuredPDFLoader\n",
    "from langchain_community.document_loaders import UnstructuredWordDocumentLoader\n",
    "from langchain_community.document_loaders import OnlinePDFLoader"
   ]
  },
  {
   "cell_type": "code",
   "execution_count": 8,
   "id": "3cd91466-14af-4805-b93c-5f0eaa6b119d",
   "metadata": {},
   "outputs": [],
   "source": [
    "local_path = \"anyname.docx\" # replace with path to file to be laoded\n",
    "\n",
    "# Local PDF file uploads\n",
    "if local_path:\n",
    "  loader = UnstructuredWordDocumentLoader(file_path=local_path)\n",
    "  data = loader.load()\n",
    "else:\n",
    "  print(\"Upload a Word file\")"
   ]
  },
  {
   "cell_type": "code",
   "execution_count": 9,
   "id": "f06fa4e1-88ae-4a23-8c51-001f34de8837",
   "metadata": {},
   "outputs": [
    {
     "data": {
      "text/plain": [
       "'Solution Delivery Analyst - India\\n\\n\\tSolution Delivery Analyst, Risk Advisory\\n\\nManipal Institute of Technology, B.Tech in IT St. Xavier’s Collegiate School, ISC\\n\\n\\t+91 8017100109\\n\\n\\tribhattacharya@deloitte.com \\t\\tEnglish, Hindi, Bengali\\n\\nProfile\\n\\nSolution Delivery Analyst\\n\\nProfessional/client experience (anonymised)\\n\\nWorked on automating security infrastructure across various AWS services using Lamba functions.\\n\\nDeveloped custom RQLs and YAML codes for run and build time policies on Prisma Cloud environment.\\n\\nWorked on various integrations with Prisma Cloud Security platform like Jenkins and GitHub workflows.\\n\\nDelivered presentations on specific work domains as part of the project.\\n\\nSSDL setup in GCP environment.\\n\\nEngaged in Network Project for delivery of Terraform automation scripts for multi cloud resource deployment.\\n\\n\\n\\nSolution Delivery Analyst - India\\n\\nAdditional education and certifications\\n\\nCommunication proficiency\\n\\nPrinciples of ESG and Sustainability for Business (Issued by Arizona State University)\\n\\nAWS Solutions Architect Associate certified badge\\n\\nPrisma Certified Cloud Security Engineer badge\\n\\nPalo Alto Networks Certified Security Automation Engineer badge\\n\\nCourses and conferences\\n\\nPrisma Beacon: RQLs\\n\\nPrisma Beacon: Cloud Code Security\\n\\nBridgecrew\\n\\nAWS Solutions Architect Associate\\n\\nPrisma Beacon: XSIAM\\n\\nOther professional activity\\n\\nActive participation in Deloitte Impact Day as volunteer.\\n\\nParticipated in Impact Everyday as a volunteer for in person as well as virtual sessions.'"
      ]
     },
     "execution_count": 9,
     "metadata": {},
     "output_type": "execute_result"
    }
   ],
   "source": [
    "# Preview first page\n",
    "data[0].page_content"
   ]
  },
  {
   "cell_type": "markdown",
   "id": "eb0504b9-62fc-440d-b1e1-6819a6233c9c",
   "metadata": {},
   "source": [
    "**VECTOR EMBEDDINGS**"
   ]
  },
  {
   "cell_type": "code",
   "execution_count": 10,
   "id": "9eac9dae-fdd2-4379-80ff-8214925c7b44",
   "metadata": {},
   "outputs": [],
   "source": [
    "from langchain_community.embeddings import OllamaEmbeddings\n",
    "from langchain_text_splitters import RecursiveCharacterTextSplitter\n",
    "from langchain_community.vectorstores import Chroma"
   ]
  },
  {
   "cell_type": "code",
   "execution_count": 11,
   "id": "44f680e6-629b-4f38-94aa-426fef55496d",
   "metadata": {},
   "outputs": [],
   "source": [
    "#Split and chunk\n",
    "text_splitter = RecursiveCharacterTextSplitter(chunk_size=200, chunk_overlap=30)\n",
    "chunks = text_splitter.split_documents(data)"
   ]
  },
  {
   "cell_type": "code",
   "execution_count": 12,
   "id": "37e9dd46-99c9-4bb9-b2e7-c154970962e9",
   "metadata": {},
   "outputs": [
    {
     "name": "stderr",
     "output_type": "stream",
     "text": [
      "OllamaEmbeddings: 100%|██████████████████████████████████████████████████████████████████████████████████████████████████████████████████████| 9/9 [00:01<00:00,  4.54it/s]\n"
     ]
    }
   ],
   "source": [
    "#Add to Vector database\n",
    "vector_db = Chroma.from_documents(\n",
    "    documents=chunks,\n",
    "    embedding=OllamaEmbeddings(model=\"nomic-embed-text\",show_progress=True),\n",
    "    collection_name=\"local-rag-2\"\n",
    ")"
   ]
  },
  {
   "cell_type": "markdown",
   "id": "0c139cb8-53dd-42e8-8bb7-06eebb483fab",
   "metadata": {},
   "source": [
    "**RETRIEVAL**"
   ]
  },
  {
   "cell_type": "code",
   "execution_count": 14,
   "id": "96851d59-36b5-4995-be17-2a64c91b87ee",
   "metadata": {},
   "outputs": [],
   "source": [
    "from langchain.prompts import ChatPromptTemplate, PromptTemplate\n",
    "from langchain_core.output_parsers import StrOutputParser\n",
    "from langchain_community.chat_models import ChatOllama\n",
    "from langchain_core.runnables import RunnablePassthrough\n",
    "from langchain.retrievers.multi_query import MultiQueryRetriever"
   ]
  },
  {
   "cell_type": "code",
   "execution_count": 15,
   "id": "1b4473a4-4310-49d1-8067-c3b87c224b19",
   "metadata": {},
   "outputs": [],
   "source": [
    "# LLM from Ollama\n",
    "local_model = \"knoopx/hermes-2-pro-mistral:7b-q8_0\"\n",
    "llm = ChatOllama(model=local_model)"
   ]
  },
  {
   "cell_type": "code",
   "execution_count": 16,
   "id": "678fd99b-1efa-4106-9f43-40c84caac19b",
   "metadata": {},
   "outputs": [],
   "source": [
    "QUERY_PROMPT = PromptTemplate(\n",
    "    input_variables=[\"question\"],\n",
    "    template=\"\"\"You are an AI language model assistant. Your task to phrase the user question in the best possible way in order to get the most accurate answer from the document loaded. Your response should also separately contain the precise data which was referred to in the document in order to come up with your response to the question. Make sure to refer to the exact point in the document in the form of page numbers, etc.\n",
    "    Original question: {question}\"\"\",\n",
    ")"
   ]
  },
  {
   "cell_type": "code",
   "execution_count": 17,
   "id": "e41db4ff-8d66-4195-9d35-0591839785bd",
   "metadata": {},
   "outputs": [],
   "source": [
    "retriever = MultiQueryRetriever.from_llm(\n",
    "    vector_db.as_retriever(), \n",
    "    llm,\n",
    "    prompt=QUERY_PROMPT\n",
    ")\n",
    "\n",
    "# RAG prompt\n",
    "template = \"\"\"Answer the question based ONLY on the following context:\n",
    "{context}\n",
    "Question: {question}\n",
    "\"\"\"\n",
    "\n",
    "prompt = ChatPromptTemplate.from_template(template)"
   ]
  },
  {
   "cell_type": "code",
   "execution_count": 18,
   "id": "572afd97-84fe-471d-83ea-c4cce9351def",
   "metadata": {},
   "outputs": [],
   "source": [
    "chain = (\n",
    "    {\"context\": retriever, \"question\": RunnablePassthrough()}\n",
    "    | prompt\n",
    "    | llm\n",
    "    | StrOutputParser()\n",
    ")"
   ]
  },
  {
   "cell_type": "code",
   "execution_count": 19,
   "id": "2cf29bcd-6832-49fe-9362-42c70b283f05",
   "metadata": {},
   "outputs": [
    {
     "name": "stderr",
     "output_type": "stream",
     "text": [
      "OllamaEmbeddings: 100%|██████████████████████████████████████████████████████████████████████████████████████████████████████████████████████| 1/1 [00:01<00:00,  1.40s/it]\n"
     ]
    },
    {
     "data": {
      "text/plain": [
       "'Based on the given context, this document appears to be a CV or resume belonging to an individual named Rishav, as it contains details of his education, certifications, work experience, and professional activities. The person seems to have expertise in areas like ESG and Sustainability for Business, SSDL setup in GCP environment, Terraform automation scripts for multi-cloud resource deployment, Prisma Cloud Security platform integrations, and AWS Solutions Architect. They have also participated in various courses, conferences, and other professional activities.'"
      ]
     },
     "execution_count": 19,
     "metadata": {},
     "output_type": "execute_result"
    }
   ],
   "source": [
    "chain.invoke(\"What is this document about?\")"
   ]
  },
  {
   "cell_type": "code",
   "execution_count": 21,
   "id": "7aaeef08-eb91-4d09-9978-43554e4a4896",
   "metadata": {},
   "outputs": [
    {
     "name": "stderr",
     "output_type": "stream",
     "text": [
      "OllamaEmbeddings: 100%|██████████████████████████████████████████████████████████████████████████████████████████████████████████████████████| 1/1 [00:01<00:00,  1.62s/it]\n",
      "OllamaEmbeddings: 100%|██████████████████████████████████████████████████████████████████████████████████████████████████████████████████████| 1/1 [00:00<00:00, 20.21it/s]\n",
      "OllamaEmbeddings: 100%|██████████████████████████████████████████████████████████████████████████████████████████████████████████████████████| 1/1 [00:00<00:00,  2.43it/s]\n"
     ]
    },
    {
     "data": {
      "text/plain": [
       "'Rishav has pursued his undergraduate degree in IT from Manipal Institute of Technology. The relevant areas from the provided context include Solution Delivery Analyst, Risk Advisory, Communication proficiency, Principles of ESG and Sustainability for Business (Issued by Arizona State University), and participation in Deloitte Impact Day as a volunteer as well as Impact Everyday as an in-person and virtual session participant.'"
      ]
     },
     "execution_count": 21,
     "metadata": {},
     "output_type": "execute_result"
    }
   ],
   "source": [
    "chain.invoke(\"Where has Rishav pursued his undergrad from and what are his relevant areas?\")"
   ]
  },
  {
   "cell_type": "code",
   "execution_count": null,
   "id": "f6ab84c9-f7e3-467e-97bb-339dacad697d",
   "metadata": {},
   "outputs": [],
   "source": []
  }
 ],
 "metadata": {
  "kernelspec": {
   "display_name": "Python 3 (ipykernel)",
   "language": "python",
   "name": "python3"
  },
  "language_info": {
   "codemirror_mode": {
    "name": "ipython",
    "version": 3
   },
   "file_extension": ".py",
   "mimetype": "text/x-python",
   "name": "python",
   "nbconvert_exporter": "python",
   "pygments_lexer": "ipython3",
   "version": "3.11.0"
  }
 },
 "nbformat": 4,
 "nbformat_minor": 5
}
