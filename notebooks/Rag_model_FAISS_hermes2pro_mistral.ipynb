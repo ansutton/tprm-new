{
 "cells": [
  {
   "cell_type": "code",
   "execution_count": 1,
   "id": "fe874aab-c03b-441d-846e-01ad119882eb",
   "metadata": {},
   "outputs": [
    {
     "name": "stdout",
     "output_type": "stream",
     "text": [
      "Collecting faiss-cpu\n",
      "  Downloading faiss_cpu-1.8.0.post1-cp310-cp310-win_amd64.whl.metadata (3.8 kB)\n",
      "Collecting pypdf2\n",
      "  Downloading pypdf2-3.0.1-py3-none-any.whl.metadata (6.8 kB)\n",
      "Requirement already satisfied: numpy<2.0,>=1.0 in c:\\users\\ribhattacharya\\.conda\\envs\\python310\\lib\\site-packages (from faiss-cpu) (1.26.4)\n",
      "Requirement already satisfied: packaging in c:\\users\\ribhattacharya\\.conda\\envs\\python310\\lib\\site-packages (from faiss-cpu) (24.1)\n",
      "Downloading faiss_cpu-1.8.0.post1-cp310-cp310-win_amd64.whl (14.6 MB)\n",
      "   ---------------------------------------- 0.0/14.6 MB ? eta -:--:--\n",
      "   ---------------------------------------- 0.0/14.6 MB ? eta -:--:--\n",
      "   ---------------------------------------- 0.2/14.6 MB 1.5 MB/s eta 0:00:10\n",
      "    --------------------------------------- 0.3/14.6 MB 1.9 MB/s eta 0:00:08\n",
      "   - -------------------------------------- 0.6/14.6 MB 2.5 MB/s eta 0:00:06\n",
      "   - -------------------------------------- 0.6/14.6 MB 2.3 MB/s eta 0:00:06\n",
      "   --- ------------------------------------ 1.1/14.6 MB 3.6 MB/s eta 0:00:04\n",
      "   --- ------------------------------------ 1.2/14.6 MB 3.4 MB/s eta 0:00:04\n",
      "   ---- ----------------------------------- 1.8/14.6 MB 4.4 MB/s eta 0:00:03\n",
      "   ------ --------------------------------- 2.4/14.6 MB 5.0 MB/s eta 0:00:03\n",
      "   -------- ------------------------------- 3.1/14.6 MB 5.9 MB/s eta 0:00:02\n",
      "   --------- ------------------------------ 3.5/14.6 MB 5.8 MB/s eta 0:00:02\n",
      "   ---------- ----------------------------- 4.0/14.6 MB 5.9 MB/s eta 0:00:02\n",
      "   ------------ --------------------------- 4.4/14.6 MB 6.2 MB/s eta 0:00:02\n",
      "   ------------- -------------------------- 4.9/14.6 MB 6.4 MB/s eta 0:00:02\n",
      "   --------------- ------------------------ 5.5/14.6 MB 6.5 MB/s eta 0:00:02\n",
      "   ---------------- ----------------------- 6.0/14.6 MB 6.6 MB/s eta 0:00:02\n",
      "   ----------------- ---------------------- 6.3/14.6 MB 6.6 MB/s eta 0:00:02\n",
      "   ----------------- ---------------------- 6.3/14.6 MB 6.6 MB/s eta 0:00:02\n",
      "   ------------------ --------------------- 6.6/14.6 MB 6.3 MB/s eta 0:00:02\n",
      "   -------------------- ------------------- 7.5/14.6 MB 6.9 MB/s eta 0:00:02\n",
      "   --------------------- ------------------ 7.9/14.6 MB 6.9 MB/s eta 0:00:01\n",
      "   ----------------------- ---------------- 8.4/14.6 MB 7.0 MB/s eta 0:00:01\n",
      "   ------------------------ --------------- 8.9/14.6 MB 7.1 MB/s eta 0:00:01\n",
      "   ------------------------- -------------- 9.5/14.6 MB 7.1 MB/s eta 0:00:01\n",
      "   --------------------------- ------------ 10.0/14.6 MB 7.2 MB/s eta 0:00:01\n",
      "   ---------------------------- ----------- 10.4/14.6 MB 7.4 MB/s eta 0:00:01\n",
      "   ----------------------------- ---------- 10.7/14.6 MB 8.0 MB/s eta 0:00:01\n",
      "   ------------------------------ --------- 11.3/14.6 MB 8.2 MB/s eta 0:00:01\n",
      "   -------------------------------- ------- 11.9/14.6 MB 8.4 MB/s eta 0:00:01\n",
      "   --------------------------------- ------ 12.3/14.6 MB 8.5 MB/s eta 0:00:01\n",
      "   ---------------------------------- ----- 12.6/14.6 MB 8.4 MB/s eta 0:00:01\n",
      "   ----------------------------------- ---- 12.9/14.6 MB 8.2 MB/s eta 0:00:01\n",
      "   ------------------------------------ --- 13.4/14.6 MB 8.0 MB/s eta 0:00:01\n",
      "   ------------------------------------- -- 13.8/14.6 MB 8.2 MB/s eta 0:00:01\n",
      "   ---------------------------------------  14.3/14.6 MB 8.2 MB/s eta 0:00:01\n",
      "   ---------------------------------------  14.6/14.6 MB 8.1 MB/s eta 0:00:01\n",
      "   ---------------------------------------- 14.6/14.6 MB 7.9 MB/s eta 0:00:00\n",
      "Downloading pypdf2-3.0.1-py3-none-any.whl (232 kB)\n",
      "   ---------------------------------------- 0.0/232.6 kB ? eta -:--:--\n",
      "   ---------------------------------------- 232.6/232.6 kB 7.2 MB/s eta 0:00:00\n",
      "Installing collected packages: pypdf2, faiss-cpu\n",
      "Successfully installed faiss-cpu-1.8.0.post1 pypdf2-3.0.1\n"
     ]
    }
   ],
   "source": [
    "!pip install faiss-cpu pypdf2"
   ]
  },
  {
   "cell_type": "code",
   "execution_count": 3,
   "id": "ea7bb5d1-c59e-43eb-afce-585669876df3",
   "metadata": {},
   "outputs": [],
   "source": [
    "import faiss\n",
    "from langchain.embeddings import OllamaEmbeddings\n",
    "from langchain.vectorstores import FAISS\n",
    "from langchain.document_loaders import PyPDFLoader"
   ]
  },
  {
   "cell_type": "code",
   "execution_count": 5,
   "id": "ccdc31d1-b5f5-449d-be32-ec6cb4bc9d05",
   "metadata": {},
   "outputs": [],
   "source": [
    "pdf_loader = PyPDFLoader(\"Path/to/your/pdf/document\")\n",
    "documents = pdf_loader.load_and_split()"
   ]
  },
  {
   "cell_type": "code",
   "execution_count": 6,
   "id": "773377ea-662d-4005-8b48-38c8b4c02f29",
   "metadata": {},
   "outputs": [],
   "source": [
    "embedding_model = OllamaEmbeddings(model='nomic-embed-text',show_progress=True)"
   ]
  },
  {
   "cell_type": "code",
   "execution_count": 7,
   "id": "45d783e1-689c-4eb2-993c-c8b0c34afe4d",
   "metadata": {},
   "outputs": [
    {
     "name": "stderr",
     "output_type": "stream",
     "text": [
      "OllamaEmbeddings: 100%|██████████| 15/15 [02:02<00:00,  8.17s/it]\n"
     ]
    }
   ],
   "source": [
    "document_texts = [doc.page_content for doc in documents]\n",
    "documents_embeddings = embedding_model.embed_documents(document_texts)"
   ]
  },
  {
   "cell_type": "code",
   "execution_count": 10,
   "id": "221f1869-b6ab-407a-9438-046a0d8b80fd",
   "metadata": {},
   "outputs": [],
   "source": [
    "import numpy as np"
   ]
  },
  {
   "cell_type": "code",
   "execution_count": 11,
   "id": "2adba7f0-181c-4cc5-9c7a-db0253728656",
   "metadata": {},
   "outputs": [],
   "source": [
    "#create FAISS index and add the embeddings\n",
    "document_embeddings_np = np.array(documents_embeddings)\n",
    "dimension = document_embeddings_np.shape[1]\n",
    "faiss_index = faiss.IndexFlatL2(dimension)\n",
    "faiss_index.add(document_embeddings_np)"
   ]
  },
  {
   "cell_type": "code",
   "execution_count": 13,
   "id": "7eaba1a3-3df9-47ff-a110-7a4f9b563d35",
   "metadata": {},
   "outputs": [],
   "source": [
    "from langchain.docstore import InMemoryDocstore\n",
    "from langchain.docstore.document import Document"
   ]
  },
  {
   "cell_type": "code",
   "execution_count": 14,
   "id": "da314a3e-cd12-4760-8182-484d19b594f1",
   "metadata": {},
   "outputs": [],
   "source": [
    "docstore = InMemoryDocstore(dict(enumerate(documents)))\n",
    "index_to_docstore_id = {i: i for i in range(len(documents))}"
   ]
  },
  {
   "cell_type": "code",
   "execution_count": 15,
   "id": "de6b6942-2697-44aa-9080-f95b65fbc9ce",
   "metadata": {},
   "outputs": [],
   "source": [
    "vector_store = FAISS(embedding_model, faiss_index, docstore, index_to_docstore_id)"
   ]
  },
  {
   "cell_type": "code",
   "execution_count": 16,
   "id": "bd1f5559-f50a-4b57-b3c8-fca0d09d3c64",
   "metadata": {},
   "outputs": [],
   "source": [
    "from langchain.prompts import ChatPromptTemplate, PromptTemplate\n",
    "from langchain_core.output_parsers import StrOutputParser\n",
    "from langchain_community.chat_models import ChatOllama\n",
    "from langchain_core.runnables import RunnablePassthrough\n",
    "from langchain.retrievers.multi_query import MultiQueryRetriever"
   ]
  },
  {
   "cell_type": "code",
   "execution_count": 26,
   "id": "13d24441-462b-45b5-aa1e-a6bdc8303c49",
   "metadata": {},
   "outputs": [],
   "source": [
    "# LLM from Ollama\n",
    "local_model = \"llama2\"\n",
    "llm = ChatOllama(model=local_model)"
   ]
  },
  {
   "cell_type": "code",
   "execution_count": 27,
   "id": "39ab8015-311d-40dd-aee6-69c3904f22a5",
   "metadata": {},
   "outputs": [],
   "source": [
    "QUERY_PROMPT = PromptTemplate(\n",
    "    input_variables=[\"question\"],\n",
    "    template=\"\"\"You are an AI language model assistant. Your task to phrase the user question in the best possible way in order to get the most accurate answer from the document loaded. Your response should also separately contain the precise data which was referred to in the document in order to come up with your response to the question. Make sure to refer to the exact point in the document in the form of page numbers, etc.\n",
    "    Original question: {question}\"\"\",\n",
    ")"
   ]
  },
  {
   "cell_type": "code",
   "execution_count": 32,
   "id": "5530a3cf-62a7-433a-8e14-58c09fd8f783",
   "metadata": {},
   "outputs": [],
   "source": [
    "retriever = MultiQueryRetriever.from_llm(\n",
    "    vector_store.as_retriever(), \n",
    "    llm,\n",
    "    prompt=QUERY_PROMPT\n",
    ")\n",
    "\n",
    "# RAG prompt\n",
    "template = \"\"\"Answer the question based ONLY on the following context:\n",
    "{context}\n",
    "Question: {question}\n",
    "Ensure that you mention the page number or position in the document from which you arrived at your response. Cite the original wordings in the document along with it. Make this a separate line in the response along with your answer.\n",
    "\"\"\"\n",
    "\n",
    "prompt = ChatPromptTemplate.from_template(template)"
   ]
  },
  {
   "cell_type": "code",
   "execution_count": 33,
   "id": "c7989165-a788-4e82-a7a1-fe9e0b2a75c9",
   "metadata": {},
   "outputs": [],
   "source": [
    "chain = (\n",
    "    {\"context\": retriever, \"question\": RunnablePassthrough()}\n",
    "    | prompt\n",
    "    | llm\n",
    "    | StrOutputParser()\n",
    ")"
   ]
  },
  {
   "cell_type": "code",
   "execution_count": 34,
   "id": "7b35c262-2ca8-4297-9463-c95d6ba59fd5",
   "metadata": {},
   "outputs": [
    {
     "name": "stderr",
     "output_type": "stream",
     "text": [
      "OllamaEmbeddings: 100%|██████████| 1/1 [00:02<00:00,  2.65s/it]\n",
      "OllamaEmbeddings: 100%|██████████| 1/1 [00:00<00:00,  9.93it/s]\n",
      "OllamaEmbeddings: 100%|██████████| 1/1 [00:00<00:00,  1.15it/s]\n",
      "OllamaEmbeddings: 100%|██████████| 1/1 [00:00<00:00,  8.36it/s]\n",
      "OllamaEmbeddings: 100%|██████████| 1/1 [00:00<00:00,  4.01it/s]\n"
     ]
    },
    {
     "data": {
      "text/plain": [
       "'According to the given passage, half of all climate tech companies are working on the following seven technologies:\\n\\n1. Recycling and waste management (9.4%)\\n2. Short-duration energy storage (7.5%)\\n3. Alternative proteins (7.2%)\\n4. Carbon capture, utilization, and sequestration (6.3%)\\n5. Long-duration energy storage (6.2%)\\n6. Electricity management in buildings (5.3%)\\n7. Passenger road vehicles (6.7%)\\n\\n(Page 1 of the document)'"
      ]
     },
     "execution_count": 34,
     "metadata": {},
     "output_type": "execute_result"
    }
   ],
   "source": [
    "chain.invoke(\"What are the seven technologies that half of all climate tech companies are working on?\")"
   ]
  },
  {
   "cell_type": "code",
   "execution_count": 35,
   "id": "bf9804c8-18e3-4057-9f8c-a82fbf2c330c",
   "metadata": {},
   "outputs": [
    {
     "name": "stderr",
     "output_type": "stream",
     "text": [
      "OllamaEmbeddings: 100%|██████████| 1/1 [00:01<00:00,  1.75s/it]\n",
      "OllamaEmbeddings: 100%|██████████| 1/1 [00:00<00:00,  9.16it/s]\n",
      "OllamaEmbeddings: 100%|██████████| 1/1 [00:00<00:00,  1.85it/s]\n",
      "OllamaEmbeddings: 100%|██████████| 1/1 [00:00<00:00, 13.70it/s]\n",
      "OllamaEmbeddings: 100%|██████████| 1/1 [00:00<00:00,  2.06it/s]\n"
     ]
    },
    {
     "data": {
      "text/plain": [
       "'GreenSpace Tech by Deloitte is a geography of climate tech report that analyzes the location and distribution of companies working on climate technology solutions across different regions and industries. According to the report, Colorado, Massachusetts, New York, and Texas are among the top seven states in the US for energy management, with multiple technologies tied for the lead (Pitchbook and GreenSpace Navigator/Deloitte analysis, page 13).\\n\\nSome standout technologies in these states include construction technology and hydrogen production in Colorado, hydro and solar in Massachusetts, HVAC in New York, and EV charging in Texas. Colorado hosts multiple startups focused on low-emission building materials and techniques such as three-dimensional (3D) printed and modular construction.\\n\\nIn Colorado, the state has been supporting clean hydrogen by working towards a multi-state hydrogen hub and passing a bill to help define and subsidize clean hydrogen. In Massachusetts, the Massachusetts Clean Energy Center (MassCEC) has supported the climate tech sector since 2009, providing US$360 million in funds and attracting US$2 billion of federal and private investments.\\n\\nIn New York, there are multiple policies and incentives for building energy efficiency and HVAC, including supporting retrofits. Texas has had an EV charging vendor ecosystem for more than a decade, along with financial incentives and guidelines for technology adoption.\\n\\nSource: C:/Users/ribhattacharya/Desktop/the-geography-of-climate-tech.pdf (page 13)'"
      ]
     },
     "execution_count": 35,
     "metadata": {},
     "output_type": "execute_result"
    }
   ],
   "source": [
    "chain.invoke(\"What is GreenSpace Tech by Deloitte?\")"
   ]
  },
  {
   "cell_type": "code",
   "execution_count": null,
   "id": "dad8addf-e716-445e-a255-ac2189637a72",
   "metadata": {},
   "outputs": [],
   "source": []
  }
 ],
 "metadata": {
  "kernelspec": {
   "display_name": "Python 3 (ipykernel)",
   "language": "python",
   "name": "python3"
  },
  "language_info": {
   "codemirror_mode": {
    "name": "ipython",
    "version": 3
   },
   "file_extension": ".py",
   "mimetype": "text/x-python",
   "name": "python",
   "nbconvert_exporter": "python",
   "pygments_lexer": "ipython3",
   "version": "3.10.14"
  }
 },
 "nbformat": 4,
 "nbformat_minor": 5
}
