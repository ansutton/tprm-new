{
 "cells": [
  {
   "cell_type": "code",
   "execution_count": 1,
   "id": "fe874aab-c03b-441d-846e-01ad119882eb",
   "metadata": {},
   "outputs": [
    {
     "name": "stdout",
     "output_type": "stream",
     "text": [
      "Collecting faiss-cpu\n",
      "  Downloading faiss_cpu-1.8.0.post1-cp310-cp310-win_amd64.whl.metadata (3.8 kB)\n",
      "Collecting pypdf2\n",
      "  Downloading pypdf2-3.0.1-py3-none-any.whl.metadata (6.8 kB)\n",
      "Requirement already satisfied: numpy<2.0,>=1.0 in c:\\users\\ribhattacharya\\.conda\\envs\\python310\\lib\\site-packages (from faiss-cpu) (1.26.4)\n",
      "Requirement already satisfied: packaging in c:\\users\\ribhattacharya\\.conda\\envs\\python310\\lib\\site-packages (from faiss-cpu) (24.1)\n",
      "Downloading faiss_cpu-1.8.0.post1-cp310-cp310-win_amd64.whl (14.6 MB)\n",
      "   ---------------------------------------- 0.0/14.6 MB ? eta -:--:--\n",
      "   ---------------------------------------- 0.0/14.6 MB ? eta -:--:--\n",
      "   ---------------------------------------- 0.2/14.6 MB 1.5 MB/s eta 0:00:10\n",
      "    --------------------------------------- 0.3/14.6 MB 1.9 MB/s eta 0:00:08\n",
      "   - -------------------------------------- 0.6/14.6 MB 2.5 MB/s eta 0:00:06\n",
      "   - -------------------------------------- 0.6/14.6 MB 2.3 MB/s eta 0:00:06\n",
      "   --- ------------------------------------ 1.1/14.6 MB 3.6 MB/s eta 0:00:04\n",
      "   --- ------------------------------------ 1.2/14.6 MB 3.4 MB/s eta 0:00:04\n",
      "   ---- ----------------------------------- 1.8/14.6 MB 4.4 MB/s eta 0:00:03\n",
      "   ------ --------------------------------- 2.4/14.6 MB 5.0 MB/s eta 0:00:03\n",
      "   -------- ------------------------------- 3.1/14.6 MB 5.9 MB/s eta 0:00:02\n",
      "   --------- ------------------------------ 3.5/14.6 MB 5.8 MB/s eta 0:00:02\n",
      "   ---------- ----------------------------- 4.0/14.6 MB 5.9 MB/s eta 0:00:02\n",
      "   ------------ --------------------------- 4.4/14.6 MB 6.2 MB/s eta 0:00:02\n",
      "   ------------- -------------------------- 4.9/14.6 MB 6.4 MB/s eta 0:00:02\n",
      "   --------------- ------------------------ 5.5/14.6 MB 6.5 MB/s eta 0:00:02\n",
      "   ---------------- ----------------------- 6.0/14.6 MB 6.6 MB/s eta 0:00:02\n",
      "   ----------------- ---------------------- 6.3/14.6 MB 6.6 MB/s eta 0:00:02\n",
      "   ----------------- ---------------------- 6.3/14.6 MB 6.6 MB/s eta 0:00:02\n",
      "   ------------------ --------------------- 6.6/14.6 MB 6.3 MB/s eta 0:00:02\n",
      "   -------------------- ------------------- 7.5/14.6 MB 6.9 MB/s eta 0:00:02\n",
      "   --------------------- ------------------ 7.9/14.6 MB 6.9 MB/s eta 0:00:01\n",
      "   ----------------------- ---------------- 8.4/14.6 MB 7.0 MB/s eta 0:00:01\n",
      "   ------------------------ --------------- 8.9/14.6 MB 7.1 MB/s eta 0:00:01\n",
      "   ------------------------- -------------- 9.5/14.6 MB 7.1 MB/s eta 0:00:01\n",
      "   --------------------------- ------------ 10.0/14.6 MB 7.2 MB/s eta 0:00:01\n",
      "   ---------------------------- ----------- 10.4/14.6 MB 7.4 MB/s eta 0:00:01\n",
      "   ----------------------------- ---------- 10.7/14.6 MB 8.0 MB/s eta 0:00:01\n",
      "   ------------------------------ --------- 11.3/14.6 MB 8.2 MB/s eta 0:00:01\n",
      "   -------------------------------- ------- 11.9/14.6 MB 8.4 MB/s eta 0:00:01\n",
      "   --------------------------------- ------ 12.3/14.6 MB 8.5 MB/s eta 0:00:01\n",
      "   ---------------------------------- ----- 12.6/14.6 MB 8.4 MB/s eta 0:00:01\n",
      "   ----------------------------------- ---- 12.9/14.6 MB 8.2 MB/s eta 0:00:01\n",
      "   ------------------------------------ --- 13.4/14.6 MB 8.0 MB/s eta 0:00:01\n",
      "   ------------------------------------- -- 13.8/14.6 MB 8.2 MB/s eta 0:00:01\n",
      "   ---------------------------------------  14.3/14.6 MB 8.2 MB/s eta 0:00:01\n",
      "   ---------------------------------------  14.6/14.6 MB 8.1 MB/s eta 0:00:01\n",
      "   ---------------------------------------- 14.6/14.6 MB 7.9 MB/s eta 0:00:00\n",
      "Downloading pypdf2-3.0.1-py3-none-any.whl (232 kB)\n",
      "   ---------------------------------------- 0.0/232.6 kB ? eta -:--:--\n",
      "   ---------------------------------------- 232.6/232.6 kB 7.2 MB/s eta 0:00:00\n",
      "Installing collected packages: pypdf2, faiss-cpu\n",
      "Successfully installed faiss-cpu-1.8.0.post1 pypdf2-3.0.1\n"
     ]
    }
   ],
   "source": [
    "!pip install faiss-cpu pypdf2"
   ]
  },
  {
   "cell_type": "code",
   "execution_count": 39,
   "id": "ea7bb5d1-c59e-43eb-afce-585669876df3",
   "metadata": {},
   "outputs": [],
   "source": [
    "import faiss\n",
    "from langchain.embeddings import OllamaEmbeddings\n",
    "from langchain.vectorstores import FAISS\n",
    "from langchain.document_loaders import PyPDFLoader\n",
    "from langchain_text_splitters import RecursiveCharacterTextSplitter\n",
    "import fitz\n",
    "import itertools"
   ]
  },
  {
   "cell_type": "code",
   "execution_count": 46,
   "id": "ccdc31d1-b5f5-449d-be32-ec6cb4bc9d05",
   "metadata": {},
   "outputs": [],
   "source": [
    "pdf_file_path = 'C:/Users/ribhattacharya/Desktop/TPRM-Accelerator/assets/data/Security Evidence Docs/SOC 2/GoogleCloud/Audit-Reports-1720774833381-81ba2e/GCP-[FALL-2023] GCP SOC 2..pdf'\n",
    "# with fitz.open(pdf_file_path) as doc:\n",
    "#         page_contents = [page.get_text() for page in doc]\n",
    "pdf_loader = PyPDFLoader(\"C:/Users/ribhattacharya/Desktop/TPRM-Accelerator/assets/data/Security Evidence Docs/SOC 2/GoogleCloud/Audit-Reports-1720774833381-81ba2e/GCP-[FALL-2023] GCP SOC 2..pdf\")\n",
    "raw_documents= pdf_loader.load()\n",
    "text_splitter = RecursiveCharacterTextSplitter(\n",
    "        chunk_size=1000,\n",
    "        chunk_overlap=100,\n",
    "        length_function=len,\n",
    "        is_separator_regex=False,\n",
    "    )\n",
    "documents = text_splitter.split_documents(raw_documents)"
   ]
  },
  {
   "cell_type": "code",
   "execution_count": 47,
   "id": "773377ea-662d-4005-8b48-38c8b4c02f29",
   "metadata": {},
   "outputs": [],
   "source": [
    "embedding_model = OllamaEmbeddings(model='nomic-embed-text',show_progress=True)"
   ]
  },
  {
   "cell_type": "code",
   "execution_count": 48,
   "id": "45d783e1-689c-4eb2-993c-c8b0c34afe4d",
   "metadata": {},
   "outputs": [],
   "source": [
    "batch_size = 50\n",
    "texts=[doc.page_content for doc in documents]\n",
    "#document_texts = [doc.page_content for doc in documents]\n",
    "documents_embeddings = []"
   ]
  },
  {
   "cell_type": "code",
   "execution_count": 49,
   "id": "7264eddb-c764-4ddc-b6cc-cd76bc66fdbc",
   "metadata": {},
   "outputs": [
    {
     "name": "stderr",
     "output_type": "stream",
     "text": [
      "\n",
      "OllamaEmbeddings:   0%|          | 0/50 [00:00<?, ?it/s]\u001b[A\n",
      "OllamaEmbeddings:   2%|▏         | 1/50 [00:01<00:55,  1.12s/it]\u001b[A\n",
      "OllamaEmbeddings:   4%|▍         | 2/50 [00:03<01:27,  1.83s/it]\u001b[A\n",
      "OllamaEmbeddings:   6%|▌         | 3/50 [00:06<01:56,  2.47s/it]\u001b[A\n",
      "OllamaEmbeddings:   8%|▊         | 4/50 [00:07<01:17,  1.68s/it]\u001b[A\n",
      "OllamaEmbeddings:  10%|█         | 5/50 [00:07<00:51,  1.14s/it]\u001b[A\n",
      "OllamaEmbeddings:  12%|█▏        | 6/50 [00:08<00:46,  1.06s/it]\u001b[A\n",
      "OllamaEmbeddings:  14%|█▍        | 7/50 [00:09<00:41,  1.03it/s]\u001b[A\n",
      "OllamaEmbeddings:  16%|█▌        | 8/50 [00:10<00:40,  1.03it/s]\u001b[A\n",
      "OllamaEmbeddings:  18%|█▊        | 9/50 [00:10<00:34,  1.19it/s]\u001b[A\n",
      "OllamaEmbeddings:  20%|██        | 10/50 [00:10<00:26,  1.52it/s]\u001b[A\n",
      "OllamaEmbeddings:  22%|██▏       | 11/50 [00:11<00:30,  1.28it/s]\u001b[A\n",
      "OllamaEmbeddings:  24%|██▍       | 12/50 [00:12<00:29,  1.27it/s]\u001b[A\n",
      "OllamaEmbeddings:  26%|██▌       | 13/50 [00:13<00:28,  1.28it/s]\u001b[A\n",
      "OllamaEmbeddings:  28%|██▊       | 14/50 [00:14<00:29,  1.22it/s]\u001b[A\n",
      "OllamaEmbeddings:  30%|███       | 15/50 [00:15<00:29,  1.17it/s]\u001b[A\n",
      "OllamaEmbeddings:  32%|███▏      | 16/50 [00:16<00:31,  1.10it/s]\u001b[A\n",
      "OllamaEmbeddings:  34%|███▍      | 17/50 [00:17<00:27,  1.19it/s]\u001b[A\n",
      "OllamaEmbeddings:  36%|███▌      | 18/50 [00:17<00:27,  1.18it/s]\u001b[A\n",
      "OllamaEmbeddings:  38%|███▊      | 19/50 [00:18<00:27,  1.12it/s]\u001b[A\n",
      "OllamaEmbeddings:  40%|████      | 20/50 [00:19<00:26,  1.14it/s]\u001b[A\n",
      "OllamaEmbeddings:  42%|████▏     | 21/50 [00:20<00:20,  1.42it/s]\u001b[A\n",
      "OllamaEmbeddings:  44%|████▍     | 22/50 [00:20<00:21,  1.30it/s]\u001b[A\n",
      "OllamaEmbeddings:  46%|████▌     | 23/50 [00:21<00:21,  1.25it/s]\u001b[A\n",
      "OllamaEmbeddings:  48%|████▊     | 24/50 [00:22<00:22,  1.17it/s]\u001b[A\n",
      "OllamaEmbeddings:  50%|█████     | 25/50 [00:23<00:20,  1.22it/s]\u001b[A\n",
      "OllamaEmbeddings:  52%|█████▏    | 26/50 [00:23<00:15,  1.54it/s]\u001b[A\n",
      "OllamaEmbeddings:  54%|█████▍    | 27/50 [00:25<00:20,  1.10it/s]\u001b[A\n",
      "OllamaEmbeddings:  56%|█████▌    | 28/50 [00:26<00:24,  1.09s/it]\u001b[A\n",
      "OllamaEmbeddings:  58%|█████▊    | 29/50 [00:28<00:23,  1.12s/it]\u001b[A\n",
      "OllamaEmbeddings:  60%|██████    | 30/50 [00:28<00:17,  1.15it/s]\u001b[A\n",
      "OllamaEmbeddings:  62%|██████▏   | 31/50 [00:29<00:16,  1.16it/s]\u001b[A\n",
      "OllamaEmbeddings:  64%|██████▍   | 32/50 [00:30<00:16,  1.12it/s]\u001b[A\n",
      "OllamaEmbeddings:  66%|██████▌   | 33/50 [00:30<00:15,  1.12it/s]\u001b[A\n",
      "OllamaEmbeddings:  68%|██████▊   | 34/50 [00:32<00:15,  1.00it/s]\u001b[A\n",
      "OllamaEmbeddings:  70%|███████   | 35/50 [00:32<00:12,  1.21it/s]\u001b[A\n",
      "OllamaEmbeddings:  72%|███████▏  | 36/50 [00:33<00:13,  1.06it/s]\u001b[A\n",
      "OllamaEmbeddings:  74%|███████▍  | 37/50 [00:34<00:12,  1.04it/s]\u001b[A\n",
      "OllamaEmbeddings:  76%|███████▌  | 38/50 [00:35<00:09,  1.32it/s]\u001b[A\n",
      "OllamaEmbeddings:  78%|███████▊  | 39/50 [00:36<00:08,  1.24it/s]\u001b[A\n",
      "OllamaEmbeddings:  80%|████████  | 40/50 [00:36<00:06,  1.48it/s]\u001b[A\n",
      "OllamaEmbeddings:  82%|████████▏ | 41/50 [00:37<00:07,  1.24it/s]\u001b[A\n",
      "OllamaEmbeddings:  84%|████████▍ | 42/50 [00:38<00:06,  1.20it/s]\u001b[A\n",
      "OllamaEmbeddings:  86%|████████▌ | 43/50 [00:39<00:05,  1.28it/s]\u001b[A\n",
      "OllamaEmbeddings:  88%|████████▊ | 44/50 [00:39<00:04,  1.27it/s]\u001b[A\n",
      "OllamaEmbeddings:  90%|█████████ | 45/50 [00:40<00:03,  1.27it/s]\u001b[A\n",
      "OllamaEmbeddings:  92%|█████████▏| 46/50 [00:41<00:02,  1.37it/s]\u001b[A\n",
      "OllamaEmbeddings:  94%|█████████▍| 47/50 [00:42<00:02,  1.29it/s]\u001b[A\n",
      "OllamaEmbeddings:  96%|█████████▌| 48/50 [00:43<00:01,  1.19it/s]\u001b[A\n",
      "OllamaEmbeddings:  98%|█████████▊| 49/50 [00:44<00:00,  1.15it/s]\u001b[A\n",
      "OllamaEmbeddings: 100%|██████████| 50/50 [00:45<00:00,  1.11it/s]\u001b[A\n",
      "\n",
      "OllamaEmbeddings:   0%|          | 0/50 [00:00<?, ?it/s]\u001b[A\n",
      "OllamaEmbeddings:   2%|▏         | 1/50 [00:00<00:45,  1.08it/s]\u001b[A\n",
      "OllamaEmbeddings:   4%|▍         | 2/50 [00:01<00:32,  1.47it/s]\u001b[A\n",
      "OllamaEmbeddings:   6%|▌         | 3/50 [00:02<00:41,  1.13it/s]\u001b[A\n",
      "OllamaEmbeddings:   8%|▊         | 4/50 [00:03<00:43,  1.06it/s]\u001b[A\n",
      "OllamaEmbeddings:  10%|█         | 5/50 [00:04<00:42,  1.06it/s]\u001b[A\n",
      "OllamaEmbeddings:  12%|█▏        | 6/50 [00:05<00:44,  1.00s/it]\u001b[A\n",
      "OllamaEmbeddings:  14%|█▍        | 7/50 [00:06<00:43,  1.01s/it]\u001b[A\n",
      "OllamaEmbeddings:  16%|█▌        | 8/50 [00:07<00:38,  1.09it/s]\u001b[A\n",
      "OllamaEmbeddings:  18%|█▊        | 9/50 [00:08<00:37,  1.10it/s]\u001b[A\n",
      "OllamaEmbeddings:  20%|██        | 10/50 [00:09<00:36,  1.09it/s]\u001b[A\n",
      "OllamaEmbeddings:  22%|██▏       | 11/50 [00:10<00:36,  1.06it/s]\u001b[A\n",
      "OllamaEmbeddings:  24%|██▍       | 12/50 [00:11<00:34,  1.10it/s]\u001b[A\n",
      "OllamaEmbeddings:  26%|██▌       | 13/50 [00:12<00:34,  1.08it/s]\u001b[A\n",
      "OllamaEmbeddings:  28%|██▊       | 14/50 [00:12<00:32,  1.10it/s]\u001b[A\n",
      "OllamaEmbeddings:  30%|███       | 15/50 [00:13<00:31,  1.11it/s]\u001b[A\n",
      "OllamaEmbeddings:  32%|███▏      | 16/50 [00:14<00:30,  1.10it/s]\u001b[A\n",
      "OllamaEmbeddings:  34%|███▍      | 17/50 [00:15<00:28,  1.17it/s]\u001b[A\n",
      "OllamaEmbeddings:  36%|███▌      | 18/50 [00:16<00:26,  1.21it/s]\u001b[A\n",
      "OllamaEmbeddings:  38%|███▊      | 19/50 [00:17<00:26,  1.17it/s]\u001b[A\n",
      "OllamaEmbeddings:  40%|████      | 20/50 [00:17<00:25,  1.16it/s]\u001b[A\n",
      "OllamaEmbeddings:  42%|████▏     | 21/50 [00:19<00:27,  1.06it/s]\u001b[A\n",
      "OllamaEmbeddings:  44%|████▍     | 22/50 [00:20<00:26,  1.04it/s]\u001b[A\n",
      "OllamaEmbeddings:  46%|████▌     | 23/50 [00:20<00:23,  1.16it/s]\u001b[A\n",
      "OllamaEmbeddings:  48%|████▊     | 24/50 [00:21<00:23,  1.11it/s]\u001b[A\n",
      "OllamaEmbeddings:  50%|█████     | 25/50 [00:22<00:21,  1.15it/s]\u001b[A\n",
      "OllamaEmbeddings:  52%|█████▏    | 26/50 [00:23<00:19,  1.26it/s]\u001b[A\n",
      "OllamaEmbeddings:  54%|█████▍    | 27/50 [00:24<00:19,  1.20it/s]\u001b[A\n",
      "OllamaEmbeddings:  56%|█████▌    | 28/50 [00:24<00:18,  1.18it/s]\u001b[A\n",
      "OllamaEmbeddings:  58%|█████▊    | 29/50 [00:25<00:15,  1.31it/s]\u001b[A\n",
      "OllamaEmbeddings:  60%|██████    | 30/50 [00:26<00:16,  1.24it/s]\u001b[A\n",
      "OllamaEmbeddings:  62%|██████▏   | 31/50 [00:27<00:15,  1.20it/s]\u001b[A\n",
      "OllamaEmbeddings:  64%|██████▍   | 32/50 [00:28<00:15,  1.18it/s]\u001b[A\n",
      "OllamaEmbeddings:  66%|██████▌   | 33/50 [00:28<00:13,  1.25it/s]\u001b[A\n",
      "OllamaEmbeddings:  68%|██████▊   | 34/50 [00:29<00:12,  1.31it/s]\u001b[A\n",
      "OllamaEmbeddings:  70%|███████   | 35/50 [00:30<00:10,  1.43it/s]\u001b[A\n",
      "OllamaEmbeddings:  72%|███████▏  | 36/50 [00:30<00:10,  1.36it/s]\u001b[A\n",
      "OllamaEmbeddings:  74%|███████▍  | 37/50 [00:31<00:09,  1.30it/s]\u001b[A\n",
      "OllamaEmbeddings:  76%|███████▌  | 38/50 [00:32<00:08,  1.37it/s]\u001b[A\n",
      "OllamaEmbeddings:  78%|███████▊  | 39/50 [00:33<00:08,  1.28it/s]\u001b[A\n",
      "OllamaEmbeddings:  80%|████████  | 40/50 [00:34<00:08,  1.22it/s]\u001b[A\n",
      "OllamaEmbeddings:  82%|████████▏ | 41/50 [00:35<00:07,  1.19it/s]\u001b[A\n",
      "OllamaEmbeddings:  84%|████████▍ | 42/50 [00:36<00:07,  1.07it/s]\u001b[A\n",
      "OllamaEmbeddings:  86%|████████▌ | 43/50 [00:37<00:07,  1.04s/it]\u001b[A\n",
      "OllamaEmbeddings:  88%|████████▊ | 44/50 [00:38<00:06,  1.01s/it]\u001b[A\n",
      "OllamaEmbeddings:  90%|█████████ | 45/50 [00:40<00:05,  1.20s/it]\u001b[A\n",
      "OllamaEmbeddings:  92%|█████████▏| 46/50 [00:41<00:05,  1.31s/it]\u001b[A\n",
      "OllamaEmbeddings:  94%|█████████▍| 47/50 [00:42<00:03,  1.08s/it]\u001b[A\n",
      "OllamaEmbeddings:  96%|█████████▌| 48/50 [00:43<00:02,  1.12s/it]\u001b[A\n",
      "OllamaEmbeddings:  98%|█████████▊| 49/50 [00:44<00:01,  1.06s/it]\u001b[A\n",
      "OllamaEmbeddings: 100%|██████████| 50/50 [00:45<00:00,  1.10it/s]\u001b[A\n",
      "\n",
      "OllamaEmbeddings:   0%|          | 0/50 [00:00<?, ?it/s]\u001b[A\n",
      "OllamaEmbeddings:   2%|▏         | 1/50 [00:01<01:11,  1.46s/it]\u001b[A\n",
      "OllamaEmbeddings:   4%|▍         | 2/50 [00:03<01:15,  1.58s/it]\u001b[A\n",
      "OllamaEmbeddings:   6%|▌         | 3/50 [00:03<00:48,  1.03s/it]\u001b[A\n",
      "OllamaEmbeddings:   8%|▊         | 4/50 [00:05<01:00,  1.32s/it]\u001b[A\n",
      "OllamaEmbeddings:  10%|█         | 5/50 [00:06<00:50,  1.11s/it]\u001b[A\n",
      "OllamaEmbeddings:  12%|█▏        | 6/50 [00:07<00:55,  1.26s/it]\u001b[A\n",
      "OllamaEmbeddings:  14%|█▍        | 7/50 [00:08<00:54,  1.27s/it]\u001b[A\n",
      "OllamaEmbeddings:  16%|█▌        | 8/50 [00:09<00:40,  1.03it/s]\u001b[A\n",
      "OllamaEmbeddings:  18%|█▊        | 9/50 [00:09<00:37,  1.09it/s]\u001b[A\n",
      "OllamaEmbeddings:  20%|██        | 10/50 [00:10<00:34,  1.15it/s]\u001b[A\n",
      "OllamaEmbeddings:  22%|██▏       | 11/50 [00:11<00:32,  1.20it/s]\u001b[A\n",
      "OllamaEmbeddings:  24%|██▍       | 12/50 [00:11<00:27,  1.40it/s]\u001b[A\n",
      "OllamaEmbeddings:  26%|██▌       | 13/50 [00:12<00:26,  1.39it/s]\u001b[A\n",
      "OllamaEmbeddings:  28%|██▊       | 14/50 [00:13<00:26,  1.38it/s]\u001b[A\n",
      "OllamaEmbeddings:  30%|███       | 15/50 [00:14<00:26,  1.31it/s]\u001b[A\n",
      "OllamaEmbeddings:  32%|███▏      | 16/50 [00:15<00:27,  1.25it/s]\u001b[A\n",
      "OllamaEmbeddings:  34%|███▍      | 17/50 [00:15<00:26,  1.25it/s]\u001b[A\n",
      "OllamaEmbeddings:  36%|███▌      | 18/50 [00:16<00:26,  1.22it/s]\u001b[A\n",
      "OllamaEmbeddings:  38%|███▊      | 19/50 [00:17<00:26,  1.17it/s]\u001b[A\n",
      "OllamaEmbeddings:  40%|████      | 20/50 [00:18<00:23,  1.26it/s]\u001b[A\n",
      "OllamaEmbeddings:  42%|████▏     | 21/50 [00:19<00:22,  1.31it/s]\u001b[A\n",
      "OllamaEmbeddings:  44%|████▍     | 22/50 [00:20<00:24,  1.14it/s]\u001b[A\n",
      "OllamaEmbeddings:  46%|████▌     | 23/50 [00:21<00:24,  1.09it/s]\u001b[A\n",
      "OllamaEmbeddings:  48%|████▊     | 24/50 [00:22<00:24,  1.05it/s]\u001b[A\n",
      "OllamaEmbeddings:  50%|█████     | 25/50 [00:22<00:19,  1.28it/s]\u001b[A\n",
      "OllamaEmbeddings:  52%|█████▏    | 26/50 [00:23<00:20,  1.18it/s]\u001b[A\n",
      "OllamaEmbeddings:  54%|█████▍    | 27/50 [00:24<00:20,  1.13it/s]\u001b[A\n",
      "OllamaEmbeddings:  56%|█████▌    | 28/50 [00:25<00:18,  1.18it/s]\u001b[A\n",
      "OllamaEmbeddings:  58%|█████▊    | 29/50 [00:26<00:17,  1.17it/s]\u001b[A\n",
      "OllamaEmbeddings:  60%|██████    | 30/50 [00:26<00:14,  1.41it/s]\u001b[A\n",
      "OllamaEmbeddings:  62%|██████▏   | 31/50 [00:27<00:14,  1.33it/s]\u001b[A\n",
      "OllamaEmbeddings:  64%|██████▍   | 32/50 [00:28<00:14,  1.23it/s]\u001b[A\n",
      "OllamaEmbeddings:  66%|██████▌   | 33/50 [00:29<00:14,  1.18it/s]\u001b[A\n",
      "OllamaEmbeddings:  68%|██████▊   | 34/50 [00:30<00:13,  1.23it/s]\u001b[A\n",
      "OllamaEmbeddings:  70%|███████   | 35/50 [00:30<00:10,  1.50it/s]\u001b[A\n",
      "OllamaEmbeddings:  72%|███████▏  | 36/50 [00:31<00:09,  1.43it/s]\u001b[A\n",
      "OllamaEmbeddings:  74%|███████▍  | 37/50 [00:31<00:09,  1.39it/s]\u001b[A\n",
      "OllamaEmbeddings:  76%|███████▌  | 38/50 [00:32<00:09,  1.30it/s]\u001b[A\n",
      "OllamaEmbeddings:  78%|███████▊  | 39/50 [00:33<00:08,  1.25it/s]\u001b[A\n",
      "OllamaEmbeddings:  80%|████████  | 40/50 [00:34<00:07,  1.28it/s]\u001b[A\n",
      "OllamaEmbeddings:  82%|████████▏ | 41/50 [00:35<00:07,  1.25it/s]\u001b[A\n",
      "OllamaEmbeddings:  84%|████████▍ | 42/50 [00:36<00:06,  1.21it/s]\u001b[A\n",
      "OllamaEmbeddings:  86%|████████▌ | 43/50 [00:37<00:06,  1.16it/s]\u001b[A\n",
      "OllamaEmbeddings:  88%|████████▊ | 44/50 [00:37<00:04,  1.40it/s]\u001b[A\n",
      "OllamaEmbeddings:  90%|█████████ | 45/50 [00:38<00:04,  1.23it/s]\u001b[A\n",
      "OllamaEmbeddings:  92%|█████████▏| 46/50 [00:39<00:03,  1.15it/s]\u001b[A\n",
      "OllamaEmbeddings:  94%|█████████▍| 47/50 [00:40<00:02,  1.14it/s]\u001b[A\n",
      "OllamaEmbeddings:  96%|█████████▌| 48/50 [00:41<00:01,  1.20it/s]\u001b[A\n",
      "OllamaEmbeddings:  98%|█████████▊| 49/50 [00:42<00:00,  1.10it/s]\u001b[A\n",
      "OllamaEmbeddings: 100%|██████████| 50/50 [00:43<00:00,  1.16it/s]\u001b[A\n",
      "\n",
      "OllamaEmbeddings:   0%|          | 0/50 [00:00<?, ?it/s]\u001b[A\n",
      "OllamaEmbeddings:   2%|▏         | 1/50 [00:00<00:41,  1.20it/s]\u001b[A\n",
      "OllamaEmbeddings:   4%|▍         | 2/50 [00:01<00:36,  1.30it/s]\u001b[A\n",
      "OllamaEmbeddings:   6%|▌         | 3/50 [00:02<00:35,  1.32it/s]\u001b[A\n",
      "OllamaEmbeddings:   8%|▊         | 4/50 [00:03<00:35,  1.31it/s]\u001b[A\n",
      "OllamaEmbeddings:  10%|█         | 5/50 [00:03<00:35,  1.27it/s]\u001b[A\n",
      "OllamaEmbeddings:  12%|█▏        | 6/50 [00:04<00:34,  1.28it/s]\u001b[A\n",
      "OllamaEmbeddings:  14%|█▍        | 7/50 [00:05<00:34,  1.25it/s]\u001b[A\n",
      "OllamaEmbeddings:  16%|█▌        | 8/50 [00:06<00:38,  1.10it/s]\u001b[A\n",
      "OllamaEmbeddings:  18%|█▊        | 9/50 [00:07<00:38,  1.07it/s]\u001b[A\n",
      "OllamaEmbeddings:  20%|██        | 10/50 [00:08<00:37,  1.07it/s]\u001b[A\n",
      "OllamaEmbeddings:  22%|██▏       | 11/50 [00:09<00:39,  1.01s/it]\u001b[A\n",
      "OllamaEmbeddings:  24%|██▍       | 12/50 [00:11<00:45,  1.19s/it]\u001b[A\n",
      "OllamaEmbeddings:  26%|██▌       | 13/50 [00:13<00:51,  1.38s/it]\u001b[A\n",
      "OllamaEmbeddings:  28%|██▊       | 14/50 [00:13<00:41,  1.15s/it]\u001b[A\n",
      "OllamaEmbeddings:  30%|███       | 15/50 [00:14<00:40,  1.15s/it]\u001b[A\n",
      "OllamaEmbeddings:  32%|███▏      | 16/50 [00:15<00:36,  1.08s/it]\u001b[A\n",
      "OllamaEmbeddings:  34%|███▍      | 17/50 [00:16<00:33,  1.02s/it]\u001b[A\n",
      "OllamaEmbeddings:  36%|███▌      | 18/50 [00:17<00:31,  1.03it/s]\u001b[A\n",
      "OllamaEmbeddings:  38%|███▊      | 19/50 [00:17<00:23,  1.33it/s]\u001b[A\n",
      "OllamaEmbeddings:  40%|████      | 20/50 [00:18<00:22,  1.32it/s]\u001b[A\n",
      "OllamaEmbeddings:  42%|████▏     | 21/50 [00:19<00:22,  1.29it/s]\u001b[A\n",
      "OllamaEmbeddings:  44%|████▍     | 22/50 [00:20<00:21,  1.28it/s]\u001b[A\n",
      "OllamaEmbeddings:  46%|████▌     | 23/50 [00:21<00:21,  1.27it/s]\u001b[A\n",
      "OllamaEmbeddings:  48%|████▊     | 24/50 [00:21<00:17,  1.52it/s]\u001b[A\n",
      "OllamaEmbeddings:  50%|█████     | 25/50 [00:22<00:17,  1.44it/s]\u001b[A\n",
      "OllamaEmbeddings:  52%|█████▏    | 26/50 [00:23<00:18,  1.31it/s]\u001b[A\n",
      "OllamaEmbeddings:  54%|█████▍    | 27/50 [00:23<00:18,  1.25it/s]\u001b[A\n",
      "OllamaEmbeddings:  56%|█████▌    | 28/50 [00:25<00:19,  1.11it/s]\u001b[A\n",
      "OllamaEmbeddings:  58%|█████▊    | 29/50 [00:26<00:19,  1.10it/s]\u001b[A\n",
      "OllamaEmbeddings:  60%|██████    | 30/50 [00:26<00:15,  1.31it/s]\u001b[A\n",
      "OllamaEmbeddings:  62%|██████▏   | 31/50 [00:27<00:15,  1.20it/s]\u001b[A\n",
      "OllamaEmbeddings:  64%|██████▍   | 32/50 [00:28<00:16,  1.09it/s]\u001b[A\n",
      "OllamaEmbeddings:  66%|██████▌   | 33/50 [00:29<00:15,  1.07it/s]\u001b[A\n",
      "OllamaEmbeddings:  68%|██████▊   | 34/50 [00:30<00:14,  1.14it/s]\u001b[A\n",
      "OllamaEmbeddings:  70%|███████   | 35/50 [00:31<00:13,  1.15it/s]\u001b[A\n",
      "OllamaEmbeddings:  72%|███████▏  | 36/50 [00:31<00:12,  1.16it/s]\u001b[A\n",
      "OllamaEmbeddings:  74%|███████▍  | 37/50 [00:32<00:08,  1.45it/s]\u001b[A\n",
      "OllamaEmbeddings:  76%|███████▌  | 38/50 [00:33<00:08,  1.36it/s]\u001b[A\n",
      "OllamaEmbeddings:  78%|███████▊  | 39/50 [00:33<00:08,  1.32it/s]\u001b[A\n",
      "OllamaEmbeddings:  80%|████████  | 40/50 [00:34<00:07,  1.26it/s]\u001b[A\n",
      "OllamaEmbeddings:  82%|████████▏ | 41/50 [00:35<00:07,  1.27it/s]\u001b[A\n",
      "OllamaEmbeddings:  84%|████████▍ | 42/50 [00:36<00:06,  1.24it/s]\u001b[A\n",
      "OllamaEmbeddings:  86%|████████▌ | 43/50 [00:37<00:05,  1.27it/s]\u001b[A\n",
      "OllamaEmbeddings:  88%|████████▊ | 44/50 [00:38<00:04,  1.22it/s]\u001b[A\n",
      "OllamaEmbeddings:  90%|█████████ | 45/50 [00:38<00:04,  1.23it/s]\u001b[A\n",
      "OllamaEmbeddings:  92%|█████████▏| 46/50 [00:39<00:03,  1.19it/s]\u001b[A\n",
      "OllamaEmbeddings:  94%|█████████▍| 47/50 [00:40<00:02,  1.28it/s]\u001b[A\n",
      "OllamaEmbeddings:  96%|█████████▌| 48/50 [00:41<00:01,  1.16it/s]\u001b[A\n",
      "OllamaEmbeddings:  98%|█████████▊| 49/50 [00:42<00:00,  1.14it/s]\u001b[A\n",
      "OllamaEmbeddings: 100%|██████████| 50/50 [00:43<00:00,  1.15it/s]\u001b[A\n",
      "\n",
      "OllamaEmbeddings:   0%|          | 0/50 [00:00<?, ?it/s]\u001b[A\n",
      "OllamaEmbeddings:   2%|▏         | 1/50 [00:01<00:50,  1.04s/it]\u001b[A\n",
      "OllamaEmbeddings:   4%|▍         | 2/50 [00:01<00:47,  1.02it/s]\u001b[A\n",
      "OllamaEmbeddings:   6%|▌         | 3/50 [00:02<00:43,  1.09it/s]\u001b[A\n",
      "OllamaEmbeddings:   8%|▊         | 4/50 [00:03<00:44,  1.02it/s]\u001b[A\n",
      "OllamaEmbeddings:  10%|█         | 5/50 [00:04<00:41,  1.09it/s]\u001b[A\n",
      "OllamaEmbeddings:  12%|█▏        | 6/50 [00:05<00:40,  1.07it/s]\u001b[A\n",
      "OllamaEmbeddings:  14%|█▍        | 7/50 [00:06<00:42,  1.01it/s]\u001b[A\n",
      "OllamaEmbeddings:  16%|█▌        | 8/50 [00:07<00:42,  1.02s/it]\u001b[A\n",
      "OllamaEmbeddings:  18%|█▊        | 9/50 [00:08<00:40,  1.00it/s]\u001b[A\n",
      "OllamaEmbeddings:  20%|██        | 10/50 [00:09<00:38,  1.03it/s]\u001b[A\n",
      "OllamaEmbeddings:  22%|██▏       | 11/50 [00:10<00:37,  1.05it/s]\u001b[A\n",
      "OllamaEmbeddings:  24%|██▍       | 12/50 [00:10<00:28,  1.33it/s]\u001b[A\n",
      "OllamaEmbeddings:  26%|██▌       | 13/50 [00:11<00:30,  1.23it/s]\u001b[A\n",
      "OllamaEmbeddings:  28%|██▊       | 14/50 [00:12<00:31,  1.15it/s]\u001b[A\n",
      "OllamaEmbeddings:  30%|███       | 15/50 [00:13<00:27,  1.27it/s]\u001b[A\n",
      "OllamaEmbeddings:  32%|███▏      | 16/50 [00:14<00:29,  1.16it/s]\u001b[A\n",
      "OllamaEmbeddings:  34%|███▍      | 17/50 [00:14<00:24,  1.34it/s]\u001b[A\n",
      "OllamaEmbeddings:  36%|███▌      | 18/50 [00:15<00:19,  1.67it/s]\u001b[A\n",
      "OllamaEmbeddings:  38%|███▊      | 19/50 [00:16<00:22,  1.36it/s]\u001b[A\n",
      "OllamaEmbeddings:  40%|████      | 20/50 [00:17<00:26,  1.13it/s]\u001b[A\n",
      "OllamaEmbeddings:  42%|████▏     | 21/50 [00:18<00:27,  1.04it/s]\u001b[A\n",
      "OllamaEmbeddings:  44%|████▍     | 22/50 [00:19<00:28,  1.01s/it]\u001b[A\n",
      "OllamaEmbeddings:  46%|████▌     | 23/50 [00:21<00:28,  1.07s/it]\u001b[A\n",
      "OllamaEmbeddings:  48%|████▊     | 24/50 [00:21<00:26,  1.03s/it]\u001b[A\n",
      "OllamaEmbeddings:  50%|█████     | 25/50 [00:22<00:21,  1.18it/s]\u001b[A\n",
      "OllamaEmbeddings:  52%|█████▏    | 26/50 [00:23<00:20,  1.17it/s]\u001b[A\n",
      "OllamaEmbeddings:  54%|█████▍    | 27/50 [00:24<00:19,  1.21it/s]\u001b[A\n",
      "OllamaEmbeddings:  56%|█████▌    | 28/50 [00:25<00:19,  1.11it/s]\u001b[A\n",
      "OllamaEmbeddings:  58%|█████▊    | 29/50 [00:25<00:15,  1.33it/s]\u001b[A\n",
      "OllamaEmbeddings:  60%|██████    | 30/50 [00:26<00:16,  1.23it/s]\u001b[A\n",
      "OllamaEmbeddings:  62%|██████▏   | 31/50 [00:27<00:15,  1.25it/s]\u001b[A\n",
      "OllamaEmbeddings:  64%|██████▍   | 32/50 [00:28<00:18,  1.03s/it]\u001b[A\n",
      "OllamaEmbeddings:  66%|██████▌   | 33/50 [00:30<00:19,  1.16s/it]\u001b[A\n",
      "OllamaEmbeddings:  68%|██████▊   | 34/50 [00:31<00:18,  1.19s/it]\u001b[A\n",
      "OllamaEmbeddings:  70%|███████   | 35/50 [00:32<00:15,  1.00s/it]\u001b[A\n",
      "OllamaEmbeddings:  72%|███████▏  | 36/50 [00:33<00:14,  1.04s/it]\u001b[A\n",
      "OllamaEmbeddings:  74%|███████▍  | 37/50 [00:34<00:13,  1.03s/it]\u001b[A\n",
      "OllamaEmbeddings:  76%|███████▌  | 38/50 [00:35<00:11,  1.03it/s]\u001b[A\n",
      "OllamaEmbeddings:  78%|███████▊  | 39/50 [00:35<00:09,  1.12it/s]\u001b[A\n",
      "OllamaEmbeddings:  80%|████████  | 40/50 [00:36<00:08,  1.20it/s]\u001b[A\n",
      "OllamaEmbeddings:  82%|████████▏ | 41/50 [00:36<00:06,  1.33it/s]\u001b[A\n",
      "OllamaEmbeddings:  84%|████████▍ | 42/50 [00:37<00:06,  1.30it/s]\u001b[A\n",
      "OllamaEmbeddings:  86%|████████▌ | 43/50 [00:38<00:04,  1.45it/s]\u001b[A\n",
      "OllamaEmbeddings:  88%|████████▊ | 44/50 [00:39<00:04,  1.41it/s]\u001b[A\n",
      "OllamaEmbeddings:  90%|█████████ | 45/50 [00:39<00:03,  1.35it/s]\u001b[A\n",
      "OllamaEmbeddings:  92%|█████████▏| 46/50 [00:40<00:03,  1.31it/s]\u001b[A\n",
      "OllamaEmbeddings:  94%|█████████▍| 47/50 [00:41<00:01,  1.53it/s]\u001b[A\n",
      "OllamaEmbeddings:  96%|█████████▌| 48/50 [00:42<00:01,  1.31it/s]\u001b[A\n",
      "OllamaEmbeddings:  98%|█████████▊| 49/50 [00:42<00:00,  1.29it/s]\u001b[A\n",
      "OllamaEmbeddings: 100%|██████████| 50/50 [00:43<00:00,  1.14it/s]\u001b[A\n",
      "\n",
      "OllamaEmbeddings:   0%|          | 0/50 [00:00<?, ?it/s]\u001b[A\n",
      "OllamaEmbeddings:   2%|▏         | 1/50 [00:00<00:30,  1.59it/s]\u001b[A\n",
      "OllamaEmbeddings:   4%|▍         | 2/50 [00:01<00:36,  1.33it/s]\u001b[A\n",
      "OllamaEmbeddings:   6%|▌         | 3/50 [00:02<00:38,  1.21it/s]\u001b[A\n",
      "OllamaEmbeddings:   8%|▊         | 4/50 [00:03<00:40,  1.14it/s]\u001b[A\n",
      "OllamaEmbeddings:  10%|█         | 5/50 [00:04<00:40,  1.11it/s]\u001b[A\n",
      "OllamaEmbeddings:  12%|█▏        | 6/50 [00:05<00:39,  1.10it/s]\u001b[A\n",
      "OllamaEmbeddings:  14%|█▍        | 7/50 [00:06<00:38,  1.13it/s]\u001b[A\n",
      "OllamaEmbeddings:  16%|█▌        | 8/50 [00:06<00:35,  1.17it/s]\u001b[A\n",
      "OllamaEmbeddings:  18%|█▊        | 9/50 [00:07<00:30,  1.35it/s]\u001b[A\n",
      "OllamaEmbeddings:  20%|██        | 10/50 [00:08<00:29,  1.34it/s]\u001b[A\n",
      "OllamaEmbeddings:  22%|██▏       | 11/50 [00:08<00:26,  1.45it/s]\u001b[A\n",
      "OllamaEmbeddings:  24%|██▍       | 12/50 [00:09<00:26,  1.41it/s]\u001b[A\n",
      "OllamaEmbeddings:  26%|██▌       | 13/50 [00:09<00:24,  1.48it/s]\u001b[A\n",
      "OllamaEmbeddings:  28%|██▊       | 14/50 [00:10<00:27,  1.33it/s]\u001b[A\n",
      "OllamaEmbeddings:  30%|███       | 15/50 [00:11<00:25,  1.37it/s]\u001b[A\n",
      "OllamaEmbeddings:  32%|███▏      | 16/50 [00:12<00:26,  1.30it/s]\u001b[A\n",
      "OllamaEmbeddings:  34%|███▍      | 17/50 [00:12<00:22,  1.47it/s]\u001b[A\n",
      "OllamaEmbeddings:  36%|███▌      | 18/50 [00:13<00:22,  1.39it/s]\u001b[A\n",
      "OllamaEmbeddings:  38%|███▊      | 19/50 [00:14<00:22,  1.38it/s]\u001b[A\n",
      "OllamaEmbeddings:  40%|████      | 20/50 [00:14<00:18,  1.66it/s]\u001b[A\n",
      "OllamaEmbeddings:  42%|████▏     | 21/50 [00:15<00:20,  1.44it/s]\u001b[A\n",
      "OllamaEmbeddings:  44%|████▍     | 22/50 [00:16<00:20,  1.38it/s]\u001b[A\n",
      "OllamaEmbeddings:  46%|████▌     | 23/50 [00:17<00:20,  1.30it/s]\u001b[A\n",
      "OllamaEmbeddings:  48%|████▊     | 24/50 [00:18<00:21,  1.22it/s]\u001b[A\n",
      "OllamaEmbeddings:  50%|█████     | 25/50 [00:19<00:22,  1.09it/s]\u001b[A\n",
      "OllamaEmbeddings:  52%|█████▏    | 26/50 [00:20<00:22,  1.09it/s]\u001b[A\n",
      "OllamaEmbeddings:  54%|█████▍    | 27/50 [00:21<00:21,  1.05it/s]\u001b[A\n",
      "OllamaEmbeddings:  56%|█████▌    | 28/50 [00:22<00:20,  1.09it/s]\u001b[A\n",
      "OllamaEmbeddings:  58%|█████▊    | 29/50 [00:22<00:15,  1.33it/s]\u001b[A\n",
      "OllamaEmbeddings:  60%|██████    | 30/50 [00:23<00:15,  1.29it/s]\u001b[A\n",
      "OllamaEmbeddings:  62%|██████▏   | 31/50 [00:24<00:14,  1.33it/s]\u001b[A\n",
      "OllamaEmbeddings:  64%|██████▍   | 32/50 [00:24<00:13,  1.30it/s]\u001b[A\n",
      "OllamaEmbeddings:  66%|██████▌   | 33/50 [00:25<00:14,  1.20it/s]\u001b[A\n",
      "OllamaEmbeddings:  68%|██████▊   | 34/50 [00:26<00:13,  1.15it/s]\u001b[A\n",
      "OllamaEmbeddings:  70%|███████   | 35/50 [00:27<00:12,  1.24it/s]\u001b[A\n",
      "OllamaEmbeddings:  72%|███████▏  | 36/50 [00:28<00:11,  1.20it/s]\u001b[A\n",
      "OllamaEmbeddings:  74%|███████▍  | 37/50 [00:29<00:10,  1.30it/s]\u001b[A\n",
      "OllamaEmbeddings:  76%|███████▌  | 38/50 [00:29<00:09,  1.30it/s]\u001b[A\n",
      "OllamaEmbeddings:  78%|███████▊  | 39/50 [00:30<00:08,  1.27it/s]\u001b[A\n",
      "OllamaEmbeddings:  80%|████████  | 40/50 [00:31<00:08,  1.23it/s]\u001b[A\n",
      "OllamaEmbeddings:  82%|████████▏ | 41/50 [00:32<00:07,  1.21it/s]\u001b[A\n",
      "OllamaEmbeddings:  84%|████████▍ | 42/50 [00:33<00:06,  1.15it/s]\u001b[A\n",
      "OllamaEmbeddings:  86%|████████▌ | 43/50 [00:34<00:06,  1.12it/s]\u001b[A\n",
      "OllamaEmbeddings:  88%|████████▊ | 44/50 [00:35<00:05,  1.10it/s]\u001b[A\n",
      "OllamaEmbeddings:  90%|█████████ | 45/50 [00:35<00:04,  1.18it/s]\u001b[A\n",
      "OllamaEmbeddings:  92%|█████████▏| 46/50 [00:36<00:03,  1.13it/s]\u001b[A\n",
      "OllamaEmbeddings:  94%|█████████▍| 47/50 [00:37<00:02,  1.22it/s]\u001b[A\n",
      "OllamaEmbeddings:  96%|█████████▌| 48/50 [00:38<00:01,  1.23it/s]\u001b[A\n",
      "OllamaEmbeddings:  98%|█████████▊| 49/50 [00:39<00:00,  1.22it/s]\u001b[A\n",
      "OllamaEmbeddings: 100%|██████████| 50/50 [00:39<00:00,  1.27it/s]\u001b[A\n",
      "\n",
      "OllamaEmbeddings:   0%|          | 0/50 [00:00<?, ?it/s]\u001b[A\n",
      "OllamaEmbeddings:   2%|▏         | 1/50 [00:01<00:49,  1.01s/it]\u001b[A\n",
      "OllamaEmbeddings:   4%|▍         | 2/50 [00:02<00:49,  1.02s/it]\u001b[A\n",
      "OllamaEmbeddings:   6%|▌         | 3/50 [00:03<00:48,  1.03s/it]\u001b[A\n",
      "OllamaEmbeddings:   8%|▊         | 4/50 [00:04<00:47,  1.02s/it]\u001b[A\n",
      "OllamaEmbeddings:  10%|█         | 5/50 [00:05<00:58,  1.30s/it]\u001b[A\n",
      "OllamaEmbeddings:  12%|█▏        | 6/50 [00:06<00:49,  1.12s/it]\u001b[A\n",
      "OllamaEmbeddings:  14%|█▍        | 7/50 [00:07<00:46,  1.09s/it]\u001b[A\n",
      "OllamaEmbeddings:  16%|█▌        | 8/50 [00:08<00:41,  1.02it/s]\u001b[A\n",
      "OllamaEmbeddings:  18%|█▊        | 9/50 [00:09<00:38,  1.05it/s]\u001b[A\n",
      "OllamaEmbeddings:  20%|██        | 10/50 [00:10<00:36,  1.11it/s]\u001b[A\n",
      "OllamaEmbeddings:  22%|██▏       | 11/50 [00:11<00:36,  1.05it/s]\u001b[A\n",
      "OllamaEmbeddings:  24%|██▍       | 12/50 [00:11<00:34,  1.09it/s]\u001b[A\n",
      "OllamaEmbeddings:  26%|██▌       | 13/50 [00:13<00:36,  1.02it/s]\u001b[A\n",
      "OllamaEmbeddings:  28%|██▊       | 14/50 [00:13<00:34,  1.06it/s]\u001b[A\n",
      "OllamaEmbeddings:  30%|███       | 15/50 [00:14<00:32,  1.09it/s]\u001b[A\n",
      "OllamaEmbeddings:  32%|███▏      | 16/50 [00:15<00:28,  1.18it/s]\u001b[A\n",
      "OllamaEmbeddings:  34%|███▍      | 17/50 [00:16<00:27,  1.20it/s]\u001b[A\n",
      "OllamaEmbeddings:  36%|███▌      | 18/50 [00:17<00:25,  1.26it/s]\u001b[A\n",
      "OllamaEmbeddings:  38%|███▊      | 19/50 [00:17<00:24,  1.25it/s]\u001b[A\n",
      "OllamaEmbeddings:  40%|████      | 20/50 [00:18<00:20,  1.44it/s]\u001b[A\n",
      "OllamaEmbeddings:  42%|████▏     | 21/50 [00:19<00:21,  1.38it/s]\u001b[A\n",
      "OllamaEmbeddings:  44%|████▍     | 22/50 [00:20<00:21,  1.28it/s]\u001b[A\n",
      "OllamaEmbeddings:  46%|████▌     | 23/50 [00:21<00:23,  1.16it/s]\u001b[A\n",
      "OllamaEmbeddings:  48%|████▊     | 24/50 [00:21<00:21,  1.20it/s]\u001b[A\n",
      "OllamaEmbeddings:  50%|█████     | 25/50 [00:22<00:21,  1.16it/s]\u001b[A\n",
      "OllamaEmbeddings:  52%|█████▏    | 26/50 [00:23<00:19,  1.26it/s]\u001b[A\n",
      "OllamaEmbeddings:  54%|█████▍    | 27/50 [00:24<00:18,  1.27it/s]\u001b[A\n",
      "OllamaEmbeddings:  56%|█████▌    | 28/50 [00:24<00:16,  1.31it/s]\u001b[A\n",
      "OllamaEmbeddings:  58%|█████▊    | 29/50 [00:25<00:16,  1.25it/s]\u001b[A\n",
      "OllamaEmbeddings:  60%|██████    | 30/50 [00:26<00:15,  1.25it/s]\u001b[A\n",
      "OllamaEmbeddings:  62%|██████▏   | 31/50 [00:27<00:15,  1.19it/s]\u001b[A\n",
      "OllamaEmbeddings:  64%|██████▍   | 32/50 [00:28<00:15,  1.17it/s]\u001b[A\n",
      "OllamaEmbeddings:  66%|██████▌   | 33/50 [00:29<00:15,  1.13it/s]\u001b[A\n",
      "OllamaEmbeddings:  68%|██████▊   | 34/50 [00:29<00:12,  1.25it/s]\u001b[A\n",
      "OllamaEmbeddings:  70%|███████   | 35/50 [00:30<00:12,  1.22it/s]\u001b[A\n",
      "OllamaEmbeddings:  72%|███████▏  | 36/50 [00:31<00:11,  1.21it/s]\u001b[A\n",
      "OllamaEmbeddings:  74%|███████▍  | 37/50 [00:32<00:10,  1.21it/s]\u001b[A\n",
      "OllamaEmbeddings:  76%|███████▌  | 38/50 [00:33<00:09,  1.24it/s]\u001b[A\n",
      "OllamaEmbeddings:  78%|███████▊  | 39/50 [00:33<00:08,  1.28it/s]\u001b[A\n",
      "OllamaEmbeddings:  80%|████████  | 40/50 [00:34<00:07,  1.40it/s]\u001b[A\n",
      "OllamaEmbeddings:  82%|████████▏ | 41/50 [00:35<00:06,  1.37it/s]\u001b[A\n",
      "OllamaEmbeddings:  84%|████████▍ | 42/50 [00:35<00:05,  1.44it/s]\u001b[A\n",
      "OllamaEmbeddings:  86%|████████▌ | 43/50 [00:36<00:05,  1.32it/s]\u001b[A\n",
      "OllamaEmbeddings:  88%|████████▊ | 44/50 [00:37<00:04,  1.31it/s]\u001b[A\n",
      "OllamaEmbeddings:  90%|█████████ | 45/50 [00:38<00:04,  1.24it/s]\u001b[A\n",
      "OllamaEmbeddings:  92%|█████████▏| 46/50 [00:39<00:03,  1.29it/s]\u001b[A\n",
      "OllamaEmbeddings:  94%|█████████▍| 47/50 [00:40<00:02,  1.26it/s]\u001b[A\n",
      "OllamaEmbeddings:  96%|█████████▌| 48/50 [00:40<00:01,  1.39it/s]\u001b[A\n",
      "OllamaEmbeddings:  98%|█████████▊| 49/50 [00:41<00:00,  1.30it/s]\u001b[A\n",
      "OllamaEmbeddings: 100%|██████████| 50/50 [00:42<00:00,  1.18it/s]\u001b[A\n",
      "\n",
      "OllamaEmbeddings:   0%|          | 0/50 [00:00<?, ?it/s]\u001b[A\n",
      "OllamaEmbeddings:   2%|▏         | 1/50 [00:01<00:55,  1.13s/it]\u001b[A\n",
      "OllamaEmbeddings:   4%|▍         | 2/50 [00:02<00:51,  1.08s/it]\u001b[A\n",
      "OllamaEmbeddings:   6%|▌         | 3/50 [00:03<00:52,  1.12s/it]\u001b[A\n",
      "OllamaEmbeddings:   8%|▊         | 4/50 [00:04<00:48,  1.06s/it]\u001b[A\n",
      "OllamaEmbeddings:  10%|█         | 5/50 [00:05<00:46,  1.04s/it]\u001b[A\n",
      "OllamaEmbeddings:  12%|█▏        | 6/50 [00:05<00:40,  1.09it/s]\u001b[A\n",
      "OllamaEmbeddings:  14%|█▍        | 7/50 [00:07<00:43,  1.01s/it]\u001b[A\n",
      "OllamaEmbeddings:  16%|█▌        | 8/50 [00:07<00:37,  1.12it/s]\u001b[A\n",
      "OllamaEmbeddings:  18%|█▊        | 9/50 [00:08<00:35,  1.14it/s]\u001b[A\n",
      "OllamaEmbeddings:  20%|██        | 10/50 [00:09<00:31,  1.25it/s]\u001b[A\n",
      "OllamaEmbeddings:  22%|██▏       | 11/50 [00:10<00:30,  1.27it/s]\u001b[A\n",
      "OllamaEmbeddings:  24%|██▍       | 12/50 [00:10<00:31,  1.21it/s]\u001b[A\n",
      "OllamaEmbeddings:  26%|██▌       | 13/50 [00:11<00:29,  1.26it/s]\u001b[A\n",
      "OllamaEmbeddings:  28%|██▊       | 14/50 [00:12<00:26,  1.35it/s]\u001b[A\n",
      "OllamaEmbeddings:  30%|███       | 15/50 [00:13<00:26,  1.30it/s]\u001b[A\n",
      "OllamaEmbeddings:  32%|███▏      | 16/50 [00:13<00:24,  1.38it/s]\u001b[A\n",
      "OllamaEmbeddings:  34%|███▍      | 17/50 [00:14<00:24,  1.35it/s]\u001b[A\n",
      "OllamaEmbeddings:  36%|███▌      | 18/50 [00:15<00:22,  1.40it/s]\u001b[A\n",
      "OllamaEmbeddings:  38%|███▊      | 19/50 [00:16<00:24,  1.27it/s]\u001b[A\n",
      "OllamaEmbeddings:  40%|████      | 20/50 [00:16<00:22,  1.32it/s]\u001b[A\n",
      "OllamaEmbeddings:  42%|████▏     | 21/50 [00:17<00:24,  1.16it/s]\u001b[A\n",
      "OllamaEmbeddings:  44%|████▍     | 22/50 [00:18<00:23,  1.18it/s]\u001b[A\n",
      "OllamaEmbeddings:  46%|████▌     | 23/50 [00:19<00:24,  1.10it/s]\u001b[A\n",
      "OllamaEmbeddings:  48%|████▊     | 24/50 [00:20<00:24,  1.08it/s]\u001b[A\n",
      "OllamaEmbeddings:  50%|█████     | 25/50 [00:21<00:23,  1.05it/s]\u001b[A\n",
      "OllamaEmbeddings:  52%|█████▏    | 26/50 [00:22<00:23,  1.00it/s]\u001b[A\n",
      "OllamaEmbeddings:  54%|█████▍    | 27/50 [00:24<00:25,  1.11s/it]\u001b[A\n",
      "OllamaEmbeddings:  56%|█████▌    | 28/50 [00:25<00:23,  1.08s/it]\u001b[A\n",
      "OllamaEmbeddings:  58%|█████▊    | 29/50 [00:26<00:21,  1.02s/it]\u001b[A\n",
      "OllamaEmbeddings:  60%|██████    | 30/50 [00:26<00:18,  1.09it/s]\u001b[A\n",
      "OllamaEmbeddings:  62%|██████▏   | 31/50 [00:27<00:17,  1.07it/s]\u001b[A\n",
      "OllamaEmbeddings:  64%|██████▍   | 32/50 [00:28<00:16,  1.11it/s]\u001b[A\n",
      "OllamaEmbeddings:  66%|██████▌   | 33/50 [00:29<00:15,  1.11it/s]\u001b[A\n",
      "OllamaEmbeddings:  68%|██████▊   | 34/50 [00:30<00:12,  1.24it/s]\u001b[A\n",
      "OllamaEmbeddings:  70%|███████   | 35/50 [00:30<00:12,  1.21it/s]\u001b[A\n",
      "OllamaEmbeddings:  72%|███████▏  | 36/50 [00:31<00:11,  1.21it/s]\u001b[A\n",
      "OllamaEmbeddings:  74%|███████▍  | 37/50 [00:32<00:11,  1.15it/s]\u001b[A\n",
      "OllamaEmbeddings:  76%|███████▌  | 38/50 [00:33<00:10,  1.16it/s]\u001b[A\n",
      "OllamaEmbeddings:  78%|███████▊  | 39/50 [00:34<00:10,  1.08it/s]\u001b[A\n",
      "OllamaEmbeddings:  80%|████████  | 40/50 [00:35<00:09,  1.10it/s]\u001b[A\n",
      "OllamaEmbeddings:  82%|████████▏ | 41/50 [00:36<00:08,  1.04it/s]\u001b[A\n",
      "OllamaEmbeddings:  84%|████████▍ | 42/50 [00:37<00:07,  1.07it/s]\u001b[A\n",
      "OllamaEmbeddings:  86%|████████▌ | 43/50 [00:38<00:06,  1.06it/s]\u001b[A\n",
      "OllamaEmbeddings:  88%|████████▊ | 44/50 [00:39<00:05,  1.07it/s]\u001b[A\n",
      "OllamaEmbeddings:  90%|█████████ | 45/50 [00:40<00:04,  1.08it/s]\u001b[A\n",
      "OllamaEmbeddings:  92%|█████████▏| 46/50 [00:41<00:03,  1.13it/s]\u001b[A\n",
      "OllamaEmbeddings:  94%|█████████▍| 47/50 [00:42<00:02,  1.11it/s]\u001b[A\n",
      "OllamaEmbeddings:  96%|█████████▌| 48/50 [00:42<00:01,  1.24it/s]\u001b[A\n",
      "OllamaEmbeddings:  98%|█████████▊| 49/50 [00:43<00:00,  1.23it/s]\u001b[A\n",
      "OllamaEmbeddings: 100%|██████████| 50/50 [00:44<00:00,  1.13it/s]\u001b[A\n",
      "\n",
      "OllamaEmbeddings:   0%|          | 0/50 [00:00<?, ?it/s]\u001b[A\n",
      "OllamaEmbeddings:   2%|▏         | 1/50 [00:00<00:39,  1.23it/s]\u001b[A\n",
      "OllamaEmbeddings:   4%|▍         | 2/50 [00:01<00:30,  1.58it/s]\u001b[A\n",
      "OllamaEmbeddings:   6%|▌         | 3/50 [00:02<00:33,  1.42it/s]\u001b[A\n",
      "OllamaEmbeddings:   8%|▊         | 4/50 [00:02<00:31,  1.47it/s]\u001b[A\n",
      "OllamaEmbeddings:  10%|█         | 5/50 [00:03<00:36,  1.22it/s]\u001b[A\n",
      "OllamaEmbeddings:  12%|█▏        | 6/50 [00:04<00:36,  1.22it/s]\u001b[A\n",
      "OllamaEmbeddings:  14%|█▍        | 7/50 [00:05<00:37,  1.15it/s]\u001b[A\n",
      "OllamaEmbeddings:  16%|█▌        | 8/50 [00:06<00:35,  1.19it/s]\u001b[A\n",
      "OllamaEmbeddings:  18%|█▊        | 9/50 [00:07<00:36,  1.14it/s]\u001b[A\n",
      "OllamaEmbeddings:  20%|██        | 10/50 [00:07<00:30,  1.30it/s]\u001b[A\n",
      "OllamaEmbeddings:  22%|██▏       | 11/50 [00:08<00:29,  1.30it/s]\u001b[A\n",
      "OllamaEmbeddings:  24%|██▍       | 12/50 [00:09<00:26,  1.44it/s]\u001b[A\n",
      "OllamaEmbeddings:  26%|██▌       | 13/50 [00:09<00:27,  1.36it/s]\u001b[A\n",
      "OllamaEmbeddings:  28%|██▊       | 14/50 [00:10<00:28,  1.28it/s]\u001b[A\n",
      "OllamaEmbeddings:  30%|███       | 15/50 [00:11<00:29,  1.21it/s]\u001b[A\n",
      "OllamaEmbeddings:  32%|███▏      | 16/50 [00:12<00:27,  1.22it/s]\u001b[A\n",
      "OllamaEmbeddings:  34%|███▍      | 17/50 [00:13<00:28,  1.17it/s]\u001b[A\n",
      "OllamaEmbeddings:  36%|███▌      | 18/50 [00:14<00:27,  1.16it/s]\u001b[A\n",
      "OllamaEmbeddings:  38%|███▊      | 19/50 [00:15<00:26,  1.18it/s]\u001b[A\n",
      "OllamaEmbeddings:  40%|████      | 20/50 [00:16<00:24,  1.20it/s]\u001b[A\n",
      "OllamaEmbeddings:  42%|████▏     | 21/50 [00:16<00:24,  1.19it/s]\u001b[A\n",
      "OllamaEmbeddings:  44%|████▍     | 22/50 [00:17<00:24,  1.16it/s]\u001b[A\n",
      "OllamaEmbeddings:  46%|████▌     | 23/50 [00:18<00:23,  1.16it/s]\u001b[A\n",
      "OllamaEmbeddings:  48%|████▊     | 24/50 [00:19<00:22,  1.16it/s]\u001b[A\n",
      "OllamaEmbeddings:  50%|█████     | 25/50 [00:20<00:22,  1.12it/s]\u001b[A\n",
      "OllamaEmbeddings:  52%|█████▏    | 26/50 [00:21<00:20,  1.16it/s]\u001b[A\n",
      "OllamaEmbeddings:  54%|█████▍    | 27/50 [00:22<00:22,  1.02it/s]\u001b[A\n",
      "OllamaEmbeddings:  56%|█████▌    | 28/50 [00:23<00:20,  1.08it/s]\u001b[A\n",
      "OllamaEmbeddings:  58%|█████▊    | 29/50 [00:24<00:19,  1.07it/s]\u001b[A\n",
      "OllamaEmbeddings:  60%|██████    | 30/50 [00:24<00:17,  1.17it/s]\u001b[A\n",
      "OllamaEmbeddings:  62%|██████▏   | 31/50 [00:25<00:15,  1.21it/s]\u001b[A\n",
      "OllamaEmbeddings:  64%|██████▍   | 32/50 [00:26<00:13,  1.32it/s]\u001b[A\n",
      "OllamaEmbeddings:  66%|██████▌   | 33/50 [00:27<00:12,  1.32it/s]\u001b[A\n",
      "OllamaEmbeddings:  68%|██████▊   | 34/50 [00:27<00:11,  1.35it/s]\u001b[A\n",
      "OllamaEmbeddings:  70%|███████   | 35/50 [00:28<00:11,  1.29it/s]\u001b[A\n",
      "OllamaEmbeddings:  72%|███████▏  | 36/50 [00:29<00:10,  1.33it/s]\u001b[A\n",
      "OllamaEmbeddings:  74%|███████▍  | 37/50 [00:30<00:10,  1.21it/s]\u001b[A\n",
      "OllamaEmbeddings:  76%|███████▌  | 38/50 [00:30<00:08,  1.34it/s]\u001b[A\n",
      "OllamaEmbeddings:  78%|███████▊  | 39/50 [00:31<00:08,  1.33it/s]\u001b[A\n",
      "OllamaEmbeddings:  80%|████████  | 40/50 [00:32<00:06,  1.44it/s]\u001b[A\n",
      "OllamaEmbeddings:  82%|████████▏ | 41/50 [00:33<00:06,  1.36it/s]\u001b[A\n",
      "OllamaEmbeddings:  84%|████████▍ | 42/50 [00:34<00:06,  1.21it/s]\u001b[A\n",
      "OllamaEmbeddings:  86%|████████▌ | 43/50 [00:34<00:05,  1.18it/s]\u001b[A\n",
      "OllamaEmbeddings:  88%|████████▊ | 44/50 [00:36<00:05,  1.11it/s]\u001b[A\n",
      "OllamaEmbeddings:  90%|█████████ | 45/50 [00:37<00:04,  1.01it/s]\u001b[A\n",
      "OllamaEmbeddings:  92%|█████████▏| 46/50 [00:39<00:05,  1.35s/it]\u001b[A\n",
      "OllamaEmbeddings:  94%|█████████▍| 47/50 [00:40<00:04,  1.39s/it]\u001b[A\n",
      "OllamaEmbeddings:  96%|█████████▌| 48/50 [00:41<00:02,  1.25s/it]\u001b[A\n",
      "OllamaEmbeddings:  98%|█████████▊| 49/50 [00:42<00:01,  1.12s/it]\u001b[A\n",
      "OllamaEmbeddings: 100%|██████████| 50/50 [00:43<00:00,  1.15it/s]\u001b[A\n",
      "\n",
      "OllamaEmbeddings:   0%|          | 0/30 [00:00<?, ?it/s]\u001b[A\n",
      "OllamaEmbeddings:   3%|▎         | 1/30 [00:00<00:23,  1.23it/s]\u001b[A\n",
      "OllamaEmbeddings:   7%|▋         | 2/30 [00:01<00:23,  1.22it/s]\u001b[A\n",
      "OllamaEmbeddings:  10%|█         | 3/30 [00:02<00:22,  1.19it/s]\u001b[A\n",
      "OllamaEmbeddings:  13%|█▎        | 4/30 [00:03<00:22,  1.15it/s]\u001b[A\n",
      "OllamaEmbeddings:  17%|█▋        | 5/30 [00:04<00:21,  1.15it/s]\u001b[A\n",
      "OllamaEmbeddings:  20%|██        | 6/30 [00:04<00:16,  1.41it/s]\u001b[A\n",
      "OllamaEmbeddings:  23%|██▎       | 7/30 [00:05<00:18,  1.27it/s]\u001b[A\n",
      "OllamaEmbeddings:  27%|██▋       | 8/30 [00:06<00:18,  1.16it/s]\u001b[A\n",
      "OllamaEmbeddings:  30%|███       | 9/30 [00:07<00:20,  1.05it/s]\u001b[A\n",
      "OllamaEmbeddings:  33%|███▎      | 10/30 [00:09<00:21,  1.07s/it]\u001b[A\n",
      "OllamaEmbeddings:  37%|███▋      | 11/30 [00:10<00:21,  1.15s/it]\u001b[A\n",
      "OllamaEmbeddings:  40%|████      | 12/30 [00:11<00:21,  1.18s/it]\u001b[A\n",
      "OllamaEmbeddings:  43%|████▎     | 13/30 [00:12<00:15,  1.09it/s]\u001b[A\n",
      "OllamaEmbeddings:  47%|████▋     | 14/30 [00:13<00:15,  1.04it/s]\u001b[A\n",
      "OllamaEmbeddings:  50%|█████     | 15/30 [00:14<00:15,  1.02s/it]\u001b[A\n",
      "OllamaEmbeddings:  53%|█████▎    | 16/30 [00:15<00:14,  1.06s/it]\u001b[A\n",
      "OllamaEmbeddings:  57%|█████▋    | 17/30 [00:16<00:13,  1.02s/it]\u001b[A\n",
      "OllamaEmbeddings:  60%|██████    | 18/30 [00:17<00:12,  1.06s/it]\u001b[A\n",
      "OllamaEmbeddings:  63%|██████▎   | 19/30 [00:18<00:10,  1.01it/s]\u001b[A\n",
      "OllamaEmbeddings:  67%|██████▋   | 20/30 [00:19<00:10,  1.05s/it]\u001b[A\n",
      "OllamaEmbeddings:  70%|███████   | 21/30 [00:20<00:09,  1.05s/it]\u001b[A\n",
      "OllamaEmbeddings:  73%|███████▎  | 22/30 [00:21<00:08,  1.03s/it]\u001b[A\n",
      "OllamaEmbeddings:  77%|███████▋  | 23/30 [00:22<00:06,  1.00it/s]\u001b[A\n",
      "OllamaEmbeddings:  80%|████████  | 24/30 [00:23<00:05,  1.03it/s]\u001b[A\n",
      "OllamaEmbeddings:  83%|████████▎ | 25/30 [00:23<00:03,  1.32it/s]\u001b[A\n",
      "OllamaEmbeddings:  87%|████████▋ | 26/30 [00:23<00:02,  1.60it/s]\u001b[A\n",
      "OllamaEmbeddings:  90%|█████████ | 27/30 [00:25<00:02,  1.30it/s]\u001b[A\n",
      "OllamaEmbeddings:  93%|█████████▎| 28/30 [00:26<00:01,  1.15it/s]\u001b[A\n",
      "OllamaEmbeddings:  97%|█████████▋| 29/30 [00:27<00:00,  1.06it/s]\u001b[A\n",
      "OllamaEmbeddings: 100%|██████████| 30/30 [00:28<00:00,  1.07it/s]\u001b[A\n"
     ]
    }
   ],
   "source": [
    "for i in range(0, len(texts),batch_size):\n",
    "    batch_texts = texts[i:i+batch_size]\n",
    "    batch_embeddings = embedding_model.embed_documents(batch_texts)\n",
    "    documents_embeddings.extend(batch_embeddings)"
   ]
  },
  {
   "cell_type": "code",
   "execution_count": 50,
   "id": "221f1869-b6ab-407a-9438-046a0d8b80fd",
   "metadata": {},
   "outputs": [],
   "source": [
    "import numpy as np"
   ]
  },
  {
   "cell_type": "code",
   "execution_count": 51,
   "id": "2adba7f0-181c-4cc5-9c7a-db0253728656",
   "metadata": {},
   "outputs": [],
   "source": [
    "#create FAISS index and add the embeddings\n",
    "document_embeddings_np = np.array(documents_embeddings)\n",
    "dimension = document_embeddings_np.shape[1]\n",
    "faiss_index = faiss.IndexFlatL2(dimension)\n",
    "faiss_index.add(document_embeddings_np)"
   ]
  },
  {
   "cell_type": "code",
   "execution_count": 52,
   "id": "7eaba1a3-3df9-47ff-a110-7a4f9b563d35",
   "metadata": {},
   "outputs": [],
   "source": [
    "from langchain.docstore import InMemoryDocstore\n",
    "from langchain.docstore.document import Document"
   ]
  },
  {
   "cell_type": "code",
   "execution_count": 53,
   "id": "da314a3e-cd12-4760-8182-484d19b594f1",
   "metadata": {},
   "outputs": [],
   "source": [
    "docstore = InMemoryDocstore(dict(enumerate(documents)))\n",
    "index_to_docstore_id = {i: i for i in range(len(documents))}"
   ]
  },
  {
   "cell_type": "code",
   "execution_count": 54,
   "id": "de6b6942-2697-44aa-9080-f95b65fbc9ce",
   "metadata": {},
   "outputs": [],
   "source": [
    "vector_store = FAISS(embedding_model, faiss_index, docstore, index_to_docstore_id)"
   ]
  },
  {
   "cell_type": "code",
   "execution_count": 55,
   "id": "bd1f5559-f50a-4b57-b3c8-fca0d09d3c64",
   "metadata": {},
   "outputs": [],
   "source": [
    "from langchain.prompts import ChatPromptTemplate, PromptTemplate\n",
    "from langchain_core.output_parsers import StrOutputParser\n",
    "from langchain_community.chat_models import ChatOllama\n",
    "from langchain_core.runnables import RunnablePassthrough\n",
    "from langchain.retrievers.multi_query import MultiQueryRetriever"
   ]
  },
  {
   "cell_type": "code",
   "execution_count": 56,
   "id": "13d24441-462b-45b5-aa1e-a6bdc8303c49",
   "metadata": {},
   "outputs": [],
   "source": [
    "# LLM from Ollama\n",
    "local_model = \"knoopx/hermes-2-pro-mistral:7b-q8_0\"\n",
    "llm = ChatOllama(model=local_model)"
   ]
  },
  {
   "cell_type": "code",
   "execution_count": 57,
   "id": "39ab8015-311d-40dd-aee6-69c3904f22a5",
   "metadata": {},
   "outputs": [],
   "source": [
    "QUERY_PROMPT = PromptTemplate(\n",
    "    input_variables=[\"question\"],\n",
    "    template=\"\"\"You are an AI language model assistant. Your task to phrase the user question in the best possible way in order to get the most accurate answer from the document loaded. Your response should also separately contain the precise data which was referred to in the document in order to come up with your response to the question. Make sure to refer to the exact point in the document in the form of page numbers, etc.\n",
    "    Original question: {question}\"\"\",\n",
    ")"
   ]
  },
  {
   "cell_type": "code",
   "execution_count": 58,
   "id": "5530a3cf-62a7-433a-8e14-58c09fd8f783",
   "metadata": {},
   "outputs": [],
   "source": [
    "retriever = MultiQueryRetriever.from_llm(\n",
    "    vector_store.as_retriever(), \n",
    "    llm,\n",
    "    prompt=QUERY_PROMPT\n",
    ")\n",
    "\n",
    "# RAG prompt\n",
    "template = \"\"\"Answer the question based ONLY on the following context:\n",
    "{context}\n",
    "Question: {question}\n",
    "Ensure that you mention the page number or position in the document from which you arrived at your response. \n",
    "Cite the original wordings in the document along with it. Make this a separate line in the response along with your answer.\n",
    "Try to make your responses as concise as possible.\n",
    "\n",
    "\"\"\"\n",
    "\n",
    "prompt = ChatPromptTemplate.from_template(template)"
   ]
  },
  {
   "cell_type": "code",
   "execution_count": 59,
   "id": "c7989165-a788-4e82-a7a1-fe9e0b2a75c9",
   "metadata": {},
   "outputs": [],
   "source": [
    "chain = (\n",
    "    {\"context\": retriever, \"question\": RunnablePassthrough()}\n",
    "    | prompt\n",
    "    | llm\n",
    "    | StrOutputParser()\n",
    ")"
   ]
  },
  {
   "cell_type": "code",
   "execution_count": 60,
   "id": "7b35c262-2ca8-4297-9463-c95d6ba59fd5",
   "metadata": {},
   "outputs": [
    {
     "name": "stderr",
     "output_type": "stream",
     "text": [
      "\n",
      "OllamaEmbeddings:   0%|          | 0/1 [00:00<?, ?it/s]\u001b[A\n",
      "OllamaEmbeddings: 100%|██████████| 1/1 [00:05<00:00,  5.33s/it]\u001b[A\n"
     ]
    },
    {
     "data": {
      "text/plain": [
       "\"Access control procedures mentioned in the document include:\\n\\n1. On page 60-62 (GCP SOC 2 doc): Customers are responsible for provisioning, maintaining, monitoring, and disabling end users' access according to their internal access management policies. The entity implements logical access security software, infrastructure, and architectures over protected information assets to protect them from security events that meet the entity's objectives. Prior to issuing system credentials and granting system access, the entity registers and authorizes new internal and external users whose access is administered by the entity. For those users whose access is administered by the entity, user system credentials are removed when access is no longer authorized.\\n\\n2. On page 67 (GCP SOC 2 doc): The entity authorizes, modifies, or removes access to data, software, functions, and other protected information assets based on roles. This is done within the customer's environment consistent with customer policies.\\n\\n3. On page 48 (GCP SOC 2 doc): Production system access is granted only to individuals who have completed required security and privacy training and require this level of access to perform tasks. Access to individual production systems via critical access groups is reviewed periodically by the system owners, and inappropriate access is removed for Google personnel who no longer have a business need for it. Access to all corporate and production resources are automatically removed upon submission of a termination request by the manager of any departing employee or by the appropriate Human Resources manager.\\n\\n4. Password guidelines: Google personnel are required to authenticate using valid credentials prior to resetting their passwords. Passwords are managed in accordance with a set of password construction requirements (cited from page 48, but the exact guidelines are not specified in the given context).\""
      ]
     },
     "execution_count": 60,
     "metadata": {},
     "output_type": "execute_result"
    }
   ],
   "source": [
    "chain.invoke(\"What access control procedures are in place?\")"
   ]
  },
  {
   "cell_type": "code",
   "execution_count": 61,
   "id": "bf9804c8-18e3-4057-9f8c-a82fbf2c330c",
   "metadata": {},
   "outputs": [
    {
     "name": "stderr",
     "output_type": "stream",
     "text": [
      "\n",
      "OllamaEmbeddings:   0%|          | 0/1 [00:00<?, ?it/s]\u001b[A\n",
      "OllamaEmbeddings: 100%|██████████| 1/1 [00:03<00:00,  3.75s/it]\u001b[A\n",
      "\n",
      "OllamaEmbeddings:   0%|          | 0/1 [00:00<?, ?it/s]\u001b[A\n",
      "OllamaEmbeddings: 100%|██████████| 1/1 [00:00<00:00,  9.08it/s]\u001b[A\n",
      "\n",
      "OllamaEmbeddings:   0%|          | 0/1 [00:00<?, ?it/s]\u001b[A\n",
      "OllamaEmbeddings: 100%|██████████| 1/1 [00:00<00:00,  3.42it/s]\u001b[A\n"
     ]
    },
    {
     "data": {
      "text/plain": [
       "'The access control policy last review information is not available in the provided excerpts. Please refer to page 144 of the document \"GCP-[FALL-2023] GCP SOC 2..pdf\" for the results of the tests performed by EY on critical access group reviews, which include the periodicity of the reviews but does not explicitly mention when the policy was last reviewed. The original wording from the document reads: \"Inspected relevant documentation and determined that critical access group reviews were done on a periodic basis and scoping was determined accordingly.\" (Page 144)\\n\\nAnswer: The information regarding the last review of the access control policy is not available in the given excerpts. Please refer to page 144 for details on the critical access group reviews, but note that it does not explicitly mention the last review date of the access control policy itself.'"
      ]
     },
     "execution_count": 61,
     "metadata": {},
     "output_type": "execute_result"
    }
   ],
   "source": [
    "chain.invoke(\"When was the access control policy last reviewed?\")"
   ]
  },
  {
   "cell_type": "code",
   "execution_count": 62,
   "id": "29e553b2-e29d-4a0e-89c4-12a44c70a130",
   "metadata": {},
   "outputs": [
    {
     "name": "stderr",
     "output_type": "stream",
     "text": [
      "\n",
      "OllamaEmbeddings:   0%|          | 0/1 [00:00<?, ?it/s]\u001b[A\n",
      "OllamaEmbeddings: 100%|██████████| 1/1 [00:01<00:00,  1.43s/it]\u001b[A\n",
      "\n",
      "OllamaEmbeddings: 100%|██████████| 1/1 [00:00<00:00, 12.81it/s]\n",
      "\n",
      "OllamaEmbeddings:   0%|          | 0/1 [00:00<?, ?it/s]\u001b[A\n",
      "OllamaEmbeddings: 100%|██████████| 1/1 [00:00<00:00,  1.04it/s]\u001b[A\n"
     ]
    },
    {
     "data": {
      "text/plain": [
       "\"The password management policy in place includes the following:\\n\\n1. Customers are responsible for reviewing users' access rights periodically, consistent with customer organizational policies, to mitigate the risk of inappropriate access (Page 63).\\n2. The entity implements logical access security software, infrastructure, and architectures over protected information assets to protect them from security events to meet the entity's objectives (Page 63).\\n3. Two-step verification is implemented on privileged administrator accounts (Page 64).\\n4. Prior to issuing system credentials and granting system access, the entity registers and authorizes new internal and external users whose access is administered by the entity. For those users whose access is administered by the entity, user system credentials are removed when user access is no longer authorized (Page 67).\\n\\nCommon Criteria 6.1 and 6.3 are relevant to these policies (Page 63, 64, and 67).\""
      ]
     },
     "execution_count": 62,
     "metadata": {},
     "output_type": "execute_result"
    }
   ],
   "source": [
    "chain.invoke(\"What is the password management policy in place?\")"
   ]
  },
  {
   "cell_type": "code",
   "execution_count": 63,
   "id": "ab8b0d90-55a7-41f6-a441-214053956e25",
   "metadata": {},
   "outputs": [
    {
     "name": "stderr",
     "output_type": "stream",
     "text": [
      "\n",
      "OllamaEmbeddings:   0%|          | 0/1 [00:00<?, ?it/s]\u001b[A\n",
      "OllamaEmbeddings: 100%|██████████| 1/1 [00:03<00:00,  3.31s/it]\u001b[A\n",
      "\n",
      "OllamaEmbeddings:   0%|          | 0/1 [00:00<?, ?it/s]\u001b[A\n",
      "OllamaEmbeddings: 100%|██████████| 1/1 [00:00<00:00,  9.47it/s]\u001b[A\n",
      "\n",
      "OllamaEmbeddings:   0%|          | 0/1 [00:00<?, ?it/s]\u001b[A\n",
      "OllamaEmbeddings: 100%|██████████| 1/1 [00:00<00:00,  1.00it/s]\u001b[A\n"
     ]
    },
    {
     "data": {
      "text/plain": [
       "'When a hard drive is retired, authorized individuals verify that the disk is erased by writing zeros to the drive and performing a multiple-step verification process to help ensure the drive contains no data. If the drive cannot be erased for any reason, it is stored securely until it can be physically (Page 53).\\n\\nProcedures followed for decommissioning of equipments:\\n1. Hard drives are synchronized with a standard base image and utilize technologies such as Full Disk Encryption (FDE) and drive locking to protect data at rest.\\n2. When a component fails a performance test at any point during its lifecycle, it is removed from inventory and retired.\\n3. Google utilizes barcodes and asset tags to track the status and location of data center equipment from acquisition to installation, retirement, and destruction.\\n4. If PII on removable media leaving Google facilities is not approved, it is encrypted.\\n5. When a hard drive is retired, it undergoes a process where authorized individuals verify that the disk is erased by writing zeros to the drive and performing a multiple-step verification process. If the drive cannot be erased for any reason, it is stored securely until it can be physically destroyed. (Page 53)\\n\\nReference(s):\\n- C:/Users/ribhattacharya/Desktop/TPRM-Accelerator/assets/data/Security Evidence Docs/SOC 2/GoogleCloud/Audit-Reports-1720774833381-81ba2e/GCP-[FALL-2023] GCP SOC 2..pdf, Page 53.'"
      ]
     },
     "execution_count": 63,
     "metadata": {},
     "output_type": "execute_result"
    }
   ],
   "source": [
    "chain.invoke(\"What procedures are followed for decommissioning of equipments?\")"
   ]
  },
  {
   "cell_type": "code",
   "execution_count": 64,
   "id": "bebec1e2-f0d7-49b8-a13c-7a8935fdcc90",
   "metadata": {},
   "outputs": [
    {
     "name": "stderr",
     "output_type": "stream",
     "text": [
      "\n",
      "OllamaEmbeddings:   0%|          | 0/1 [00:00<?, ?it/s]\u001b[A\n",
      "OllamaEmbeddings: 100%|██████████| 1/1 [00:07<00:00,  7.32s/it]\u001b[A\n",
      "\n",
      "OllamaEmbeddings: 100%|██████████| 1/1 [00:00<00:00, 11.24it/s]\n",
      "\n",
      "OllamaEmbeddings:   0%|          | 0/1 [00:00<?, ?it/s]\u001b[A\n",
      "OllamaEmbeddings: 100%|██████████| 1/1 [00:00<00:00,  1.19it/s]\u001b[A\n"
     ]
    },
    {
     "data": {
      "text/plain": [
       "'When a hard drive is retired, authorized individuals verify that the disk is erased by writing zeros to the drive and performing a multiple-step verification process to help ensure the drive contains no data. If the drive cannot be erased for any reason, it is stored securely until it can be physically destroyed. This process is mentioned on page 53 of the document “GCP [FALL-2023] GCP SOC 2..pdf”.\\n\\nReference: https://i.imgur.com/1Z7XzNr.png (Page 53)'"
      ]
     },
     "execution_count": 64,
     "metadata": {},
     "output_type": "execute_result"
    }
   ],
   "source": [
    "chain.invoke(\"What steps are taken to ensure removal of client information prior to decommissioning of equipments?\")"
   ]
  },
  {
   "cell_type": "code",
   "execution_count": 65,
   "id": "db423652-928d-46e2-b23e-81b042f6485b",
   "metadata": {},
   "outputs": [
    {
     "name": "stderr",
     "output_type": "stream",
     "text": [
      "\n",
      "OllamaEmbeddings:   0%|          | 0/1 [00:00<?, ?it/s]\u001b[A\n",
      "OllamaEmbeddings: 100%|██████████| 1/1 [00:04<00:00,  4.24s/it]\u001b[A\n",
      "\n",
      "OllamaEmbeddings:   0%|          | 0/1 [00:00<?, ?it/s]\u001b[A\n",
      "OllamaEmbeddings: 100%|██████████| 1/1 [00:00<00:00,  3.83it/s]\u001b[A\n",
      "\n",
      "OllamaEmbeddings:   0%|          | 0/1 [00:00<?, ?it/s]\u001b[A\n",
      "OllamaEmbeddings: 100%|██████████| 1/1 [00:00<00:00,  3.15it/s]\u001b[A\n"
     ]
    },
    {
     "data": {
      "text/plain": [
       "'The information security policies and procedures were updated on \\'1 October 20XX\\' (year not clearly mentioned). This information can be found on page 35 of the document, which states: \"Information Security Policies and Procedures were updated on 1 October 20XX.\"\\n\\nOriginal wording from the document: \"Information Security Policies and Procedures were updated on 1 October 20XX.\"'"
      ]
     },
     "execution_count": 65,
     "metadata": {},
     "output_type": "execute_result"
    }
   ],
   "source": [
    "chain.invoke(\"When were information security policies and procedures updated?\")"
   ]
  },
  {
   "cell_type": "code",
   "execution_count": 66,
   "id": "20a97889-8464-4e29-b829-c9f5453b9656",
   "metadata": {},
   "outputs": [
    {
     "name": "stderr",
     "output_type": "stream",
     "text": [
      "\n",
      "OllamaEmbeddings:   0%|          | 0/1 [00:00<?, ?it/s]\u001b[A\n",
      "OllamaEmbeddings: 100%|██████████| 1/1 [00:11<00:00, 11.35s/it]\u001b[A\n",
      "\n",
      "OllamaEmbeddings: 100%|██████████| 1/1 [00:00<00:00, 15.54it/s]\n",
      "\n",
      "OllamaEmbeddings:   0%|          | 0/1 [00:00<?, ?it/s]\u001b[A\n",
      "OllamaEmbeddings: 100%|██████████| 1/1 [00:00<00:00,  1.71it/s]\u001b[A\n",
      "\n",
      "OllamaEmbeddings:   0%|          | 0/1 [00:00<?, ?it/s]\u001b[A\n",
      "OllamaEmbeddings: 100%|██████████| 1/1 [00:00<00:00,  4.77it/s]\u001b[A\n",
      "\n",
      "OllamaEmbeddings:   0%|          | 0/1 [00:00<?, ?it/s]\u001b[A\n",
      "OllamaEmbeddings: 100%|██████████| 1/1 [00:01<00:00,  1.02s/it]\u001b[A\n",
      "\n",
      "OllamaEmbeddings:   0%|          | 0/1 [00:00<?, ?it/s]\u001b[A\n",
      "OllamaEmbeddings: 100%|██████████| 1/1 [00:00<00:00,  1.55it/s]\u001b[A\n",
      "\n",
      "OllamaEmbeddings:   0%|          | 0/1 [00:00<?, ?it/s]\u001b[A\n",
      "OllamaEmbeddings: 100%|██████████| 1/1 [00:00<00:00,  1.45it/s]\u001b[A\n",
      "\n",
      "OllamaEmbeddings: 100%|██████████| 1/1 [00:00<00:00, 11.36it/s]\n",
      "\n",
      "OllamaEmbeddings:   0%|          | 0/1 [00:00<?, ?it/s]\u001b[A\n",
      "OllamaEmbeddings: 100%|██████████| 1/1 [00:00<00:00,  1.62it/s]\u001b[A\n",
      "\n",
      "OllamaEmbeddings:   0%|          | 0/1 [00:00<?, ?it/s]\u001b[A\n",
      "OllamaEmbeddings: 100%|██████████| 1/1 [00:00<00:00,  4.87it/s]\u001b[A\n",
      "\n",
      "OllamaEmbeddings:   0%|          | 0/1 [00:00<?, ?it/s]\u001b[A\n",
      "OllamaEmbeddings: 100%|██████████| 1/1 [00:00<00:00,  1.70it/s]\u001b[A\n",
      "\n",
      "OllamaEmbeddings:   0%|          | 0/1 [00:00<?, ?it/s]\u001b[A\n",
      "OllamaEmbeddings: 100%|██████████| 1/1 [00:00<00:00,  7.09it/s]\u001b[A\n",
      "\n",
      "OllamaEmbeddings:   0%|          | 0/1 [00:00<?, ?it/s]\u001b[A\n",
      "OllamaEmbeddings: 100%|██████████| 1/1 [00:00<00:00,  4.32it/s]\u001b[A\n"
     ]
    },
    {
     "data": {
      "text/plain": [
       "'Emergency changes are performed through the Change Management process. According to page 50 of the document, \"Emergency Changes: Any change that must be made immediately to avoid a significant impact to service or customer data is considered an emergency change.\" The process requires documentation and review prior to implementation, as well as post-implementation review and communication to the appropriate stakeholders. It also states that such changes are tracked in the same way as regular changes, with necessary escalation mechanisms in place for urgent issues. \\n\\nOriginal wording from the document: \"Emergency Changes: Any change that must be made immediately to avoid a significant impact to service or customer data is considered an emergency change. Emergency changes follow the same change management process, but are documented and reviewed prior to implementation, implemented, and post-implementation reviewed. The change is communicated to the appropriate stakeholders as per the change communication policy. Emergency changes are tracked in the same way as regular changes. Escalation mechanisms are in place for urgent issues.\"'"
      ]
     },
     "execution_count": 66,
     "metadata": {},
     "output_type": "execute_result"
    }
   ],
   "source": [
    "chain.invoke(\"How are emergency changes performed?\")"
   ]
  },
  {
   "cell_type": "code",
   "execution_count": 67,
   "id": "3db6e953-9af3-4d9f-bdf3-f2132a97422f",
   "metadata": {},
   "outputs": [
    {
     "name": "stderr",
     "output_type": "stream",
     "text": [
      "\n",
      "OllamaEmbeddings:   0%|          | 0/1 [00:00<?, ?it/s]\u001b[A\n",
      "OllamaEmbeddings: 100%|██████████| 1/1 [00:03<00:00,  3.17s/it]\u001b[A\n",
      "\n",
      "OllamaEmbeddings:   0%|          | 0/1 [00:00<?, ?it/s]\u001b[A\n",
      "OllamaEmbeddings: 100%|██████████| 1/1 [00:00<00:00,  3.81it/s]\u001b[A\n",
      "\n",
      "OllamaEmbeddings:   0%|          | 0/1 [00:00<?, ?it/s]\u001b[A\n",
      "OllamaEmbeddings: 100%|██████████| 1/1 [00:00<00:00,  2.12it/s]\u001b[A\n",
      "\n",
      "OllamaEmbeddings:   0%|          | 0/1 [00:00<?, ?it/s]\u001b[A\n",
      "OllamaEmbeddings: 100%|██████████| 1/1 [00:00<00:00,  2.23it/s]\u001b[A\n",
      "\n",
      "OllamaEmbeddings:   0%|          | 0/1 [00:00<?, ?it/s]\u001b[A\n",
      "OllamaEmbeddings: 100%|██████████| 1/1 [00:00<00:00,  3.39it/s]\u001b[A\n",
      "\n",
      "OllamaEmbeddings: 100%|██████████| 1/1 [00:00<00:00, 15.86it/s]\n",
      "\n",
      "OllamaEmbeddings:   0%|          | 0/1 [00:00<?, ?it/s]\u001b[A\n",
      "OllamaEmbeddings: 100%|██████████| 1/1 [00:00<00:00,  3.32it/s]\u001b[A\n",
      "\n",
      "OllamaEmbeddings:   0%|          | 0/1 [00:00<?, ?it/s]\u001b[A\n",
      "OllamaEmbeddings: 100%|██████████| 1/1 [00:00<00:00,  2.76it/s]\u001b[A\n",
      "\n",
      "OllamaEmbeddings:   0%|          | 0/1 [00:00<?, ?it/s]\u001b[A\n",
      "OllamaEmbeddings: 100%|██████████| 1/1 [00:00<00:00,  2.60it/s]\u001b[A\n",
      "\n",
      "OllamaEmbeddings: 100%|██████████| 1/1 [00:00<00:00, 12.28it/s]\n",
      "\n",
      "OllamaEmbeddings:   0%|          | 0/1 [00:00<?, ?it/s]\u001b[A\n",
      "OllamaEmbeddings: 100%|██████████| 1/1 [00:00<00:00,  2.79it/s]\u001b[A\n"
     ]
    },
    {
     "data": {
      "text/plain": [
       "\"In order to find information about cryptographic controls for data encryption at rest and in motion, I would need access to the specific audit report or documentation related to Google Cloud's security measures. Please provide the relevant document or report so that I can locate the required information and respond accordingly. Make sure to mention the page number or position in the document along with the original wording from the source.\""
      ]
     },
     "execution_count": 67,
     "metadata": {},
     "output_type": "execute_result"
    }
   ],
   "source": [
    "chain.invoke(\"What cryptographic controls are in place to encrypt the data at rest and in motion?\")"
   ]
  },
  {
   "cell_type": "code",
   "execution_count": 68,
   "id": "b4a11920-00c0-4a26-a292-da8c64173e47",
   "metadata": {},
   "outputs": [
    {
     "name": "stderr",
     "output_type": "stream",
     "text": [
      "\n",
      "OllamaEmbeddings:   0%|          | 0/1 [00:00<?, ?it/s]\u001b[A\n",
      "OllamaEmbeddings: 100%|██████████| 1/1 [00:01<00:00,  1.44s/it]\u001b[A\n",
      "\n",
      "OllamaEmbeddings: 100%|██████████| 1/1 [00:00<00:00, 18.18it/s]\n",
      "\n",
      "OllamaEmbeddings:   0%|          | 0/1 [00:00<?, ?it/s]\u001b[A\n",
      "OllamaEmbeddings: 100%|██████████| 1/1 [00:00<00:00,  4.74it/s]\u001b[A\n"
     ]
    },
    {
     "data": {
      "text/plain": [
       "'I am unable to find information about the incident management policy review date in the provided document excerpts. Please provide the complete audit report or the specific section containing details about the incident management policy for further assistance.'"
      ]
     },
     "execution_count": 68,
     "metadata": {},
     "output_type": "execute_result"
    }
   ],
   "source": [
    "chain.invoke(\"When was the incident management policy last reviewed?\")"
   ]
  },
  {
   "cell_type": "code",
   "execution_count": 69,
   "id": "17e7d0c7-54f9-4811-a942-ed00ec3abbfe",
   "metadata": {},
   "outputs": [
    {
     "name": "stderr",
     "output_type": "stream",
     "text": [
      "\n",
      "OllamaEmbeddings:   0%|          | 0/1 [00:00<?, ?it/s]\u001b[A\n",
      "OllamaEmbeddings: 100%|██████████| 1/1 [00:02<00:00,  2.21s/it]\u001b[A\n",
      "\n",
      "OllamaEmbeddings:   0%|          | 0/1 [00:00<?, ?it/s]\u001b[A\n",
      "OllamaEmbeddings: 100%|██████████| 1/1 [00:00<00:00,  4.42it/s]\u001b[A\n",
      "\n",
      "OllamaEmbeddings:   0%|          | 0/1 [00:00<?, ?it/s]\u001b[A\n",
      "OllamaEmbeddings: 100%|██████████| 1/1 [00:00<00:00,  3.53it/s]\u001b[A\n"
     ]
    },
    {
     "data": {
      "text/plain": [
       "'The incident response procedure was tested during the audit process, specifically during the review of the \"Incident Alert and Recording\" section on page 51 of the document. The text states, \"Log sources are used to generate alerts whenever an anomaly occurs... An anomaly may also be manually documented by a Google employee when an issue is identified or in response to a customer service request.\" (GCP-[FALL-2023] GCP SOC 2..pdf, p. 51)'"
      ]
     },
     "execution_count": 69,
     "metadata": {},
     "output_type": "execute_result"
    }
   ],
   "source": [
    "chain.invoke(\"When was the incident response procedure tested?\")"
   ]
  },
  {
   "cell_type": "code",
   "execution_count": 70,
   "id": "1303f507-2569-4ced-a77e-55f09cf77151",
   "metadata": {},
   "outputs": [
    {
     "name": "stderr",
     "output_type": "stream",
     "text": [
      "\n",
      "OllamaEmbeddings:   0%|          | 0/1 [00:00<?, ?it/s]\u001b[A\n",
      "OllamaEmbeddings: 100%|██████████| 1/1 [00:03<00:00,  3.76s/it]\u001b[A\n",
      "\n",
      "OllamaEmbeddings:   0%|          | 0/1 [00:00<?, ?it/s]\u001b[A\n",
      "OllamaEmbeddings: 100%|██████████| 1/1 [00:00<00:00,  4.34it/s]\u001b[A\n",
      "\n",
      "OllamaEmbeddings:   0%|          | 0/1 [00:00<?, ?it/s]\u001b[A\n",
      "OllamaEmbeddings: 100%|██████████| 1/1 [00:00<00:00,  1.03it/s]\u001b[A\n",
      "\n",
      "OllamaEmbeddings: 100%|██████████| 1/1 [00:00<00:00, 14.26it/s]\n",
      "\n",
      "OllamaEmbeddings:   0%|          | 0/1 [00:00<?, ?it/s]\u001b[A\n",
      "OllamaEmbeddings: 100%|██████████| 1/1 [00:00<00:00,  5.81it/s]\u001b[A\n"
     ]
    },
    {
     "data": {
      "text/plain": [
       "'Incidents are classified based on their criticality. The classification, prioritization, and escalation of security incidents are identified, and mechanisms are defined to measure and monitor the type and scope of security incidents. This is outlined on page 170 of the document: \"were in place which outline a quick, effective, and orderly response to information security incidents. In addition, classification, prioritization, and escalation of security incidents per criticality are also identified and mechanisms are defined to measure and monitor the type and scope of security incidents.\" No deviations were noted in this area.\\n\\nReference(s):\\n- Page 170: \"were in place which outline a quick, effective, and orderly response to information security incidents. In addition, classification, prioritization, and escalation of security incidents per criticality are also identified and mechanisms are defined to measure and monitor the type and scope of security incidents.\"'"
      ]
     },
     "execution_count": 70,
     "metadata": {},
     "output_type": "execute_result"
    }
   ],
   "source": [
    "chain.invoke(\"How are incidents classified?\")"
   ]
  },
  {
   "cell_type": "code",
   "execution_count": 71,
   "id": "fe9896af-f606-4ead-9b6c-324dd53baac4",
   "metadata": {},
   "outputs": [
    {
     "name": "stderr",
     "output_type": "stream",
     "text": [
      "\n",
      "OllamaEmbeddings:   0%|          | 0/1 [00:00<?, ?it/s]\u001b[A\n",
      "OllamaEmbeddings: 100%|██████████| 1/1 [00:05<00:00,  5.46s/it]\u001b[A\n"
     ]
    },
    {
     "data": {
      "text/plain": [
       "\"I am unable to find specific procedures for performing root cause analysis mentioned in the provided documents. The information given pertains mainly to Google Cloud services, their functionalities, and audit report findings. It does not explicitly detail the procedures for conducting a root cause analysis in case of an incident.\\n\\nSource:\\nDocument(metadata={'source': 'C:/Users/ribhattacharya/Desktop/TPRM-Accelerator/assets/data/Security Evidence Docs/SOC 2/GoogleCloud/Audit-Reports-1720774833381-81ba2e/GCP-[FALL-2023] GCP SOC 2..pdf', 'page': 18}, page_content='dependency trees), and categorizing the content into a rich taxonomy. The API can be called by \\\\npassing the content directly or by referring to a document in Google Cloud Storage.')\\n\\nDocument(metadata={'source': 'C:/Users/ribhattacharya/Desktop/TPRM-Accelerator/assets/data/Security Evidence Docs/SOC 2/GoogleCloud/Audit-Reports-1720774833381-81ba2e/GCP-[FALL-2023] GCP SOC 2..pdf', 'page': 75}, page_content='requiring system -generated populations for sample -based testing), EY performed a combination \\\\nof the following procedures where possible based on the nature of t he IPE to address the \\\\ncompleteness, accuracy, and data integrity of the data or reports used: (1) inspected the source \\\\nof the IPE, (2) inspected the query, script, or parameters used to generate the IPE, (3) tied data \\\\nbetween the IPE and the source, and/or  (4) inspected the IPE for anomalous gaps in sequence \\\\nor timing to determine the data was complete, accurate, and maintained its integrity. Furthermore, \\\\nin addition to the above procedures, for tests of controls requiring management’s use of IPE in \\\\nthe exe cution of the controls (e.g., periodic reviews of user access listings); we inspect \\\\nmanagement’s procedures to assess the validity of the IPE source and the completeness, \\\\naccuracy, and integrity of the data or reports . rishav.bhattacharya99@gmail.comGoogle Confidental Information')\\n\\nDocument(metadata={'source': 'C:/Users/ribhattacharya/Desktop/TPRM-Accelerator/assets/data/Security Evidence Docs/SOC 2/GoogleCloud/Audit-Reports-1720774833381-81ba2e/GCP-[FALL-2023] GCP SOC 2..pdf', 'page': 109}, page_content='42. Changes to customer \\\\nfacing services that may \\\\naffect confidentiality, \\\\nprocessing integrity and / \\\\nor availability are \\\\ncommunicat ed to \\\\nrelevant personnel and \\\\nimpacted customers.  CC2.2 , \\\\nCC2.3  Inquired of the Program Manager and determined \\\\ndesign documentation and privacy reviews, where \\\\napplicable, were required to be completed prior to \\\\na product launch.')\\n\\nDocument(metadata={'source': 'C:/Users/ribhattacharya/Desktop/TPRM-Accelerator/assets/data/Security Evidence Docs/SOC 2/GoogleCloud/Audit-Reports-1720774833381-81ba2e/GCP-[FALL-2023] GCP SOC 2..pdf', 'page': 77}, page_content='was disposed of as per the data retention and \\\\ndeletion policies.  No deviations noted.  \\\\nInspected a sample product and determined data \\\\ndeletion tools verified that backup data was \\\\ndeleted following the configured retention period, \\\\nas part of the deletion mechanism process.  No deviations noted.  \\\\nrishav.bhattacharya99@gmail.comGoogle Confidental Information')\""
      ]
     },
     "execution_count": 71,
     "metadata": {},
     "output_type": "execute_result"
    }
   ],
   "source": [
    "chain.invoke(\"What procedures are in place to perform root cause analysis for an incident?\")"
   ]
  },
  {
   "cell_type": "code",
   "execution_count": 72,
   "id": "0676c1f1-3aef-49aa-815d-532f4606454b",
   "metadata": {},
   "outputs": [
    {
     "name": "stderr",
     "output_type": "stream",
     "text": [
      "\n",
      "OllamaEmbeddings:   0%|          | 0/1 [00:00<?, ?it/s]\u001b[A\n",
      "OllamaEmbeddings: 100%|██████████| 1/1 [00:04<00:00,  4.08s/it]\u001b[A\n"
     ]
    },
    {
     "data": {
      "text/plain": [
       "\"I could not find any information about physical perimeter controls in the provided document excerpts. The mentioned Google Cloud services and features are described at various page numbers, but none specifically address physical perimeter controls. Please provide more context or refer to a different section of the document if you're looking for information on this particular topic.\\n\\nPage numbers mentioned in the request: 18, 22, 73, and 103.\""
      ]
     },
     "execution_count": 72,
     "metadata": {},
     "output_type": "execute_result"
    }
   ],
   "source": [
    "chain.invoke(\"What physical perimeter controls are in place?\")"
   ]
  },
  {
   "cell_type": "code",
   "execution_count": 73,
   "id": "48cae75b-d5b4-4a2e-ae21-10650e88a099",
   "metadata": {},
   "outputs": [
    {
     "name": "stderr",
     "output_type": "stream",
     "text": [
      "\n",
      "OllamaEmbeddings:   0%|          | 0/1 [00:00<?, ?it/s]\u001b[A\n",
      "OllamaEmbeddings: 100%|██████████| 1/1 [00:04<00:00,  4.27s/it]\u001b[A\n",
      "\n",
      "OllamaEmbeddings: 100%|██████████| 1/1 [00:00<00:00, 17.27it/s]\n",
      "\n",
      "OllamaEmbeddings:   0%|          | 0/1 [00:00<?, ?it/s]\u001b[A\n",
      "OllamaEmbeddings: 100%|██████████| 1/1 [00:00<00:00,  1.53it/s]\u001b[A\n",
      "\n",
      "OllamaEmbeddings: 100%|██████████| 1/1 [00:00<00:00, 10.98it/s]\n",
      "\n",
      "OllamaEmbeddings:   0%|          | 0/1 [00:00<?, ?it/s]\u001b[A\n",
      "OllamaEmbeddings: 100%|██████████| 1/1 [00:00<00:00,  8.77it/s]\u001b[A\n"
     ]
    },
    {
     "data": {
      "text/plain": [
       "'The document does not specifically mention procedures for deploying patches throughout the IT infrastructure. However, it does discuss security updates and vulnerability management in the context of Google\\'s Cloud Security Command Center. This service provides visibility into security and network traffic data across multi-cloud and on-premises environments (page 51). It also offers automated policy enforcement for identifying and responding to threats (page 52). These capabilities help ensure that patches and updates are applied promptly and consistently across the infrastructure, although the specific procedures for patch deployment are not detailed in the provided excerpts.\\n\\n(Source: \"GCP-[FALL-2023] GCP SOC 2..pdf\", pages 51-52)'"
      ]
     },
     "execution_count": 73,
     "metadata": {},
     "output_type": "execute_result"
    }
   ],
   "source": [
    "chain.invoke(\"What procedures are in place to deploy patches throughout the IT infrastructure?\")"
   ]
  },
  {
   "cell_type": "code",
   "execution_count": 74,
   "id": "821de9b5-1edd-40ff-a80e-30c965b3c42a",
   "metadata": {},
   "outputs": [
    {
     "name": "stderr",
     "output_type": "stream",
     "text": [
      "\n",
      "OllamaEmbeddings:   0%|          | 0/1 [00:00<?, ?it/s]\u001b[A\n",
      "OllamaEmbeddings: 100%|██████████| 1/1 [00:04<00:00,  4.54s/it]\u001b[A\n"
     ]
    },
    {
     "data": {
      "text/plain": [
       "'A backup of the data is performed as per the data retention and deletion policies. The process involves the use of data deletion tools that verify the backup data is deleted following the configured retention period, as part of the deletion mechanism process. This information can be found on page 77 of the document: \"was disposed of as per the data retention and deletion policies. No deviations noted. Inspected a sample product and determined data deletion tools verified that backup data was deleted following the configured retention period, as part of the deletion mechanism process. No deviations noted.\"'"
      ]
     },
     "execution_count": 74,
     "metadata": {},
     "output_type": "execute_result"
    }
   ],
   "source": [
    "chain.invoke(\"How is a back up of the data performed?\")"
   ]
  },
  {
   "cell_type": "code",
   "execution_count": 75,
   "id": "791f1581-d8c3-44a1-befc-8b34d6640174",
   "metadata": {},
   "outputs": [
    {
     "name": "stderr",
     "output_type": "stream",
     "text": [
      "\n",
      "OllamaEmbeddings:   0%|          | 0/1 [00:00<?, ?it/s]\u001b[A\n",
      "OllamaEmbeddings: 100%|██████████| 1/1 [00:04<00:00,  4.85s/it]\u001b[A\n"
     ]
    },
    {
     "data": {
      "text/plain": [
       "\"Background checks performed during hiring of an employee include criminal, credit, and/or security checks on all potential employees, temporary workers, and independent contractors, as well as verification of the individual's education, previous employment, and referrals (Source: Page 43, Document metadata {'source': 'C:/Users/ribhattacharya/Desktop/TPRM-Accelerator/assets/data/Security Evidence Docs/SOC 2/GoogleCloud/Audit-Reports-1720774833381-81ba2e/GCP-[FALL-2023] GCP SOC 2..pdf'}). The specifics or extent of background checks performed depend on the position and location for which the individual is applying.\""
      ]
     },
     "execution_count": 75,
     "metadata": {},
     "output_type": "execute_result"
    }
   ],
   "source": [
    "chain.invoke(\"What backgound checks are performed during hiring of an employee?\")"
   ]
  },
  {
   "cell_type": "code",
   "execution_count": 76,
   "id": "83ed0add-34c4-4a10-b064-ee5189513bb9",
   "metadata": {},
   "outputs": [
    {
     "name": "stderr",
     "output_type": "stream",
     "text": [
      "\n",
      "OllamaEmbeddings:   0%|          | 0/1 [00:00<?, ?it/s]\u001b[A\n",
      "OllamaEmbeddings: 100%|██████████| 1/1 [00:04<00:00,  4.60s/it]\u001b[A\n",
      "\n",
      "OllamaEmbeddings: 100%|██████████| 1/1 [00:00<00:00, 12.04it/s]\n",
      "\n",
      "OllamaEmbeddings:   0%|          | 0/1 [00:00<?, ?it/s]\u001b[A\n",
      "OllamaEmbeddings: 100%|██████████| 1/1 [00:00<00:00,  3.06it/s]\u001b[A\n",
      "\n",
      "OllamaEmbeddings: 100%|██████████| 1/1 [00:00<00:00, 13.63it/s]\n",
      "\n",
      "OllamaEmbeddings:   0%|          | 0/1 [00:00<?, ?it/s]\u001b[A\n",
      "OllamaEmbeddings: 100%|██████████| 1/1 [00:00<00:00,  1.63it/s]\u001b[A\n"
     ]
    },
    {
     "data": {
      "text/plain": [
       "'To ensure that periodic penetration tests are performed for the infrastructure, devices, and end-points, Google has the following measures in place:\\n\\n1. Penetration tests are performed at least annually. (CC4.1)\\n2. The organization performs penetration tests by qualified internal personnel or an external service provider at least annually. (Inquired of the Program Manager)\\n\\nNo deviations were noted in these procedures during the testing process, as confirmed by the results shared by EY after their inspection. \\n\\nReference(s):\\n- Page 54: \"logs is restricted to authorized personnel. Security event logs are monitored continuously using a Google proprietary Security Event Management (SEM) system to detect intrusion attempts and other security related events.\"\\n- Page 168: \"Control Description SOC 2 Criteria, Controls, Tests and Results of Tests \\\\n...112. Penetration tests are performed at least annually. CC4.1...\"'"
      ]
     },
     "execution_count": 76,
     "metadata": {},
     "output_type": "execute_result"
    }
   ],
   "source": [
    "chain.invoke(\"What is done to ensure that periodic penetration tests are performed for the infrastructure, devices, and end-points?\")"
   ]
  },
  {
   "cell_type": "code",
   "execution_count": null,
   "id": "0bf9b0ec-00f6-4652-b2e0-49935be425cd",
   "metadata": {},
   "outputs": [],
   "source": []
  }
 ],
 "metadata": {
  "kernelspec": {
   "display_name": "Python 3 (ipykernel)",
   "language": "python",
   "name": "python3"
  },
  "language_info": {
   "codemirror_mode": {
    "name": "ipython",
    "version": 3
   },
   "file_extension": ".py",
   "mimetype": "text/x-python",
   "name": "python",
   "nbconvert_exporter": "python",
   "pygments_lexer": "ipython3",
   "version": "3.10.14"
  }
 },
 "nbformat": 4,
 "nbformat_minor": 5
}
